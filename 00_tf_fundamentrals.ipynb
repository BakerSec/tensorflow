{
  "nbformat": 4,
  "nbformat_minor": 0,
  "metadata": {
    "colab": {
      "provenance": [],
      "gpuType": "T4",
      "authorship_tag": "ABX9TyO7v2ay0AZoyr8N3YX725ac",
      "include_colab_link": true
    },
    "kernelspec": {
      "name": "python3",
      "display_name": "Python 3"
    },
    "language_info": {
      "name": "python"
    },
    "accelerator": "GPU"
  },
  "cells": [
    {
      "cell_type": "markdown",
      "metadata": {
        "id": "view-in-github",
        "colab_type": "text"
      },
      "source": [
        "<a href=\"https://colab.research.google.com/github/flowmasterB/tensorflow-flowmasterB-teaching/blob/main/00_tf_fundamentrals.ipynb\" target=\"_parent\"><img src=\"https://colab.research.google.com/assets/colab-badge.svg\" alt=\"Open In Colab\"/></a>"
      ]
    },
    {
      "cell_type": "markdown",
      "source": [
        "#Fundamental Concepts of Tensorflow, using Tensorflow"
      ],
      "metadata": {
        "id": "nhI_9bb-RFas"
      }
    },
    {
      "cell_type": "markdown",
      "source": [
        "## Specific concepts:\n",
        "\n",
        "* Intro to tensors\n",
        "* Getting data from tesnsors\n",
        "* Manipulating tensors\n",
        "* tensors and numpy\n",
        "* Using @tf.function - speeds up py functions\n",
        "* Using GPUs with TensorFlow or TPUs"
      ],
      "metadata": {
        "id": "-coSnz3yRyXL"
      }
    },
    {
      "cell_type": "markdown",
      "source": [
        "# Intro to tensors"
      ],
      "metadata": {
        "id": "13glTBCVTzpx"
      }
    },
    {
      "cell_type": "code",
      "source": [
        "# Import TensorFlow\n",
        "import tensorflow as tf\n",
        "import numpy as np\n",
        "print(tf.__version__)"
      ],
      "metadata": {
        "colab": {
          "base_uri": "https://localhost:8080/"
        },
        "id": "4Y4T59yrUILE",
        "outputId": "a06695b9-48ed-4520-8217-d8004970256a"
      },
      "execution_count": 3,
      "outputs": [
        {
          "output_type": "stream",
          "name": "stdout",
          "text": [
            "2.14.0\n"
          ]
        }
      ]
    },
    {
      "cell_type": "code",
      "source": [
        "# Create the first tensor with tf.constant()\n",
        "scalar = tf.constant(7)\n",
        "scalar"
      ],
      "metadata": {
        "colab": {
          "base_uri": "https://localhost:8080/"
        },
        "id": "-uTUrhnTTyl1",
        "outputId": "e7174f6f-a33c-4fe4-d2bd-f5175a8e1d61"
      },
      "execution_count": 4,
      "outputs": [
        {
          "output_type": "execute_result",
          "data": {
            "text/plain": [
              "<tf.Tensor: shape=(), dtype=int32, numpy=7>"
            ]
          },
          "metadata": {},
          "execution_count": 4
        }
      ]
    },
    {
      "cell_type": "code",
      "source": [
        "# Check the dimensions of the tensor\n",
        "scalar.ndim"
      ],
      "metadata": {
        "colab": {
          "base_uri": "https://localhost:8080/"
        },
        "id": "7NIsNoPtV-3g",
        "outputId": "98e6d6cd-caca-4e80-a788-49497ff1d35e"
      },
      "execution_count": 5,
      "outputs": [
        {
          "output_type": "execute_result",
          "data": {
            "text/plain": [
              "0"
            ]
          },
          "metadata": {},
          "execution_count": 5
        }
      ]
    },
    {
      "cell_type": "code",
      "source": [
        "# Create a vector\n",
        "vector = tf.constant([10, 10])\n",
        "vector"
      ],
      "metadata": {
        "colab": {
          "base_uri": "https://localhost:8080/"
        },
        "id": "qpCAVCIKWNZ9",
        "outputId": "cc83b25d-b140-492c-cdb7-b73b72e26c99"
      },
      "execution_count": 6,
      "outputs": [
        {
          "output_type": "execute_result",
          "data": {
            "text/plain": [
              "<tf.Tensor: shape=(2,), dtype=int32, numpy=array([10, 10], dtype=int32)>"
            ]
          },
          "metadata": {},
          "execution_count": 6
        }
      ]
    },
    {
      "cell_type": "code",
      "source": [
        "#Check the vector dimension\n",
        "vector.ndim"
      ],
      "metadata": {
        "colab": {
          "base_uri": "https://localhost:8080/"
        },
        "id": "_b2UhoIXX6pd",
        "outputId": "192b8e50-efa3-40c2-ec56-f72a7e9f8955"
      },
      "execution_count": 7,
      "outputs": [
        {
          "output_type": "execute_result",
          "data": {
            "text/plain": [
              "1"
            ]
          },
          "metadata": {},
          "execution_count": 7
        }
      ]
    },
    {
      "cell_type": "code",
      "source": [
        "# Now let's create a matrix:\n",
        "matrix = tf.constant([[10, 7],\n",
        "                     [7, 10]])\n",
        "matrix\n"
      ],
      "metadata": {
        "colab": {
          "base_uri": "https://localhost:8080/"
        },
        "id": "yhA_PAUZY4Kp",
        "outputId": "f65c384b-5751-4fe6-cd62-44309df771f9"
      },
      "execution_count": 8,
      "outputs": [
        {
          "output_type": "execute_result",
          "data": {
            "text/plain": [
              "<tf.Tensor: shape=(2, 2), dtype=int32, numpy=\n",
              "array([[10,  7],\n",
              "       [ 7, 10]], dtype=int32)>"
            ]
          },
          "metadata": {},
          "execution_count": 8
        }
      ]
    },
    {
      "cell_type": "code",
      "source": [
        "# Check the matrix dimensions\n",
        "matrix.ndim"
      ],
      "metadata": {
        "colab": {
          "base_uri": "https://localhost:8080/"
        },
        "id": "lXf2vvH8ZiEL",
        "outputId": "e99d2020-a92f-4291-b62f-f9d777e40c20"
      },
      "execution_count": 9,
      "outputs": [
        {
          "output_type": "execute_result",
          "data": {
            "text/plain": [
              "2"
            ]
          },
          "metadata": {},
          "execution_count": 9
        }
      ]
    },
    {
      "cell_type": "code",
      "source": [
        "# Let's create another martrix, specifying a data type\n",
        "another_matrix = tf.constant([[10., 7],\n",
        "                              [3., 2],\n",
        "                              [8., 9]], dtype=tf.float16) # We specify the dtype w/ dtype= parameter\n",
        "another_matrix"
      ],
      "metadata": {
        "colab": {
          "base_uri": "https://localhost:8080/"
        },
        "id": "ODeXO1DieL3X",
        "outputId": "4ec6226c-f878-4dcf-e9a1-6ec8b2cfbe04"
      },
      "execution_count": 10,
      "outputs": [
        {
          "output_type": "execute_result",
          "data": {
            "text/plain": [
              "<tf.Tensor: shape=(3, 2), dtype=float16, numpy=\n",
              "array([[10.,  7.],\n",
              "       [ 3.,  2.],\n",
              "       [ 8.,  9.]], dtype=float16)>"
            ]
          },
          "metadata": {},
          "execution_count": 10
        }
      ]
    },
    {
      "cell_type": "code",
      "source": [
        "# Check the dimensions of the new matrix\n",
        "another_matrix.ndim"
      ],
      "metadata": {
        "colab": {
          "base_uri": "https://localhost:8080/"
        },
        "id": "SPu0YvFWfcmE",
        "outputId": "6506eab1-4911-4a91-b3a0-b3fe2164826b"
      },
      "execution_count": 11,
      "outputs": [
        {
          "output_type": "execute_result",
          "data": {
            "text/plain": [
              "2"
            ]
          },
          "metadata": {},
          "execution_count": 11
        }
      ]
    },
    {
      "cell_type": "code",
      "source": [
        "# Let's create a tensor and see what happens with a tensor\n",
        "tensor = tf.constant([[[1, 2, 3],\n",
        "                       [4, 5, 6]],\n",
        "\n",
        "                      [[7, 8, 9],\n",
        "                       [10, 11, 12]],\n",
        "\n",
        "                      [[13, 14, 15],\n",
        "                       [16, 17, 18]]])\n",
        "tensor"
      ],
      "metadata": {
        "colab": {
          "base_uri": "https://localhost:8080/"
        },
        "id": "jTHfC-hHkUvF",
        "outputId": "2920be26-45d6-4687-b2ef-357b15a4fcd1"
      },
      "execution_count": 12,
      "outputs": [
        {
          "output_type": "execute_result",
          "data": {
            "text/plain": [
              "<tf.Tensor: shape=(3, 2, 3), dtype=int32, numpy=\n",
              "array([[[ 1,  2,  3],\n",
              "        [ 4,  5,  6]],\n",
              "\n",
              "       [[ 7,  8,  9],\n",
              "        [10, 11, 12]],\n",
              "\n",
              "       [[13, 14, 15],\n",
              "        [16, 17, 18]]], dtype=int32)>"
            ]
          },
          "metadata": {},
          "execution_count": 12
        }
      ]
    },
    {
      "cell_type": "code",
      "source": [
        "# check the tensor dimensions - and watch 3D unfold before your very eyes!\n",
        "tensor.ndim"
      ],
      "metadata": {
        "colab": {
          "base_uri": "https://localhost:8080/"
        },
        "id": "z_1Bm-4DlkK0",
        "outputId": "ec72be7f-2593-4d1c-9e7a-dbfe369775ad"
      },
      "execution_count": 13,
      "outputs": [
        {
          "output_type": "execute_result",
          "data": {
            "text/plain": [
              "3"
            ]
          },
          "metadata": {},
          "execution_count": 13
        }
      ]
    },
    {
      "cell_type": "markdown",
      "source": [
        "# Here is a recap of what we have made:\n",
        "\n",
        "* A scalar or a single number\n",
        "* A vector or a number with a direction\n",
        "* A matrix or a 2 dimensional array of numbers\n",
        "* A tensor or an n dimensional array of numbers (where n can be any number, a 0-dim tensor is a scalar, a 1 dim tensor is a vector)"
      ],
      "metadata": {
        "id": "yJiFSjQmpyuO"
      }
    },
    {
      "cell_type": "markdown",
      "source": [
        "# Creating tensors with tf.Variable"
      ],
      "metadata": {
        "id": "tSY2Lx8t5Zmb"
      }
    },
    {
      "cell_type": "code",
      "source": [
        "# create a tensor with tf.Variable\n",
        "changeable_tensor = tf.Variable([10, 7])\n",
        "unchangeable_tensor = tf.constant([10, 7])\n",
        "changeable_tensor, unchangeable_tensor"
      ],
      "metadata": {
        "colab": {
          "base_uri": "https://localhost:8080/"
        },
        "id": "wYYORN2Y7lNp",
        "outputId": "c2b235ec-2b8a-4049-c50c-be72c029444e"
      },
      "execution_count": 14,
      "outputs": [
        {
          "output_type": "execute_result",
          "data": {
            "text/plain": [
              "(<tf.Variable 'Variable:0' shape=(2,) dtype=int32, numpy=array([10,  7], dtype=int32)>,\n",
              " <tf.Tensor: shape=(2,), dtype=int32, numpy=array([10,  7], dtype=int32)>)"
            ]
          },
          "metadata": {},
          "execution_count": 14
        }
      ]
    },
    {
      "cell_type": "code",
      "source": [
        "# Let's change a value and see what happens\n",
        "changeable_tensor[4] = 7"
      ],
      "metadata": {
        "colab": {
          "base_uri": "https://localhost:8080/",
          "height": 192
        },
        "id": "-t1_4rwH736R",
        "outputId": "cfec40a0-8542-4a41-acee-6386992c66fb"
      },
      "execution_count": 15,
      "outputs": [
        {
          "output_type": "error",
          "ename": "TypeError",
          "evalue": "ignored",
          "traceback": [
            "\u001b[0;31m---------------------------------------------------------------------------\u001b[0m",
            "\u001b[0;31mTypeError\u001b[0m                                 Traceback (most recent call last)",
            "\u001b[0;32m<ipython-input-15-25f462c597dd>\u001b[0m in \u001b[0;36m<cell line: 2>\u001b[0;34m()\u001b[0m\n\u001b[1;32m      1\u001b[0m \u001b[0;31m# Let's change a value and see what happens\u001b[0m\u001b[0;34m\u001b[0m\u001b[0;34m\u001b[0m\u001b[0m\n\u001b[0;32m----> 2\u001b[0;31m \u001b[0mchangeable_tensor\u001b[0m\u001b[0;34m[\u001b[0m\u001b[0;36m4\u001b[0m\u001b[0;34m]\u001b[0m \u001b[0;34m=\u001b[0m \u001b[0;36m7\u001b[0m\u001b[0;34m\u001b[0m\u001b[0;34m\u001b[0m\u001b[0m\n\u001b[0m",
            "\u001b[0;31mTypeError\u001b[0m: 'ResourceVariable' object does not support item assignment"
          ]
        }
      ]
    },
    {
      "cell_type": "code",
      "source": [
        "# We got an error -- it's not like normal programming, using assignments we need .assign()\n",
        "changeable_tensor[0].assign(7)\n",
        "changeable_tensor"
      ],
      "metadata": {
        "id": "G3yZ5SAF8SJj"
      },
      "execution_count": null,
      "outputs": []
    },
    {
      "cell_type": "code",
      "source": [
        "# Now let's try that with something immutable(unchangeable)\n",
        "unchangeable_tensor[0].assign(7)\n",
        "unchangeable_tensor # we get an error, 10 did not mutate into 7 - due to tf.constant"
      ],
      "metadata": {
        "id": "etMWDT9m8-fJ"
      },
      "execution_count": null,
      "outputs": []
    },
    {
      "cell_type": "code",
      "source": [
        "### Please understand that having to make a choice between mutable and immuitable is rare\n",
        "### Always use tf.constant and change to tf.Variable later on if needed. :-)"
      ],
      "metadata": {
        "id": "fgqxbYqR-e8x"
      },
      "execution_count": null,
      "outputs": []
    },
    {
      "cell_type": "markdown",
      "source": [
        "# Creating Random Tensors"
      ],
      "metadata": {
        "id": "S93CQUuMwRBv"
      }
    },
    {
      "cell_type": "code",
      "source": [
        "## Creating random tensors using random numbers -- to better suit the data\n",
        "## -- initialze w/ random - only at the begining of the weighting progress -\n",
        "## we create 2 here\n",
        "random_1=tf.random.Generator.from_seed(42) # set the seed for reproducibility\n",
        "random_1 = random_1.normal(shape=(3, 2))\n",
        "random_2 = tf.random.Generator.from_seed(42)\n",
        "random_2 = random_2.normal(shape=(3, 2))\n",
        "\n",
        "## Are they equal?\n",
        "random_1, random_2, random_1 == random_2\n"
      ],
      "metadata": {
        "id": "t2YjmYKn-U1g"
      },
      "execution_count": null,
      "outputs": []
    },
    {
      "cell_type": "code",
      "source": [
        "## They sure are! Let's shuffle the order of the tensors next..."
      ],
      "metadata": {
        "id": "Cqm1Mx4FHQNe"
      },
      "execution_count": null,
      "outputs": []
    },
    {
      "cell_type": "markdown",
      "source": [
        "# Shuffling Tensors"
      ],
      "metadata": {
        "id": "TVac1K6Ev_pA"
      }
    },
    {
      "cell_type": "code",
      "source": [
        "# 8/24/2023 continuinmg from random tesnors -- Shuffle a tensor - valuable when you want to shuffle\n",
        "# so the inherant order doesn't effect the learning process\n",
        "not_shuffled = tf.constant([[10, 7],\n",
        "                           [3, 4],\n",
        "                           [8, 2]])\n",
        "not_shuffled.ndim # 2 dimensional 3,2 shape yeah?\n",
        "\n",
        "# Shuffle the non shuffled -- run it several times to witness the shuffles\n",
        "tf.random.shuffle(not_shuffled)"
      ],
      "metadata": {
        "id": "GJU1GY37lzFy"
      },
      "execution_count": null,
      "outputs": []
    },
    {
      "cell_type": "code",
      "source": [
        "# We can see the pairs have arranged randomly only by the 1st dimension by default\n",
        "# the 1st dimension is the 1st column - originally 10, 3, 8 -- then shuffled by those pairs --\n",
        "# results in 3, 8, 10 -- taking their respective pair partner with them. Let's add a seed value\n",
        "# tf.random.set_seed(42) -- uncomment this line and run it with and without comments to see the behavior\n",
        "# of the seed value set globally -- let's see with a local/operational level seed\n",
        "tf.random.shuffle(not_shuffled, seed=42) # you will notice it changes, whereas the global method does not."
      ],
      "metadata": {
        "id": "hxu7UUxVofHI"
      },
      "execution_count": null,
      "outputs": []
    },
    {
      "cell_type": "markdown",
      "source": [
        "# EXERCISE!!!! READ the docs for random seed generation to understand further\n",
        "# From the tensorflow docs online: https://www.tensorflow.org/api_docs/python/tf/random/set_seed"
      ],
      "metadata": {
        "id": "9csx7Kj-w2Dg"
      }
    },
    {
      "cell_type": "code",
      "source": [
        "|# Operations that rely on a random seed actually derive it from two seeds: the global and operation-level seeds.\n",
        "# This sets the global seed.\n",
        "# Its interactions with operation-level seeds is as follows:\n",
        "# If neither the global seed nor the operation seed is set: A randomly picked seed is used for this op.\n",
        "# If the global seed is set, but the operation seed is not: The system deterministically picks an operation\n",
        "# seed in conjunction with the global seed so that it gets a unique random sequence. Within the same version of\n",
        "# tensorflow and user code, this sequence is deterministic. However across different versions, this sequence might\n",
        "# change. If the code depends on particular seeds to work, specify both global and operation-level seeds explicitly.\n",
        "# If the operation seed is set, but the global seed is not set: A default global seed and the specified operation\n",
        "# seed are used to determine the random sequence.\n",
        "# *** MOST IMPORTANT FOR US --If both the global and the operation seed are set: Both seeds are used in conjunction\n",
        "# to determine the random sequence."
      ],
      "metadata": {
        "id": "Je_KRJ1KuauH"
      },
      "execution_count": null,
      "outputs": []
    },
    {
      "cell_type": "code",
      "source": [
        "||# tf.random.set_seed(4) # global level -- uncomment run -- comment run -- do it several times to see the behavior\n",
        "tf.random.shuffle(not_shuffled, seed=100) # operational level"
      ],
      "metadata": {
        "id": "vDQ7QQgswn6R"
      },
      "execution_count": null,
      "outputs": []
    },
    {
      "cell_type": "code",
      "source": [
        "# If we want our shuffled tensors to be in the same order we have to set both global and operational\n",
        "# level seeds to the same value. This will result in reproducable experiments. Shuffle with similar order\n",
        "# and initialize with similar random patten, then run through the experiment. :-) ** THE WHY lol"
      ],
      "metadata": {
        "id": "3omZjWn6yV_R"
      },
      "execution_count": null,
      "outputs": []
    },
    {
      "cell_type": "code",
      "source": [
        "# with all that random stuff, it brings us to creating tensors using NumPy arrays!"
      ],
      "metadata": {
        "id": "u4QdS-cxz7hT"
      },
      "execution_count": null,
      "outputs": []
    },
    {
      "cell_type": "markdown",
      "source": [
        "# Creating Tensors with NumPy Arrays and Other Ways to Create Tensors"
      ],
      "metadata": {
        "id": "kEbSmhzFz7he"
      }
    },
    {
      "cell_type": "markdown",
      "source": [
        "# NumPy ones https://numpy.org/doc/stable/reference/generated/numpy.ones.html"
      ],
      "metadata": {
        "id": "5B0K6SsI0MqT"
      }
    },
    {
      "cell_type": "code",
      "source": [
        "# NumPy onesies lol -- this will create a tesnor filled with all ones\n",
        "tf.ones([3, 4])"
      ],
      "metadata": {
        "id": "M80eU14z1UtS"
      },
      "execution_count": null,
      "outputs": []
    },
    {
      "cell_type": "code",
      "source": [
        "# create a tesnor filled with all zeros\n",
        "tf.zeros([10, 8])"
      ],
      "metadata": {
        "id": "1Fk4GP341uSy"
      },
      "execution_count": null,
      "outputs": []
    },
    {
      "cell_type": "code",
      "source": [
        "# NumPy arrays into tensors -- What is the difference? Tensors are designed to run on GPU\n",
        "# (much faster computational power)\n",
        "import numpy as np\n",
        "numpy_A = np.arange(1, 25, dtype=np.int32)\n",
        "\n",
        "# X = tf.constant(some_matrix) ** Capitalized for tensor of matrix\n",
        "# y = tf.constant(vector)      ** lowercase for vector\n",
        "numpy_A"
      ],
      "metadata": {
        "id": "KaQk1x25jVd7"
      },
      "execution_count": null,
      "outputs": []
    },
    {
      "cell_type": "code",
      "source": [
        "# convert to tensor\n",
        "newTensor = tf.constant(numpy_A)\n",
        "newTensor"
      ],
      "metadata": {
        "id": "3CN3xMpSk41U"
      },
      "execution_count": null,
      "outputs": []
    },
    {
      "cell_type": "code",
      "source": [
        "# What happens if we want a 3d tensor? ** notice the shape is (24,) -- let's reshape it.\n",
        "newTensor = tf.constant(numpy_A, shape=(2, 3, 4))\n",
        "newTensor"
      ],
      "metadata": {
        "id": "b43M_pfglYrG"
      },
      "execution_count": null,
      "outputs": []
    },
    {
      "cell_type": "code",
      "source": [
        "# Let's add another\n",
        "A = tf.constant(numpy_A, shape=(2, 3, 4)) # rename to something easier\n",
        "B = tf.constant(numpy_A)\n",
        "A, B # new shape has 2 groups of 3 rowed 4 column arrays -- whereas the vector(1d array w/ shape 24\n",
        "## has basically 24 columns, no rows, no array groups) the 1d vectror array has 24 elements or 2 * 3 * 4\n",
        "## the same as the shape we declared with shape=(2,3,4))  when reshaping you must make sure the shape matches\n",
        "## in multiples i.e 2, 5, 7 = 70  or a 18 2, 3, 3 etc.."
      ],
      "metadata": {
        "id": "tLgXGZuel_aJ"
      },
      "execution_count": null,
      "outputs": []
    },
    {
      "cell_type": "code",
      "source": [
        "# Let's try without the correct multiples\n",
        "A = tf.constant(numpy_A, shape=(2, 3, 5))\n",
        "B = tf.constant(numpy_A)\n",
        "A, B"
      ],
      "metadata": {
        "id": "hiC-M1tAn2Qm"
      },
      "execution_count": null,
      "outputs": []
    },
    {
      "cell_type": "code",
      "source": [
        "# try another series that adds to 24\n",
        "A = tf.constant(numpy_A, shape=(6, 2, 2))\n",
        "B = tf.constant(numpy_A)\n",
        "A, B # YEP!!!\n",
        "A.ndim # We can see it's a 3D shape!"
      ],
      "metadata": {
        "id": "LRgpZonuo8HZ"
      },
      "execution_count": null,
      "outputs": []
    },
    {
      "cell_type": "code",
      "source": [
        "# can we do 2 multiples, i.e 3,8 ?\n",
        "A = tf.constant(numpy_A, shape=(3, 8))\n",
        "B = tf.constant(numpy_A)\n",
        "A, B # YEP!!! IT WORKED??? It did but...\n",
        "A.ndim # only 2d :-( oh well... lol"
      ],
      "metadata": {
        "id": "DqfzusQ6p3ZX"
      },
      "execution_count": null,
      "outputs": []
    },
    {
      "cell_type": "code",
      "source": [
        "# NEXT UP --- Getting information from tensors"
      ],
      "metadata": {
        "id": "lEQXHKWCqbCV"
      },
      "execution_count": null,
      "outputs": []
    },
    {
      "cell_type": "code",
      "source": [
        "A.ndim"
      ],
      "metadata": {
        "id": "dnj1ydYbhdDO"
      },
      "execution_count": null,
      "outputs": []
    },
    {
      "cell_type": "markdown",
      "source": [
        "# Get info from tensors\n",
        "\n",
        "# Shape -- tensor.shape\n",
        "# Rank -- tensor.dim\n",
        "# Axis or Dimension -- tensor\n",
        "# Size -- tf.size"
      ],
      "metadata": {
        "id": "sZ_386HgvjL-"
      }
    },
    {
      "cell_type": "code",
      "source": [
        "rank_4_tensor = tf.zeros(shape = [2,3,4,5])\n",
        "rank_4_tensor"
      ],
      "metadata": {
        "id": "joIGZWXgxtMc"
      },
      "execution_count": null,
      "outputs": []
    },
    {
      "cell_type": "code",
      "source": [
        "rank_4_tensor[0]"
      ],
      "metadata": {
        "id": "IxG11ImN1Gsn"
      },
      "execution_count": null,
      "outputs": []
    },
    {
      "cell_type": "code",
      "source": [
        "rank_4_tensor.shape, rank_4_tensor.ndim, tf.size(rank_4_tensor)"
      ],
      "metadata": {
        "id": "05kyLS6A1Q5V"
      },
      "execution_count": null,
      "outputs": []
    },
    {
      "cell_type": "code",
      "source": [
        "print(tf.__version__)"
      ],
      "metadata": {
        "id": "YDaZXoNI2DDz"
      },
      "execution_count": null,
      "outputs": []
    },
    {
      "cell_type": "code",
      "source": [
        "# GET STUFF FREOM TENSOR\n",
        "print(\"Datatype of every element:\", rank_4_tensor.dtype)\n",
        "print(\"The number of dimensions (rank):\", rank_4_tensor.ndim)\n",
        "print(\"The shape is:\", rank_4_tensor.shape)\n",
        "print(\"Elements along the 0th axis:\", rank_4_tensor.shape[0])\n",
        "print(\"Elements along the last axis:\", rank_4_tensor.shape[-1])\n",
        "print(\"Total number of elements in our tensor:\", tf.size(rank_4_tensor))\n",
        "print(\"Total number of elements in our tensor:\", tf.size(rank_4_tensor).numpy())"
      ],
      "metadata": {
        "id": "qfx99M5X2o2P"
      },
      "execution_count": null,
      "outputs": []
    },
    {
      "cell_type": "code",
      "source": [
        "## Indexing and expanding\n",
        "rank_4_tensor[:2, :2, :2, :2]"
      ],
      "metadata": {
        "id": "0XfiUt0F6u-u"
      },
      "execution_count": null,
      "outputs": []
    },
    {
      "cell_type": "code",
      "source": [
        "rank_4_tensor[:1, :1, :1, :]"
      ],
      "metadata": {
        "id": "9FNc17I-CqiH"
      },
      "execution_count": null,
      "outputs": []
    },
    {
      "cell_type": "code",
      "source": [
        "rank_2_tensor = tf.constant([[2, 3],\n",
        "                            [4, 5]])\n",
        "rank_2_tensor"
      ],
      "metadata": {
        "id": "VDZb_BoHD1kc"
      },
      "execution_count": null,
      "outputs": []
    },
    {
      "cell_type": "code",
      "source": [
        "rank_2_tensor.shape, rank_2_tensor.ndim"
      ],
      "metadata": {
        "id": "3TFaRxmfEnxT"
      },
      "execution_count": null,
      "outputs": []
    },
    {
      "cell_type": "code",
      "source": [
        "rank_2_tensor[:, -1]"
      ],
      "metadata": {
        "id": "T_6YJAVNFFZl"
      },
      "execution_count": null,
      "outputs": []
    },
    {
      "cell_type": "code",
      "source": [
        "# add extra dim\n",
        "rank_3_tensor = rank_2_tensor[..., tf.newaxis]\n",
        "rank_3_tensor"
      ],
      "metadata": {
        "id": "hmDvTApfFhvb"
      },
      "execution_count": null,
      "outputs": []
    },
    {
      "cell_type": "code",
      "source": [
        "# or"
      ],
      "metadata": {
        "id": "1-WdvFT8PIKD"
      },
      "execution_count": null,
      "outputs": []
    },
    {
      "cell_type": "code",
      "source": [
        "tf.expand_dims(rank_2_tensor, axis=-1)"
      ],
      "metadata": {
        "id": "p4IWZR11PoTx"
      },
      "execution_count": null,
      "outputs": []
    },
    {
      "cell_type": "code",
      "source": [
        "tf.expand_dims(rank_2_tensor, axis=0)"
      ],
      "metadata": {
        "id": "HZAjaH3SPv83"
      },
      "execution_count": null,
      "outputs": []
    },
    {
      "cell_type": "code",
      "source": [
        "rank_2_tensor.ndim"
      ],
      "metadata": {
        "id": "Y9VEzyd1QCgl"
      },
      "execution_count": null,
      "outputs": []
    },
    {
      "cell_type": "code",
      "source": [
        "# manipulating tensors -- tensor operations"
      ],
      "metadata": {
        "id": "uYUHwiBfQSgy"
      },
      "execution_count": null,
      "outputs": []
    },
    {
      "cell_type": "code",
      "source": [
        "# add values to tensors w/ addition\n",
        "tensorop1 = tf.constant([[10, 7],\n",
        "                         [3, 4]])\n",
        "tensorop1[0] + 10"
      ],
      "metadata": {
        "id": "dPUisZ0BQe-V"
      },
      "execution_count": null,
      "outputs": []
    },
    {
      "cell_type": "code",
      "source": [
        "tensorop1"
      ],
      "metadata": {
        "id": "HaT1YfOGRgZv"
      },
      "execution_count": null,
      "outputs": []
    },
    {
      "cell_type": "code",
      "source": [
        "tensorop1 * 100"
      ],
      "metadata": {
        "id": "pMf2nH4SRzhC"
      },
      "execution_count": null,
      "outputs": []
    },
    {
      "cell_type": "code",
      "source": [
        "tensorop1 -10"
      ],
      "metadata": {
        "id": "QqNsk9TLUSTY"
      },
      "execution_count": null,
      "outputs": []
    },
    {
      "cell_type": "code",
      "source": [
        "# can use functions as well -- use functions for gpu speed\n",
        "tf.multiply(tensorop1, 10)"
      ],
      "metadata": {
        "id": "HVEkPutyUZVQ"
      },
      "execution_count": null,
      "outputs": []
    },
    {
      "cell_type": "markdown",
      "source": [
        "# matrix multiplication\n",
        "1. Inner dims must match\n",
        "2. Resulting matrix has shape of the inner dims\n",
        "\n",
        "\n"
      ],
      "metadata": {
        "id": "Y0exUne3Ugog"
      }
    },
    {
      "cell_type": "code",
      "source": [
        "tf.matmul(tensorop1, tensorop1)"
      ],
      "metadata": {
        "id": "vgupFL80WjIf"
      },
      "execution_count": null,
      "outputs": []
    },
    {
      "cell_type": "code",
      "source": [
        "tensorop1 @ tensorop1"
      ],
      "metadata": {
        "id": "hQXOcw7SWq-J"
      },
      "execution_count": null,
      "outputs": []
    },
    {
      "cell_type": "code",
      "source": [
        "X = tf.constant([[1,2],\n",
        "                 [3,4],\n",
        "                 [5,6]])\n",
        "X"
      ],
      "metadata": {
        "id": "T-fuqt13YIMb"
      },
      "execution_count": null,
      "outputs": []
    },
    {
      "cell_type": "code",
      "source": [
        "Y = tf.constant([[7,8],\n",
        "                 [9,10],\n",
        "                [11,12]])"
      ],
      "metadata": {
        "id": "WNaLfzdYZuu6"
      },
      "execution_count": null,
      "outputs": []
    },
    {
      "cell_type": "code",
      "source": [
        "X @ tf.reshape(Y, shape=(2, 3))"
      ],
      "metadata": {
        "id": "UcFk0MyfeB4S"
      },
      "execution_count": null,
      "outputs": []
    },
    {
      "cell_type": "code",
      "source": [
        "tf.matmul(X, tf.reshape(Y, shape=(2,3)))"
      ],
      "metadata": {
        "id": "j-VoJYUXe3YZ"
      },
      "execution_count": null,
      "outputs": []
    },
    {
      "cell_type": "code",
      "source": [
        "tf.matmul(tf.reshape(X, shape=(2,3)), Y)"
      ],
      "metadata": {
        "id": "AGoWywxViSkG"
      },
      "execution_count": null,
      "outputs": []
    },
    {
      "cell_type": "code",
      "source": [
        "# can do same with transpose\n",
        "X, tf.transpose(X), tf.reshape(X, shape=(2,3))"
      ],
      "metadata": {
        "id": "5dPDkFUmkWeF"
      },
      "execution_count": null,
      "outputs": []
    },
    {
      "cell_type": "code",
      "source": [
        "X, Y"
      ],
      "metadata": {
        "id": "HRukbatDlG_Q"
      },
      "execution_count": null,
      "outputs": []
    },
    {
      "cell_type": "code",
      "source": [
        "tf.tensordot(tf.transpose(X), Y, axes=1)"
      ],
      "metadata": {
        "id": "WPwnmxH2piRY"
      },
      "execution_count": null,
      "outputs": []
    },
    {
      "cell_type": "code",
      "source": [
        "tf.matmul(X, tf.transpose(Y))"
      ],
      "metadata": {
        "id": "eGk7PPBgpmJU"
      },
      "execution_count": null,
      "outputs": []
    },
    {
      "cell_type": "code",
      "source": [
        "tf.matmul(X, tf.reshape(Y, shape=(2, 3)))"
      ],
      "metadata": {
        "id": "00Uu4D8eqSfX"
      },
      "execution_count": null,
      "outputs": []
    },
    {
      "cell_type": "code",
      "source": [
        "# check values of Y, reshape Y, and transposed Y\n",
        "print(\"Normal Y:\")\n",
        "print(Y, \"\\n\")\n",
        "\n",
        "print(\"Y reshaped to (2, 3):\", \"\\n\", tf.reshape(Y, shape=(2,3)), \"\\n\")\n",
        "\n",
        "print(\"Y transposed:\", \"\\n\", tf.transpose(Y))"
      ],
      "metadata": {
        "id": "sdRlNsT2r5GQ"
      },
      "execution_count": null,
      "outputs": []
    },
    {
      "cell_type": "code",
      "source": [
        "tf.matmul(X, tf.transpose(Y))"
      ],
      "metadata": {
        "id": "Adli1MXhs5ck"
      },
      "execution_count": null,
      "outputs": []
    },
    {
      "cell_type": "code",
      "source": [
        "# Changing the data type of tensors"
      ],
      "metadata": {
        "id": "Kwir9LSpuUER"
      },
      "execution_count": null,
      "outputs": []
    },
    {
      "cell_type": "code",
      "source": [
        "B = tf.constant([1.7, 7.4])\n",
        "B"
      ],
      "metadata": {
        "id": "ghYriY1hu5e0"
      },
      "execution_count": null,
      "outputs": []
    },
    {
      "cell_type": "code",
      "source": [
        "C = tf.constant([7, 10])\n",
        "C"
      ],
      "metadata": {
        "id": "STv6ejpSwIRG"
      },
      "execution_count": null,
      "outputs": []
    },
    {
      "cell_type": "code",
      "source": [
        "tf.__version__"
      ],
      "metadata": {
        "id": "Bdj2Cg4GxH8R"
      },
      "execution_count": null,
      "outputs": []
    },
    {
      "cell_type": "code",
      "source": [
        "# change from 32 to 16 float -- reduced precision -- increased speed"
      ],
      "metadata": {
        "id": "a5DpHDlCy4H8"
      },
      "execution_count": null,
      "outputs": []
    },
    {
      "cell_type": "code",
      "source": [
        "D = tf.cast(B, dtype=tf.float16)\n",
        "D"
      ],
      "metadata": {
        "id": "Rsz0aYdN1ATS"
      },
      "execution_count": null,
      "outputs": []
    },
    {
      "cell_type": "code",
      "source": [
        "# Change from int32 to float32\n",
        "E = tf.cast(C, dtype=tf.float32)\n",
        "E"
      ],
      "metadata": {
        "id": "FqF4qN0c1sGM"
      },
      "execution_count": null,
      "outputs": []
    },
    {
      "cell_type": "code",
      "source": [
        "E_float16 = tf.cast(E, dtype=tf.float16)\n",
        "E_float16"
      ],
      "metadata": {
        "id": "AU_qNqJn-QIe"
      },
      "execution_count": null,
      "outputs": []
    },
    {
      "cell_type": "code",
      "source": [
        "# aggregations"
      ],
      "metadata": {
        "id": "7Bb4reiV-fkB"
      },
      "execution_count": null,
      "outputs": []
    },
    {
      "cell_type": "code",
      "source": [
        " # absolute values\n",
        "F = tf.constant([-7, -10])\n",
        "F"
      ],
      "metadata": {
        "id": "nq4QPcZwBPyR"
      },
      "execution_count": null,
      "outputs": []
    },
    {
      "cell_type": "code",
      "source": [
        "tf.abs(F)\n",
        "F"
      ],
      "metadata": {
        "id": "6Cxy9wi1CkVe"
      },
      "execution_count": null,
      "outputs": []
    },
    {
      "cell_type": "code",
      "source": [
        "# min, max, mean, sum"
      ],
      "metadata": {
        "id": "mm5PRvEjCpAk"
      },
      "execution_count": null,
      "outputs": []
    },
    {
      "cell_type": "code",
      "source": [
        "# create random tensor\n",
        "G = tf.constant(np.random.randint(0, 100, size=50))\n",
        "G"
      ],
      "metadata": {
        "id": "3oPHuhHoCsiL"
      },
      "execution_count": null,
      "outputs": []
    },
    {
      "cell_type": "code",
      "source": [
        "tf.size(G), G.shape, G.ndim"
      ],
      "metadata": {
        "id": "rpM92ucNDDrj"
      },
      "execution_count": null,
      "outputs": []
    },
    {
      "cell_type": "code",
      "source": [
        "# min\n",
        "tf.reduce_min(G)"
      ],
      "metadata": {
        "id": "397kWt6FDvDN"
      },
      "execution_count": null,
      "outputs": []
    },
    {
      "cell_type": "code",
      "source": [
        "# max\n",
        "tf.reduce_max(G)"
      ],
      "metadata": {
        "id": "RLCRE-wAEIs0"
      },
      "execution_count": null,
      "outputs": []
    },
    {
      "cell_type": "code",
      "source": [
        "# mean\n",
        "tf.reduce_mean(G)"
      ],
      "metadata": {
        "id": "DgPyS9xyD-bZ"
      },
      "execution_count": null,
      "outputs": []
    },
    {
      "cell_type": "code",
      "source": [
        "# sum\n",
        "tf.reduce_sum(G)"
      ],
      "metadata": {
        "id": "ArhEUDsXESPS"
      },
      "execution_count": null,
      "outputs": []
    },
    {
      "cell_type": "code",
      "source": [
        "# variance\n",
        "tf.math.reduce_variance(tf.cast(G, dtype=tf.float32))"
      ],
      "metadata": {
        "id": "dqU2rP7BEUyH"
      },
      "execution_count": null,
      "outputs": []
    },
    {
      "cell_type": "code",
      "source": [
        "import tensorflow_probability as tfp\n",
        "tfp.stats.variance(G)"
      ],
      "metadata": {
        "id": "rDeogr2OEktd"
      },
      "execution_count": null,
      "outputs": []
    },
    {
      "cell_type": "code",
      "source": [
        "tfp.stats.stddev(tf.cast(G, dtype=tf.float16))"
      ],
      "metadata": {
        "id": "9onhvahfbOJZ"
      },
      "execution_count": null,
      "outputs": []
    },
    {
      "cell_type": "code",
      "source": [
        "# postional min and max\n",
        "tf.random.set_seed(42)\n",
        "H = tf.random.uniform(shape=[50])\n",
        "H"
      ],
      "metadata": {
        "id": "-sohM0-ubpo5"
      },
      "execution_count": null,
      "outputs": []
    },
    {
      "cell_type": "code",
      "source": [
        "# find argmax - posi max\n",
        "tf.argmax(H)"
      ],
      "metadata": {
        "id": "-DyRFej9hLZf"
      },
      "execution_count": null,
      "outputs": []
    },
    {
      "cell_type": "code",
      "source": [
        "# Index of the largest value position\n",
        "H[tf.argmax(H)]"
      ],
      "metadata": {
        "id": "Vh9yh6Frho2j"
      },
      "execution_count": null,
      "outputs": []
    },
    {
      "cell_type": "code",
      "source": [
        "# find max value of H\n",
        "tf.reduce_max(H)"
      ],
      "metadata": {
        "id": "_TZpt1BXh5D0"
      },
      "execution_count": null,
      "outputs": []
    },
    {
      "cell_type": "code",
      "source": [
        "# ck equality\n",
        "H[tf.argmax(H)] == tf.reduce_max(H)"
      ],
      "metadata": {
        "id": "Gi0A1ms5iPwl"
      },
      "execution_count": null,
      "outputs": []
    },
    {
      "cell_type": "code",
      "source": [
        " # find posi min of H\n",
        " tf.argmin(H)"
      ],
      "metadata": {
        "id": "ILy1kdENigwz"
      },
      "execution_count": null,
      "outputs": []
    },
    {
      "cell_type": "code",
      "source": [
        "# find the value of min posi\n",
        "H[tf.argmin(H)]"
      ],
      "metadata": {
        "id": "1g8uSTmoi5oM"
      },
      "execution_count": null,
      "outputs": []
    },
    {
      "cell_type": "code",
      "source": [
        "# find min value of H\n",
        "tf.reduce_min(H)"
      ],
      "metadata": {
        "id": "IfwCdAiMjsWi"
      },
      "execution_count": null,
      "outputs": []
    },
    {
      "cell_type": "code",
      "source": [
        "H[tf.argmin(H)] == tf.reduce_min(H)"
      ],
      "metadata": {
        "id": "fOdUuwd4i-L4"
      },
      "execution_count": null,
      "outputs": []
    },
    {
      "cell_type": "code",
      "source": [
        "# squeeze a tensor -- remove all 1-dim axes\n",
        "tf.random.set_seed(42)\n",
        "I = tf.constant(tf.random.uniform(shape=[50]), shape=(1, 1, 1, 1, 50))\n",
        "I"
      ],
      "metadata": {
        "id": "2JazeaFPjLQ7"
      },
      "execution_count": null,
      "outputs": []
    },
    {
      "cell_type": "code",
      "source": [
        "I.shape"
      ],
      "metadata": {
        "id": "3TZDiOB7zoZ-"
      },
      "execution_count": null,
      "outputs": []
    },
    {
      "cell_type": "code",
      "source": [
        "I_squeezed = tf.squeeze(I)\n",
        "I_squeezed"
      ],
      "metadata": {
        "id": "6xqdSctD0VK4"
      },
      "execution_count": null,
      "outputs": []
    },
    {
      "cell_type": "code",
      "source": [
        "# one-hot encoding\n",
        "# liast of indices\n",
        "some_list = [0, 1, 2, 3]"
      ],
      "metadata": {
        "id": "AhRksaWI0d6s"
      },
      "execution_count": null,
      "outputs": []
    },
    {
      "cell_type": "code",
      "source": [
        "tf.one_hot(some_list, 4)"
      ],
      "metadata": {
        "id": "iUqG7HRi1RyF"
      },
      "execution_count": null,
      "outputs": []
    },
    {
      "cell_type": "code",
      "source": [
        "tf.one_hot(some_list, depth=4, on_value=\"I like donuts\", off_value=\"I also like tacos\")"
      ],
      "metadata": {
        "id": "aNODTUa61cpg"
      },
      "execution_count": null,
      "outputs": []
    },
    {
      "cell_type": "code",
      "source": [
        "# tensor math operations - squares - log - square root\n",
        "J = tf.range(1, 10)\n",
        "J"
      ],
      "metadata": {
        "id": "e1QKmK2j2UOs"
      },
      "execution_count": null,
      "outputs": []
    },
    {
      "cell_type": "code",
      "source": [
        "tf.square(J)"
      ],
      "metadata": {
        "id": "bx9-L4HZ2_lN"
      },
      "execution_count": null,
      "outputs": []
    },
    {
      "cell_type": "code",
      "source": [
        "tf.sqrt(tf.cast(J, dtype=tf.float32))"
      ],
      "metadata": {
        "id": "qLXB01l_3JmC"
      },
      "execution_count": null,
      "outputs": []
    },
    {
      "cell_type": "code",
      "source": [
        "# log\n",
        "tf.math.log(tf.cast(J, dtype=tf.float32))"
      ],
      "metadata": {
        "id": "ZCxKHgsv3MoG"
      },
      "execution_count": null,
      "outputs": []
    },
    {
      "cell_type": "code",
      "source": [
        "# Tensors and NumPy\n",
        "# TF interacts very well w/ NumPy array\n",
        "K = tf.constant(np.array([3., 7., 10]))\n",
        "K"
      ],
      "metadata": {
        "id": "qKDIzWV94Jvu"
      },
      "execution_count": null,
      "outputs": []
    },
    {
      "cell_type": "code",
      "source": [
        "# convert back\n",
        "np.array(K), type(np.array(K))"
      ],
      "metadata": {
        "id": "jy7qx-J15BD3"
      },
      "execution_count": null,
      "outputs": []
    },
    {
      "cell_type": "code",
      "source": [
        "K.numpy(), type(K.numpy())"
      ],
      "metadata": {
        "id": "tglqiTJS5rKs"
      },
      "execution_count": null,
      "outputs": []
    },
    {
      "cell_type": "code",
      "source": [
        "K = tf.constant([3.])\n",
        "K.numpy()[0]"
      ],
      "metadata": {
        "id": "c9bL1o8S5wOX"
      },
      "execution_count": null,
      "outputs": []
    },
    {
      "cell_type": "code",
      "source": [
        "# defualt types of each are little diff]\n",
        "numpy_K =  tf.constant(np.array([3., 7., 10.])) # float64\n",
        "tensor_K = tf.constant([3., 7. , 10.]) # float32\n",
        "# check dtypes\n",
        "numpy_K.dtype, tensor_K.dtype"
      ],
      "metadata": {
        "id": "VGgJuscj6W6S"
      },
      "execution_count": null,
      "outputs": []
    },
    {
      "cell_type": "code",
      "source": [
        "# Finding access to GPUs\n",
        "import tensorflow as tf\n",
        "tf.config.list_physical_devices()"
      ],
      "metadata": {
        "id": "Y8koFAM-7JZs"
      },
      "execution_count": null,
      "outputs": []
    },
    {
      "cell_type": "code",
      "source": [
        "!nvidia-smi"
      ],
      "metadata": {
        "colab": {
          "base_uri": "https://localhost:8080/"
        },
        "id": "6ScTCop-8Xyb",
        "outputId": "1cf0cffd-79b7-4d97-f9a8-e62f46162319"
      },
      "execution_count": 16,
      "outputs": [
        {
          "output_type": "stream",
          "name": "stdout",
          "text": [
            "Wed Nov  8 22:02:48 2023       \n",
            "+-----------------------------------------------------------------------------+\n",
            "| NVIDIA-SMI 525.105.17   Driver Version: 525.105.17   CUDA Version: 12.0     |\n",
            "|-------------------------------+----------------------+----------------------+\n",
            "| GPU  Name        Persistence-M| Bus-Id        Disp.A | Volatile Uncorr. ECC |\n",
            "| Fan  Temp  Perf  Pwr:Usage/Cap|         Memory-Usage | GPU-Util  Compute M. |\n",
            "|                               |                      |               MIG M. |\n",
            "|===============================+======================+======================|\n",
            "|   0  Tesla T4            Off  | 00000000:00:04.0 Off |                    0 |\n",
            "| N/A   46C    P0    28W /  70W |    361MiB / 15360MiB |      0%      Default |\n",
            "|                               |                      |                  N/A |\n",
            "+-------------------------------+----------------------+----------------------+\n",
            "                                                                               \n",
            "+-----------------------------------------------------------------------------+\n",
            "| Processes:                                                                  |\n",
            "|  GPU   GI   CI        PID   Type   Process name                  GPU Memory |\n",
            "|        ID   ID                                                   Usage      |\n",
            "|=============================================================================|\n",
            "+-----------------------------------------------------------------------------+\n"
          ]
        }
      ]
    },
    {
      "cell_type": "code",
      "source": [
        "# how to run tf code on CUDA GPU\n",
        "# tf will use it auto if avail"
      ],
      "metadata": {
        "id": "8EjKv-v79ZgQ"
      },
      "execution_count": null,
      "outputs": []
    }
  ]
}