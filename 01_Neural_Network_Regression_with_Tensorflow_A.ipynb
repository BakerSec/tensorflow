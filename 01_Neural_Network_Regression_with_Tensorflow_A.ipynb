{
  "nbformat": 4,
  "nbformat_minor": 0,
  "metadata": {
    "colab": {
      "provenance": [],
      "gpuType": "T4",
      "authorship_tag": "ABX9TyNpPF09/2Z4jkEsBRyltueY",
      "include_colab_link": true
    },
    "kernelspec": {
      "name": "python3",
      "display_name": "Python 3"
    },
    "language_info": {
      "name": "python"
    }
  },
  "cells": [
    {
      "cell_type": "markdown",
      "metadata": {
        "id": "view-in-github",
        "colab_type": "text"
      },
      "source": [
        "<a href=\"https://colab.research.google.com/github/flowmasterB/tensorflow-flowmasterB-teaching/blob/main/01_Neural_Network_Regression_with_Tensorflow_A.ipynb\" target=\"_parent\"><img src=\"https://colab.research.google.com/assets/colab-badge.svg\" alt=\"Open In Colab\"/></a>"
      ]
    },
    {
      "cell_type": "markdown",
      "source": [
        "# **Intro to neural network regression w/ TensorFlow**\n",
        "# Predicting numbers as outcomes based on other numbers."
      ],
      "metadata": {
        "id": "-W2hQCGAevXg"
      }
    },
    {
      "cell_type": "code",
      "execution_count": null,
      "metadata": {
        "id": "YGUCpZQ4_lmH"
      },
      "outputs": [],
      "source": [
        "import tensorflow as tf\n",
        "import numpy as np\n",
        "import matplotlib.pyplot as plt\n",
        "import keras\n",
        "from keras import layers"
      ]
    },
    {
      "cell_type": "code",
      "source": [
        "# create data to view and fit\n",
        "\n",
        "# create features\n",
        "X = np.array([-7.0, -4.0, -1.0, 2.0, 5.0, 8.0, 11.0, 14.0])\n",
        "\n",
        "# creatwe labels\n",
        "y = np.array([3.0, 6.0, 9.0, 12.0, 15.0, 18.0, 21.0, 24.0])\n",
        "\n",
        "# visualize\n",
        "plt.scatter(X, y);"
      ],
      "metadata": {
        "colab": {
          "base_uri": "https://localhost:8080/",
          "height": 435
        },
        "id": "4S6ohMORZmAW",
        "outputId": "7d2f1b1e-fdb6-409a-f9e9-f53db6e69dd5"
      },
      "execution_count": null,
      "outputs": [
        {
          "output_type": "display_data",
          "data": {
            "text/plain": [
              "<Figure size 640x480 with 1 Axes>"
            ],
            "image/png": "[encoded data removed]"
          },
          "metadata": {}
        }
      ]
    },
    {
      "cell_type": "code",
      "source": [
        "X + 10"
      ],
      "metadata": {
        "colab": {
          "base_uri": "https://localhost:8080/"
        },
        "id": "eNAQKzLXbP3K",
        "outputId": "81a792d6-f741-4163-a75f-2f2e2c33be44"
      },
      "execution_count": null,
      "outputs": [
        {
          "output_type": "execute_result",
          "data": {
            "text/plain": [
              "array([ 3.,  6.,  9., 12., 15., 18., 21., 24.])"
            ]
          },
          "metadata": {},
          "execution_count": 5
        }
      ]
    },
    {
      "cell_type": "code",
      "source": [
        "y == X + 10 # relationship trying to learn -- the function between - ind var"
      ],
      "metadata": {
        "colab": {
          "base_uri": "https://localhost:8080/"
        },
        "id": "g8KANYzTbo-V",
        "outputId": "47add25a-7980-4baa-f230-33c7f8ee211e"
      },
      "execution_count": null,
      "outputs": [
        {
          "output_type": "execute_result",
          "data": {
            "text/plain": [
              "array([ True,  True,  True,  True,  True,  True,  True,  True])"
            ]
          },
          "metadata": {},
          "execution_count": 6
        }
      ]
    },
    {
      "cell_type": "code",
      "source": [
        "# input and output shapes\n",
        "# create a demo tensor\n",
        "house_info = tf.constant([\"bedrooms\", \"bathrooms\", \"# of car(s) garage space\"])\n",
        "house_price = tf.constant([937000])\n",
        "house_info, house_price"
      ],
      "metadata": {
        "colab": {
          "base_uri": "https://localhost:8080/"
        },
        "id": "-p7MVPwVbtF_",
        "outputId": "afedd715-20bf-433e-c74c-4ac30da988a7"
      },
      "execution_count": null,
      "outputs": [
        {
          "output_type": "execute_result",
          "data": {
            "text/plain": [
              "(<tf.Tensor: shape=(3,), dtype=string, numpy=\n",
              " array([b'bedrooms', b'bathrooms', b'# of car(s) garage space'],\n",
              "       dtype=object)>,\n",
              " <tf.Tensor: shape=(1,), dtype=int32, numpy=array([937000], dtype=int32)>)"
            ]
          },
          "metadata": {},
          "execution_count": 7
        }
      ]
    },
    {
      "cell_type": "code",
      "source": [
        "input_shape = X.shape\n",
        "output_shape = y.shape\n",
        "input_shape, output_shape"
      ],
      "metadata": {
        "colab": {
          "base_uri": "https://localhost:8080/"
        },
        "id": "m5R0ZpX9cqJp",
        "outputId": "99f81fb5-8190-41b1-960d-4d1caad67aa4"
      },
      "execution_count": null,
      "outputs": [
        {
          "output_type": "execute_result",
          "data": {
            "text/plain": [
              "((8,), (8,))"
            ]
          },
          "metadata": {},
          "execution_count": 8
        }
      ]
    },
    {
      "cell_type": "code",
      "source": [
        "X[0],  y[0]"
      ],
      "metadata": {
        "colab": {
          "base_uri": "https://localhost:8080/"
        },
        "id": "N80-kd52dRco",
        "outputId": "5d03dcb7-4232-487d-a542-656b89b46cc0"
      },
      "execution_count": null,
      "outputs": [
        {
          "output_type": "execute_result",
          "data": {
            "text/plain": [
              "(-7.0, 3.0)"
            ]
          },
          "metadata": {},
          "execution_count": 9
        }
      ]
    },
    {
      "cell_type": "code",
      "source": [
        "# major steps in modeling w/ tf -- turn np arrays into tensors w/ dtype float32\n",
        "X = tf.cast(tf.constant(X), dtype=tf.float32)\n",
        "y = tf.cast(tf.constant(y), dtype=tf.float32)\n",
        "X, y"
      ],
      "metadata": {
        "colab": {
          "base_uri": "https://localhost:8080/"
        },
        "id": "XscRiNeBd9hc",
        "outputId": "821cfede-f83e-4598-dd40-de1ffc4307cc"
      },
      "execution_count": null,
      "outputs": [
        {
          "output_type": "execute_result",
          "data": {
            "text/plain": [
              "(<tf.Tensor: shape=(8,), dtype=float32, numpy=array([-7., -4., -1.,  2.,  5.,  8., 11., 14.], dtype=float32)>,\n",
              " <tf.Tensor: shape=(8,), dtype=float32, numpy=array([ 3.,  6.,  9., 12., 15., 18., 21., 24.], dtype=float32)>)"
            ]
          },
          "metadata": {},
          "execution_count": 10
        }
      ]
    },
    {
      "cell_type": "code",
      "source": [
        "input_shape = X[0].shape\n",
        "output_shape = y[0].shape\n",
        "input_shape, output_shape # returned a scalar"
      ],
      "metadata": {
        "colab": {
          "base_uri": "https://localhost:8080/"
        },
        "id": "mBbYLfHFerZK",
        "outputId": "f688f91e-8216-4178-a560-40807aada8b3"
      },
      "execution_count": null,
      "outputs": [
        {
          "output_type": "execute_result",
          "data": {
            "text/plain": [
              "(TensorShape([]), TensorShape([]))"
            ]
          },
          "metadata": {},
          "execution_count": 11
        }
      ]
    },
    {
      "cell_type": "markdown",
      "source": [
        "# **Steps for ML modeling**\n",
        "1. **create a model:** define the input and output layers, also to include the hidden layers of a deep learning model.\n",
        "2. **compile the model:** the function which tells our model how wrong it is, and the optimizer, which tells our model how to improve the patterns it learns. Evaluation metrics, used to interpret model performance\n",
        "3. **fiting a model:** letting the model find patterns between X AND Y, aka features\n",
        "\n",
        "# **Steps in TF:**\n",
        "1. Get data ready -- convert to tensors\n",
        "2. build or pick a model to suit problem\n",
        "3. fit the model to the data and make a prediction\n",
        "4. evaluate the model\n",
        "5. save and reload the trained model"
      ],
      "metadata": {
        "id": "IM9rL03Oe56J"
      }
    },
    {
      "cell_type": "code",
      "source": [
        "# set random seed\n",
        "tf.random.set_seed(42)\n",
        "\n",
        "# 1. Create a model using sequential api\n",
        "model = tf.keras.Sequential([\n",
        "    tf.keras.layers.Dense(1) # using one number to predict one number\n",
        "])\n",
        "\n",
        "#2. compile model\n",
        "model.compile(loss=tf.keras.losses.mae, # mae = mean absolute error\n",
        "              optimizer=tf.keras.optimizers.SGD(), # SGD stochastic gradient descent\n",
        "              metrics=[\"mae\"])\n",
        "\n",
        "#3 fit the model\n",
        "model.fit(tf.expand_dims(X, axis=1), y, epochs=5) # 5 tries to figure out a pattern\n"
      ],
      "metadata": {
        "colab": {
          "base_uri": "https://localhost:8080/"
        },
        "id": "VsujQIP3f1aW",
        "outputId": "8464a79d-b4cc-4d8b-e46e-8b68330eb51b"
      },
      "execution_count": null,
      "outputs": [
        {
          "output_type": "stream",
          "name": "stdout",
          "text": [
            "Epoch 1/5\n",
            "1/1 [==============================] - 1s 695ms/step - loss: 14.0933 - mae: 14.0933\n",
            "Epoch 2/5\n",
            "1/1 [==============================] - 0s 13ms/step - loss: 13.9608 - mae: 13.9608\n",
            "Epoch 3/5\n",
            "1/1 [==============================] - 0s 12ms/step - loss: 13.8283 - mae: 13.8283\n",
            "Epoch 4/5\n",
            "1/1 [==============================] - 0s 11ms/step - loss: 13.6958 - mae: 13.6958\n",
            "Epoch 5/5\n",
            "1/1 [==============================] - 0s 11ms/step - loss: 13.5633 - mae: 13.5633\n"
          ]
        },
        {
          "output_type": "execute_result",
          "data": {
            "text/plain": [
              "<keras.src.callbacks.History at 0x7de995f950f0>"
            ]
          },
          "metadata": {},
          "execution_count": 12
        }
      ]
    },
    {
      "cell_type": "code",
      "source": [
        "# check out X and y\n",
        "X, y"
      ],
      "metadata": {
        "colab": {
          "base_uri": "https://localhost:8080/"
        },
        "id": "DSQDOpTIkqqJ",
        "outputId": "7bb28bb9-494a-43bd-b171-f2e8f72605eb"
      },
      "execution_count": null,
      "outputs": [
        {
          "output_type": "execute_result",
          "data": {
            "text/plain": [
              "(<tf.Tensor: shape=(8,), dtype=float32, numpy=array([-7., -4., -1.,  2.,  5.,  8., 11., 14.], dtype=float32)>,\n",
              " <tf.Tensor: shape=(8,), dtype=float32, numpy=array([ 3.,  6.,  9., 12., 15., 18., 21., 24.], dtype=float32)>)"
            ]
          },
          "metadata": {},
          "execution_count": 13
        }
      ]
    },
    {
      "cell_type": "code",
      "source": [
        "# try to predict using the model\n",
        "model.predict([27]) # not very good -- we were expecting an approx. return of 10"
      ],
      "metadata": {
        "colab": {
          "base_uri": "https://localhost:8080/"
        },
        "id": "u7XOhUAKnXiM",
        "outputId": "f9801086-3a86-4547-a283-e9c447cb2d2f"
      },
      "execution_count": null,
      "outputs": [
        {
          "output_type": "stream",
          "name": "stdout",
          "text": [
            "1/1 [==============================] - 0s 142ms/step\n"
          ]
        },
        {
          "output_type": "execute_result",
          "data": {
            "text/plain": [
              "array([[0.19813298]], dtype=float32)"
            ]
          },
          "metadata": {},
          "execution_count": 14
        }
      ]
    },
    {
      "cell_type": "markdown",
      "source": [
        "# Improving the model\n",
        "We can improve the model by altering/adjustiung the steps we used to create it.\n",
        "1. create model -- add more layer, increase # of hidden units(neurons) within\n",
        "each of the hidden layers - change activation function of each layer\n",
        "2. compile model -- change optimization function -- learning rate hyper parameter of optimization function\n",
        "3. fit model -- more epochs/rounds -- longer training time, or more examples to learn from"
      ],
      "metadata": {
        "id": "iC9ay2PjnhVs"
      }
    },
    {
      "cell_type": "markdown",
      "source": [
        "## lets create a larger model to see if we can improve our model and see if\n",
        "## can predict the X + 10 fucntion pattern. Our first 5 epochs wasn't even close.\n"
      ],
      "metadata": {
        "id": "0YzF12_epljG"
      }
    },
    {
      "cell_type": "code",
      "source": [
        "#1 create model\n",
        "model = tf.keras.Sequential([\n",
        "    tf.keras.layers.Dense(1)\n",
        "])\n",
        "\n",
        "#2 compile model\n",
        "model.compile(loss=tf.keras.losses.mae,\n",
        "              optimizer=tf.keras.optimizers.Adam(lr=0.0001), # originally used SGD()\n",
        "              # error was near 3 points - result was 29.87 -- Adam was very close!\n",
        "              metrics=[\"mae\"])\n",
        "#3 fit the model\n",
        "model.fit(tf.expand_dims(X, axis=1), y, epochs=100)"
      ],
      "metadata": {
        "colab": {
          "base_uri": "https://localhost:8080/"
        },
        "id": "RXyFn6a8xvNL",
        "outputId": "e192ebf5-804c-4239-8786-4f467e3a2065"
      },
      "execution_count": null,
      "outputs": [
        {
          "output_type": "stream",
          "name": "stderr",
          "text": [
            "WARNING:absl:`lr` is deprecated in Keras optimizer, please use `learning_rate` or use the legacy optimizer, e.g.,tf.keras.optimizers.legacy.Adam.\n"
          ]
        },
        {
          "output_type": "stream",
          "name": "stdout",
          "text": [
            "Epoch 1/100\n",
            "1/1 [==============================] - 1s 646ms/step - loss: 20.3222 - mae: 20.3222\n",
            "Epoch 2/100\n",
            "1/1 [==============================] - 0s 19ms/step - loss: 20.3162 - mae: 20.3162\n",
            "Epoch 3/100\n",
            "1/1 [==============================] - 0s 17ms/step - loss: 20.3102 - mae: 20.3102\n",
            "Epoch 4/100\n",
            "1/1 [==============================] - 0s 11ms/step - loss: 20.3042 - mae: 20.3042\n",
            "Epoch 5/100\n",
            "1/1 [==============================] - 0s 11ms/step - loss: 20.2982 - mae: 20.2982\n",
            "Epoch 6/100\n",
            "1/1 [==============================] - 0s 13ms/step - loss: 20.2922 - mae: 20.2922\n",
            "Epoch 7/100\n",
            "1/1 [==============================] - 0s 9ms/step - loss: 20.2862 - mae: 20.2862\n",
            "Epoch 8/100\n",
            "1/1 [==============================] - 0s 10ms/step - loss: 20.2802 - mae: 20.2802\n",
            "Epoch 9/100\n",
            "1/1 [==============================] - 0s 9ms/step - loss: 20.2742 - mae: 20.2742\n",
            "Epoch 10/100\n",
            "1/1 [==============================] - 0s 9ms/step - loss: 20.2682 - mae: 20.2682\n",
            "Epoch 11/100\n",
            "1/1 [==============================] - 0s 9ms/step - loss: 20.2622 - mae: 20.2622\n",
            "Epoch 12/100\n",
            "1/1 [==============================] - 0s 9ms/step - loss: 20.2562 - mae: 20.2562\n",
            "Epoch 13/100\n",
            "1/1 [==============================] - 0s 10ms/step - loss: 20.2502 - mae: 20.2502\n",
            "Epoch 14/100\n",
            "1/1 [==============================] - 0s 9ms/step - loss: 20.2442 - mae: 20.2442\n",
            "Epoch 15/100\n",
            "1/1 [==============================] - 0s 9ms/step - loss: 20.2382 - mae: 20.2382\n",
            "Epoch 16/100\n",
            "1/1 [==============================] - 0s 10ms/step - loss: 20.2322 - mae: 20.2322\n",
            "Epoch 17/100\n",
            "1/1 [==============================] - 0s 12ms/step - loss: 20.2262 - mae: 20.2262\n",
            "Epoch 18/100\n",
            "1/1 [==============================] - 0s 9ms/step - loss: 20.2202 - mae: 20.2202\n",
            "Epoch 19/100\n",
            "1/1 [==============================] - 0s 10ms/step - loss: 20.2142 - mae: 20.2142\n",
            "Epoch 20/100\n",
            "1/1 [==============================] - 0s 10ms/step - loss: 20.2082 - mae: 20.2082\n",
            "Epoch 21/100\n",
            "1/1 [==============================] - 0s 10ms/step - loss: 20.2022 - mae: 20.2022\n",
            "Epoch 22/100\n",
            "1/1 [==============================] - 0s 10ms/step - loss: 20.1962 - mae: 20.1962\n",
            "Epoch 23/100\n",
            "1/1 [==============================] - 0s 10ms/step - loss: 20.1902 - mae: 20.1902\n",
            "Epoch 24/100\n",
            "1/1 [==============================] - 0s 9ms/step - loss: 20.1842 - mae: 20.1842\n",
            "Epoch 25/100\n",
            "1/1 [==============================] - 0s 10ms/step - loss: 20.1782 - mae: 20.1782\n",
            "Epoch 26/100\n",
            "1/1 [==============================] - 0s 10ms/step - loss: 20.1722 - mae: 20.1722\n",
            "Epoch 27/100\n",
            "1/1 [==============================] - 0s 17ms/step - loss: 20.1662 - mae: 20.1662\n",
            "Epoch 28/100\n",
            "1/1 [==============================] - 0s 10ms/step - loss: 20.1602 - mae: 20.1602\n",
            "Epoch 29/100\n",
            "1/1 [==============================] - 0s 9ms/step - loss: 20.1542 - mae: 20.1542\n",
            "Epoch 30/100\n",
            "1/1 [==============================] - 0s 11ms/step - loss: 20.1482 - mae: 20.1482\n",
            "Epoch 31/100\n",
            "1/1 [==============================] - 0s 12ms/step - loss: 20.1422 - mae: 20.1422\n",
            "Epoch 32/100\n",
            "1/1 [==============================] - 0s 9ms/step - loss: 20.1362 - mae: 20.1362\n",
            "Epoch 33/100\n",
            "1/1 [==============================] - 0s 10ms/step - loss: 20.1302 - mae: 20.1302\n",
            "Epoch 34/100\n",
            "1/1 [==============================] - 0s 9ms/step - loss: 20.1242 - mae: 20.1242\n",
            "Epoch 35/100\n",
            "1/1 [==============================] - 0s 12ms/step - loss: 20.1182 - mae: 20.1182\n",
            "Epoch 36/100\n",
            "1/1 [==============================] - 0s 11ms/step - loss: 20.1122 - mae: 20.1122\n",
            "Epoch 37/100\n",
            "1/1 [==============================] - 0s 10ms/step - loss: 20.1062 - mae: 20.1062\n",
            "Epoch 38/100\n",
            "1/1 [==============================] - 0s 9ms/step - loss: 20.1002 - mae: 20.1002\n",
            "Epoch 39/100\n",
            "1/1 [==============================] - 0s 11ms/step - loss: 20.0942 - mae: 20.0942\n",
            "Epoch 40/100\n",
            "1/1 [==============================] - 0s 11ms/step - loss: 20.0882 - mae: 20.0882\n",
            "Epoch 41/100\n",
            "1/1 [==============================] - 0s 10ms/step - loss: 20.0822 - mae: 20.0822\n",
            "Epoch 42/100\n",
            "1/1 [==============================] - 0s 12ms/step - loss: 20.0762 - mae: 20.0762\n",
            "Epoch 43/100\n",
            "1/1 [==============================] - 0s 9ms/step - loss: 20.0702 - mae: 20.0702\n",
            "Epoch 44/100\n",
            "1/1 [==============================] - 0s 9ms/step - loss: 20.0642 - mae: 20.0642\n",
            "Epoch 45/100\n",
            "1/1 [==============================] - 0s 8ms/step - loss: 20.0582 - mae: 20.0582\n",
            "Epoch 46/100\n",
            "1/1 [==============================] - 0s 9ms/step - loss: 20.0522 - mae: 20.0522\n",
            "Epoch 47/100\n",
            "1/1 [==============================] - 0s 11ms/step - loss: 20.0462 - mae: 20.0462\n",
            "Epoch 48/100\n",
            "1/1 [==============================] - 0s 11ms/step - loss: 20.0402 - mae: 20.0402\n",
            "Epoch 49/100\n",
            "1/1 [==============================] - 0s 10ms/step - loss: 20.0342 - mae: 20.0342\n",
            "Epoch 50/100\n",
            "1/1 [==============================] - 0s 9ms/step - loss: 20.0282 - mae: 20.0282\n",
            "Epoch 51/100\n",
            "1/1 [==============================] - 0s 9ms/step - loss: 20.0222 - mae: 20.0222\n",
            "Epoch 52/100\n",
            "1/1 [==============================] - 0s 9ms/step - loss: 20.0162 - mae: 20.0162\n",
            "Epoch 53/100\n",
            "1/1 [==============================] - 0s 11ms/step - loss: 20.0102 - mae: 20.0102\n",
            "Epoch 54/100\n",
            "1/1 [==============================] - 0s 12ms/step - loss: 20.0042 - mae: 20.0042\n",
            "Epoch 55/100\n",
            "1/1 [==============================] - 0s 13ms/step - loss: 19.9982 - mae: 19.9982\n",
            "Epoch 56/100\n",
            "1/1 [==============================] - 0s 9ms/step - loss: 19.9922 - mae: 19.9922\n",
            "Epoch 57/100\n",
            "1/1 [==============================] - 0s 10ms/step - loss: 19.9862 - mae: 19.9862\n",
            "Epoch 58/100\n",
            "1/1 [==============================] - 0s 10ms/step - loss: 19.9802 - mae: 19.9802\n",
            "Epoch 59/100\n",
            "1/1 [==============================] - 0s 10ms/step - loss: 19.9742 - mae: 19.9742\n",
            "Epoch 60/100\n",
            "1/1 [==============================] - 0s 11ms/step - loss: 19.9682 - mae: 19.9682\n",
            "Epoch 61/100\n",
            "1/1 [==============================] - 0s 10ms/step - loss: 19.9622 - mae: 19.9622\n",
            "Epoch 62/100\n",
            "1/1 [==============================] - 0s 10ms/step - loss: 19.9562 - mae: 19.9562\n",
            "Epoch 63/100\n",
            "1/1 [==============================] - 0s 10ms/step - loss: 19.9502 - mae: 19.9502\n",
            "Epoch 64/100\n",
            "1/1 [==============================] - 0s 9ms/step - loss: 19.9442 - mae: 19.9442\n",
            "Epoch 65/100\n",
            "1/1 [==============================] - 0s 10ms/step - loss: 19.9382 - mae: 19.9382\n",
            "Epoch 66/100\n",
            "1/1 [==============================] - 0s 11ms/step - loss: 19.9322 - mae: 19.9322\n",
            "Epoch 67/100\n",
            "1/1 [==============================] - 0s 10ms/step - loss: 19.9262 - mae: 19.9262\n",
            "Epoch 68/100\n",
            "1/1 [==============================] - 0s 10ms/step - loss: 19.9202 - mae: 19.9202\n",
            "Epoch 69/100\n",
            "1/1 [==============================] - 0s 16ms/step - loss: 19.9142 - mae: 19.9142\n",
            "Epoch 70/100\n",
            "1/1 [==============================] - 0s 10ms/step - loss: 19.9082 - mae: 19.9082\n",
            "Epoch 71/100\n",
            "1/1 [==============================] - 0s 10ms/step - loss: 19.9022 - mae: 19.9022\n",
            "Epoch 72/100\n",
            "1/1 [==============================] - 0s 14ms/step - loss: 19.8962 - mae: 19.8962\n",
            "Epoch 73/100\n",
            "1/1 [==============================] - 0s 14ms/step - loss: 19.8902 - mae: 19.8902\n",
            "Epoch 74/100\n",
            "1/1 [==============================] - 0s 12ms/step - loss: 19.8842 - mae: 19.8842\n",
            "Epoch 75/100\n",
            "1/1 [==============================] - 0s 10ms/step - loss: 19.8782 - mae: 19.8782\n",
            "Epoch 76/100\n",
            "1/1 [==============================] - 0s 10ms/step - loss: 19.8722 - mae: 19.8722\n",
            "Epoch 77/100\n",
            "1/1 [==============================] - 0s 10ms/step - loss: 19.8662 - mae: 19.8662\n",
            "Epoch 78/100\n",
            "1/1 [==============================] - 0s 9ms/step - loss: 19.8602 - mae: 19.8602\n",
            "Epoch 79/100\n",
            "1/1 [==============================] - 0s 10ms/step - loss: 19.8542 - mae: 19.8542\n",
            "Epoch 80/100\n",
            "1/1 [==============================] - 0s 9ms/step - loss: 19.8482 - mae: 19.8482\n",
            "Epoch 81/100\n",
            "1/1 [==============================] - 0s 10ms/step - loss: 19.8422 - mae: 19.8422\n",
            "Epoch 82/100\n",
            "1/1 [==============================] - 0s 9ms/step - loss: 19.8362 - mae: 19.8362\n",
            "Epoch 83/100\n",
            "1/1 [==============================] - 0s 11ms/step - loss: 19.8302 - mae: 19.8302\n",
            "Epoch 84/100\n",
            "1/1 [==============================] - 0s 9ms/step - loss: 19.8242 - mae: 19.8242\n",
            "Epoch 85/100\n",
            "1/1 [==============================] - 0s 10ms/step - loss: 19.8182 - mae: 19.8182\n",
            "Epoch 86/100\n",
            "1/1 [==============================] - 0s 10ms/step - loss: 19.8122 - mae: 19.8122\n",
            "Epoch 87/100\n",
            "1/1 [==============================] - 0s 10ms/step - loss: 19.8062 - mae: 19.8062\n",
            "Epoch 88/100\n",
            "1/1 [==============================] - 0s 10ms/step - loss: 19.8002 - mae: 19.8002\n",
            "Epoch 89/100\n",
            "1/1 [==============================] - 0s 13ms/step - loss: 19.7942 - mae: 19.7942\n",
            "Epoch 90/100\n",
            "1/1 [==============================] - 0s 12ms/step - loss: 19.7882 - mae: 19.7882\n",
            "Epoch 91/100\n",
            "1/1 [==============================] - 0s 10ms/step - loss: 19.7822 - mae: 19.7822\n",
            "Epoch 92/100\n",
            "1/1 [==============================] - 0s 10ms/step - loss: 19.7762 - mae: 19.7762\n",
            "Epoch 93/100\n",
            "1/1 [==============================] - 0s 10ms/step - loss: 19.7702 - mae: 19.7702\n",
            "Epoch 94/100\n",
            "1/1 [==============================] - 0s 10ms/step - loss: 19.7642 - mae: 19.7642\n",
            "Epoch 95/100\n",
            "1/1 [==============================] - 0s 11ms/step - loss: 19.7582 - mae: 19.7582\n",
            "Epoch 96/100\n",
            "1/1 [==============================] - 0s 10ms/step - loss: 19.7522 - mae: 19.7522\n",
            "Epoch 97/100\n",
            "1/1 [==============================] - 0s 11ms/step - loss: 19.7462 - mae: 19.7462\n",
            "Epoch 98/100\n",
            "1/1 [==============================] - 0s 9ms/step - loss: 19.7402 - mae: 19.7402\n",
            "Epoch 99/100\n",
            "1/1 [==============================] - 0s 9ms/step - loss: 19.7342 - mae: 19.7342\n",
            "Epoch 100/100\n",
            "1/1 [==============================] - 0s 10ms/step - loss: 19.7282 - mae: 19.7282\n"
          ]
        },
        {
          "output_type": "execute_result",
          "data": {
            "text/plain": [
              "<keras.src.callbacks.History at 0x7de9924be950>"
            ]
          },
          "metadata": {},
          "execution_count": 15
        }
      ]
    },
    {
      "cell_type": "code",
      "source": [
        "# show the data for a reminder\n",
        "X, y"
      ],
      "metadata": {
        "colab": {
          "base_uri": "https://localhost:8080/"
        },
        "id": "_2v_Z6nazAdc",
        "outputId": "f6b755fa-074e-4b0f-cfc4-81e886dcea9f"
      },
      "execution_count": null,
      "outputs": [
        {
          "output_type": "execute_result",
          "data": {
            "text/plain": [
              "(<tf.Tensor: shape=(8,), dtype=float32, numpy=array([-7., -4., -1.,  2.,  5.,  8., 11., 14.], dtype=float32)>,\n",
              " <tf.Tensor: shape=(8,), dtype=float32, numpy=array([ 3.,  6.,  9., 12., 15., 18., 21., 24.], dtype=float32)>)"
            ]
          },
          "metadata": {},
          "execution_count": 16
        }
      ]
    },
    {
      "cell_type": "code",
      "source": [
        "# LETS PREDICT! Did we improve?\n",
        "model.predict([17.0]) # this has been run several times - not reflective of\n",
        "# of original run w/ result of 27.136837"
      ],
      "metadata": {
        "colab": {
          "base_uri": "https://localhost:8080/"
        },
        "id": "z1Wy_F502lXn",
        "outputId": "7a15e4d7-7d96-473e-db72-6411475f12b1"
      },
      "execution_count": null,
      "outputs": [
        {
          "output_type": "stream",
          "name": "stdout",
          "text": [
            "1/1 [==============================] - 0s 44ms/step\n"
          ]
        },
        {
          "output_type": "execute_result",
          "data": {
            "text/plain": [
              "array([[21.208565]], dtype=float32)"
            ]
          },
          "metadata": {},
          "execution_count": 39
        }
      ]
    },
    {
      "cell_type": "code",
      "source": [
        "## Very nice... much better! using Adam reduced the error to within .136837\n",
        "# remember my 1st run with SGD() as optimizer was 2.87 in error!\n",
        "# Let's try to add more in baby steps towards a larger model.\n",
        "model = tf.keras.Sequential([\n",
        "    tf.keras.layers.Dense(1)\n",
        "])\n",
        "\n",
        "model.compile(loss=tf.keras.losses.mae,\n",
        "              optimizer=tf.keras.optimizers.Adam(learning_rate=0.1), # originally .0001\n",
        "              metrics=[\"mae\"])\n",
        "model.fit(tf.expand_dims(X, axis=1), y, epochs=100)"
      ],
      "metadata": {
        "colab": {
          "base_uri": "https://localhost:8080/"
        },
        "id": "2XNt76J12yWn",
        "outputId": "f529616a-4b53-4d2e-a15c-a2564fa616b2"
      },
      "execution_count": null,
      "outputs": [
        {
          "output_type": "stream",
          "name": "stdout",
          "text": [
            "Epoch 1/100\n",
            "2/2 [==============================] - 1s 10ms/step - loss: 35.4549 - mae: 35.4549\n",
            "Epoch 2/100\n",
            "2/2 [==============================] - 0s 8ms/step - loss: 25.0966 - mae: 25.0966\n",
            "Epoch 3/100\n",
            "2/2 [==============================] - 0s 9ms/step - loss: 16.6343 - mae: 16.6343\n",
            "Epoch 4/100\n",
            "2/2 [==============================] - 0s 8ms/step - loss: 9.4464 - mae: 9.4464\n",
            "Epoch 5/100\n",
            "2/2 [==============================] - 0s 8ms/step - loss: 8.6566 - mae: 8.6566\n",
            "Epoch 6/100\n",
            "2/2 [==============================] - 0s 7ms/step - loss: 11.5675 - mae: 11.5675\n",
            "Epoch 7/100\n",
            "2/2 [==============================] - 0s 8ms/step - loss: 13.3835 - mae: 13.3835\n",
            "Epoch 8/100\n",
            "2/2 [==============================] - 0s 7ms/step - loss: 12.3161 - mae: 12.3161\n",
            "Epoch 9/100\n",
            "2/2 [==============================] - 0s 9ms/step - loss: 10.0039 - mae: 10.0039\n",
            "Epoch 10/100\n",
            "2/2 [==============================] - 0s 7ms/step - loss: 8.0624 - mae: 8.0624\n",
            "Epoch 11/100\n",
            "2/2 [==============================] - 0s 8ms/step - loss: 8.0275 - mae: 8.0275\n",
            "Epoch 12/100\n",
            "2/2 [==============================] - 0s 7ms/step - loss: 7.9702 - mae: 7.9702\n",
            "Epoch 13/100\n",
            "2/2 [==============================] - 0s 8ms/step - loss: 8.4073 - mae: 8.4073\n",
            "Epoch 14/100\n",
            "2/2 [==============================] - 0s 9ms/step - loss: 8.3589 - mae: 8.3589\n",
            "Epoch 15/100\n",
            "2/2 [==============================] - 0s 7ms/step - loss: 7.4483 - mae: 7.4483\n",
            "Epoch 16/100\n",
            "2/2 [==============================] - 0s 7ms/step - loss: 7.2174 - mae: 7.2174\n",
            "Epoch 17/100\n",
            "2/2 [==============================] - 0s 8ms/step - loss: 6.7241 - mae: 6.7241\n",
            "Epoch 18/100\n",
            "2/2 [==============================] - 0s 7ms/step - loss: 6.4690 - mae: 6.4690\n",
            "Epoch 19/100\n",
            "2/2 [==============================] - 0s 7ms/step - loss: 6.2422 - mae: 6.2422\n",
            "Epoch 20/100\n",
            "2/2 [==============================] - 0s 9ms/step - loss: 6.4527 - mae: 6.4527\n",
            "Epoch 21/100\n",
            "2/2 [==============================] - 0s 7ms/step - loss: 5.9269 - mae: 5.9269\n",
            "Epoch 22/100\n",
            "2/2 [==============================] - 0s 8ms/step - loss: 5.6747 - mae: 5.6747\n",
            "Epoch 23/100\n",
            "2/2 [==============================] - 0s 8ms/step - loss: 5.4328 - mae: 5.4328\n",
            "Epoch 24/100\n",
            "2/2 [==============================] - 0s 7ms/step - loss: 5.2903 - mae: 5.2903\n",
            "Epoch 25/100\n",
            "2/2 [==============================] - 0s 8ms/step - loss: 5.1649 - mae: 5.1649\n",
            "Epoch 26/100\n",
            "2/2 [==============================] - 0s 7ms/step - loss: 5.0854 - mae: 5.0854\n",
            "Epoch 27/100\n",
            "2/2 [==============================] - 0s 7ms/step - loss: 4.6995 - mae: 4.6995\n",
            "Epoch 28/100\n",
            "2/2 [==============================] - 0s 8ms/step - loss: 4.4267 - mae: 4.4267\n",
            "Epoch 29/100\n",
            "2/2 [==============================] - 0s 7ms/step - loss: 4.1660 - mae: 4.1660\n",
            "Epoch 30/100\n",
            "2/2 [==============================] - 0s 8ms/step - loss: 3.9410 - mae: 3.9410\n",
            "Epoch 31/100\n",
            "2/2 [==============================] - 0s 7ms/step - loss: 3.6135 - mae: 3.6135\n",
            "Epoch 32/100\n",
            "2/2 [==============================] - 0s 7ms/step - loss: 3.5763 - mae: 3.5763\n",
            "Epoch 33/100\n",
            "2/2 [==============================] - 0s 7ms/step - loss: 3.3143 - mae: 3.3143\n",
            "Epoch 34/100\n",
            "2/2 [==============================] - 0s 8ms/step - loss: 3.1310 - mae: 3.1310\n",
            "Epoch 35/100\n",
            "2/2 [==============================] - 0s 8ms/step - loss: 2.8744 - mae: 2.8744\n",
            "Epoch 36/100\n",
            "2/2 [==============================] - 0s 7ms/step - loss: 2.6697 - mae: 2.6697\n",
            "Epoch 37/100\n",
            "2/2 [==============================] - 0s 7ms/step - loss: 2.4379 - mae: 2.4379\n",
            "Epoch 38/100\n",
            "2/2 [==============================] - 0s 10ms/step - loss: 2.2076 - mae: 2.2076\n",
            "Epoch 39/100\n",
            "2/2 [==============================] - 0s 9ms/step - loss: 1.9315 - mae: 1.9315\n",
            "Epoch 40/100\n",
            "2/2 [==============================] - 0s 9ms/step - loss: 1.7312 - mae: 1.7312\n",
            "Epoch 41/100\n",
            "2/2 [==============================] - 0s 9ms/step - loss: 1.4269 - mae: 1.4269\n",
            "Epoch 42/100\n",
            "2/2 [==============================] - 0s 10ms/step - loss: 1.4186 - mae: 1.4186\n",
            "Epoch 43/100\n",
            "2/2 [==============================] - 0s 8ms/step - loss: 1.3590 - mae: 1.3590\n",
            "Epoch 44/100\n",
            "2/2 [==============================] - 0s 8ms/step - loss: 1.0146 - mae: 1.0146\n",
            "Epoch 45/100\n",
            "2/2 [==============================] - 0s 8ms/step - loss: 0.8435 - mae: 0.8435\n",
            "Epoch 46/100\n",
            "2/2 [==============================] - 0s 10ms/step - loss: 0.7464 - mae: 0.7464\n",
            "Epoch 47/100\n",
            "2/2 [==============================] - 0s 8ms/step - loss: 0.5762 - mae: 0.5762\n",
            "Epoch 48/100\n",
            "2/2 [==============================] - 0s 7ms/step - loss: 0.9481 - mae: 0.9481\n",
            "Epoch 49/100\n",
            "2/2 [==============================] - 0s 7ms/step - loss: 0.1191 - mae: 0.1191\n",
            "Epoch 50/100\n",
            "2/2 [==============================] - 0s 7ms/step - loss: 0.7681 - mae: 0.7681\n",
            "Epoch 51/100\n",
            "2/2 [==============================] - 0s 8ms/step - loss: 0.3432 - mae: 0.3432\n",
            "Epoch 52/100\n",
            "2/2 [==============================] - 0s 8ms/step - loss: 0.5131 - mae: 0.5131\n",
            "Epoch 53/100\n",
            "2/2 [==============================] - 0s 10ms/step - loss: 0.4646 - mae: 0.4646\n",
            "Epoch 54/100\n",
            "2/2 [==============================] - 0s 7ms/step - loss: 0.5106 - mae: 0.5106\n",
            "Epoch 55/100\n",
            "2/2 [==============================] - 0s 7ms/step - loss: 0.3996 - mae: 0.3996\n",
            "Epoch 56/100\n",
            "2/2 [==============================] - 0s 6ms/step - loss: 0.3862 - mae: 0.3862\n",
            "Epoch 57/100\n",
            "2/2 [==============================] - 0s 7ms/step - loss: 0.4599 - mae: 0.4599\n",
            "Epoch 58/100\n",
            "2/2 [==============================] - 0s 7ms/step - loss: 0.5338 - mae: 0.5338\n",
            "Epoch 59/100\n",
            "2/2 [==============================] - 0s 7ms/step - loss: 0.3084 - mae: 0.3084\n",
            "Epoch 60/100\n",
            "2/2 [==============================] - 0s 9ms/step - loss: 0.5808 - mae: 0.5808\n",
            "Epoch 61/100\n",
            "2/2 [==============================] - 0s 9ms/step - loss: 0.3333 - mae: 0.3333\n",
            "Epoch 62/100\n",
            "2/2 [==============================] - 0s 7ms/step - loss: 0.4174 - mae: 0.4174\n",
            "Epoch 63/100\n",
            "2/2 [==============================] - 0s 11ms/step - loss: 0.4951 - mae: 0.4951\n",
            "Epoch 64/100\n",
            "2/2 [==============================] - 0s 9ms/step - loss: 0.2644 - mae: 0.2644\n",
            "Epoch 65/100\n",
            "2/2 [==============================] - 0s 6ms/step - loss: 0.6231 - mae: 0.6231\n",
            "Epoch 66/100\n",
            "2/2 [==============================] - 0s 8ms/step - loss: 0.1137 - mae: 0.1137\n",
            "Epoch 67/100\n",
            "2/2 [==============================] - 0s 8ms/step - loss: 0.0849 - mae: 0.0849\n",
            "Epoch 68/100\n",
            "2/2 [==============================] - 0s 11ms/step - loss: 0.2338 - mae: 0.2338\n",
            "Epoch 69/100\n",
            "2/2 [==============================] - 0s 8ms/step - loss: 1.1472 - mae: 1.1472\n",
            "Epoch 70/100\n",
            "2/2 [==============================] - 0s 8ms/step - loss: 0.6855 - mae: 0.6855\n",
            "Epoch 71/100\n",
            "2/2 [==============================] - 0s 12ms/step - loss: 1.0481 - mae: 1.0481\n",
            "Epoch 72/100\n",
            "2/2 [==============================] - 0s 11ms/step - loss: 0.3745 - mae: 0.3745\n",
            "Epoch 73/100\n",
            "2/2 [==============================] - 0s 8ms/step - loss: 0.5340 - mae: 0.5340\n",
            "Epoch 74/100\n",
            "2/2 [==============================] - 0s 10ms/step - loss: 0.3726 - mae: 0.3726\n",
            "Epoch 75/100\n",
            "2/2 [==============================] - 0s 8ms/step - loss: 1.0716 - mae: 1.0716\n",
            "Epoch 76/100\n",
            "2/2 [==============================] - 0s 8ms/step - loss: 0.6262 - mae: 0.6262\n",
            "Epoch 77/100\n",
            "2/2 [==============================] - 0s 7ms/step - loss: 0.8223 - mae: 0.8223\n",
            "Epoch 78/100\n",
            "2/2 [==============================] - 0s 8ms/step - loss: 0.4482 - mae: 0.4482\n",
            "Epoch 79/100\n",
            "2/2 [==============================] - 0s 7ms/step - loss: 0.4359 - mae: 0.4359\n",
            "Epoch 80/100\n",
            "2/2 [==============================] - 0s 7ms/step - loss: 1.0398 - mae: 1.0398\n",
            "Epoch 81/100\n",
            "2/2 [==============================] - 0s 11ms/step - loss: 0.5793 - mae: 0.5793\n",
            "Epoch 82/100\n",
            "2/2 [==============================] - 0s 6ms/step - loss: 0.5022 - mae: 0.5022\n",
            "Epoch 83/100\n",
            "2/2 [==============================] - 0s 8ms/step - loss: 1.0200 - mae: 1.0200\n",
            "Epoch 84/100\n",
            "2/2 [==============================] - 0s 7ms/step - loss: 0.1752 - mae: 0.1752\n",
            "Epoch 85/100\n",
            "2/2 [==============================] - 0s 7ms/step - loss: 0.1744 - mae: 0.1744\n",
            "Epoch 86/100\n",
            "2/2 [==============================] - 0s 7ms/step - loss: 0.8498 - mae: 0.8498\n",
            "Epoch 87/100\n",
            "2/2 [==============================] - 0s 7ms/step - loss: 0.5166 - mae: 0.5166\n",
            "Epoch 88/100\n",
            "2/2 [==============================] - 0s 7ms/step - loss: 1.3087 - mae: 1.3087\n",
            "Epoch 89/100\n",
            "2/2 [==============================] - 0s 7ms/step - loss: 0.6248 - mae: 0.6248\n",
            "Epoch 90/100\n",
            "2/2 [==============================] - 0s 7ms/step - loss: 1.3961 - mae: 1.3961\n",
            "Epoch 91/100\n",
            "2/2 [==============================] - 0s 7ms/step - loss: 0.5984 - mae: 0.5984\n",
            "Epoch 92/100\n",
            "2/2 [==============================] - 0s 7ms/step - loss: 1.7515 - mae: 1.7515\n",
            "Epoch 93/100\n",
            "2/2 [==============================] - 0s 7ms/step - loss: 0.7244 - mae: 0.7244\n",
            "Epoch 94/100\n",
            "2/2 [==============================] - 0s 7ms/step - loss: 0.5665 - mae: 0.5665\n",
            "Epoch 95/100\n",
            "2/2 [==============================] - 0s 13ms/step - loss: 0.5118 - mae: 0.5118\n",
            "Epoch 96/100\n",
            "2/2 [==============================] - 0s 7ms/step - loss: 0.4175 - mae: 0.4175\n",
            "Epoch 97/100\n",
            "2/2 [==============================] - 0s 7ms/step - loss: 1.1611 - mae: 1.1611\n",
            "Epoch 98/100\n",
            "2/2 [==============================] - 0s 13ms/step - loss: 0.2136 - mae: 0.2136\n",
            "Epoch 99/100\n",
            "2/2 [==============================] - 0s 7ms/step - loss: 0.3754 - mae: 0.3754\n",
            "Epoch 100/100\n",
            "2/2 [==============================] - 0s 7ms/step - loss: 0.3761 - mae: 0.3761\n"
          ]
        },
        {
          "output_type": "execute_result",
          "data": {
            "text/plain": [
              "<keras.src.callbacks.History at 0x7de99321b5e0>"
            ]
          },
          "metadata": {},
          "execution_count": 40
        }
      ]
    },
    {
      "cell_type": "code",
      "source": [
        "# now predict again and let's see...\n",
        "model.predict([17.0])"
      ],
      "metadata": {
        "colab": {
          "base_uri": "https://localhost:8080/"
        },
        "id": "5CglmCha7QRn",
        "outputId": "1db6e0b6-f472-400d-cf43-e1ac0a2d7706"
      },
      "execution_count": null,
      "outputs": [
        {
          "output_type": "stream",
          "name": "stdout",
          "text": [
            "1/1 [==============================] - 0s 68ms/step\n"
          ]
        },
        {
          "output_type": "execute_result",
          "data": {
            "text/plain": [
              "array([[27.09747]], dtype=float32)"
            ]
          },
          "metadata": {},
          "execution_count": 41
        }
      ]
    },
    {
      "cell_type": "code",
      "source": [
        "# not good -- adding the hidden layer made it worse, even with Adam --\n",
        "# then used .1 as learning rate and got the above result...NICE! - .09747 error!"
      ],
      "metadata": {
        "id": "4ZnQqsyQ7eGM"
      },
      "execution_count": null,
      "outputs": []
    },
    {
      "cell_type": "markdown",
      "source": [
        "#Evaluating a model\n",
        "### In practice, tytpical workflow is as follows when building neural networks:\n",
        "### Build a model --> fit --> evaluate it --> tweak it --> fit it --> eval --\n",
        "### tweak --> fit --> eval...\n",
        "### Most important -- visualize, visualize visualize\n",
        "### * the data -- what data are we working with?\n",
        "### * training -- how does it perform while it learns?\n",
        "### * predictions of the model -- do they line up against the ground truth (original labels)\n"
      ],
      "metadata": {
        "id": "HUEq-fDA-ZRn"
      }
    },
    {
      "cell_type": "code",
      "source": [
        "# let's make a larger dataset\n",
        "X = tf.range(-100, 100, 4)\n",
        "X"
      ],
      "metadata": {
        "colab": {
          "base_uri": "https://localhost:8080/"
        },
        "id": "d1Zh3beHeFR1",
        "outputId": "395e43be-10a2-47d1-e70c-72ba2935098a"
      },
      "execution_count": null,
      "outputs": [
        {
          "output_type": "execute_result",
          "data": {
            "text/plain": [
              "<tf.Tensor: shape=(50,), dtype=int32, numpy=\n",
              "array([-100,  -96,  -92,  -88,  -84,  -80,  -76,  -72,  -68,  -64,  -60,\n",
              "        -56,  -52,  -48,  -44,  -40,  -36,  -32,  -28,  -24,  -20,  -16,\n",
              "        -12,   -8,   -4,    0,    4,    8,   12,   16,   20,   24,   28,\n",
              "         32,   36,   40,   44,   48,   52,   56,   60,   64,   68,   72,\n",
              "         76,   80,   84,   88,   92,   96], dtype=int32)>"
            ]
          },
          "metadata": {},
          "execution_count": 43
        }
      ]
    },
    {
      "cell_type": "code",
      "source": [
        "# make labels\n",
        "y= X + 10\n",
        "y"
      ],
      "metadata": {
        "colab": {
          "base_uri": "https://localhost:8080/"
        },
        "id": "dKLD5NgEf5le",
        "outputId": "5dc4d5fa-eb11-40f3-cfd1-d2daf470840d"
      },
      "execution_count": null,
      "outputs": [
        {
          "output_type": "execute_result",
          "data": {
            "text/plain": [
              "<tf.Tensor: shape=(50,), dtype=int32, numpy=\n",
              "array([-90, -86, -82, -78, -74, -70, -66, -62, -58, -54, -50, -46, -42,\n",
              "       -38, -34, -30, -26, -22, -18, -14, -10,  -6,  -2,   2,   6,  10,\n",
              "        14,  18,  22,  26,  30,  34,  38,  42,  46,  50,  54,  58,  62,\n",
              "        66,  70,  74,  78,  82,  86,  90,  94,  98, 102, 106], dtype=int32)>"
            ]
          },
          "metadata": {},
          "execution_count": 44
        }
      ]
    },
    {
      "cell_type": "code",
      "source": [
        "# visualize data\n",
        "plt.scatter(X, y)"
      ],
      "metadata": {
        "colab": {
          "base_uri": "https://localhost:8080/",
          "height": 447
        },
        "id": "Ud_KWN1SgEhX",
        "outputId": "a51a9a77-7f1d-4cc0-e4a1-71743e929f96"
      },
      "execution_count": null,
      "outputs": [
        {
          "output_type": "execute_result",
          "data": {
            "text/plain": [
              "<matplotlib.collections.PathCollection at 0x7dea1ae73370>"
            ]
          },
          "metadata": {},
          "execution_count": 45
        },
        {
          "output_type": "display_data",
          "data": {
            "text/plain": [
              "<Figure size 640x480 with 1 Axes>"
            ],
            "image/png": "[encoded data removed]"
          },
          "metadata": {}
        }
      ]
    },
    {
      "cell_type": "markdown",
      "source": [
        "# **The three set theory/idea**\n",
        "## * **Training set** -- data to learn from - typically 70-80% of total data in store\n",
        "## * **Validation set** - the model gets tuned on this dataset -- typically 10-15% of data in store\n",
        "## * **Test set** - evaluation againsty this set to test what has been learned, typically 10-15% of data in store   "
      ],
      "metadata": {
        "id": "1CpW2JaHgONt"
      }
    },
    {
      "cell_type": "code",
      "source": [
        "# Check length of how many samples we have\n",
        "len(X)"
      ],
      "metadata": {
        "colab": {
          "base_uri": "https://localhost:8080/"
        },
        "id": "ii5ZwwK2hmJb",
        "outputId": "e1dfab9f-a355-478f-bc0c-0c9e3fb3fa01"
      },
      "execution_count": null,
      "outputs": [
        {
          "output_type": "execute_result",
          "data": {
            "text/plain": [
              "50"
            ]
          },
          "metadata": {},
          "execution_count": 46
        }
      ]
    },
    {
      "cell_type": "code",
      "source": [
        "# spliot data into training and test set\n",
        "X_train = X[:40] # first 40 traing samples = 80% of data\n",
        "y_train = y[:40]\n",
        "X_test = X[40:] # last 10 = 20% of data\n",
        "y_test = y[40:]\n",
        "\n",
        "len(X_train), len(X_test), len(y_train), len(y_test)"
      ],
      "metadata": {
        "colab": {
          "base_uri": "https://localhost:8080/"
        },
        "id": "VY6R51tkiLra",
        "outputId": "1086e26b-da6a-41de-c7db-3618436c0da2"
      },
      "execution_count": null,
      "outputs": [
        {
          "output_type": "execute_result",
          "data": {
            "text/plain": [
              "(40, 10, 40, 10)"
            ]
          },
          "metadata": {},
          "execution_count": 47
        }
      ]
    },
    {
      "cell_type": "code",
      "source": [
        "# Visualize training and test sets\n",
        "plt.figure(figsize=(10, 7))\n",
        "# plot training data in blue\n",
        "plt.scatter(X_train, y_train, c=\"b\", label=\"Training Data\")\n",
        "#plot test data in green\n",
        "plt.scatter(X_test, y_test, c=\"g\", label=\"Testing Data\")\n",
        "# Show a legend\n",
        "plt.legend();"
      ],
      "metadata": {
        "colab": {
          "base_uri": "https://localhost:8080/",
          "height": 599
        },
        "id": "8oWgZGTtjAzm",
        "outputId": "4b80de26-f0fe-4491-8a28-a4c9959da4e1"
      },
      "execution_count": null,
      "outputs": [
        {
          "output_type": "display_data",
          "data": {
            "text/plain": [
              "<Figure size 1000x700 with 1 Axes>"
            ],
            "image/png": "[encoded data removed]"
          },
          "metadata": {}
        }
      ]
    },
    {
      "cell_type": "code",
      "source": [
        "# create new larger model\n",
        "model = tf.keras.Sequential([\n",
        "    tf.keras.layers.Dense(100, activation=\"relu\"),\n",
        "    tf.keras.layers.Dense(100, activation=\"relu\"),\n",
        "    tf.keras.layers.Dense(100, activation=\"relu\"),\n",
        "    tf.keras.layers.Dense(1)\n",
        "    ])\n",
        "\n",
        "model.compile(loss=tf.keras.losses.mae,\n",
        "              optimizer=tf.keras.optimizers.Adam(learning_rate=0.0018),\n",
        "              metrics=[\"mae\"]\n",
        "              )\n",
        "model.fit(tf.expand_dims(X_train, axis=1), y_train, epochs=100)"
      ],
      "metadata": {
        "colab": {
          "base_uri": "https://localhost:8080/"
        },
        "id": "omACyNL3kXb1",
        "outputId": "9291f460-f2c2-4f48-d46c-742eac072998"
      },
      "execution_count": null,
      "outputs": [
        {
          "output_type": "stream",
          "name": "stdout",
          "text": [
            "Epoch 1/100\n",
            "2/2 [==============================] - 1s 9ms/step - loss: 38.0019 - mae: 38.0019\n",
            "Epoch 2/100\n",
            "2/2 [==============================] - 0s 8ms/step - loss: 31.9744 - mae: 31.9744\n",
            "Epoch 3/100\n",
            "2/2 [==============================] - 0s 11ms/step - loss: 26.6696 - mae: 26.6696\n",
            "Epoch 4/100\n",
            "2/2 [==============================] - 0s 10ms/step - loss: 21.0237 - mae: 21.0237\n",
            "Epoch 5/100\n",
            "2/2 [==============================] - 0s 8ms/step - loss: 14.8581 - mae: 14.8581\n",
            "Epoch 6/100\n",
            "2/2 [==============================] - 0s 10ms/step - loss: 9.2198 - mae: 9.2198\n",
            "Epoch 7/100\n",
            "2/2 [==============================] - 0s 10ms/step - loss: 8.5432 - mae: 8.5432\n",
            "Epoch 8/100\n",
            "2/2 [==============================] - 0s 9ms/step - loss: 6.2918 - mae: 6.2918\n",
            "Epoch 9/100\n",
            "2/2 [==============================] - 0s 9ms/step - loss: 5.7653 - mae: 5.7653\n",
            "Epoch 10/100\n",
            "2/2 [==============================] - 0s 10ms/step - loss: 7.1229 - mae: 7.1229\n",
            "Epoch 11/100\n",
            "2/2 [==============================] - 0s 10ms/step - loss: 7.2460 - mae: 7.2460\n",
            "Epoch 12/100\n",
            "2/2 [==============================] - 0s 15ms/step - loss: 5.8460 - mae: 5.8460\n",
            "Epoch 13/100\n",
            "2/2 [==============================] - 0s 9ms/step - loss: 4.1772 - mae: 4.1772\n",
            "Epoch 14/100\n",
            "2/2 [==============================] - 0s 12ms/step - loss: 5.3528 - mae: 5.3528\n",
            "Epoch 15/100\n",
            "2/2 [==============================] - 0s 10ms/step - loss: 6.1246 - mae: 6.1246\n",
            "Epoch 16/100\n",
            "2/2 [==============================] - 0s 8ms/step - loss: 4.3382 - mae: 4.3382\n",
            "Epoch 17/100\n",
            "2/2 [==============================] - 0s 10ms/step - loss: 4.6541 - mae: 4.6541\n",
            "Epoch 18/100\n",
            "2/2 [==============================] - 0s 9ms/step - loss: 5.3569 - mae: 5.3569\n",
            "Epoch 19/100\n",
            "2/2 [==============================] - 0s 11ms/step - loss: 5.1466 - mae: 5.1466\n",
            "Epoch 20/100\n",
            "2/2 [==============================] - 0s 9ms/step - loss: 4.4598 - mae: 4.4598\n",
            "Epoch 21/100\n",
            "2/2 [==============================] - 0s 10ms/step - loss: 4.2060 - mae: 4.2060\n",
            "Epoch 22/100\n",
            "2/2 [==============================] - 0s 10ms/step - loss: 4.3864 - mae: 4.3864\n",
            "Epoch 23/100\n",
            "2/2 [==============================] - 0s 10ms/step - loss: 4.0847 - mae: 4.0847\n",
            "Epoch 24/100\n",
            "2/2 [==============================] - 0s 9ms/step - loss: 4.2968 - mae: 4.2968\n",
            "Epoch 25/100\n",
            "2/2 [==============================] - 0s 10ms/step - loss: 4.5260 - mae: 4.5260\n",
            "Epoch 26/100\n",
            "2/2 [==============================] - 0s 10ms/step - loss: 4.4403 - mae: 4.4403\n",
            "Epoch 27/100\n",
            "2/2 [==============================] - 0s 9ms/step - loss: 4.1689 - mae: 4.1689\n",
            "Epoch 28/100\n",
            "2/2 [==============================] - 0s 10ms/step - loss: 4.0217 - mae: 4.0217\n",
            "Epoch 29/100\n",
            "2/2 [==============================] - 0s 8ms/step - loss: 4.0879 - mae: 4.0879\n",
            "Epoch 30/100\n",
            "2/2 [==============================] - 0s 8ms/step - loss: 4.3351 - mae: 4.3351\n",
            "Epoch 31/100\n",
            "2/2 [==============================] - 0s 10ms/step - loss: 4.0871 - mae: 4.0871\n",
            "Epoch 32/100\n",
            "2/2 [==============================] - 0s 10ms/step - loss: 3.8670 - mae: 3.8670\n",
            "Epoch 33/100\n",
            "2/2 [==============================] - 0s 10ms/step - loss: 3.9935 - mae: 3.9935\n",
            "Epoch 34/100\n",
            "2/2 [==============================] - 0s 8ms/step - loss: 4.1304 - mae: 4.1304\n",
            "Epoch 35/100\n",
            "2/2 [==============================] - 0s 9ms/step - loss: 4.1204 - mae: 4.1204\n",
            "Epoch 36/100\n",
            "2/2 [==============================] - 0s 9ms/step - loss: 4.0461 - mae: 4.0461\n",
            "Epoch 37/100\n",
            "2/2 [==============================] - 0s 10ms/step - loss: 3.8851 - mae: 3.8851\n",
            "Epoch 38/100\n",
            "2/2 [==============================] - 0s 12ms/step - loss: 3.8426 - mae: 3.8426\n",
            "Epoch 39/100\n",
            "2/2 [==============================] - 0s 9ms/step - loss: 4.1025 - mae: 4.1025\n",
            "Epoch 40/100\n",
            "2/2 [==============================] - 0s 17ms/step - loss: 3.9462 - mae: 3.9462\n",
            "Epoch 41/100\n",
            "2/2 [==============================] - 0s 10ms/step - loss: 3.7848 - mae: 3.7848\n",
            "Epoch 42/100\n",
            "2/2 [==============================] - 0s 12ms/step - loss: 3.8329 - mae: 3.8329\n",
            "Epoch 43/100\n",
            "2/2 [==============================] - 0s 9ms/step - loss: 3.8309 - mae: 3.8309\n",
            "Epoch 44/100\n",
            "2/2 [==============================] - 0s 10ms/step - loss: 3.8768 - mae: 3.8768\n",
            "Epoch 45/100\n",
            "2/2 [==============================] - 0s 9ms/step - loss: 3.7325 - mae: 3.7325\n",
            "Epoch 46/100\n",
            "2/2 [==============================] - 0s 11ms/step - loss: 3.6887 - mae: 3.6887\n",
            "Epoch 47/100\n",
            "2/2 [==============================] - 0s 9ms/step - loss: 3.7435 - mae: 3.7435\n",
            "Epoch 48/100\n",
            "2/2 [==============================] - 0s 10ms/step - loss: 3.7757 - mae: 3.7757\n",
            "Epoch 49/100\n",
            "2/2 [==============================] - 0s 10ms/step - loss: 3.6828 - mae: 3.6828\n",
            "Epoch 50/100\n",
            "2/2 [==============================] - 0s 9ms/step - loss: 3.6321 - mae: 3.6321\n",
            "Epoch 51/100\n",
            "2/2 [==============================] - 0s 9ms/step - loss: 3.7498 - mae: 3.7498\n",
            "Epoch 52/100\n",
            "2/2 [==============================] - 0s 10ms/step - loss: 3.7402 - mae: 3.7402\n",
            "Epoch 53/100\n",
            "2/2 [==============================] - 0s 9ms/step - loss: 3.5829 - mae: 3.5829\n",
            "Epoch 54/100\n",
            "2/2 [==============================] - 0s 10ms/step - loss: 3.6363 - mae: 3.6363\n",
            "Epoch 55/100\n",
            "2/2 [==============================] - 0s 8ms/step - loss: 3.7311 - mae: 3.7311\n",
            "Epoch 56/100\n",
            "2/2 [==============================] - 0s 9ms/step - loss: 3.6106 - mae: 3.6106\n",
            "Epoch 57/100\n",
            "2/2 [==============================] - 0s 9ms/step - loss: 3.5594 - mae: 3.5594\n",
            "Epoch 58/100\n",
            "2/2 [==============================] - 0s 10ms/step - loss: 3.5877 - mae: 3.5877\n",
            "Epoch 59/100\n",
            "2/2 [==============================] - 0s 10ms/step - loss: 3.5261 - mae: 3.5261\n",
            "Epoch 60/100\n",
            "2/2 [==============================] - 0s 11ms/step - loss: 3.5218 - mae: 3.5218\n",
            "Epoch 61/100\n",
            "2/2 [==============================] - 0s 10ms/step - loss: 3.5969 - mae: 3.5969\n",
            "Epoch 62/100\n",
            "2/2 [==============================] - 0s 9ms/step - loss: 3.5017 - mae: 3.5017\n",
            "Epoch 63/100\n",
            "2/2 [==============================] - 0s 9ms/step - loss: 3.4322 - mae: 3.4322\n",
            "Epoch 64/100\n",
            "2/2 [==============================] - 0s 9ms/step - loss: 3.4227 - mae: 3.4227\n",
            "Epoch 65/100\n",
            "2/2 [==============================] - 0s 9ms/step - loss: 3.3456 - mae: 3.3456\n",
            "Epoch 66/100\n",
            "2/2 [==============================] - 0s 11ms/step - loss: 3.3872 - mae: 3.3872\n",
            "Epoch 67/100\n",
            "2/2 [==============================] - 0s 9ms/step - loss: 3.4578 - mae: 3.4578\n",
            "Epoch 68/100\n",
            "2/2 [==============================] - 0s 11ms/step - loss: 3.4243 - mae: 3.4243\n",
            "Epoch 69/100\n",
            "2/2 [==============================] - 0s 8ms/step - loss: 3.3801 - mae: 3.3801\n",
            "Epoch 70/100\n",
            "2/2 [==============================] - 0s 9ms/step - loss: 3.3334 - mae: 3.3334\n",
            "Epoch 71/100\n",
            "2/2 [==============================] - 0s 9ms/step - loss: 3.2850 - mae: 3.2850\n",
            "Epoch 72/100\n",
            "2/2 [==============================] - 0s 9ms/step - loss: 3.2518 - mae: 3.2518\n",
            "Epoch 73/100\n",
            "2/2 [==============================] - 0s 11ms/step - loss: 3.2042 - mae: 3.2042\n",
            "Epoch 74/100\n",
            "2/2 [==============================] - 0s 9ms/step - loss: 3.1880 - mae: 3.1880\n",
            "Epoch 75/100\n",
            "2/2 [==============================] - 0s 9ms/step - loss: 3.1468 - mae: 3.1468\n",
            "Epoch 76/100\n",
            "2/2 [==============================] - 0s 9ms/step - loss: 3.4122 - mae: 3.4122\n",
            "Epoch 77/100\n",
            "2/2 [==============================] - 0s 10ms/step - loss: 3.3796 - mae: 3.3796\n",
            "Epoch 78/100\n",
            "2/2 [==============================] - 0s 8ms/step - loss: 3.2661 - mae: 3.2661\n",
            "Epoch 79/100\n",
            "2/2 [==============================] - 0s 8ms/step - loss: 3.0306 - mae: 3.0306\n",
            "Epoch 80/100\n",
            "2/2 [==============================] - 0s 13ms/step - loss: 3.0669 - mae: 3.0669\n",
            "Epoch 81/100\n",
            "2/2 [==============================] - 0s 9ms/step - loss: 2.9132 - mae: 2.9132\n",
            "Epoch 82/100\n",
            "2/2 [==============================] - 0s 9ms/step - loss: 3.4025 - mae: 3.4025\n",
            "Epoch 83/100\n",
            "2/2 [==============================] - 0s 8ms/step - loss: 3.3439 - mae: 3.3439\n",
            "Epoch 84/100\n",
            "2/2 [==============================] - 0s 9ms/step - loss: 2.8876 - mae: 2.8876\n",
            "Epoch 85/100\n",
            "2/2 [==============================] - 0s 8ms/step - loss: 2.9689 - mae: 2.9689\n",
            "Epoch 86/100\n",
            "2/2 [==============================] - 0s 9ms/step - loss: 3.0957 - mae: 3.0957\n",
            "Epoch 87/100\n",
            "2/2 [==============================] - 0s 9ms/step - loss: 2.8019 - mae: 2.8019\n",
            "Epoch 88/100\n",
            "2/2 [==============================] - 0s 9ms/step - loss: 3.8949 - mae: 3.8949\n",
            "Epoch 89/100\n",
            "2/2 [==============================] - 0s 9ms/step - loss: 3.4540 - mae: 3.4540\n",
            "Epoch 90/100\n",
            "2/2 [==============================] - 0s 8ms/step - loss: 2.7897 - mae: 2.7897\n",
            "Epoch 91/100\n",
            "2/2 [==============================] - 0s 9ms/step - loss: 2.5574 - mae: 2.5574\n",
            "Epoch 92/100\n",
            "2/2 [==============================] - 0s 9ms/step - loss: 2.6850 - mae: 2.6850\n",
            "Epoch 93/100\n",
            "2/2 [==============================] - 0s 8ms/step - loss: 3.1570 - mae: 3.1570\n",
            "Epoch 94/100\n",
            "2/2 [==============================] - 0s 9ms/step - loss: 3.5585 - mae: 3.5585\n",
            "Epoch 95/100\n",
            "2/2 [==============================] - 0s 8ms/step - loss: 2.9009 - mae: 2.9009\n",
            "Epoch 96/100\n",
            "2/2 [==============================] - 0s 12ms/step - loss: 2.8402 - mae: 2.8402\n",
            "Epoch 97/100\n",
            "2/2 [==============================] - 0s 10ms/step - loss: 2.3238 - mae: 2.3238\n",
            "Epoch 98/100\n",
            "2/2 [==============================] - 0s 11ms/step - loss: 2.4645 - mae: 2.4645\n",
            "Epoch 99/100\n",
            "2/2 [==============================] - 0s 8ms/step - loss: 2.3273 - mae: 2.3273\n",
            "Epoch 100/100\n",
            "2/2 [==============================] - 0s 12ms/step - loss: 2.5647 - mae: 2.5647\n"
          ]
        },
        {
          "output_type": "execute_result",
          "data": {
            "text/plain": [
              "<keras.src.callbacks.History at 0x7de992bb36a0>"
            ]
          },
          "metadata": {},
          "execution_count": 49
        }
      ]
    },
    {
      "cell_type": "code",
      "source": [
        "model.predict([36])"
      ],
      "metadata": {
        "colab": {
          "base_uri": "https://localhost:8080/"
        },
        "id": "3iergFf1l8WX",
        "outputId": "f72203ac-5db3-4fe0-bd50-594de36ca1e3"
      },
      "execution_count": null,
      "outputs": [
        {
          "output_type": "stream",
          "name": "stdout",
          "text": [
            "1/1 [==============================] - 0s 38ms/step\n"
          ]
        },
        {
          "output_type": "execute_result",
          "data": {
            "text/plain": [
              "array([[47.347652]], dtype=float32)"
            ]
          },
          "metadata": {},
          "execution_count": 56
        }
      ]
    },
    {
      "cell_type": "code",
      "source": [
        "# pretty good! I adjusted the lr (learning_rate) from .0001 to what it is now\n",
        "# I adjusted several times to end up with that learning_rate of .0018"
      ],
      "metadata": {
        "id": "dRLicdM4mU9K"
      },
      "execution_count": null,
      "outputs": []
    },
    {
      "cell_type": "code",
      "source": [
        "X.shape"
      ],
      "metadata": {
        "colab": {
          "base_uri": "https://localhost:8080/"
        },
        "id": "aqhNGrT5qBrX",
        "outputId": "3867f72a-8124-482a-c5a4-16ce234da63a"
      },
      "execution_count": null,
      "outputs": [
        {
          "output_type": "execute_result",
          "data": {
            "text/plain": [
              "TensorShape([50])"
            ]
          },
          "metadata": {},
          "execution_count": 57
        }
      ]
    },
    {
      "cell_type": "code",
      "source": [
        "# Build a model that auto builds by defining input_shape argument in the 1st layer\n",
        "tf.random.set_seed(42)\n",
        "model = tf.keras.Sequential([\n",
        "    tf.keras.layers.Dense(10, input_shape=[1], name=\"input_layer\"), # 10 = output\n",
        "    # where 1 = input - see plot_model image below\n",
        "    tf.keras.layers.Dense(1, name=\"output_layer\")\n",
        "], name=\"Sample_1\")\n",
        "\n",
        "# good to name your layers and models for better organization\n",
        "\n",
        "model.compile(loss=tf.keras.losses.mae,\n",
        "              optimizer=tf.keras.optimizers.Adam(learning_rate=0.01),\n",
        "              metrics=[\"mae\"])\n",
        "model.fit(tf.expand_dims(X_train, axis=1), y_train, epochs=100)"
      ],
      "metadata": {
        "colab": {
          "base_uri": "https://localhost:8080/"
        },
        "id": "HIhxFvxopShQ",
        "outputId": "40566583-65a9-49c0-de8e-bd15cbfe6eb2"
      },
      "execution_count": null,
      "outputs": [
        {
          "output_type": "stream",
          "name": "stdout",
          "text": [
            "Epoch 1/100\n",
            "2/2 [==============================] - 1s 11ms/step - loss: 56.6002 - mae: 56.6002\n",
            "Epoch 2/100\n",
            "2/2 [==============================] - 0s 8ms/step - loss: 49.4128 - mae: 49.4128\n",
            "Epoch 3/100\n",
            "2/2 [==============================] - 0s 8ms/step - loss: 42.5547 - mae: 42.5547\n",
            "Epoch 4/100\n",
            "2/2 [==============================] - 0s 8ms/step - loss: 35.5097 - mae: 35.5097\n",
            "Epoch 5/100\n",
            "2/2 [==============================] - 0s 8ms/step - loss: 28.6694 - mae: 28.6694\n",
            "Epoch 6/100\n",
            "2/2 [==============================] - 0s 8ms/step - loss: 21.8442 - mae: 21.8442\n",
            "Epoch 7/100\n",
            "2/2 [==============================] - 0s 7ms/step - loss: 15.2188 - mae: 15.2188\n",
            "Epoch 8/100\n",
            "2/2 [==============================] - 0s 7ms/step - loss: 8.9461 - mae: 8.9461\n",
            "Epoch 9/100\n",
            "2/2 [==============================] - 0s 11ms/step - loss: 9.0344 - mae: 9.0344\n",
            "Epoch 10/100\n",
            "2/2 [==============================] - 0s 8ms/step - loss: 11.6605 - mae: 11.6605\n",
            "Epoch 11/100\n",
            "2/2 [==============================] - 0s 7ms/step - loss: 13.7847 - mae: 13.7847\n",
            "Epoch 12/100\n",
            "2/2 [==============================] - 0s 7ms/step - loss: 14.4442 - mae: 14.4442\n",
            "Epoch 13/100\n",
            "2/2 [==============================] - 0s 7ms/step - loss: 14.3137 - mae: 14.3137\n",
            "Epoch 14/100\n",
            "2/2 [==============================] - 0s 8ms/step - loss: 13.4723 - mae: 13.4723\n",
            "Epoch 15/100\n",
            "2/2 [==============================] - 0s 7ms/step - loss: 12.2813 - mae: 12.2813\n",
            "Epoch 16/100\n",
            "2/2 [==============================] - 0s 7ms/step - loss: 10.6683 - mae: 10.6683\n",
            "Epoch 17/100\n",
            "2/2 [==============================] - 0s 10ms/step - loss: 9.1947 - mae: 9.1947\n",
            "Epoch 18/100\n",
            "2/2 [==============================] - 0s 7ms/step - loss: 7.2421 - mae: 7.2421\n",
            "Epoch 19/100\n",
            "2/2 [==============================] - 0s 8ms/step - loss: 7.9778 - mae: 7.9778\n",
            "Epoch 20/100\n",
            "2/2 [==============================] - 0s 10ms/step - loss: 9.0916 - mae: 9.0916\n",
            "Epoch 21/100\n",
            "2/2 [==============================] - 0s 7ms/step - loss: 9.1688 - mae: 9.1688\n",
            "Epoch 22/100\n",
            "2/2 [==============================] - 0s 6ms/step - loss: 8.2696 - mae: 8.2696\n",
            "Epoch 23/100\n",
            "2/2 [==============================] - 0s 7ms/step - loss: 7.2143 - mae: 7.2143\n",
            "Epoch 24/100\n",
            "2/2 [==============================] - 0s 7ms/step - loss: 7.0470 - mae: 7.0470\n",
            "Epoch 25/100\n",
            "2/2 [==============================] - 0s 7ms/step - loss: 7.2136 - mae: 7.2136\n",
            "Epoch 26/100\n",
            "2/2 [==============================] - 0s 6ms/step - loss: 6.7925 - mae: 6.7925\n",
            "Epoch 27/100\n",
            "2/2 [==============================] - 0s 7ms/step - loss: 6.7028 - mae: 6.7028\n",
            "Epoch 28/100\n",
            "2/2 [==============================] - 0s 7ms/step - loss: 6.9365 - mae: 6.9365\n",
            "Epoch 29/100\n",
            "2/2 [==============================] - 0s 7ms/step - loss: 6.9395 - mae: 6.9395\n",
            "Epoch 30/100\n",
            "2/2 [==============================] - 0s 7ms/step - loss: 6.6260 - mae: 6.6260\n",
            "Epoch 31/100\n",
            "2/2 [==============================] - 0s 7ms/step - loss: 6.4256 - mae: 6.4256\n",
            "Epoch 32/100\n",
            "2/2 [==============================] - 0s 8ms/step - loss: 6.4532 - mae: 6.4532\n",
            "Epoch 33/100\n",
            "2/2 [==============================] - 0s 8ms/step - loss: 6.2501 - mae: 6.2501\n",
            "Epoch 34/100\n",
            "2/2 [==============================] - 0s 8ms/step - loss: 6.1396 - mae: 6.1396\n",
            "Epoch 35/100\n",
            "2/2 [==============================] - 0s 8ms/step - loss: 6.2774 - mae: 6.2774\n",
            "Epoch 36/100\n",
            "2/2 [==============================] - 0s 7ms/step - loss: 6.3204 - mae: 6.3204\n",
            "Epoch 37/100\n",
            "2/2 [==============================] - 0s 7ms/step - loss: 6.1164 - mae: 6.1164\n",
            "Epoch 38/100\n",
            "2/2 [==============================] - 0s 8ms/step - loss: 5.8481 - mae: 5.8481\n",
            "Epoch 39/100\n",
            "2/2 [==============================] - 0s 7ms/step - loss: 5.9190 - mae: 5.9190\n",
            "Epoch 40/100\n",
            "2/2 [==============================] - 0s 8ms/step - loss: 5.8308 - mae: 5.8308\n",
            "Epoch 41/100\n",
            "2/2 [==============================] - 0s 7ms/step - loss: 5.6579 - mae: 5.6579\n",
            "Epoch 42/100\n",
            "2/2 [==============================] - 0s 7ms/step - loss: 5.6230 - mae: 5.6230\n",
            "Epoch 43/100\n",
            "2/2 [==============================] - 0s 7ms/step - loss: 5.4980 - mae: 5.4980\n",
            "Epoch 44/100\n",
            "2/2 [==============================] - 0s 8ms/step - loss: 5.4364 - mae: 5.4364\n",
            "Epoch 45/100\n",
            "2/2 [==============================] - 0s 7ms/step - loss: 5.3176 - mae: 5.3176\n",
            "Epoch 46/100\n",
            "2/2 [==============================] - 0s 8ms/step - loss: 5.2686 - mae: 5.2686\n",
            "Epoch 47/100\n",
            "2/2 [==============================] - 0s 7ms/step - loss: 5.3385 - mae: 5.3385\n",
            "Epoch 48/100\n",
            "2/2 [==============================] - 0s 7ms/step - loss: 5.2632 - mae: 5.2632\n",
            "Epoch 49/100\n",
            "2/2 [==============================] - 0s 7ms/step - loss: 5.0821 - mae: 5.0821\n",
            "Epoch 50/100\n",
            "2/2 [==============================] - 0s 7ms/step - loss: 4.9218 - mae: 4.9218\n",
            "Epoch 51/100\n",
            "2/2 [==============================] - 0s 7ms/step - loss: 4.8788 - mae: 4.8788\n",
            "Epoch 52/100\n",
            "2/2 [==============================] - 0s 7ms/step - loss: 4.7494 - mae: 4.7494\n",
            "Epoch 53/100\n",
            "2/2 [==============================] - 0s 7ms/step - loss: 4.7397 - mae: 4.7397\n",
            "Epoch 54/100\n",
            "2/2 [==============================] - 0s 6ms/step - loss: 4.7580 - mae: 4.7580\n",
            "Epoch 55/100\n",
            "2/2 [==============================] - 0s 7ms/step - loss: 4.5469 - mae: 4.5469\n",
            "Epoch 56/100\n",
            "2/2 [==============================] - 0s 7ms/step - loss: 4.5920 - mae: 4.5920\n",
            "Epoch 57/100\n",
            "2/2 [==============================] - 0s 7ms/step - loss: 4.3899 - mae: 4.3899\n",
            "Epoch 58/100\n",
            "2/2 [==============================] - 0s 7ms/step - loss: 4.3072 - mae: 4.3072\n",
            "Epoch 59/100\n",
            "2/2 [==============================] - 0s 8ms/step - loss: 4.1977 - mae: 4.1977\n",
            "Epoch 60/100\n",
            "2/2 [==============================] - 0s 8ms/step - loss: 4.1434 - mae: 4.1434\n",
            "Epoch 61/100\n",
            "2/2 [==============================] - 0s 8ms/step - loss: 3.9926 - mae: 3.9926\n",
            "Epoch 62/100\n",
            "2/2 [==============================] - 0s 8ms/step - loss: 3.9697 - mae: 3.9697\n",
            "Epoch 63/100\n",
            "2/2 [==============================] - 0s 8ms/step - loss: 3.9695 - mae: 3.9695\n",
            "Epoch 64/100\n",
            "2/2 [==============================] - 0s 8ms/step - loss: 3.7998 - mae: 3.7998\n",
            "Epoch 65/100\n",
            "2/2 [==============================] - 0s 7ms/step - loss: 3.6405 - mae: 3.6405\n",
            "Epoch 66/100\n",
            "2/2 [==============================] - 0s 8ms/step - loss: 3.5960 - mae: 3.5960\n",
            "Epoch 67/100\n",
            "2/2 [==============================] - 0s 7ms/step - loss: 3.5606 - mae: 3.5606\n",
            "Epoch 68/100\n",
            "2/2 [==============================] - 0s 7ms/step - loss: 3.5668 - mae: 3.5668\n",
            "Epoch 69/100\n",
            "2/2 [==============================] - 0s 11ms/step - loss: 3.3042 - mae: 3.3042\n",
            "Epoch 70/100\n",
            "2/2 [==============================] - 0s 7ms/step - loss: 3.4847 - mae: 3.4847\n",
            "Epoch 71/100\n",
            "2/2 [==============================] - 0s 7ms/step - loss: 3.1298 - mae: 3.1298\n",
            "Epoch 72/100\n",
            "2/2 [==============================] - 0s 7ms/step - loss: 3.2172 - mae: 3.2172\n",
            "Epoch 73/100\n",
            "2/2 [==============================] - 0s 7ms/step - loss: 2.8294 - mae: 2.8294\n",
            "Epoch 74/100\n",
            "2/2 [==============================] - 0s 7ms/step - loss: 2.9596 - mae: 2.9596\n",
            "Epoch 75/100\n",
            "2/2 [==============================] - 0s 9ms/step - loss: 2.6298 - mae: 2.6298\n",
            "Epoch 76/100\n",
            "2/2 [==============================] - 0s 7ms/step - loss: 2.6460 - mae: 2.6460\n",
            "Epoch 77/100\n",
            "2/2 [==============================] - 0s 8ms/step - loss: 2.5218 - mae: 2.5218\n",
            "Epoch 78/100\n",
            "2/2 [==============================] - 0s 8ms/step - loss: 2.4618 - mae: 2.4618\n",
            "Epoch 79/100\n",
            "2/2 [==============================] - 0s 11ms/step - loss: 2.6476 - mae: 2.6476\n",
            "Epoch 80/100\n",
            "2/2 [==============================] - 0s 8ms/step - loss: 2.4983 - mae: 2.4983\n",
            "Epoch 81/100\n",
            "2/2 [==============================] - 0s 11ms/step - loss: 2.3916 - mae: 2.3916\n",
            "Epoch 82/100\n",
            "2/2 [==============================] - 0s 7ms/step - loss: 2.8932 - mae: 2.8932\n",
            "Epoch 83/100\n",
            "2/2 [==============================] - 0s 7ms/step - loss: 2.7281 - mae: 2.7281\n",
            "Epoch 84/100\n",
            "2/2 [==============================] - 0s 8ms/step - loss: 1.9791 - mae: 1.9791\n",
            "Epoch 85/100\n",
            "2/2 [==============================] - 0s 7ms/step - loss: 1.8243 - mae: 1.8243\n",
            "Epoch 86/100\n",
            "2/2 [==============================] - 0s 8ms/step - loss: 1.5176 - mae: 1.5176\n",
            "Epoch 87/100\n",
            "2/2 [==============================] - 0s 8ms/step - loss: 1.4648 - mae: 1.4648\n",
            "Epoch 88/100\n",
            "2/2 [==============================] - 0s 9ms/step - loss: 1.2152 - mae: 1.2152\n",
            "Epoch 89/100\n",
            "2/2 [==============================] - 0s 7ms/step - loss: 1.0456 - mae: 1.0456\n",
            "Epoch 90/100\n",
            "2/2 [==============================] - 0s 7ms/step - loss: 1.0662 - mae: 1.0662\n",
            "Epoch 91/100\n",
            "2/2 [==============================] - 0s 7ms/step - loss: 0.8389 - mae: 0.8389\n",
            "Epoch 92/100\n",
            "2/2 [==============================] - 0s 8ms/step - loss: 0.6746 - mae: 0.6746\n",
            "Epoch 93/100\n",
            "2/2 [==============================] - 0s 7ms/step - loss: 0.5658 - mae: 0.5658\n",
            "Epoch 94/100\n",
            "2/2 [==============================] - 0s 7ms/step - loss: 0.5588 - mae: 0.5588\n",
            "Epoch 95/100\n",
            "2/2 [==============================] - 0s 7ms/step - loss: 0.5344 - mae: 0.5344\n",
            "Epoch 96/100\n",
            "2/2 [==============================] - 0s 7ms/step - loss: 0.7823 - mae: 0.7823\n",
            "Epoch 97/100\n",
            "2/2 [==============================] - 0s 11ms/step - loss: 0.1976 - mae: 0.1976\n",
            "Epoch 98/100\n",
            "2/2 [==============================] - 0s 7ms/step - loss: 0.4186 - mae: 0.4186\n",
            "Epoch 99/100\n",
            "2/2 [==============================] - 0s 7ms/step - loss: 0.3851 - mae: 0.3851\n",
            "Epoch 100/100\n",
            "2/2 [==============================] - 0s 7ms/step - loss: 0.8354 - mae: 0.8354\n"
          ]
        },
        {
          "output_type": "execute_result",
          "data": {
            "text/plain": [
              "<keras.src.callbacks.History at 0x7de992bb31c0>"
            ]
          },
          "metadata": {},
          "execution_count": 77
        }
      ]
    },
    {
      "cell_type": "code",
      "source": [
        "model.summary() # verify against plot_model resultant image below"
      ],
      "metadata": {
        "colab": {
          "base_uri": "https://localhost:8080/"
        },
        "id": "5VgdiaMaqkHE",
        "outputId": "54f09085-760f-49df-8341-8e0c7e994de4"
      },
      "execution_count": null,
      "outputs": [
        {
          "output_type": "stream",
          "name": "stdout",
          "text": [
            "Model: \"Sample_1\"\n",
            "_________________________________________________________________\n",
            " Layer (type)                Output Shape              Param #   \n",
            "=================================================================\n",
            " input_layer (Dense)         (None, 10)                20        \n",
            "                                                                 \n",
            " output_layer (Dense)        (None, 1)                 11        \n",
            "                                                                 \n",
            "=================================================================\n",
            "Total params: 31 (124.00 Byte)\n",
            "Trainable params: 31 (124.00 Byte)\n",
            "Non-trainable params: 0 (0.00 Byte)\n",
            "_________________________________________________________________\n"
          ]
        }
      ]
    },
    {
      "cell_type": "markdown",
      "source": [
        "## **Total params** = total # of parameters in model\n",
        "## **Trainable parameters** = patterns model can update as it trains\n",
        "## **Non-trainable params** = not updated during training -- imported models during transfer learning"
      ],
      "metadata": {
        "id": "ttTG0Dvqq9FP"
      }
    },
    {
      "cell_type": "code",
      "source": [
        "# visualizing a model's layers\n",
        "from tensorflow.keras.utils import plot_model"
      ],
      "metadata": {
        "id": "ELfivrxNr_QP"
      },
      "execution_count": null,
      "outputs": []
    },
    {
      "cell_type": "markdown",
      "source": [],
      "metadata": {
        "id": "1OJFqlC92Qma"
      }
    },
    {
      "cell_type": "code",
      "source": [
        "plot_model(model=model, show_shapes=True)"
      ],
      "metadata": {
        "colab": {
          "base_uri": "https://localhost:8080/",
          "height": 312
        },
        "id": "iZ6Ng4Fcz3vF",
        "outputId": "dd227bb4-bbce-4898-8aff-b989c5669627"
      },
      "execution_count": null,
      "outputs": [
        {
          "output_type": "execute_result",
          "data": {
            "image/png": "[encoded data removed]",
            "text/plain": [
              "<IPython.core.display.Image object>"
            ]
          },
          "metadata": {},
          "execution_count": 80
        }
      ]
    },
    {
      "cell_type": "code",
      "source": [
        "# Vizualizing our model's predictions"
      ],
      "metadata": {
        "id": "XwTjzAgzz6NP"
      },
      "execution_count": null,
      "outputs": []
    },
    {
      "cell_type": "code",
      "source": [
        "#to viz predictions -- plot against ground truth layers\n",
        "# i.e form of 'y_test' or 'y_true' vs 'y_preds'\n",
        "\n",
        "# make some predictions\n",
        "y_pred = model.predict(X_test)\n",
        "y_pred"
      ],
      "metadata": {
        "colab": {
          "base_uri": "https://localhost:8080/"
        },
        "id": "YHf0pq8_2hm9",
        "outputId": "2e6d334b-8976-49c1-97a6-9e6fd579e3b4"
      },
      "execution_count": null,
      "outputs": [
        {
          "output_type": "stream",
          "name": "stdout",
          "text": [
            "1/1 [==============================] - 0s 55ms/step\n"
          ]
        },
        {
          "output_type": "execute_result",
          "data": {
            "text/plain": [
              "array([[ 69.94082],\n",
              "       [ 73.91625],\n",
              "       [ 77.89168],\n",
              "       [ 81.86712],\n",
              "       [ 85.84254],\n",
              "       [ 89.81798],\n",
              "       [ 93.7934 ],\n",
              "       [ 97.76884],\n",
              "       [101.74427],\n",
              "       [105.7197 ]], dtype=float32)"
            ]
          },
          "metadata": {},
          "execution_count": 82
        }
      ]
    },
    {
      "cell_type": "code",
      "source": [
        "y_test"
      ],
      "metadata": {
        "colab": {
          "base_uri": "https://localhost:8080/"
        },
        "id": "qOzRR3OVVZiD",
        "outputId": "1de7f472-72c4-4a39-f513-95532f8a1a9e"
      },
      "execution_count": null,
      "outputs": [
        {
          "output_type": "execute_result",
          "data": {
            "text/plain": [
              "<tf.Tensor: shape=(10,), dtype=int32, numpy=array([ 70,  74,  78,  82,  86,  90,  94,  98, 102, 106], dtype=int32)>"
            ]
          },
          "metadata": {},
          "execution_count": 83
        }
      ]
    },
    {
      "cell_type": "code",
      "source": [
        "# viz by plot if you are going to reuse functionality - good idea to create\n",
        "# a plotting function\n",
        "\n",
        "def plot_predictions(train_data=X_train,\n",
        "                     train_labels=y_train,\n",
        "                     test_data=X_test,\n",
        "                     test_labels=y_test,\n",
        "                     predictions=y_pred):\n",
        "  \"\"\"\n",
        "  Plots training data, test data and compares predictions top ground truth labels\n",
        "  \"\"\"\n",
        "  plt.figure(figsize=(10, 7))\n",
        "  # plot training data in blue\n",
        "  plt.scatter(train_data, train_labels, c=\"b\", label=\"Training Data\")\n",
        "  # plot test data in green\n",
        "  plt.scatter(test_data, test_labels, c=\"g\", label=\"Test Data\")\n",
        "  # add extra dataset - plot predictions in red\n",
        "  plt.scatter(test_data, predictions, c=\"r\", label=\"Predictions\")\n",
        "  # show a legend\n",
        "  plt.legend();"
      ],
      "metadata": {
        "id": "DwkEeEToW515"
      },
      "execution_count": null,
      "outputs": []
    },
    {
      "cell_type": "code",
      "source": [
        "plot_predictions()"
      ],
      "metadata": {
        "colab": {
          "base_uri": "https://localhost:8080/",
          "height": 599
        },
        "id": "TBWG2gM_ZZKV",
        "outputId": "61eb82da-c3bb-4883-a050-491072d6d9e8"
      },
      "execution_count": null,
      "outputs": [
        {
          "output_type": "display_data",
          "data": {
            "text/plain": [
              "<Figure size 1000x700 with 1 Axes>"
            ],
            "image/png": "[encoded data removed]"
          },
          "metadata": {}
        }
      ]
    },
    {
      "cell_type": "markdown",
      "source": [
        "#ON THE MONEY THIS TIME! I adjusted the Adam optimizer learning_rate to .01 from\n",
        "# .001\n",
        "\n",
        "# **This file has been renamed to 01_Neural_Network_Regression_with_Tensorflow-A.ipynb to relect the more accurate result** the file w/out -A is the original\n",
        "\n",
        "# https://github.com/flowmasterB/tensorflow-flowmasterB-teaching/blob/main/01_Neural_Network_Regression_with_Tensorflow-2nd-learning_rate-adjustment-to-.01.ipynb\n",
        "# the above link has the notebook w/ the immensely accurate prediction I made\n",
        "# using the Adam optimizer."
      ],
      "metadata": {
        "id": "53pfB_NLZfKB"
      }
    },
    {
      "cell_type": "markdown",
      "source": [
        "# Eval using regression eval methods/metrics to eval performance\n",
        "# 2 main eval metrics are mae(mean absolute error) aka 'on avg how wrong is the\n",
        "# prediction?' and mse(mean square error) aka 'square the avg errors'\n",
        "# mae = good for starter metrics on any regression model\n",
        "# mse = good for larger errors w/ more significance than smaller ones\n",
        "# huber = combo of mae & mse -- less sensitive to outliers than mse"
      ],
      "metadata": {
        "id": "vlaNRCXibHQK"
      }
    },
    {
      "cell_type": "code",
      "source": [
        "# eval model on testset\n",
        "model.evaluate(X_test, y_test)"
      ],
      "metadata": {
        "colab": {
          "base_uri": "https://localhost:8080/"
        },
        "id": "7PYPru9-lJpm",
        "outputId": "2978a5dc-f602-4c49-c87b-1c30760eb239"
      },
      "execution_count": null,
      "outputs": [
        {
          "output_type": "stream",
          "name": "stdout",
          "text": [
            "1/1 [==============================] - 0s 343ms/step - loss: 0.1697 - mae: 0.1697\n"
          ]
        },
        {
          "output_type": "execute_result",
          "data": {
            "text/plain": [
              "[0.16974182426929474, 0.16974182426929474]"
            ]
          },
          "metadata": {},
          "execution_count": 87
        }
      ]
    },
    {
      "cell_type": "code",
      "source": [
        "# calc the mean absolute error - mae\n",
        "mae = tf.metrics.mean_absolute_error(y_true=y_test,\n",
        "                                     y_pred=tf.constant(y_pred))\n",
        "mae"
      ],
      "metadata": {
        "colab": {
          "base_uri": "https://localhost:8080/"
        },
        "id": "NcyyO50Cwu93",
        "outputId": "bf0a654b-c247-43d8-f70e-69d5f58d7955"
      },
      "execution_count": null,
      "outputs": [
        {
          "output_type": "execute_result",
          "data": {
            "text/plain": [
              "<tf.Tensor: shape=(10,), dtype=float32, numpy=\n",
              "array([18.059181 , 14.866999 , 12.4649935, 10.853152 , 10.031492 ,\n",
              "       10.       , 10.75868  , 12.307535 , 14.646563 , 17.775763 ],\n",
              "      dtype=float32)>"
            ]
          },
          "metadata": {},
          "execution_count": 93
        }
      ]
    },
    {
      "cell_type": "code",
      "source": [
        "tf.constant(y_pred) # shape is going to be prob -- need (10, ) not (10,1)"
      ],
      "metadata": {
        "colab": {
          "base_uri": "https://localhost:8080/"
        },
        "id": "Tm0jI7KBwGkA",
        "outputId": "3cafaee6-e00e-49a3-da4a-a7629cea6051"
      },
      "execution_count": null,
      "outputs": [
        {
          "output_type": "execute_result",
          "data": {
            "text/plain": [
              "<tf.Tensor: shape=(10, 1), dtype=float32, numpy=\n",
              "array([[ 69.94082],\n",
              "       [ 73.91625],\n",
              "       [ 77.89168],\n",
              "       [ 81.86712],\n",
              "       [ 85.84254],\n",
              "       [ 89.81798],\n",
              "       [ 93.7934 ],\n",
              "       [ 97.76884],\n",
              "       [101.74427],\n",
              "       [105.7197 ]], dtype=float32)>"
            ]
          },
          "metadata": {},
          "execution_count": 105
        }
      ]
    },
    {
      "cell_type": "code",
      "source": [
        "y_test"
      ],
      "metadata": {
        "colab": {
          "base_uri": "https://localhost:8080/"
        },
        "id": "D-4mD62IwrjX",
        "outputId": "1107025a-294b-48ec-ee30-24b15b463bc0"
      },
      "execution_count": null,
      "outputs": [
        {
          "output_type": "execute_result",
          "data": {
            "text/plain": [
              "<tf.Tensor: shape=(10,), dtype=int32, numpy=array([ 70,  74,  78,  82,  86,  90,  94,  98, 102, 106], dtype=int32)>"
            ]
          },
          "metadata": {},
          "execution_count": 106
        }
      ]
    },
    {
      "cell_type": "code",
      "source": [
        "tf.squeeze(y_pred)"
      ],
      "metadata": {
        "colab": {
          "base_uri": "https://localhost:8080/"
        },
        "id": "afP1CysN0Mwc",
        "outputId": "6e62063f-b54f-4410-b1e9-5318ba7b6bc3"
      },
      "execution_count": null,
      "outputs": [
        {
          "output_type": "execute_result",
          "data": {
            "text/plain": [
              "<tf.Tensor: shape=(10,), dtype=float32, numpy=\n",
              "array([ 69.94082,  73.91625,  77.89168,  81.86712,  85.84254,  89.81798,\n",
              "        93.7934 ,  97.76884, 101.74427, 105.7197 ], dtype=float32)>"
            ]
          },
          "metadata": {},
          "execution_count": 107
        }
      ]
    },
    {
      "cell_type": "code",
      "source": [
        "# calculate mae\n",
        "mae = tf.metrics.mean_absolute_error(y_true=y_test,\n",
        "                                     y_pred=tf.squeeze(y_pred)) # squeeze to\n",
        "                                     # get same shape tensors - (10, )\n",
        "mae"
      ],
      "metadata": {
        "colab": {
          "base_uri": "https://localhost:8080/"
        },
        "id": "0_NTmpLc3LFL",
        "outputId": "6d07325f-dbb4-496d-cf03-e12af05c8b80"
      },
      "execution_count": null,
      "outputs": [
        {
          "output_type": "execute_result",
          "data": {
            "text/plain": [
              "<tf.Tensor: shape=(), dtype=float32, numpy=0.16974029>"
            ]
          },
          "metadata": {},
          "execution_count": 112
        }
      ]
    },
    {
      "cell_type": "code",
      "source": [
        "# calc mse mean square error\n",
        "mse = tf.metrics.mean_squared_error(y_true=y_test,\n",
        "                                    y_pred=tf.squeeze(y_pred))\n",
        "mse"
      ],
      "metadata": {
        "colab": {
          "base_uri": "https://localhost:8080/"
        },
        "id": "mTVPv0Ji3Ov-",
        "outputId": "3f2d8de6-f637-42f0-ccda-adeda9d58d4a"
      },
      "execution_count": null,
      "outputs": [
        {
          "output_type": "execute_result",
          "data": {
            "text/plain": [
              "<tf.Tensor: shape=(), dtype=float32, numpy=0.033791594>"
            ]
          },
          "metadata": {},
          "execution_count": 113
        }
      ]
    },
    {
      "cell_type": "code",
      "source": [
        "# make some functions to reuse MAE and MSE\n",
        "def mae(y_true, y_pred):\n",
        "  return tf.metrics.mean_absolute_error(y_true=y_test,\n",
        "                                        y_pred=tf.squeeze(y_pred))\n",
        "\n",
        "def mse(y_true, y_pred):\n",
        "  return tf.metrics.mean_squared_error(y_true=y_test,\n",
        "                                        y_pred=tf.squeeze(y_pred))"
      ],
      "metadata": {
        "id": "_3FMbxil4ztM"
      },
      "execution_count": null,
      "outputs": []
    },
    {
      "cell_type": "markdown",
      "source": [
        "# **Running experiments to improve model performance**\n",
        "## Remember: in practice, typical workflow is as follows when building neural networks:\n",
        "## Build a model --> fit --> evaluate it --> tweak it --> fit it --> eval --\n",
        "## tweak --> fit --> eval...\n",
        "## Most important -- visualize, visualize visualize in a ML explorer role"
      ],
      "metadata": {
        "id": "l-0GKT5A7zFD"
      }
    },
    {
      "cell_type": "markdown",
      "source": [
        "# ML practioner role the motto is:\n",
        "# **EXPERIMENT EXPERIMENT EXPERIMENT**\n",
        "# Start with small experiments - small models - verify they work - increase scale/complexity when necessaery.\n",
        "## 1. get more data - get more examples for your model to train - more opportunities to learn patterns or relationships between features and labels.\n",
        "## 2. make model larger - using more complex model -- more layers, hidden units in each layer.\n",
        "## 3. Train model longer -- more chances\n",
        "## Let's do 3 diff model experiments:\n",
        "##    a. model 1 - original model - 1 layer - trained for 100 epochs\n",
        "##    b. model 2 -- 2 layers -- 100 epochs\n",
        "##    c. model 3 -- 2 layers -- 500 epochs"
      ],
      "metadata": {
        "id": "DI4NEdQr8rIB"
      }
    },
    {
      "cell_type": "code",
      "source": [
        "# let's build model 1 - set seed\n",
        "tf.random.set_seed(42)\n",
        "\n",
        "# create model\n",
        "model = tf.keras.Sequential([\n",
        "    tf.keras.layers.Dense(1)\n",
        "], name=\"Experiment_1\")\n",
        "\n",
        "# complie model\n",
        "model.compile(loss=tf.keras.losses.mae,\n",
        "              optimizer=tf.keras.optimizers.SGD(),\n",
        "              metrics=[\"mae\"])\n",
        "\n",
        "# fit model\n",
        "model.fit(tf.expand_dims(X_train, axis=1), y_train, epochs=100)"
      ],
      "metadata": {
        "colab": {
          "base_uri": "https://localhost:8080/"
        },
        "id": "WzecldaGBgpA",
        "outputId": "011e6d5c-b60c-41f8-ebc4-632f398a24d7"
      },
      "execution_count": null,
      "outputs": [
        {
          "output_type": "stream",
          "name": "stdout",
          "text": [
            "Epoch 1/100\n",
            "2/2 [==============================] - 0s 11ms/step - loss: 98.8346 - mae: 98.8346\n",
            "Epoch 2/100\n",
            "2/2 [==============================] - 0s 8ms/step - loss: 63.3791 - mae: 63.3791\n",
            "Epoch 3/100\n",
            "2/2 [==============================] - 0s 8ms/step - loss: 26.2398 - mae: 26.2398\n",
            "Epoch 4/100\n",
            "2/2 [==============================] - 0s 9ms/step - loss: 11.3902 - mae: 11.3902\n",
            "Epoch 5/100\n",
            "2/2 [==============================] - 0s 8ms/step - loss: 12.6576 - mae: 12.6576\n",
            "Epoch 6/100\n",
            "2/2 [==============================] - 0s 7ms/step - loss: 9.7957 - mae: 9.7957\n",
            "Epoch 7/100\n",
            "2/2 [==============================] - 0s 10ms/step - loss: 8.8798 - mae: 8.8798\n",
            "Epoch 8/100\n",
            "2/2 [==============================] - 0s 6ms/step - loss: 9.0976 - mae: 9.0976\n",
            "Epoch 9/100\n",
            "2/2 [==============================] - 0s 7ms/step - loss: 19.4728 - mae: 19.4728\n",
            "Epoch 10/100\n",
            "2/2 [==============================] - 0s 9ms/step - loss: 10.5357 - mae: 10.5357\n",
            "Epoch 11/100\n",
            "2/2 [==============================] - 0s 6ms/step - loss: 8.5794 - mae: 8.5794\n",
            "Epoch 12/100\n",
            "2/2 [==============================] - 0s 10ms/step - loss: 11.0313 - mae: 11.0313\n",
            "Epoch 13/100\n",
            "2/2 [==============================] - 0s 8ms/step - loss: 7.6076 - mae: 7.6076\n",
            "Epoch 14/100\n",
            "2/2 [==============================] - 0s 10ms/step - loss: 15.9357 - mae: 15.9357\n",
            "Epoch 15/100\n",
            "2/2 [==============================] - 0s 7ms/step - loss: 13.0121 - mae: 13.0121\n",
            "Epoch 16/100\n",
            "2/2 [==============================] - 0s 7ms/step - loss: 7.9603 - mae: 7.9603\n",
            "Epoch 17/100\n",
            "2/2 [==============================] - 0s 7ms/step - loss: 11.2089 - mae: 11.2089\n",
            "Epoch 18/100\n",
            "2/2 [==============================] - 0s 8ms/step - loss: 10.3439 - mae: 10.3439\n",
            "Epoch 19/100\n",
            "2/2 [==============================] - 0s 7ms/step - loss: 19.4556 - mae: 19.4556\n",
            "Epoch 20/100\n",
            "2/2 [==============================] - 0s 8ms/step - loss: 16.1132 - mae: 16.1132\n",
            "Epoch 21/100\n",
            "2/2 [==============================] - 0s 7ms/step - loss: 12.0221 - mae: 12.0221\n",
            "Epoch 22/100\n",
            "2/2 [==============================] - 0s 7ms/step - loss: 8.6276 - mae: 8.6276\n",
            "Epoch 23/100\n",
            "2/2 [==============================] - 0s 8ms/step - loss: 9.7315 - mae: 9.7315\n",
            "Epoch 24/100\n",
            "2/2 [==============================] - 0s 8ms/step - loss: 10.9860 - mae: 10.9860\n",
            "Epoch 25/100\n",
            "2/2 [==============================] - 0s 7ms/step - loss: 9.1898 - mae: 9.1898\n",
            "Epoch 26/100\n",
            "2/2 [==============================] - 0s 7ms/step - loss: 13.2236 - mae: 13.2236\n",
            "Epoch 27/100\n",
            "2/2 [==============================] - 0s 7ms/step - loss: 10.6954 - mae: 10.6954\n",
            "Epoch 28/100\n",
            "2/2 [==============================] - 0s 7ms/step - loss: 12.9183 - mae: 12.9183\n",
            "Epoch 29/100\n",
            "2/2 [==============================] - 0s 8ms/step - loss: 9.5375 - mae: 9.5375\n",
            "Epoch 30/100\n",
            "2/2 [==============================] - 0s 7ms/step - loss: 16.4424 - mae: 16.4424\n",
            "Epoch 31/100\n",
            "2/2 [==============================] - 0s 6ms/step - loss: 23.5707 - mae: 23.5707\n",
            "Epoch 32/100\n",
            "2/2 [==============================] - 0s 6ms/step - loss: 7.6339 - mae: 7.6339\n",
            "Epoch 33/100\n",
            "2/2 [==============================] - 0s 12ms/step - loss: 9.3295 - mae: 9.3295\n",
            "Epoch 34/100\n",
            "2/2 [==============================] - 0s 8ms/step - loss: 13.6927 - mae: 13.6927\n",
            "Epoch 35/100\n",
            "2/2 [==============================] - 0s 7ms/step - loss: 11.1855 - mae: 11.1855\n",
            "Epoch 36/100\n",
            "2/2 [==============================] - 0s 7ms/step - loss: 13.4077 - mae: 13.4077\n",
            "Epoch 37/100\n",
            "2/2 [==============================] - 0s 7ms/step - loss: 9.4742 - mae: 9.4742\n",
            "Epoch 38/100\n",
            "2/2 [==============================] - 0s 7ms/step - loss: 10.1261 - mae: 10.1261\n",
            "Epoch 39/100\n",
            "2/2 [==============================] - 0s 8ms/step - loss: 9.0013 - mae: 9.0013\n",
            "Epoch 40/100\n",
            "2/2 [==============================] - 0s 7ms/step - loss: 9.6310 - mae: 9.6310\n",
            "Epoch 41/100\n",
            "2/2 [==============================] - 0s 7ms/step - loss: 10.5917 - mae: 10.5917\n",
            "Epoch 42/100\n",
            "2/2 [==============================] - 0s 7ms/step - loss: 10.6465 - mae: 10.6465\n",
            "Epoch 43/100\n",
            "2/2 [==============================] - 0s 7ms/step - loss: 7.2346 - mae: 7.2346\n",
            "Epoch 44/100\n",
            "2/2 [==============================] - 0s 7ms/step - loss: 8.0416 - mae: 8.0416\n",
            "Epoch 45/100\n",
            "2/2 [==============================] - 0s 9ms/step - loss: 9.8463 - mae: 9.8463\n",
            "Epoch 46/100\n",
            "2/2 [==============================] - 0s 7ms/step - loss: 8.9262 - mae: 8.9262\n",
            "Epoch 47/100\n",
            "2/2 [==============================] - 0s 7ms/step - loss: 7.5886 - mae: 7.5886\n",
            "Epoch 48/100\n",
            "2/2 [==============================] - 0s 7ms/step - loss: 8.5472 - mae: 8.5472\n",
            "Epoch 49/100\n",
            "2/2 [==============================] - 0s 7ms/step - loss: 10.0591 - mae: 10.0591\n",
            "Epoch 50/100\n",
            "2/2 [==============================] - 0s 7ms/step - loss: 8.9922 - mae: 8.9922\n",
            "Epoch 51/100\n",
            "2/2 [==============================] - 0s 7ms/step - loss: 10.7371 - mae: 10.7371\n",
            "Epoch 52/100\n",
            "2/2 [==============================] - 0s 7ms/step - loss: 15.2724 - mae: 15.2724\n",
            "Epoch 53/100\n",
            "2/2 [==============================] - 0s 7ms/step - loss: 14.3025 - mae: 14.3025\n",
            "Epoch 54/100\n",
            "2/2 [==============================] - 0s 7ms/step - loss: 21.5415 - mae: 21.5415\n",
            "Epoch 55/100\n",
            "2/2 [==============================] - 0s 8ms/step - loss: 16.0712 - mae: 16.0712\n",
            "Epoch 56/100\n",
            "2/2 [==============================] - 0s 8ms/step - loss: 10.2535 - mae: 10.2535\n",
            "Epoch 57/100\n",
            "2/2 [==============================] - 0s 9ms/step - loss: 9.8227 - mae: 9.8227\n",
            "Epoch 58/100\n",
            "2/2 [==============================] - 0s 8ms/step - loss: 9.1050 - mae: 9.1050\n",
            "Epoch 59/100\n",
            "2/2 [==============================] - 0s 11ms/step - loss: 8.3062 - mae: 8.3062\n",
            "Epoch 60/100\n",
            "2/2 [==============================] - 0s 9ms/step - loss: 9.4001 - mae: 9.4001\n",
            "Epoch 61/100\n",
            "2/2 [==============================] - 0s 7ms/step - loss: 11.2332 - mae: 11.2332\n",
            "Epoch 62/100\n",
            "2/2 [==============================] - 0s 8ms/step - loss: 11.9586 - mae: 11.9586\n",
            "Epoch 63/100\n",
            "2/2 [==============================] - 0s 8ms/step - loss: 7.9162 - mae: 7.9162\n",
            "Epoch 64/100\n",
            "2/2 [==============================] - 0s 6ms/step - loss: 14.2674 - mae: 14.2674\n",
            "Epoch 65/100\n",
            "2/2 [==============================] - 0s 7ms/step - loss: 10.5844 - mae: 10.5844\n",
            "Epoch 66/100\n",
            "2/2 [==============================] - 0s 8ms/step - loss: 11.2695 - mae: 11.2695\n",
            "Epoch 67/100\n",
            "2/2 [==============================] - 0s 7ms/step - loss: 7.0767 - mae: 7.0767\n",
            "Epoch 68/100\n",
            "2/2 [==============================] - 0s 8ms/step - loss: 8.9176 - mae: 8.9176\n",
            "Epoch 69/100\n",
            "2/2 [==============================] - 0s 6ms/step - loss: 10.4881 - mae: 10.4881\n",
            "Epoch 70/100\n",
            "2/2 [==============================] - 0s 9ms/step - loss: 7.8738 - mae: 7.8738\n",
            "Epoch 71/100\n",
            "2/2 [==============================] - 0s 7ms/step - loss: 11.3893 - mae: 11.3893\n",
            "Epoch 72/100\n",
            "2/2 [==============================] - 0s 7ms/step - loss: 9.5755 - mae: 9.5755\n",
            "Epoch 73/100\n",
            "2/2 [==============================] - 0s 6ms/step - loss: 11.6876 - mae: 11.6876\n",
            "Epoch 74/100\n",
            "2/2 [==============================] - 0s 7ms/step - loss: 10.7382 - mae: 10.7382\n",
            "Epoch 75/100\n",
            "2/2 [==============================] - 0s 7ms/step - loss: 9.5748 - mae: 9.5748\n",
            "Epoch 76/100\n",
            "2/2 [==============================] - 0s 8ms/step - loss: 11.0243 - mae: 11.0243\n",
            "Epoch 77/100\n",
            "2/2 [==============================] - 0s 7ms/step - loss: 11.0972 - mae: 11.0972\n",
            "Epoch 78/100\n",
            "2/2 [==============================] - 0s 7ms/step - loss: 11.5853 - mae: 11.5853\n",
            "Epoch 79/100\n",
            "2/2 [==============================] - 0s 7ms/step - loss: 15.6255 - mae: 15.6255\n",
            "Epoch 80/100\n",
            "2/2 [==============================] - 0s 7ms/step - loss: 11.5951 - mae: 11.5951\n",
            "Epoch 81/100\n",
            "2/2 [==============================] - 0s 7ms/step - loss: 9.4846 - mae: 9.4846\n",
            "Epoch 82/100\n",
            "2/2 [==============================] - 0s 7ms/step - loss: 12.5826 - mae: 12.5826\n",
            "Epoch 83/100\n",
            "2/2 [==============================] - 0s 7ms/step - loss: 8.1833 - mae: 8.1833\n",
            "Epoch 84/100\n",
            "2/2 [==============================] - 0s 7ms/step - loss: 7.5565 - mae: 7.5565\n",
            "Epoch 85/100\n",
            "2/2 [==============================] - 0s 7ms/step - loss: 9.7399 - mae: 9.7399\n",
            "Epoch 86/100\n",
            "2/2 [==============================] - 0s 7ms/step - loss: 9.0495 - mae: 9.0495\n",
            "Epoch 87/100\n",
            "2/2 [==============================] - 0s 6ms/step - loss: 11.6797 - mae: 11.6797\n",
            "Epoch 88/100\n",
            "2/2 [==============================] - 0s 9ms/step - loss: 10.2798 - mae: 10.2798\n",
            "Epoch 89/100\n",
            "2/2 [==============================] - 0s 7ms/step - loss: 6.7606 - mae: 6.7606\n",
            "Epoch 90/100\n",
            "2/2 [==============================] - 0s 7ms/step - loss: 8.1193 - mae: 8.1193\n",
            "Epoch 91/100\n",
            "2/2 [==============================] - 0s 6ms/step - loss: 6.7627 - mae: 6.7627\n",
            "Epoch 92/100\n",
            "2/2 [==============================] - 0s 7ms/step - loss: 10.2090 - mae: 10.2090\n",
            "Epoch 93/100\n",
            "2/2 [==============================] - 0s 6ms/step - loss: 7.5888 - mae: 7.5888\n",
            "Epoch 94/100\n",
            "2/2 [==============================] - 0s 7ms/step - loss: 9.2181 - mae: 9.2181\n",
            "Epoch 95/100\n",
            "2/2 [==============================] - 0s 6ms/step - loss: 10.7735 - mae: 10.7735\n",
            "Epoch 96/100\n",
            "2/2 [==============================] - 0s 9ms/step - loss: 10.3820 - mae: 10.3820\n",
            "Epoch 97/100\n",
            "2/2 [==============================] - 0s 7ms/step - loss: 7.6476 - mae: 7.6476\n",
            "Epoch 98/100\n",
            "2/2 [==============================] - 0s 7ms/step - loss: 8.5902 - mae: 8.5902\n",
            "Epoch 99/100\n",
            "2/2 [==============================] - 0s 7ms/step - loss: 9.3623 - mae: 9.3623\n",
            "Epoch 100/100\n",
            "2/2 [==============================] - 0s 11ms/step - loss: 8.8250 - mae: 8.8250\n"
          ]
        },
        {
          "output_type": "execute_result",
          "data": {
            "text/plain": [
              "<keras.src.callbacks.History at 0x7de991244ac0>"
            ]
          },
          "metadata": {},
          "execution_count": 120
        }
      ]
    },
    {
      "cell_type": "code",
      "source": [
        "y_preds = model.predict(X_test)\n",
        "plot_predictions(predictions=y_preds)"
      ],
      "metadata": {
        "colab": {
          "base_uri": "https://localhost:8080/",
          "height": 616
        },
        "id": "vSiPzL5eWH9q",
        "outputId": "3e9b1f32-5472-4e29-8b87-3d0ded87bcf3"
      },
      "execution_count": null,
      "outputs": [
        {
          "output_type": "stream",
          "name": "stdout",
          "text": [
            "1/1 [==============================] - 0s 81ms/step\n"
          ]
        },
        {
          "output_type": "display_data",
          "data": {
            "text/plain": [
              "<Figure size 1000x700 with 1 Axes>"
            ],
            "image/png": "[encoded data removed]"
          },
          "metadata": {}
        }
      ]
    },
    {
      "cell_type": "code",
      "source": [
        "# Not so good\n",
        "# calculate model eval metrics\n",
        "mae_exp1 = mae(y_test, y_preds).numpy() # we used the tf.squeeze function in the def\n",
        "mse_exp1 = mse(y_test, y_preds).numpy() # use numpy for reason below - pandas\n",
        "                                          # DataFrame below\n",
        "print(mae_exp1)\n",
        "print(\"\\n\")\n",
        "print(mse_exp1)"
      ],
      "metadata": {
        "colab": {
          "base_uri": "https://localhost:8080/"
        },
        "id": "Fd-1eTNFYeC6",
        "outputId": "3ee575bd-ff1d-41ad-afe5-4a6e5d404ba6"
      },
      "execution_count": null,
      "outputs": [
        {
          "output_type": "stream",
          "name": "stdout",
          "text": [
            "8.349749\n",
            "\n",
            "\n",
            "76.03729\n"
          ]
        }
      ]
    },
    {
      "cell_type": "code",
      "source": [
        "# result is auto squeezed!\n",
        "# let's do model 2 - 2 dense layers -- 10 hidden units - 100 epochs\n",
        "tf.random.set_seed(42)\n",
        "model_2 = tf.keras.Sequential([\n",
        "    tf.keras.layers.Dense(10),\n",
        "    tf.keras.layers.Dense(1)\n",
        "])\n",
        "\n",
        "model_2.compile(loss=tf.keras.losses.mae,\n",
        "                optimizer=tf.keras.optimizers.SGD(),\n",
        "                metrics=[\"mae\"])\n",
        "model_2.fit(tf.expand_dims(X_train, axis=1), y_train, epochs=100)"
      ],
      "metadata": {
        "colab": {
          "base_uri": "https://localhost:8080/"
        },
        "id": "HWIlfzUtY6rL",
        "outputId": "98914888-e560-409c-bca6-980aa21cbf5e"
      },
      "execution_count": null,
      "outputs": [
        {
          "output_type": "stream",
          "name": "stdout",
          "text": [
            "Epoch 1/100\n",
            "2/2 [==============================] - 0s 13ms/step - loss: 31.0583 - mae: 31.0583\n",
            "Epoch 2/100\n",
            "2/2 [==============================] - 0s 7ms/step - loss: 26.6623 - mae: 26.6623\n",
            "Epoch 3/100\n",
            "2/2 [==============================] - 0s 9ms/step - loss: 32.2662 - mae: 32.2662\n",
            "Epoch 4/100\n",
            "2/2 [==============================] - 0s 7ms/step - loss: 25.3641 - mae: 25.3641\n",
            "Epoch 5/100\n",
            "2/2 [==============================] - 0s 7ms/step - loss: 14.9878 - mae: 14.9878\n",
            "Epoch 6/100\n",
            "2/2 [==============================] - 0s 6ms/step - loss: 11.9168 - mae: 11.9168\n",
            "Epoch 7/100\n",
            "2/2 [==============================] - 0s 8ms/step - loss: 11.2354 - mae: 11.2354\n",
            "Epoch 8/100\n",
            "2/2 [==============================] - 0s 7ms/step - loss: 11.1132 - mae: 11.1132\n",
            "Epoch 9/100\n",
            "2/2 [==============================] - 0s 8ms/step - loss: 40.6604 - mae: 40.6604\n",
            "Epoch 10/100\n",
            "2/2 [==============================] - 0s 7ms/step - loss: 28.0278 - mae: 28.0278\n",
            "Epoch 11/100\n",
            "2/2 [==============================] - 0s 7ms/step - loss: 10.2518 - mae: 10.2518\n",
            "Epoch 12/100\n",
            "2/2 [==============================] - 0s 7ms/step - loss: 25.2405 - mae: 25.2405\n",
            "Epoch 13/100\n",
            "2/2 [==============================] - 0s 7ms/step - loss: 17.0637 - mae: 17.0637\n",
            "Epoch 14/100\n",
            "2/2 [==============================] - 0s 10ms/step - loss: 26.0518 - mae: 26.0518\n",
            "Epoch 15/100\n",
            "2/2 [==============================] - 0s 6ms/step - loss: 18.1008 - mae: 18.1008\n",
            "Epoch 16/100\n",
            "2/2 [==============================] - 0s 8ms/step - loss: 7.8636 - mae: 7.8636\n",
            "Epoch 17/100\n",
            "2/2 [==============================] - 0s 7ms/step - loss: 22.2105 - mae: 22.2105\n",
            "Epoch 18/100\n",
            "2/2 [==============================] - 0s 6ms/step - loss: 10.8259 - mae: 10.8259\n",
            "Epoch 19/100\n",
            "2/2 [==============================] - 0s 10ms/step - loss: 10.7128 - mae: 10.7128\n",
            "Epoch 20/100\n",
            "2/2 [==============================] - 0s 6ms/step - loss: 12.0341 - mae: 12.0341\n",
            "Epoch 21/100\n",
            "2/2 [==============================] - 0s 6ms/step - loss: 20.1190 - mae: 20.1190\n",
            "Epoch 22/100\n",
            "2/2 [==============================] - 0s 7ms/step - loss: 13.7720 - mae: 13.7720\n",
            "Epoch 23/100\n",
            "2/2 [==============================] - 0s 7ms/step - loss: 9.5286 - mae: 9.5286\n",
            "Epoch 24/100\n",
            "2/2 [==============================] - 0s 7ms/step - loss: 11.8838 - mae: 11.8838\n",
            "Epoch 25/100\n",
            "2/2 [==============================] - 0s 6ms/step - loss: 16.1732 - mae: 16.1732\n",
            "Epoch 26/100\n",
            "2/2 [==============================] - 0s 6ms/step - loss: 16.3669 - mae: 16.3669\n",
            "Epoch 27/100\n",
            "2/2 [==============================] - 0s 6ms/step - loss: 11.5787 - mae: 11.5787\n",
            "Epoch 28/100\n",
            "2/2 [==============================] - 0s 6ms/step - loss: 29.9102 - mae: 29.9102\n",
            "Epoch 29/100\n",
            "2/2 [==============================] - 0s 7ms/step - loss: 9.2544 - mae: 9.2544\n",
            "Epoch 30/100\n",
            "2/2 [==============================] - 0s 6ms/step - loss: 30.4709 - mae: 30.4709\n",
            "Epoch 31/100\n",
            "2/2 [==============================] - 0s 6ms/step - loss: 55.3832 - mae: 55.3832\n",
            "Epoch 32/100\n",
            "2/2 [==============================] - 0s 6ms/step - loss: 9.7172 - mae: 9.7172\n",
            "Epoch 33/100\n",
            "2/2 [==============================] - 0s 7ms/step - loss: 12.3331 - mae: 12.3331\n",
            "Epoch 34/100\n",
            "2/2 [==============================] - 0s 7ms/step - loss: 24.6258 - mae: 24.6258\n",
            "Epoch 35/100\n",
            "2/2 [==============================] - 0s 7ms/step - loss: 11.9299 - mae: 11.9299\n",
            "Epoch 36/100\n",
            "2/2 [==============================] - 0s 8ms/step - loss: 22.1323 - mae: 22.1323\n",
            "Epoch 37/100\n",
            "2/2 [==============================] - 0s 6ms/step - loss: 17.5117 - mae: 17.5117\n",
            "Epoch 38/100\n",
            "2/2 [==============================] - 0s 6ms/step - loss: 10.7122 - mae: 10.7122\n",
            "Epoch 39/100\n",
            "2/2 [==============================] - 0s 6ms/step - loss: 11.2290 - mae: 11.2290\n",
            "Epoch 40/100\n",
            "2/2 [==============================] - 0s 6ms/step - loss: 18.1619 - mae: 18.1619\n",
            "Epoch 41/100\n",
            "2/2 [==============================] - 0s 6ms/step - loss: 10.4699 - mae: 10.4699\n",
            "Epoch 42/100\n",
            "2/2 [==============================] - 0s 7ms/step - loss: 7.8405 - mae: 7.8405\n",
            "Epoch 43/100\n",
            "2/2 [==============================] - 0s 7ms/step - loss: 14.1774 - mae: 14.1774\n",
            "Epoch 44/100\n",
            "2/2 [==============================] - 0s 7ms/step - loss: 24.8896 - mae: 24.8896\n",
            "Epoch 45/100\n",
            "2/2 [==============================] - 0s 6ms/step - loss: 10.9353 - mae: 10.9353\n",
            "Epoch 46/100\n",
            "2/2 [==============================] - 0s 6ms/step - loss: 13.0120 - mae: 13.0120\n",
            "Epoch 47/100\n",
            "2/2 [==============================] - 0s 6ms/step - loss: 10.4508 - mae: 10.4508\n",
            "Epoch 48/100\n",
            "2/2 [==============================] - 0s 6ms/step - loss: 17.1809 - mae: 17.1809\n",
            "Epoch 49/100\n",
            "2/2 [==============================] - 0s 6ms/step - loss: 9.6110 - mae: 9.6110\n",
            "Epoch 50/100\n",
            "2/2 [==============================] - 0s 8ms/step - loss: 13.8834 - mae: 13.8834\n",
            "Epoch 51/100\n",
            "2/2 [==============================] - 0s 6ms/step - loss: 11.6222 - mae: 11.6222\n",
            "Epoch 52/100\n",
            "2/2 [==============================] - 0s 7ms/step - loss: 30.7044 - mae: 30.7044\n",
            "Epoch 53/100\n",
            "2/2 [==============================] - 0s 7ms/step - loss: 14.4215 - mae: 14.4215\n",
            "Epoch 54/100\n",
            "2/2 [==============================] - 0s 6ms/step - loss: 24.0876 - mae: 24.0876\n",
            "Epoch 55/100\n",
            "2/2 [==============================] - 0s 6ms/step - loss: 23.3211 - mae: 23.3211\n",
            "Epoch 56/100\n",
            "2/2 [==============================] - 0s 7ms/step - loss: 10.9271 - mae: 10.9271\n",
            "Epoch 57/100\n",
            "2/2 [==============================] - 0s 7ms/step - loss: 12.8016 - mae: 12.8016\n",
            "Epoch 58/100\n",
            "2/2 [==============================] - 0s 7ms/step - loss: 9.6323 - mae: 9.6323\n",
            "Epoch 59/100\n",
            "2/2 [==============================] - 0s 6ms/step - loss: 12.5685 - mae: 12.5685\n",
            "Epoch 60/100\n",
            "2/2 [==============================] - 0s 7ms/step - loss: 12.3694 - mae: 12.3694\n",
            "Epoch 61/100\n",
            "2/2 [==============================] - 0s 7ms/step - loss: 13.2690 - mae: 13.2690\n",
            "Epoch 62/100\n",
            "2/2 [==============================] - 0s 7ms/step - loss: 17.1229 - mae: 17.1229\n",
            "Epoch 63/100\n",
            "2/2 [==============================] - 0s 8ms/step - loss: 9.0692 - mae: 9.0692\n",
            "Epoch 64/100\n",
            "2/2 [==============================] - 0s 8ms/step - loss: 17.7630 - mae: 17.7630\n",
            "Epoch 65/100\n",
            "2/2 [==============================] - 0s 10ms/step - loss: 10.5439 - mae: 10.5439\n",
            "Epoch 66/100\n",
            "2/2 [==============================] - 0s 7ms/step - loss: 21.2527 - mae: 21.2527\n",
            "Epoch 67/100\n",
            "2/2 [==============================] - 0s 8ms/step - loss: 10.5424 - mae: 10.5424\n",
            "Epoch 68/100\n",
            "2/2 [==============================] - 0s 7ms/step - loss: 14.4027 - mae: 14.4027\n",
            "Epoch 69/100\n",
            "2/2 [==============================] - 0s 7ms/step - loss: 10.6345 - mae: 10.6345\n",
            "Epoch 70/100\n",
            "2/2 [==============================] - 0s 7ms/step - loss: 12.7209 - mae: 12.7209\n",
            "Epoch 71/100\n",
            "2/2 [==============================] - 0s 7ms/step - loss: 13.1483 - mae: 13.1483\n",
            "Epoch 72/100\n",
            "2/2 [==============================] - 0s 7ms/step - loss: 19.6657 - mae: 19.6657\n",
            "Epoch 73/100\n",
            "2/2 [==============================] - 0s 7ms/step - loss: 11.2084 - mae: 11.2084\n",
            "Epoch 74/100\n",
            "2/2 [==============================] - 0s 6ms/step - loss: 21.9495 - mae: 21.9495\n",
            "Epoch 75/100\n",
            "2/2 [==============================] - 0s 7ms/step - loss: 7.1944 - mae: 7.1944\n",
            "Epoch 76/100\n",
            "2/2 [==============================] - 0s 7ms/step - loss: 9.4164 - mae: 9.4164\n",
            "Epoch 77/100\n",
            "2/2 [==============================] - 0s 7ms/step - loss: 22.0357 - mae: 22.0357\n",
            "Epoch 78/100\n",
            "2/2 [==============================] - 0s 7ms/step - loss: 17.7257 - mae: 17.7257\n",
            "Epoch 79/100\n",
            "2/2 [==============================] - 0s 7ms/step - loss: 14.8815 - mae: 14.8815\n",
            "Epoch 80/100\n",
            "2/2 [==============================] - 0s 7ms/step - loss: 25.2168 - mae: 25.2168\n",
            "Epoch 81/100\n",
            "2/2 [==============================] - 0s 7ms/step - loss: 10.9498 - mae: 10.9498\n",
            "Epoch 82/100\n",
            "2/2 [==============================] - 0s 11ms/step - loss: 12.7346 - mae: 12.7346\n",
            "Epoch 83/100\n",
            "2/2 [==============================] - 0s 7ms/step - loss: 17.5023 - mae: 17.5023\n",
            "Epoch 84/100\n",
            "2/2 [==============================] - 0s 7ms/step - loss: 7.2882 - mae: 7.2882\n",
            "Epoch 85/100\n",
            "2/2 [==============================] - 0s 7ms/step - loss: 15.0295 - mae: 15.0295\n",
            "Epoch 86/100\n",
            "2/2 [==============================] - 0s 7ms/step - loss: 15.3392 - mae: 15.3392\n",
            "Epoch 87/100\n",
            "2/2 [==============================] - 0s 7ms/step - loss: 19.2113 - mae: 19.2113\n",
            "Epoch 88/100\n",
            "2/2 [==============================] - 0s 8ms/step - loss: 29.5570 - mae: 29.5570\n",
            "Epoch 89/100\n",
            "2/2 [==============================] - 0s 7ms/step - loss: 10.1460 - mae: 10.1460\n",
            "Epoch 90/100\n",
            "2/2 [==============================] - 0s 7ms/step - loss: 21.3009 - mae: 21.3009\n",
            "Epoch 91/100\n",
            "2/2 [==============================] - 0s 7ms/step - loss: 10.5276 - mae: 10.5276\n",
            "Epoch 92/100\n",
            "2/2 [==============================] - 0s 8ms/step - loss: 18.1942 - mae: 18.1942\n",
            "Epoch 93/100\n",
            "2/2 [==============================] - 0s 9ms/step - loss: 6.8181 - mae: 6.8181\n",
            "Epoch 94/100\n",
            "2/2 [==============================] - 0s 8ms/step - loss: 13.0039 - mae: 13.0039\n",
            "Epoch 95/100\n",
            "2/2 [==============================] - 0s 8ms/step - loss: 18.3751 - mae: 18.3751\n",
            "Epoch 96/100\n",
            "2/2 [==============================] - 0s 8ms/step - loss: 10.3488 - mae: 10.3488\n",
            "Epoch 97/100\n",
            "2/2 [==============================] - 0s 8ms/step - loss: 14.3964 - mae: 14.3964\n",
            "Epoch 98/100\n",
            "2/2 [==============================] - 0s 7ms/step - loss: 6.5828 - mae: 6.5828\n",
            "Epoch 99/100\n",
            "2/2 [==============================] - 0s 11ms/step - loss: 12.6092 - mae: 12.6092\n",
            "Epoch 100/100\n",
            "2/2 [==============================] - 0s 7ms/step - loss: 19.4345 - mae: 19.4345\n"
          ]
        },
        {
          "output_type": "execute_result",
          "data": {
            "text/plain": [
              "<keras.src.callbacks.History at 0x7de990eb1090>"
            ]
          },
          "metadata": {},
          "execution_count": 180
        }
      ]
    },
    {
      "cell_type": "code",
      "source": [
        "y_preds_2 = model.predict(X_test)\n",
        "plot_predictions(predictions=y_preds_2)"
      ],
      "metadata": {
        "colab": {
          "base_uri": "https://localhost:8080/",
          "height": 616
        },
        "id": "nIPtZarfb6R3",
        "outputId": "3f607dbd-c616-4c9e-f755-cd781b964de9"
      },
      "execution_count": null,
      "outputs": [
        {
          "output_type": "stream",
          "name": "stdout",
          "text": [
            "1/1 [==============================] - 0s 31ms/step\n"
          ]
        },
        {
          "output_type": "display_data",
          "data": {
            "text/plain": [
              "<Figure size 1000x700 with 1 Axes>"
            ],
            "image/png": "[encoded data removed]"
          },
          "metadata": {}
        }
      ]
    },
    {
      "cell_type": "code",
      "source": [
        "# better than model 1!\n",
        "mae_exp2 = mae(y_test, y_preds_2).numpy() # we used the tf.squeeze function in the def\n",
        "mse_exp2 = mse(y_test, y_preds_2).numpy() # use numpy for reason below - pandas\n",
        "                                          # DataFrame below\n",
        "print(mae_exp2)\n",
        "print(\"\\n\")\n",
        "print(mse_exp2)"
      ],
      "metadata": {
        "colab": {
          "base_uri": "https://localhost:8080/"
        },
        "id": "QdpFTWLAcLdu",
        "outputId": "5334fb4f-3cba-4325-cccb-2a522497f764"
      },
      "execution_count": null,
      "outputs": [
        {
          "output_type": "stream",
          "name": "stdout",
          "text": [
            "3.7847946\n",
            "\n",
            "\n",
            "16.514318\n"
          ]
        }
      ]
    },
    {
      "cell_type": "code",
      "source": [
        "# We see numerically that model 2 is more accurate than model 1 as well"
      ],
      "metadata": {
        "id": "Nq6OHmBvcntD"
      },
      "execution_count": null,
      "outputs": []
    },
    {
      "cell_type": "code",
      "source": [
        "# Let's do model 3 -- 2 layers - 100 - hidden - 500 epochs\n",
        "tf.random.set_seed(42)\n",
        "model_3 = tf.keras.Sequential([\n",
        "    tf.keras.layers.Dense(100),\n",
        "    tf.keras.layers.Dense(1)\n",
        " ])\n",
        "\n",
        "model_3.compile(loss=tf.keras.losses.mae,\n",
        "                 optimizer=tf.keras.optimizers.SGD(),\n",
        "                 metrics=[\"mae\"]\n",
        "                 )\n",
        "model_3.fit(tf.expand_dims(X_train, axis=1), y_train, epochs=500)"
      ],
      "metadata": {
        "colab": {
          "base_uri": "https://localhost:8080/"
        },
        "id": "Jm_CFd7Cc3sg",
        "outputId": "84690f06-2e2f-40ef-e99b-cbe3673794ab"
      },
      "execution_count": null,
      "outputs": [
        {
          "output_type": "stream",
          "name": "stdout",
          "text": [
            "Epoch 1/500\n",
            "2/2 [==============================] - 1s 15ms/step - loss: 36.9561 - mae: 36.9561\n",
            "Epoch 2/500\n",
            "2/2 [==============================] - 0s 9ms/step - loss: 29.4382 - mae: 29.4382\n",
            "Epoch 3/500\n",
            "2/2 [==============================] - 0s 9ms/step - loss: 27.5382 - mae: 27.5382\n",
            "Epoch 4/500\n",
            "2/2 [==============================] - 0s 10ms/step - loss: 15.6636 - mae: 15.6636\n",
            "Epoch 5/500\n",
            "2/2 [==============================] - 0s 12ms/step - loss: 21.9879 - mae: 21.9879\n",
            "Epoch 6/500\n",
            "2/2 [==============================] - 0s 9ms/step - loss: 10.7861 - mae: 10.7861\n",
            "Epoch 7/500\n",
            "2/2 [==============================] - 0s 10ms/step - loss: 11.7931 - mae: 11.7931\n",
            "Epoch 8/500\n",
            "2/2 [==============================] - 0s 13ms/step - loss: 12.1518 - mae: 12.1518\n",
            "Epoch 9/500\n",
            "2/2 [==============================] - 0s 11ms/step - loss: 38.2303 - mae: 38.2303\n",
            "Epoch 10/500\n",
            "2/2 [==============================] - 0s 7ms/step - loss: 25.7816 - mae: 25.7816\n",
            "Epoch 11/500\n",
            "2/2 [==============================] - 0s 10ms/step - loss: 10.2590 - mae: 10.2590\n",
            "Epoch 12/500\n",
            "2/2 [==============================] - 0s 8ms/step - loss: 25.2489 - mae: 25.2489\n",
            "Epoch 13/500\n",
            "2/2 [==============================] - 0s 9ms/step - loss: 17.1203 - mae: 17.1203\n",
            "Epoch 14/500\n",
            "2/2 [==============================] - 0s 11ms/step - loss: 26.1528 - mae: 26.1528\n",
            "Epoch 15/500\n",
            "2/2 [==============================] - 0s 11ms/step - loss: 18.1841 - mae: 18.1841\n",
            "Epoch 16/500\n",
            "2/2 [==============================] - 0s 11ms/step - loss: 7.8679 - mae: 7.8679\n",
            "Epoch 17/500\n",
            "2/2 [==============================] - 0s 10ms/step - loss: 22.2956 - mae: 22.2956\n",
            "Epoch 18/500\n",
            "2/2 [==============================] - 0s 10ms/step - loss: 10.8566 - mae: 10.8566\n",
            "Epoch 19/500\n",
            "2/2 [==============================] - 0s 12ms/step - loss: 10.7449 - mae: 10.7449\n",
            "Epoch 20/500\n",
            "2/2 [==============================] - 0s 7ms/step - loss: 12.0655 - mae: 12.0655\n",
            "Epoch 21/500\n",
            "2/2 [==============================] - 0s 9ms/step - loss: 20.2008 - mae: 20.2008\n",
            "Epoch 22/500\n",
            "2/2 [==============================] - 0s 8ms/step - loss: 13.8217 - mae: 13.8217\n",
            "Epoch 23/500\n",
            "2/2 [==============================] - 0s 9ms/step - loss: 9.5578 - mae: 9.5578\n",
            "Epoch 24/500\n",
            "2/2 [==============================] - 0s 14ms/step - loss: 11.9154 - mae: 11.9154\n",
            "Epoch 25/500\n",
            "2/2 [==============================] - 0s 13ms/step - loss: 16.2395 - mae: 16.2395\n",
            "Epoch 26/500\n",
            "2/2 [==============================] - 0s 10ms/step - loss: 16.4314 - mae: 16.4314\n",
            "Epoch 27/500\n",
            "2/2 [==============================] - 0s 10ms/step - loss: 11.6016 - mae: 11.6016\n",
            "Epoch 28/500\n",
            "2/2 [==============================] - 0s 9ms/step - loss: 30.0298 - mae: 30.0298\n",
            "Epoch 29/500\n",
            "2/2 [==============================] - 0s 7ms/step - loss: 9.2588 - mae: 9.2588\n",
            "Epoch 30/500\n",
            "2/2 [==============================] - 0s 8ms/step - loss: 30.5637 - mae: 30.5637\n",
            "Epoch 31/500\n",
            "2/2 [==============================] - 0s 8ms/step - loss: 55.5659 - mae: 55.5659\n",
            "Epoch 32/500\n",
            "2/2 [==============================] - 0s 12ms/step - loss: 9.7433 - mae: 9.7433\n",
            "Epoch 33/500\n",
            "2/2 [==============================] - 0s 10ms/step - loss: 12.3626 - mae: 12.3626\n",
            "Epoch 34/500\n",
            "2/2 [==============================] - 0s 9ms/step - loss: 24.7326 - mae: 24.7326\n",
            "Epoch 35/500\n",
            "2/2 [==============================] - 0s 8ms/step - loss: 11.9212 - mae: 11.9212\n",
            "Epoch 36/500\n",
            "2/2 [==============================] - 0s 9ms/step - loss: 22.0933 - mae: 22.0933\n",
            "Epoch 37/500\n",
            "2/2 [==============================] - 0s 8ms/step - loss: 17.5812 - mae: 17.5812\n",
            "Epoch 38/500\n",
            "2/2 [==============================] - 0s 10ms/step - loss: 10.7422 - mae: 10.7422\n",
            "Epoch 39/500\n",
            "2/2 [==============================] - 0s 8ms/step - loss: 11.2583 - mae: 11.2583\n",
            "Epoch 40/500\n",
            "2/2 [==============================] - 0s 7ms/step - loss: 18.2428 - mae: 18.2428\n",
            "Epoch 41/500\n",
            "2/2 [==============================] - 0s 7ms/step - loss: 10.5088 - mae: 10.5088\n",
            "Epoch 42/500\n",
            "2/2 [==============================] - 0s 8ms/step - loss: 7.8495 - mae: 7.8495\n",
            "Epoch 43/500\n",
            "2/2 [==============================] - 0s 8ms/step - loss: 14.2225 - mae: 14.2225\n",
            "Epoch 44/500\n",
            "2/2 [==============================] - 0s 7ms/step - loss: 24.9884 - mae: 24.9884\n",
            "Epoch 45/500\n",
            "2/2 [==============================] - 0s 11ms/step - loss: 10.9672 - mae: 10.9672\n",
            "Epoch 46/500\n",
            "2/2 [==============================] - 0s 7ms/step - loss: 13.0701 - mae: 13.0701\n",
            "Epoch 47/500\n",
            "2/2 [==============================] - 0s 7ms/step - loss: 10.4338 - mae: 10.4338\n",
            "Epoch 48/500\n",
            "2/2 [==============================] - 0s 7ms/step - loss: 17.1458 - mae: 17.1458\n",
            "Epoch 49/500\n",
            "2/2 [==============================] - 0s 7ms/step - loss: 9.6383 - mae: 9.6383\n",
            "Epoch 50/500\n",
            "2/2 [==============================] - 0s 7ms/step - loss: 13.9298 - mae: 13.9298\n",
            "Epoch 51/500\n",
            "2/2 [==============================] - 0s 8ms/step - loss: 11.6417 - mae: 11.6417\n",
            "Epoch 52/500\n",
            "2/2 [==============================] - 0s 7ms/step - loss: 30.8125 - mae: 30.8125\n",
            "Epoch 53/500\n",
            "2/2 [==============================] - 0s 7ms/step - loss: 14.4700 - mae: 14.4700\n",
            "Epoch 54/500\n",
            "2/2 [==============================] - 0s 13ms/step - loss: 24.1713 - mae: 24.1713\n",
            "Epoch 55/500\n",
            "2/2 [==============================] - 0s 12ms/step - loss: 23.4130 - mae: 23.4130\n",
            "Epoch 56/500\n",
            "2/2 [==============================] - 0s 10ms/step - loss: 10.9595 - mae: 10.9595\n",
            "Epoch 57/500\n",
            "2/2 [==============================] - 0s 8ms/step - loss: 12.8444 - mae: 12.8444\n",
            "Epoch 58/500\n",
            "2/2 [==============================] - 0s 11ms/step - loss: 9.6575 - mae: 9.6575\n",
            "Epoch 59/500\n",
            "2/2 [==============================] - 0s 9ms/step - loss: 13.0053 - mae: 13.0053\n",
            "Epoch 60/500\n",
            "2/2 [==============================] - 0s 8ms/step - loss: 10.6934 - mae: 10.6934\n",
            "Epoch 61/500\n",
            "2/2 [==============================] - 0s 8ms/step - loss: 17.4568 - mae: 17.4568\n",
            "Epoch 62/500\n",
            "2/2 [==============================] - 0s 8ms/step - loss: 10.6078 - mae: 10.6078\n",
            "Epoch 63/500\n",
            "2/2 [==============================] - 0s 8ms/step - loss: 10.4926 - mae: 10.4926\n",
            "Epoch 64/500\n",
            "2/2 [==============================] - 0s 14ms/step - loss: 24.8333 - mae: 24.8333\n",
            "Epoch 65/500\n",
            "2/2 [==============================] - 0s 9ms/step - loss: 10.6791 - mae: 10.6791\n",
            "Epoch 66/500\n",
            "2/2 [==============================] - 0s 8ms/step - loss: 21.7698 - mae: 21.7698\n",
            "Epoch 67/500\n",
            "2/2 [==============================] - 0s 9ms/step - loss: 10.7148 - mae: 10.7148\n",
            "Epoch 68/500\n",
            "2/2 [==============================] - 0s 9ms/step - loss: 10.6417 - mae: 10.6417\n",
            "Epoch 69/500\n",
            "2/2 [==============================] - 0s 7ms/step - loss: 22.6720 - mae: 22.6720\n",
            "Epoch 70/500\n",
            "2/2 [==============================] - 0s 7ms/step - loss: 9.3385 - mae: 9.3385\n",
            "Epoch 71/500\n",
            "2/2 [==============================] - 0s 8ms/step - loss: 15.4453 - mae: 15.4453\n",
            "Epoch 72/500\n",
            "2/2 [==============================] - 0s 8ms/step - loss: 7.0214 - mae: 7.0214\n",
            "Epoch 73/500\n",
            "2/2 [==============================] - 0s 9ms/step - loss: 12.2113 - mae: 12.2113\n",
            "Epoch 74/500\n",
            "2/2 [==============================] - 0s 9ms/step - loss: 17.3502 - mae: 17.3502\n",
            "Epoch 75/500\n",
            "2/2 [==============================] - 0s 7ms/step - loss: 7.2209 - mae: 7.2209\n",
            "Epoch 76/500\n",
            "2/2 [==============================] - 0s 7ms/step - loss: 9.4569 - mae: 9.4569\n",
            "Epoch 77/500\n",
            "2/2 [==============================] - 0s 8ms/step - loss: 22.1775 - mae: 22.1775\n",
            "Epoch 78/500\n",
            "2/2 [==============================] - 0s 9ms/step - loss: 17.4721 - mae: 17.4721\n",
            "Epoch 79/500\n",
            "2/2 [==============================] - 0s 9ms/step - loss: 14.7093 - mae: 14.7093\n",
            "Epoch 80/500\n",
            "2/2 [==============================] - 0s 9ms/step - loss: 24.8813 - mae: 24.8813\n",
            "Epoch 81/500\n",
            "2/2 [==============================] - 0s 7ms/step - loss: 10.7859 - mae: 10.7859\n",
            "Epoch 82/500\n",
            "2/2 [==============================] - 0s 8ms/step - loss: 12.8245 - mae: 12.8245\n",
            "Epoch 83/500\n",
            "2/2 [==============================] - 0s 8ms/step - loss: 17.6220 - mae: 17.6220\n",
            "Epoch 84/500\n",
            "2/2 [==============================] - 0s 8ms/step - loss: 7.2976 - mae: 7.2976\n",
            "Epoch 85/500\n",
            "2/2 [==============================] - 0s 8ms/step - loss: 15.1143 - mae: 15.1143\n",
            "Epoch 86/500\n",
            "2/2 [==============================] - 0s 10ms/step - loss: 15.4046 - mae: 15.4046\n",
            "Epoch 87/500\n",
            "2/2 [==============================] - 0s 8ms/step - loss: 19.3470 - mae: 19.3470\n",
            "Epoch 88/500\n",
            "2/2 [==============================] - 0s 9ms/step - loss: 29.1990 - mae: 29.1990\n",
            "Epoch 89/500\n",
            "2/2 [==============================] - 0s 10ms/step - loss: 10.0808 - mae: 10.0808\n",
            "Epoch 90/500\n",
            "2/2 [==============================] - 0s 11ms/step - loss: 21.0167 - mae: 21.0167\n",
            "Epoch 91/500\n",
            "2/2 [==============================] - 0s 9ms/step - loss: 10.4480 - mae: 10.4480\n",
            "Epoch 92/500\n",
            "2/2 [==============================] - 0s 7ms/step - loss: 17.9456 - mae: 17.9456\n",
            "Epoch 93/500\n",
            "2/2 [==============================] - 0s 8ms/step - loss: 6.5502 - mae: 6.5502\n",
            "Epoch 94/500\n",
            "2/2 [==============================] - 0s 8ms/step - loss: 11.1069 - mae: 11.1069\n",
            "Epoch 95/500\n",
            "2/2 [==============================] - 0s 8ms/step - loss: 24.3365 - mae: 24.3365\n",
            "Epoch 96/500\n",
            "2/2 [==============================] - 0s 8ms/step - loss: 10.7132 - mae: 10.7132\n",
            "Epoch 97/500\n",
            "2/2 [==============================] - 0s 9ms/step - loss: 15.3355 - mae: 15.3355\n",
            "Epoch 98/500\n",
            "2/2 [==============================] - 0s 7ms/step - loss: 8.2349 - mae: 8.2349\n",
            "Epoch 99/500\n",
            "2/2 [==============================] - 0s 9ms/step - loss: 16.5160 - mae: 16.5160\n",
            "Epoch 100/500\n",
            "2/2 [==============================] - 0s 8ms/step - loss: 14.2935 - mae: 14.2935\n",
            "Epoch 101/500\n",
            "2/2 [==============================] - 0s 8ms/step - loss: 15.2927 - mae: 15.2927\n",
            "Epoch 102/500\n",
            "2/2 [==============================] - 0s 8ms/step - loss: 10.7624 - mae: 10.7624\n",
            "Epoch 103/500\n",
            "2/2 [==============================] - 0s 7ms/step - loss: 9.1717 - mae: 9.1717\n",
            "Epoch 104/500\n",
            "2/2 [==============================] - 0s 8ms/step - loss: 23.8560 - mae: 23.8560\n",
            "Epoch 105/500\n",
            "2/2 [==============================] - 0s 10ms/step - loss: 10.8455 - mae: 10.8455\n",
            "Epoch 106/500\n",
            "2/2 [==============================] - 0s 12ms/step - loss: 11.3015 - mae: 11.3015\n",
            "Epoch 107/500\n",
            "2/2 [==============================] - 0s 9ms/step - loss: 21.4261 - mae: 21.4261\n",
            "Epoch 108/500\n",
            "2/2 [==============================] - 0s 8ms/step - loss: 6.5895 - mae: 6.5895\n",
            "Epoch 109/500\n",
            "2/2 [==============================] - 0s 8ms/step - loss: 13.2919 - mae: 13.2919\n",
            "Epoch 110/500\n",
            "2/2 [==============================] - 0s 9ms/step - loss: 7.9940 - mae: 7.9940\n",
            "Epoch 111/500\n",
            "2/2 [==============================] - 0s 10ms/step - loss: 15.7838 - mae: 15.7838\n",
            "Epoch 112/500\n",
            "2/2 [==============================] - 0s 8ms/step - loss: 8.7386 - mae: 8.7386\n",
            "Epoch 113/500\n",
            "2/2 [==============================] - 0s 9ms/step - loss: 22.6169 - mae: 22.6169\n",
            "Epoch 114/500\n",
            "2/2 [==============================] - 0s 8ms/step - loss: 18.9728 - mae: 18.9728\n",
            "Epoch 115/500\n",
            "2/2 [==============================] - 0s 8ms/step - loss: 11.0733 - mae: 11.0733\n",
            "Epoch 116/500\n",
            "2/2 [==============================] - 0s 11ms/step - loss: 23.0598 - mae: 23.0598\n",
            "Epoch 117/500\n",
            "2/2 [==============================] - 0s 11ms/step - loss: 9.5530 - mae: 9.5530\n",
            "Epoch 118/500\n",
            "2/2 [==============================] - 0s 9ms/step - loss: 10.6121 - mae: 10.6121\n",
            "Epoch 119/500\n",
            "2/2 [==============================] - 0s 9ms/step - loss: 8.0404 - mae: 8.0404\n",
            "Epoch 120/500\n",
            "2/2 [==============================] - 0s 16ms/step - loss: 29.3478 - mae: 29.3478\n",
            "Epoch 121/500\n",
            "2/2 [==============================] - 0s 11ms/step - loss: 8.0776 - mae: 8.0776\n",
            "Epoch 122/500\n",
            "2/2 [==============================] - 0s 11ms/step - loss: 28.0237 - mae: 28.0237\n",
            "Epoch 123/500\n",
            "2/2 [==============================] - 0s 10ms/step - loss: 32.5480 - mae: 32.5480\n",
            "Epoch 124/500\n",
            "2/2 [==============================] - 0s 13ms/step - loss: 19.3687 - mae: 19.3687\n",
            "Epoch 125/500\n",
            "2/2 [==============================] - 0s 8ms/step - loss: 9.5278 - mae: 9.5278\n",
            "Epoch 126/500\n",
            "2/2 [==============================] - 0s 8ms/step - loss: 9.6005 - mae: 9.6005\n",
            "Epoch 127/500\n",
            "2/2 [==============================] - 0s 8ms/step - loss: 12.7226 - mae: 12.7226\n",
            "Epoch 128/500\n",
            "2/2 [==============================] - 0s 8ms/step - loss: 12.8207 - mae: 12.8207\n",
            "Epoch 129/500\n",
            "2/2 [==============================] - 0s 8ms/step - loss: 13.9522 - mae: 13.9522\n",
            "Epoch 130/500\n",
            "2/2 [==============================] - 0s 8ms/step - loss: 10.2405 - mae: 10.2405\n",
            "Epoch 131/500\n",
            "2/2 [==============================] - 0s 8ms/step - loss: 21.7171 - mae: 21.7171\n",
            "Epoch 132/500\n",
            "2/2 [==============================] - 0s 10ms/step - loss: 8.2835 - mae: 8.2835\n",
            "Epoch 133/500\n",
            "2/2 [==============================] - 0s 10ms/step - loss: 9.0640 - mae: 9.0640\n",
            "Epoch 134/500\n",
            "2/2 [==============================] - 0s 8ms/step - loss: 16.9116 - mae: 16.9116\n",
            "Epoch 135/500\n",
            "2/2 [==============================] - 0s 12ms/step - loss: 10.6589 - mae: 10.6589\n",
            "Epoch 136/500\n",
            "2/2 [==============================] - 0s 10ms/step - loss: 18.5194 - mae: 18.5194\n",
            "Epoch 137/500\n",
            "2/2 [==============================] - 0s 10ms/step - loss: 23.5113 - mae: 23.5113\n",
            "Epoch 138/500\n",
            "2/2 [==============================] - 0s 9ms/step - loss: 9.2844 - mae: 9.2844\n",
            "Epoch 139/500\n",
            "2/2 [==============================] - 0s 8ms/step - loss: 9.0154 - mae: 9.0154\n",
            "Epoch 140/500\n",
            "2/2 [==============================] - 0s 8ms/step - loss: 16.9730 - mae: 16.9730\n",
            "Epoch 141/500\n",
            "2/2 [==============================] - 0s 10ms/step - loss: 8.3218 - mae: 8.3218\n",
            "Epoch 142/500\n",
            "2/2 [==============================] - 0s 9ms/step - loss: 34.0450 - mae: 34.0450\n",
            "Epoch 143/500\n",
            "2/2 [==============================] - 0s 7ms/step - loss: 23.1028 - mae: 23.1028\n",
            "Epoch 144/500\n",
            "2/2 [==============================] - 0s 7ms/step - loss: 11.3345 - mae: 11.3345\n",
            "Epoch 145/500\n",
            "2/2 [==============================] - 0s 9ms/step - loss: 25.0326 - mae: 25.0326\n",
            "Epoch 146/500\n",
            "2/2 [==============================] - 0s 8ms/step - loss: 11.1570 - mae: 11.1570\n",
            "Epoch 147/500\n",
            "2/2 [==============================] - 0s 7ms/step - loss: 14.0840 - mae: 14.0840\n",
            "Epoch 148/500\n",
            "2/2 [==============================] - 0s 8ms/step - loss: 16.9322 - mae: 16.9322\n",
            "Epoch 149/500\n",
            "2/2 [==============================] - 0s 10ms/step - loss: 9.2540 - mae: 9.2540\n",
            "Epoch 150/500\n",
            "2/2 [==============================] - 0s 6ms/step - loss: 7.9402 - mae: 7.9402\n",
            "Epoch 151/500\n",
            "2/2 [==============================] - 0s 9ms/step - loss: 16.4998 - mae: 16.4998\n",
            "Epoch 152/500\n",
            "2/2 [==============================] - 0s 8ms/step - loss: 9.7992 - mae: 9.7992\n",
            "Epoch 153/500\n",
            "2/2 [==============================] - 0s 8ms/step - loss: 26.8348 - mae: 26.8348\n",
            "Epoch 154/500\n",
            "2/2 [==============================] - 0s 9ms/step - loss: 11.9229 - mae: 11.9229\n",
            "Epoch 155/500\n",
            "2/2 [==============================] - 0s 8ms/step - loss: 15.2884 - mae: 15.2884\n",
            "Epoch 156/500\n",
            "2/2 [==============================] - 0s 7ms/step - loss: 16.6619 - mae: 16.6619\n",
            "Epoch 157/500\n",
            "2/2 [==============================] - 0s 7ms/step - loss: 19.2644 - mae: 19.2644\n",
            "Epoch 158/500\n",
            "2/2 [==============================] - 0s 8ms/step - loss: 8.2560 - mae: 8.2560\n",
            "Epoch 159/500\n",
            "2/2 [==============================] - 0s 8ms/step - loss: 7.9889 - mae: 7.9889\n",
            "Epoch 160/500\n",
            "2/2 [==============================] - 0s 8ms/step - loss: 20.9692 - mae: 20.9692\n",
            "Epoch 161/500\n",
            "2/2 [==============================] - 0s 8ms/step - loss: 23.7625 - mae: 23.7625\n",
            "Epoch 162/500\n",
            "2/2 [==============================] - 0s 9ms/step - loss: 18.6865 - mae: 18.6865\n",
            "Epoch 163/500\n",
            "2/2 [==============================] - 0s 7ms/step - loss: 17.6406 - mae: 17.6406\n",
            "Epoch 164/500\n",
            "2/2 [==============================] - 0s 12ms/step - loss: 11.0644 - mae: 11.0644\n",
            "Epoch 165/500\n",
            "2/2 [==============================] - 0s 14ms/step - loss: 9.6186 - mae: 9.6186\n",
            "Epoch 166/500\n",
            "2/2 [==============================] - 0s 13ms/step - loss: 21.5725 - mae: 21.5725\n",
            "Epoch 167/500\n",
            "2/2 [==============================] - 0s 8ms/step - loss: 26.3390 - mae: 26.3390\n",
            "Epoch 168/500\n",
            "2/2 [==============================] - 0s 8ms/step - loss: 9.8817 - mae: 9.8817\n",
            "Epoch 169/500\n",
            "2/2 [==============================] - 0s 10ms/step - loss: 22.6030 - mae: 22.6030\n",
            "Epoch 170/500\n",
            "2/2 [==============================] - 0s 10ms/step - loss: 10.1534 - mae: 10.1534\n",
            "Epoch 171/500\n",
            "2/2 [==============================] - 0s 9ms/step - loss: 18.0348 - mae: 18.0348\n",
            "Epoch 172/500\n",
            "2/2 [==============================] - 0s 7ms/step - loss: 28.8682 - mae: 28.8682\n",
            "Epoch 173/500\n",
            "2/2 [==============================] - 0s 8ms/step - loss: 16.5581 - mae: 16.5581\n",
            "Epoch 174/500\n",
            "2/2 [==============================] - 0s 9ms/step - loss: 11.2178 - mae: 11.2178\n",
            "Epoch 175/500\n",
            "2/2 [==============================] - 0s 8ms/step - loss: 27.5778 - mae: 27.5778\n",
            "Epoch 176/500\n",
            "2/2 [==============================] - 0s 9ms/step - loss: 8.2928 - mae: 8.2928\n",
            "Epoch 177/500\n",
            "2/2 [==============================] - 0s 10ms/step - loss: 9.2816 - mae: 9.2816\n",
            "Epoch 178/500\n",
            "2/2 [==============================] - 0s 9ms/step - loss: 18.1594 - mae: 18.1594\n",
            "Epoch 179/500\n",
            "2/2 [==============================] - 0s 9ms/step - loss: 10.5981 - mae: 10.5981\n",
            "Epoch 180/500\n",
            "2/2 [==============================] - 0s 9ms/step - loss: 7.9184 - mae: 7.9184\n",
            "Epoch 181/500\n",
            "2/2 [==============================] - 0s 11ms/step - loss: 17.4057 - mae: 17.4057\n",
            "Epoch 182/500\n",
            "2/2 [==============================] - 0s 7ms/step - loss: 11.0274 - mae: 11.0274\n",
            "Epoch 183/500\n",
            "2/2 [==============================] - 0s 10ms/step - loss: 11.7076 - mae: 11.7076\n",
            "Epoch 184/500\n",
            "2/2 [==============================] - 0s 9ms/step - loss: 30.3916 - mae: 30.3916\n",
            "Epoch 185/500\n",
            "2/2 [==============================] - 0s 11ms/step - loss: 7.5735 - mae: 7.5735\n",
            "Epoch 186/500\n",
            "2/2 [==============================] - 0s 9ms/step - loss: 16.0050 - mae: 16.0050\n",
            "Epoch 187/500\n",
            "2/2 [==============================] - 0s 7ms/step - loss: 8.5728 - mae: 8.5728\n",
            "Epoch 188/500\n",
            "2/2 [==============================] - 0s 8ms/step - loss: 28.6945 - mae: 28.6945\n",
            "Epoch 189/500\n",
            "2/2 [==============================] - 0s 8ms/step - loss: 13.1838 - mae: 13.1838\n",
            "Epoch 190/500\n",
            "2/2 [==============================] - 0s 8ms/step - loss: 18.3274 - mae: 18.3274\n",
            "Epoch 191/500\n",
            "2/2 [==============================] - 0s 10ms/step - loss: 13.7583 - mae: 13.7583\n",
            "Epoch 192/500\n",
            "2/2 [==============================] - 0s 9ms/step - loss: 13.7251 - mae: 13.7251\n",
            "Epoch 193/500\n",
            "2/2 [==============================] - 0s 8ms/step - loss: 28.5999 - mae: 28.5999\n",
            "Epoch 194/500\n",
            "2/2 [==============================] - 0s 8ms/step - loss: 7.0684 - mae: 7.0684\n",
            "Epoch 195/500\n",
            "2/2 [==============================] - 0s 9ms/step - loss: 7.0711 - mae: 7.0711\n",
            "Epoch 196/500\n",
            "2/2 [==============================] - 0s 8ms/step - loss: 22.0391 - mae: 22.0391\n",
            "Epoch 197/500\n",
            "2/2 [==============================] - 0s 10ms/step - loss: 20.7803 - mae: 20.7803\n",
            "Epoch 198/500\n",
            "2/2 [==============================] - 0s 9ms/step - loss: 12.4392 - mae: 12.4392\n",
            "Epoch 199/500\n",
            "2/2 [==============================] - 0s 8ms/step - loss: 17.8536 - mae: 17.8536\n",
            "Epoch 200/500\n",
            "2/2 [==============================] - 0s 9ms/step - loss: 13.6981 - mae: 13.6981\n",
            "Epoch 201/500\n",
            "2/2 [==============================] - 0s 8ms/step - loss: 5.4899 - mae: 5.4899\n",
            "Epoch 202/500\n",
            "2/2 [==============================] - 0s 8ms/step - loss: 13.6504 - mae: 13.6504\n",
            "Epoch 203/500\n",
            "2/2 [==============================] - 0s 10ms/step - loss: 9.4117 - mae: 9.4117\n",
            "Epoch 204/500\n",
            "2/2 [==============================] - 0s 8ms/step - loss: 20.8836 - mae: 20.8836\n",
            "Epoch 205/500\n",
            "2/2 [==============================] - 0s 9ms/step - loss: 9.5300 - mae: 9.5300\n",
            "Epoch 206/500\n",
            "2/2 [==============================] - 0s 10ms/step - loss: 11.6904 - mae: 11.6904\n",
            "Epoch 207/500\n",
            "2/2 [==============================] - 0s 7ms/step - loss: 14.3043 - mae: 14.3043\n",
            "Epoch 208/500\n",
            "2/2 [==============================] - 0s 8ms/step - loss: 14.7988 - mae: 14.7988\n",
            "Epoch 209/500\n",
            "2/2 [==============================] - 0s 7ms/step - loss: 14.5873 - mae: 14.5873\n",
            "Epoch 210/500\n",
            "2/2 [==============================] - 0s 8ms/step - loss: 17.8194 - mae: 17.8194\n",
            "Epoch 211/500\n",
            "2/2 [==============================] - 0s 7ms/step - loss: 9.8199 - mae: 9.8199\n",
            "Epoch 212/500\n",
            "2/2 [==============================] - 0s 9ms/step - loss: 18.2302 - mae: 18.2302\n",
            "Epoch 213/500\n",
            "2/2 [==============================] - 0s 11ms/step - loss: 15.0756 - mae: 15.0756\n",
            "Epoch 214/500\n",
            "2/2 [==============================] - 0s 8ms/step - loss: 14.6133 - mae: 14.6133\n",
            "Epoch 215/500\n",
            "2/2 [==============================] - 0s 8ms/step - loss: 23.3477 - mae: 23.3477\n",
            "Epoch 216/500\n",
            "2/2 [==============================] - 0s 8ms/step - loss: 13.2918 - mae: 13.2918\n",
            "Epoch 217/500\n",
            "2/2 [==============================] - 0s 7ms/step - loss: 9.8064 - mae: 9.8064\n",
            "Epoch 218/500\n",
            "2/2 [==============================] - 0s 8ms/step - loss: 12.6014 - mae: 12.6014\n",
            "Epoch 219/500\n",
            "2/2 [==============================] - 0s 10ms/step - loss: 5.3386 - mae: 5.3386\n",
            "Epoch 220/500\n",
            "2/2 [==============================] - 0s 10ms/step - loss: 14.6982 - mae: 14.6982\n",
            "Epoch 221/500\n",
            "2/2 [==============================] - 0s 8ms/step - loss: 33.5445 - mae: 33.5445\n",
            "Epoch 222/500\n",
            "2/2 [==============================] - 0s 10ms/step - loss: 13.8939 - mae: 13.8939\n",
            "Epoch 223/500\n",
            "2/2 [==============================] - 0s 8ms/step - loss: 10.9954 - mae: 10.9954\n",
            "Epoch 224/500\n",
            "2/2 [==============================] - 0s 10ms/step - loss: 14.9480 - mae: 14.9480\n",
            "Epoch 225/500\n",
            "2/2 [==============================] - 0s 9ms/step - loss: 16.9950 - mae: 16.9950\n",
            "Epoch 226/500\n",
            "2/2 [==============================] - 0s 9ms/step - loss: 16.1838 - mae: 16.1838\n",
            "Epoch 227/500\n",
            "2/2 [==============================] - 0s 8ms/step - loss: 16.5018 - mae: 16.5018\n",
            "Epoch 228/500\n",
            "2/2 [==============================] - 0s 8ms/step - loss: 9.9423 - mae: 9.9423\n",
            "Epoch 229/500\n",
            "2/2 [==============================] - 0s 8ms/step - loss: 17.8393 - mae: 17.8393\n",
            "Epoch 230/500\n",
            "2/2 [==============================] - 0s 8ms/step - loss: 15.4590 - mae: 15.4590\n",
            "Epoch 231/500\n",
            "2/2 [==============================] - 0s 8ms/step - loss: 20.8865 - mae: 20.8865\n",
            "Epoch 232/500\n",
            "2/2 [==============================] - 0s 9ms/step - loss: 20.4097 - mae: 20.4097\n",
            "Epoch 233/500\n",
            "2/2 [==============================] - 0s 8ms/step - loss: 15.0708 - mae: 15.0708\n",
            "Epoch 234/500\n",
            "2/2 [==============================] - 0s 8ms/step - loss: 6.9620 - mae: 6.9620\n",
            "Epoch 235/500\n",
            "2/2 [==============================] - 0s 9ms/step - loss: 15.7221 - mae: 15.7221\n",
            "Epoch 236/500\n",
            "2/2 [==============================] - 0s 8ms/step - loss: 6.6829 - mae: 6.6829\n",
            "Epoch 237/500\n",
            "2/2 [==============================] - 0s 10ms/step - loss: 8.5949 - mae: 8.5949\n",
            "Epoch 238/500\n",
            "2/2 [==============================] - 0s 9ms/step - loss: 7.7606 - mae: 7.7606\n",
            "Epoch 239/500\n",
            "2/2 [==============================] - 0s 8ms/step - loss: 15.6449 - mae: 15.6449\n",
            "Epoch 240/500\n",
            "2/2 [==============================] - 0s 9ms/step - loss: 9.0009 - mae: 9.0009\n",
            "Epoch 241/500\n",
            "2/2 [==============================] - 0s 12ms/step - loss: 13.4166 - mae: 13.4166\n",
            "Epoch 242/500\n",
            "2/2 [==============================] - 0s 10ms/step - loss: 8.8918 - mae: 8.8918\n",
            "Epoch 243/500\n",
            "2/2 [==============================] - 0s 8ms/step - loss: 19.2981 - mae: 19.2981\n",
            "Epoch 244/500\n",
            "2/2 [==============================] - 0s 8ms/step - loss: 13.8872 - mae: 13.8872\n",
            "Epoch 245/500\n",
            "2/2 [==============================] - 0s 7ms/step - loss: 14.5368 - mae: 14.5368\n",
            "Epoch 246/500\n",
            "2/2 [==============================] - 0s 7ms/step - loss: 15.6748 - mae: 15.6748\n",
            "Epoch 247/500\n",
            "2/2 [==============================] - 0s 9ms/step - loss: 17.5097 - mae: 17.5097\n",
            "Epoch 248/500\n",
            "2/2 [==============================] - 0s 8ms/step - loss: 13.0768 - mae: 13.0768\n",
            "Epoch 249/500\n",
            "2/2 [==============================] - 0s 10ms/step - loss: 14.4209 - mae: 14.4209\n",
            "Epoch 250/500\n",
            "2/2 [==============================] - 0s 10ms/step - loss: 27.8174 - mae: 27.8174\n",
            "Epoch 251/500\n",
            "2/2 [==============================] - 0s 9ms/step - loss: 7.5008 - mae: 7.5008\n",
            "Epoch 252/500\n",
            "2/2 [==============================] - 0s 7ms/step - loss: 38.2083 - mae: 38.2083\n",
            "Epoch 253/500\n",
            "2/2 [==============================] - 0s 10ms/step - loss: 23.1076 - mae: 23.1076\n",
            "Epoch 254/500\n",
            "2/2 [==============================] - 0s 10ms/step - loss: 7.2876 - mae: 7.2876\n",
            "Epoch 255/500\n",
            "2/2 [==============================] - 0s 8ms/step - loss: 24.6159 - mae: 24.6159\n",
            "Epoch 256/500\n",
            "2/2 [==============================] - 0s 7ms/step - loss: 12.3847 - mae: 12.3847\n",
            "Epoch 257/500\n",
            "2/2 [==============================] - 0s 8ms/step - loss: 10.5560 - mae: 10.5560\n",
            "Epoch 258/500\n",
            "2/2 [==============================] - 0s 7ms/step - loss: 14.1766 - mae: 14.1766\n",
            "Epoch 259/500\n",
            "2/2 [==============================] - 0s 7ms/step - loss: 11.2435 - mae: 11.2435\n",
            "Epoch 260/500\n",
            "2/2 [==============================] - 0s 7ms/step - loss: 31.5846 - mae: 31.5846\n",
            "Epoch 261/500\n",
            "2/2 [==============================] - 0s 8ms/step - loss: 11.1578 - mae: 11.1578\n",
            "Epoch 262/500\n",
            "2/2 [==============================] - 0s 11ms/step - loss: 10.0153 - mae: 10.0153\n",
            "Epoch 263/500\n",
            "2/2 [==============================] - 0s 7ms/step - loss: 8.9333 - mae: 8.9333\n",
            "Epoch 264/500\n",
            "2/2 [==============================] - 0s 7ms/step - loss: 21.4874 - mae: 21.4874\n",
            "Epoch 265/500\n",
            "2/2 [==============================] - 0s 11ms/step - loss: 11.4449 - mae: 11.4449\n",
            "Epoch 266/500\n",
            "2/2 [==============================] - 0s 8ms/step - loss: 13.2803 - mae: 13.2803\n",
            "Epoch 267/500\n",
            "2/2 [==============================] - 0s 9ms/step - loss: 11.0714 - mae: 11.0714\n",
            "Epoch 268/500\n",
            "2/2 [==============================] - 0s 8ms/step - loss: 21.7319 - mae: 21.7319\n",
            "Epoch 269/500\n",
            "2/2 [==============================] - 0s 11ms/step - loss: 32.8709 - mae: 32.8709\n",
            "Epoch 270/500\n",
            "2/2 [==============================] - 0s 10ms/step - loss: 9.7178 - mae: 9.7178\n",
            "Epoch 271/500\n",
            "2/2 [==============================] - 0s 8ms/step - loss: 7.7090 - mae: 7.7090\n",
            "Epoch 272/500\n",
            "2/2 [==============================] - 0s 9ms/step - loss: 28.5171 - mae: 28.5171\n",
            "Epoch 273/500\n",
            "2/2 [==============================] - 0s 7ms/step - loss: 7.3672 - mae: 7.3672\n",
            "Epoch 274/500\n",
            "2/2 [==============================] - 0s 7ms/step - loss: 6.3261 - mae: 6.3261\n",
            "Epoch 275/500\n",
            "2/2 [==============================] - 0s 7ms/step - loss: 37.1036 - mae: 37.1036\n",
            "Epoch 276/500\n",
            "2/2 [==============================] - 0s 7ms/step - loss: 8.2774 - mae: 8.2774\n",
            "Epoch 277/500\n",
            "2/2 [==============================] - 0s 7ms/step - loss: 27.8976 - mae: 27.8976\n",
            "Epoch 278/500\n",
            "2/2 [==============================] - 0s 7ms/step - loss: 10.6241 - mae: 10.6241\n",
            "Epoch 279/500\n",
            "2/2 [==============================] - 0s 9ms/step - loss: 16.0674 - mae: 16.0674\n",
            "Epoch 280/500\n",
            "2/2 [==============================] - 0s 7ms/step - loss: 21.1552 - mae: 21.1552\n",
            "Epoch 281/500\n",
            "2/2 [==============================] - 0s 7ms/step - loss: 23.9942 - mae: 23.9942\n",
            "Epoch 282/500\n",
            "2/2 [==============================] - 0s 7ms/step - loss: 8.2919 - mae: 8.2919\n",
            "Epoch 283/500\n",
            "2/2 [==============================] - 0s 7ms/step - loss: 8.4501 - mae: 8.4501\n",
            "Epoch 284/500\n",
            "2/2 [==============================] - 0s 8ms/step - loss: 26.8568 - mae: 26.8568\n",
            "Epoch 285/500\n",
            "2/2 [==============================] - 0s 9ms/step - loss: 14.5597 - mae: 14.5597\n",
            "Epoch 286/500\n",
            "2/2 [==============================] - 0s 8ms/step - loss: 9.4035 - mae: 9.4035\n",
            "Epoch 287/500\n",
            "2/2 [==============================] - 0s 8ms/step - loss: 21.5819 - mae: 21.5819\n",
            "Epoch 288/500\n",
            "2/2 [==============================] - 0s 7ms/step - loss: 25.4239 - mae: 25.4239\n",
            "Epoch 289/500\n",
            "2/2 [==============================] - 0s 9ms/step - loss: 11.2606 - mae: 11.2606\n",
            "Epoch 290/500\n",
            "2/2 [==============================] - 0s 8ms/step - loss: 16.4396 - mae: 16.4396\n",
            "Epoch 291/500\n",
            "2/2 [==============================] - 0s 10ms/step - loss: 16.6704 - mae: 16.6704\n",
            "Epoch 292/500\n",
            "2/2 [==============================] - 0s 8ms/step - loss: 8.7740 - mae: 8.7740\n",
            "Epoch 293/500\n",
            "2/2 [==============================] - 0s 8ms/step - loss: 15.6499 - mae: 15.6499\n",
            "Epoch 294/500\n",
            "2/2 [==============================] - 0s 8ms/step - loss: 23.4954 - mae: 23.4954\n",
            "Epoch 295/500\n",
            "2/2 [==============================] - 0s 8ms/step - loss: 16.2149 - mae: 16.2149\n",
            "Epoch 296/500\n",
            "2/2 [==============================] - 0s 7ms/step - loss: 4.8924 - mae: 4.8924\n",
            "Epoch 297/500\n",
            "2/2 [==============================] - 0s 7ms/step - loss: 13.3650 - mae: 13.3650\n",
            "Epoch 298/500\n",
            "2/2 [==============================] - 0s 7ms/step - loss: 25.2357 - mae: 25.2357\n",
            "Epoch 299/500\n",
            "2/2 [==============================] - 0s 9ms/step - loss: 15.4610 - mae: 15.4610\n",
            "Epoch 300/500\n",
            "2/2 [==============================] - 0s 12ms/step - loss: 6.8176 - mae: 6.8176\n",
            "Epoch 301/500\n",
            "2/2 [==============================] - 0s 9ms/step - loss: 24.1958 - mae: 24.1958\n",
            "Epoch 302/500\n",
            "2/2 [==============================] - 0s 9ms/step - loss: 8.0790 - mae: 8.0790\n",
            "Epoch 303/500\n",
            "2/2 [==============================] - 0s 8ms/step - loss: 20.6817 - mae: 20.6817\n",
            "Epoch 304/500\n",
            "2/2 [==============================] - 0s 8ms/step - loss: 13.3650 - mae: 13.3650\n",
            "Epoch 305/500\n",
            "2/2 [==============================] - 0s 7ms/step - loss: 6.9763 - mae: 6.9763\n",
            "Epoch 306/500\n",
            "2/2 [==============================] - 0s 8ms/step - loss: 18.8126 - mae: 18.8126\n",
            "Epoch 307/500\n",
            "2/2 [==============================] - 0s 10ms/step - loss: 9.5925 - mae: 9.5925\n",
            "Epoch 308/500\n",
            "2/2 [==============================] - 0s 8ms/step - loss: 20.1241 - mae: 20.1241\n",
            "Epoch 309/500\n",
            "2/2 [==============================] - 0s 7ms/step - loss: 14.4748 - mae: 14.4748\n",
            "Epoch 310/500\n",
            "2/2 [==============================] - 0s 8ms/step - loss: 4.4333 - mae: 4.4333\n",
            "Epoch 311/500\n",
            "2/2 [==============================] - 0s 9ms/step - loss: 12.0121 - mae: 12.0121\n",
            "Epoch 312/500\n",
            "2/2 [==============================] - 0s 9ms/step - loss: 29.2891 - mae: 29.2891\n",
            "Epoch 313/500\n",
            "2/2 [==============================] - 0s 8ms/step - loss: 8.8680 - mae: 8.8680\n",
            "Epoch 314/500\n",
            "2/2 [==============================] - 0s 8ms/step - loss: 6.5125 - mae: 6.5125\n",
            "Epoch 315/500\n",
            "2/2 [==============================] - 0s 9ms/step - loss: 23.9663 - mae: 23.9663\n",
            "Epoch 316/500\n",
            "2/2 [==============================] - 0s 8ms/step - loss: 16.1090 - mae: 16.1090\n",
            "Epoch 317/500\n",
            "2/2 [==============================] - 0s 7ms/step - loss: 20.5730 - mae: 20.5730\n",
            "Epoch 318/500\n",
            "2/2 [==============================] - 0s 7ms/step - loss: 8.6661 - mae: 8.6661\n",
            "Epoch 319/500\n",
            "2/2 [==============================] - 0s 7ms/step - loss: 15.2059 - mae: 15.2059\n",
            "Epoch 320/500\n",
            "2/2 [==============================] - 0s 8ms/step - loss: 8.2960 - mae: 8.2960\n",
            "Epoch 321/500\n",
            "2/2 [==============================] - 0s 8ms/step - loss: 14.6271 - mae: 14.6271\n",
            "Epoch 322/500\n",
            "2/2 [==============================] - 0s 13ms/step - loss: 12.8162 - mae: 12.8162\n",
            "Epoch 323/500\n",
            "2/2 [==============================] - 0s 11ms/step - loss: 19.0943 - mae: 19.0943\n",
            "Epoch 324/500\n",
            "2/2 [==============================] - 0s 9ms/step - loss: 17.0096 - mae: 17.0096\n",
            "Epoch 325/500\n",
            "2/2 [==============================] - 0s 7ms/step - loss: 9.2895 - mae: 9.2895\n",
            "Epoch 326/500\n",
            "2/2 [==============================] - 0s 8ms/step - loss: 19.9289 - mae: 19.9289\n",
            "Epoch 327/500\n",
            "2/2 [==============================] - 0s 8ms/step - loss: 28.0917 - mae: 28.0917\n",
            "Epoch 328/500\n",
            "2/2 [==============================] - 0s 8ms/step - loss: 11.7067 - mae: 11.7067\n",
            "Epoch 329/500\n",
            "2/2 [==============================] - 0s 11ms/step - loss: 16.3760 - mae: 16.3760\n",
            "Epoch 330/500\n",
            "2/2 [==============================] - 0s 9ms/step - loss: 7.2881 - mae: 7.2881\n",
            "Epoch 331/500\n",
            "2/2 [==============================] - 0s 10ms/step - loss: 22.5842 - mae: 22.5842\n",
            "Epoch 332/500\n",
            "2/2 [==============================] - 0s 7ms/step - loss: 13.3360 - mae: 13.3360\n",
            "Epoch 333/500\n",
            "2/2 [==============================] - 0s 7ms/step - loss: 10.1543 - mae: 10.1543\n",
            "Epoch 334/500\n",
            "2/2 [==============================] - 0s 9ms/step - loss: 6.5975 - mae: 6.5975\n",
            "Epoch 335/500\n",
            "2/2 [==============================] - 0s 8ms/step - loss: 6.2335 - mae: 6.2335\n",
            "Epoch 336/500\n",
            "2/2 [==============================] - 0s 8ms/step - loss: 34.5863 - mae: 34.5863\n",
            "Epoch 337/500\n",
            "2/2 [==============================] - 0s 16ms/step - loss: 26.9991 - mae: 26.9991\n",
            "Epoch 338/500\n",
            "2/2 [==============================] - 0s 13ms/step - loss: 14.0153 - mae: 14.0153\n",
            "Epoch 339/500\n",
            "2/2 [==============================] - 0s 8ms/step - loss: 11.5712 - mae: 11.5712\n",
            "Epoch 340/500\n",
            "2/2 [==============================] - 0s 10ms/step - loss: 8.8016 - mae: 8.8016\n",
            "Epoch 341/500\n",
            "2/2 [==============================] - 0s 10ms/step - loss: 23.4260 - mae: 23.4260\n",
            "Epoch 342/500\n",
            "2/2 [==============================] - 0s 10ms/step - loss: 13.9665 - mae: 13.9665\n",
            "Epoch 343/500\n",
            "2/2 [==============================] - 0s 12ms/step - loss: 14.7923 - mae: 14.7923\n",
            "Epoch 344/500\n",
            "2/2 [==============================] - 0s 10ms/step - loss: 13.3627 - mae: 13.3627\n",
            "Epoch 345/500\n",
            "2/2 [==============================] - 0s 9ms/step - loss: 31.0009 - mae: 31.0009\n",
            "Epoch 346/500\n",
            "2/2 [==============================] - 0s 9ms/step - loss: 10.6780 - mae: 10.6780\n",
            "Epoch 347/500\n",
            "2/2 [==============================] - 0s 7ms/step - loss: 25.6862 - mae: 25.6862\n",
            "Epoch 348/500\n",
            "2/2 [==============================] - 0s 10ms/step - loss: 12.9765 - mae: 12.9765\n",
            "Epoch 349/500\n",
            "2/2 [==============================] - 0s 11ms/step - loss: 13.1146 - mae: 13.1146\n",
            "Epoch 350/500\n",
            "2/2 [==============================] - 0s 10ms/step - loss: 15.4159 - mae: 15.4159\n",
            "Epoch 351/500\n",
            "2/2 [==============================] - 0s 8ms/step - loss: 32.9363 - mae: 32.9363\n",
            "Epoch 352/500\n",
            "2/2 [==============================] - 0s 12ms/step - loss: 14.1567 - mae: 14.1567\n",
            "Epoch 353/500\n",
            "2/2 [==============================] - 0s 9ms/step - loss: 15.8823 - mae: 15.8823\n",
            "Epoch 354/500\n",
            "2/2 [==============================] - 0s 10ms/step - loss: 19.0100 - mae: 19.0100\n",
            "Epoch 355/500\n",
            "2/2 [==============================] - 0s 9ms/step - loss: 34.3354 - mae: 34.3354\n",
            "Epoch 356/500\n",
            "2/2 [==============================] - 0s 8ms/step - loss: 8.2818 - mae: 8.2818\n",
            "Epoch 357/500\n",
            "2/2 [==============================] - 0s 8ms/step - loss: 21.8591 - mae: 21.8591\n",
            "Epoch 358/500\n",
            "2/2 [==============================] - 0s 12ms/step - loss: 19.9902 - mae: 19.9902\n",
            "Epoch 359/500\n",
            "2/2 [==============================] - 0s 8ms/step - loss: 11.0373 - mae: 11.0373\n",
            "Epoch 360/500\n",
            "2/2 [==============================] - 0s 8ms/step - loss: 20.2743 - mae: 20.2743\n",
            "Epoch 361/500\n",
            "2/2 [==============================] - 0s 9ms/step - loss: 10.9946 - mae: 10.9946\n",
            "Epoch 362/500\n",
            "2/2 [==============================] - 0s 10ms/step - loss: 6.7914 - mae: 6.7914\n",
            "Epoch 363/500\n",
            "2/2 [==============================] - 0s 8ms/step - loss: 23.9998 - mae: 23.9998\n",
            "Epoch 364/500\n",
            "2/2 [==============================] - 0s 9ms/step - loss: 29.7603 - mae: 29.7603\n",
            "Epoch 365/500\n",
            "2/2 [==============================] - 0s 8ms/step - loss: 8.3268 - mae: 8.3268\n",
            "Epoch 366/500\n",
            "2/2 [==============================] - 0s 9ms/step - loss: 6.0671 - mae: 6.0671\n",
            "Epoch 367/500\n",
            "2/2 [==============================] - 0s 10ms/step - loss: 34.9522 - mae: 34.9522\n",
            "Epoch 368/500\n",
            "2/2 [==============================] - 0s 8ms/step - loss: 7.3882 - mae: 7.3882\n",
            "Epoch 369/500\n",
            "2/2 [==============================] - 0s 8ms/step - loss: 9.2217 - mae: 9.2217\n",
            "Epoch 370/500\n",
            "2/2 [==============================] - 0s 9ms/step - loss: 10.9415 - mae: 10.9415\n",
            "Epoch 371/500\n",
            "2/2 [==============================] - 0s 7ms/step - loss: 9.0043 - mae: 9.0043\n",
            "Epoch 372/500\n",
            "2/2 [==============================] - 0s 10ms/step - loss: 7.6735 - mae: 7.6735\n",
            "Epoch 373/500\n",
            "2/2 [==============================] - 0s 8ms/step - loss: 25.0257 - mae: 25.0257\n",
            "Epoch 374/500\n",
            "2/2 [==============================] - 0s 8ms/step - loss: 13.2906 - mae: 13.2906\n",
            "Epoch 375/500\n",
            "2/2 [==============================] - 0s 9ms/step - loss: 11.8180 - mae: 11.8180\n",
            "Epoch 376/500\n",
            "2/2 [==============================] - 0s 9ms/step - loss: 14.1015 - mae: 14.1015\n",
            "Epoch 377/500\n",
            "2/2 [==============================] - 0s 7ms/step - loss: 15.6815 - mae: 15.6815\n",
            "Epoch 378/500\n",
            "2/2 [==============================] - 0s 7ms/step - loss: 16.9873 - mae: 16.9873\n",
            "Epoch 379/500\n",
            "2/2 [==============================] - 0s 9ms/step - loss: 19.4930 - mae: 19.4930\n",
            "Epoch 380/500\n",
            "2/2 [==============================] - 0s 13ms/step - loss: 15.8549 - mae: 15.8549\n",
            "Epoch 381/500\n",
            "2/2 [==============================] - 0s 6ms/step - loss: 11.4191 - mae: 11.4191\n",
            "Epoch 382/500\n",
            "2/2 [==============================] - 0s 7ms/step - loss: 16.3027 - mae: 16.3027\n",
            "Epoch 383/500\n",
            "2/2 [==============================] - 0s 7ms/step - loss: 22.0431 - mae: 22.0431\n",
            "Epoch 384/500\n",
            "2/2 [==============================] - 0s 11ms/step - loss: 7.7855 - mae: 7.7855\n",
            "Epoch 385/500\n",
            "2/2 [==============================] - 0s 8ms/step - loss: 10.5694 - mae: 10.5694\n",
            "Epoch 386/500\n",
            "2/2 [==============================] - 0s 7ms/step - loss: 19.0185 - mae: 19.0185\n",
            "Epoch 387/500\n",
            "2/2 [==============================] - 0s 8ms/step - loss: 15.4122 - mae: 15.4122\n",
            "Epoch 388/500\n",
            "2/2 [==============================] - 0s 8ms/step - loss: 5.8730 - mae: 5.8730\n",
            "Epoch 389/500\n",
            "2/2 [==============================] - 0s 10ms/step - loss: 18.0331 - mae: 18.0331\n",
            "Epoch 390/500\n",
            "2/2 [==============================] - 0s 7ms/step - loss: 24.7818 - mae: 24.7818\n",
            "Epoch 391/500\n",
            "2/2 [==============================] - 0s 7ms/step - loss: 16.4723 - mae: 16.4723\n",
            "Epoch 392/500\n",
            "2/2 [==============================] - 0s 7ms/step - loss: 8.3672 - mae: 8.3672\n",
            "Epoch 393/500\n",
            "2/2 [==============================] - 0s 8ms/step - loss: 18.1433 - mae: 18.1433\n",
            "Epoch 394/500\n",
            "2/2 [==============================] - 0s 7ms/step - loss: 14.1932 - mae: 14.1932\n",
            "Epoch 395/500\n",
            "2/2 [==============================] - 0s 8ms/step - loss: 28.6764 - mae: 28.6764\n",
            "Epoch 396/500\n",
            "2/2 [==============================] - 0s 8ms/step - loss: 8.1590 - mae: 8.1590\n",
            "Epoch 397/500\n",
            "2/2 [==============================] - 0s 8ms/step - loss: 10.4970 - mae: 10.4970\n",
            "Epoch 398/500\n",
            "2/2 [==============================] - 0s 7ms/step - loss: 7.3442 - mae: 7.3442\n",
            "Epoch 399/500\n",
            "2/2 [==============================] - 0s 7ms/step - loss: 15.6239 - mae: 15.6239\n",
            "Epoch 400/500\n",
            "2/2 [==============================] - 0s 8ms/step - loss: 6.6990 - mae: 6.6990\n",
            "Epoch 401/500\n",
            "2/2 [==============================] - 0s 12ms/step - loss: 8.0023 - mae: 8.0023\n",
            "Epoch 402/500\n",
            "2/2 [==============================] - 0s 7ms/step - loss: 16.4721 - mae: 16.4721\n",
            "Epoch 403/500\n",
            "2/2 [==============================] - 0s 8ms/step - loss: 12.3255 - mae: 12.3255\n",
            "Epoch 404/500\n",
            "2/2 [==============================] - 0s 8ms/step - loss: 22.9024 - mae: 22.9024\n",
            "Epoch 405/500\n",
            "2/2 [==============================] - 0s 9ms/step - loss: 18.1668 - mae: 18.1668\n",
            "Epoch 406/500\n",
            "2/2 [==============================] - 0s 8ms/step - loss: 7.0413 - mae: 7.0413\n",
            "Epoch 407/500\n",
            "2/2 [==============================] - 0s 7ms/step - loss: 12.6880 - mae: 12.6880\n",
            "Epoch 408/500\n",
            "2/2 [==============================] - 0s 7ms/step - loss: 5.6385 - mae: 5.6385\n",
            "Epoch 409/500\n",
            "2/2 [==============================] - 0s 7ms/step - loss: 31.3579 - mae: 31.3579\n",
            "Epoch 410/500\n",
            "2/2 [==============================] - 0s 7ms/step - loss: 9.2070 - mae: 9.2070\n",
            "Epoch 411/500\n",
            "2/2 [==============================] - 0s 7ms/step - loss: 14.8391 - mae: 14.8391\n",
            "Epoch 412/500\n",
            "2/2 [==============================] - 0s 7ms/step - loss: 21.7041 - mae: 21.7041\n",
            "Epoch 413/500\n",
            "2/2 [==============================] - 0s 8ms/step - loss: 12.6665 - mae: 12.6665\n",
            "Epoch 414/500\n",
            "2/2 [==============================] - 0s 7ms/step - loss: 6.0111 - mae: 6.0111\n",
            "Epoch 415/500\n",
            "2/2 [==============================] - 0s 8ms/step - loss: 13.2124 - mae: 13.2124\n",
            "Epoch 416/500\n",
            "2/2 [==============================] - 0s 7ms/step - loss: 27.4096 - mae: 27.4096\n",
            "Epoch 417/500\n",
            "2/2 [==============================] - 0s 8ms/step - loss: 10.6788 - mae: 10.6788\n",
            "Epoch 418/500\n",
            "2/2 [==============================] - 0s 9ms/step - loss: 12.7942 - mae: 12.7942\n",
            "Epoch 419/500\n",
            "2/2 [==============================] - 0s 10ms/step - loss: 15.8502 - mae: 15.8502\n",
            "Epoch 420/500\n",
            "2/2 [==============================] - 0s 9ms/step - loss: 24.7137 - mae: 24.7137\n",
            "Epoch 421/500\n",
            "2/2 [==============================] - 0s 9ms/step - loss: 17.5689 - mae: 17.5689\n",
            "Epoch 422/500\n",
            "2/2 [==============================] - 0s 7ms/step - loss: 8.6785 - mae: 8.6785\n",
            "Epoch 423/500\n",
            "2/2 [==============================] - 0s 9ms/step - loss: 24.8987 - mae: 24.8987\n",
            "Epoch 424/500\n",
            "2/2 [==============================] - 0s 10ms/step - loss: 16.2864 - mae: 16.2864\n",
            "Epoch 425/500\n",
            "2/2 [==============================] - 0s 9ms/step - loss: 7.1192 - mae: 7.1192\n",
            "Epoch 426/500\n",
            "2/2 [==============================] - 0s 8ms/step - loss: 20.3994 - mae: 20.3994\n",
            "Epoch 427/500\n",
            "2/2 [==============================] - 0s 9ms/step - loss: 6.2943 - mae: 6.2943\n",
            "Epoch 428/500\n",
            "2/2 [==============================] - 0s 7ms/step - loss: 13.0636 - mae: 13.0636\n",
            "Epoch 429/500\n",
            "2/2 [==============================] - 0s 10ms/step - loss: 10.8432 - mae: 10.8432\n",
            "Epoch 430/500\n",
            "2/2 [==============================] - 0s 14ms/step - loss: 11.7083 - mae: 11.7083\n",
            "Epoch 431/500\n",
            "2/2 [==============================] - 0s 6ms/step - loss: 7.8730 - mae: 7.8730\n",
            "Epoch 432/500\n",
            "2/2 [==============================] - 0s 7ms/step - loss: 22.1314 - mae: 22.1314\n",
            "Epoch 433/500\n",
            "2/2 [==============================] - 0s 8ms/step - loss: 5.8746 - mae: 5.8746\n",
            "Epoch 434/500\n",
            "2/2 [==============================] - 0s 8ms/step - loss: 32.6621 - mae: 32.6621\n",
            "Epoch 435/500\n",
            "2/2 [==============================] - 0s 7ms/step - loss: 13.6655 - mae: 13.6655\n",
            "Epoch 436/500\n",
            "2/2 [==============================] - 0s 7ms/step - loss: 28.9087 - mae: 28.9087\n",
            "Epoch 437/500\n",
            "2/2 [==============================] - 0s 9ms/step - loss: 8.5816 - mae: 8.5816\n",
            "Epoch 438/500\n",
            "2/2 [==============================] - 0s 9ms/step - loss: 12.7165 - mae: 12.7165\n",
            "Epoch 439/500\n",
            "2/2 [==============================] - 0s 8ms/step - loss: 33.6911 - mae: 33.6911\n",
            "Epoch 440/500\n",
            "2/2 [==============================] - 0s 8ms/step - loss: 15.0819 - mae: 15.0819\n",
            "Epoch 441/500\n",
            "2/2 [==============================] - 0s 7ms/step - loss: 17.4660 - mae: 17.4660\n",
            "Epoch 442/500\n",
            "2/2 [==============================] - 0s 7ms/step - loss: 22.3050 - mae: 22.3050\n",
            "Epoch 443/500\n",
            "2/2 [==============================] - 0s 7ms/step - loss: 23.5789 - mae: 23.5789\n",
            "Epoch 444/500\n",
            "2/2 [==============================] - 0s 7ms/step - loss: 10.9764 - mae: 10.9764\n",
            "Epoch 445/500\n",
            "2/2 [==============================] - 0s 7ms/step - loss: 14.8972 - mae: 14.8972\n",
            "Epoch 446/500\n",
            "2/2 [==============================] - 0s 8ms/step - loss: 17.9704 - mae: 17.9704\n",
            "Epoch 447/500\n",
            "2/2 [==============================] - 0s 8ms/step - loss: 5.4020 - mae: 5.4020\n",
            "Epoch 448/500\n",
            "2/2 [==============================] - 0s 8ms/step - loss: 10.0071 - mae: 10.0071\n",
            "Epoch 449/500\n",
            "2/2 [==============================] - 0s 7ms/step - loss: 13.9693 - mae: 13.9693\n",
            "Epoch 450/500\n",
            "2/2 [==============================] - 0s 7ms/step - loss: 16.7352 - mae: 16.7352\n",
            "Epoch 451/500\n",
            "2/2 [==============================] - 0s 7ms/step - loss: 14.2588 - mae: 14.2588\n",
            "Epoch 452/500\n",
            "2/2 [==============================] - 0s 7ms/step - loss: 30.5946 - mae: 30.5946\n",
            "Epoch 453/500\n",
            "2/2 [==============================] - 0s 8ms/step - loss: 7.6089 - mae: 7.6089\n",
            "Epoch 454/500\n",
            "2/2 [==============================] - 0s 8ms/step - loss: 28.1001 - mae: 28.1001\n",
            "Epoch 455/500\n",
            "2/2 [==============================] - 0s 8ms/step - loss: 8.2912 - mae: 8.2912\n",
            "Epoch 456/500\n",
            "2/2 [==============================] - 0s 8ms/step - loss: 12.0180 - mae: 12.0180\n",
            "Epoch 457/500\n",
            "2/2 [==============================] - 0s 8ms/step - loss: 15.4213 - mae: 15.4213\n",
            "Epoch 458/500\n",
            "2/2 [==============================] - 0s 8ms/step - loss: 16.9762 - mae: 16.9762\n",
            "Epoch 459/500\n",
            "2/2 [==============================] - 0s 10ms/step - loss: 15.3041 - mae: 15.3041\n",
            "Epoch 460/500\n",
            "2/2 [==============================] - 0s 9ms/step - loss: 7.3808 - mae: 7.3808\n",
            "Epoch 461/500\n",
            "2/2 [==============================] - 0s 9ms/step - loss: 15.6688 - mae: 15.6688\n",
            "Epoch 462/500\n",
            "2/2 [==============================] - 0s 7ms/step - loss: 15.1621 - mae: 15.1621\n",
            "Epoch 463/500\n",
            "2/2 [==============================] - 0s 9ms/step - loss: 16.7950 - mae: 16.7950\n",
            "Epoch 464/500\n",
            "2/2 [==============================] - 0s 10ms/step - loss: 11.2216 - mae: 11.2216\n",
            "Epoch 465/500\n",
            "2/2 [==============================] - 0s 7ms/step - loss: 21.5173 - mae: 21.5173\n",
            "Epoch 466/500\n",
            "2/2 [==============================] - 0s 8ms/step - loss: 25.0927 - mae: 25.0927\n",
            "Epoch 467/500\n",
            "2/2 [==============================] - 0s 8ms/step - loss: 14.9073 - mae: 14.9073\n",
            "Epoch 468/500\n",
            "2/2 [==============================] - 0s 8ms/step - loss: 10.3451 - mae: 10.3451\n",
            "Epoch 469/500\n",
            "2/2 [==============================] - 0s 11ms/step - loss: 27.3447 - mae: 27.3447\n",
            "Epoch 470/500\n",
            "2/2 [==============================] - 0s 8ms/step - loss: 12.4614 - mae: 12.4614\n",
            "Epoch 471/500\n",
            "2/2 [==============================] - 0s 7ms/step - loss: 12.1609 - mae: 12.1609\n",
            "Epoch 472/500\n",
            "2/2 [==============================] - 0s 8ms/step - loss: 15.4839 - mae: 15.4839\n",
            "Epoch 473/500\n",
            "2/2 [==============================] - 0s 7ms/step - loss: 19.4897 - mae: 19.4897\n",
            "Epoch 474/500\n",
            "2/2 [==============================] - 0s 9ms/step - loss: 38.4504 - mae: 38.4504\n",
            "Epoch 475/500\n",
            "2/2 [==============================] - 0s 12ms/step - loss: 15.4567 - mae: 15.4567\n",
            "Epoch 476/500\n",
            "2/2 [==============================] - 0s 10ms/step - loss: 13.5097 - mae: 13.5097\n",
            "Epoch 477/500\n",
            "2/2 [==============================] - 0s 8ms/step - loss: 29.9100 - mae: 29.9100\n",
            "Epoch 478/500\n",
            "2/2 [==============================] - 0s 8ms/step - loss: 5.3386 - mae: 5.3386\n",
            "Epoch 479/500\n",
            "2/2 [==============================] - 0s 8ms/step - loss: 13.1848 - mae: 13.1848\n",
            "Epoch 480/500\n",
            "2/2 [==============================] - 0s 8ms/step - loss: 19.4734 - mae: 19.4734\n",
            "Epoch 481/500\n",
            "2/2 [==============================] - 0s 7ms/step - loss: 20.2908 - mae: 20.2908\n",
            "Epoch 482/500\n",
            "2/2 [==============================] - 0s 8ms/step - loss: 9.2059 - mae: 9.2059\n",
            "Epoch 483/500\n",
            "2/2 [==============================] - 0s 7ms/step - loss: 10.0912 - mae: 10.0912\n",
            "Epoch 484/500\n",
            "2/2 [==============================] - 0s 10ms/step - loss: 14.6979 - mae: 14.6979\n",
            "Epoch 485/500\n",
            "2/2 [==============================] - 0s 9ms/step - loss: 10.3755 - mae: 10.3755\n",
            "Epoch 486/500\n",
            "2/2 [==============================] - 0s 8ms/step - loss: 17.8110 - mae: 17.8110\n",
            "Epoch 487/500\n",
            "2/2 [==============================] - 0s 9ms/step - loss: 10.8254 - mae: 10.8254\n",
            "Epoch 488/500\n",
            "2/2 [==============================] - 0s 10ms/step - loss: 26.9126 - mae: 26.9126\n",
            "Epoch 489/500\n",
            "2/2 [==============================] - 0s 10ms/step - loss: 5.4499 - mae: 5.4499\n",
            "Epoch 490/500\n",
            "2/2 [==============================] - 0s 11ms/step - loss: 6.1368 - mae: 6.1368\n",
            "Epoch 491/500\n",
            "2/2 [==============================] - 0s 8ms/step - loss: 19.4427 - mae: 19.4427\n",
            "Epoch 492/500\n",
            "2/2 [==============================] - 0s 9ms/step - loss: 6.7602 - mae: 6.7602\n",
            "Epoch 493/500\n",
            "2/2 [==============================] - 0s 8ms/step - loss: 18.6601 - mae: 18.6601\n",
            "Epoch 494/500\n",
            "2/2 [==============================] - 0s 8ms/step - loss: 19.0798 - mae: 19.0798\n",
            "Epoch 495/500\n",
            "2/2 [==============================] - 0s 8ms/step - loss: 5.7554 - mae: 5.7554\n",
            "Epoch 496/500\n",
            "2/2 [==============================] - 0s 8ms/step - loss: 5.9791 - mae: 5.9791\n",
            "Epoch 497/500\n",
            "2/2 [==============================] - 0s 8ms/step - loss: 12.6399 - mae: 12.6399\n",
            "Epoch 498/500\n",
            "2/2 [==============================] - 0s 8ms/step - loss: 6.3750 - mae: 6.3750\n",
            "Epoch 499/500\n",
            "2/2 [==============================] - 0s 7ms/step - loss: 16.0277 - mae: 16.0277\n",
            "Epoch 500/500\n",
            "2/2 [==============================] - 0s 7ms/step - loss: 14.3115 - mae: 14.3115\n"
          ]
        },
        {
          "output_type": "execute_result",
          "data": {
            "text/plain": [
              "<keras.src.callbacks.History at 0x7de990ebaad0>"
            ]
          },
          "metadata": {},
          "execution_count": 163
        }
      ]
    },
    {
      "cell_type": "code",
      "source": [
        "y_preds_3 = model_3.predict(X_test)\n",
        "plot_predictions(predictions=y_preds_3)"
      ],
      "metadata": {
        "colab": {
          "base_uri": "https://localhost:8080/",
          "height": 616
        },
        "id": "0R-9uJBldvHd",
        "outputId": "17e6efb1-d643-413a-c265-9f078f9ef62b"
      },
      "execution_count": null,
      "outputs": [
        {
          "output_type": "stream",
          "name": "stdout",
          "text": [
            "1/1 [==============================] - 0s 198ms/step\n"
          ]
        },
        {
          "output_type": "display_data",
          "data": {
            "text/plain": [
              "<Figure size 1000x700 with 1 Axes>"
            ],
            "image/png": "[encoded data removed]"
          },
          "metadata": {}
        }
      ]
    },
    {
      "cell_type": "code",
      "source": [
        "mae_exp3 = mae(y_test, y_preds_3).numpy() # we used the tf.squeeze function\n",
        "mse_exp3 = mse(y_test, y_preds_3).numpy() # use numpy for reason below - pandas\n",
        "                                          # DataFrame below\n",
        "print(mae_exp3)\n",
        "print(\"\\n\")\n",
        "print(mse_exp3)"
      ],
      "metadata": {
        "colab": {
          "base_uri": "https://localhost:8080/"
        },
        "id": "YHkvoCwufceT",
        "outputId": "83edb315-4dfb-4207-8b08-35e3c3f9ee70"
      },
      "execution_count": null,
      "outputs": [
        {
          "output_type": "stream",
          "name": "stdout",
          "text": [
            "67.65187\n",
            "\n",
            "\n",
            "4660.837\n"
          ]
        }
      ]
    },
    {
      "cell_type": "code",
      "source": [
        "# THAT SUCKS!"
      ],
      "metadata": {
        "id": "ixQy0YEmfomA"
      },
      "execution_count": null,
      "outputs": []
    },
    {
      "cell_type": "code",
      "source": [
        "# How to compare results of all 3 models\n",
        "# Create a pandas DataFrame\n",
        "import pandas as pd"
      ],
      "metadata": {
        "id": "mGAFjf5Eth11"
      },
      "execution_count": null,
      "outputs": []
    },
    {
      "cell_type": "code",
      "source": [
        "model_results = ([\"model\", mae_exp1, mse_exp1],\n",
        "                 [\"model_2\", mae_exp2, mse_exp2],\n",
        "                 [\"model_3\", mae_exp3, mse_exp3])\n",
        "all_results = pd.DataFrame(model_results, columns=[\"Model Name\", \"MAE\", \"MSE\"])\n",
        "all_results"
      ],
      "metadata": {
        "colab": {
          "base_uri": "https://localhost:8080/",
          "height": 143
        },
        "id": "T0QZkMeCuKbO",
        "outputId": "4bc97372-80e7-4a41-d0b9-4f838c4849cb"
      },
      "execution_count": null,
      "outputs": [
        {
          "output_type": "execute_result",
          "data": {
            "text/plain": [
              "  Model Name        MAE          MSE\n",
              "0      model   8.349749    76.037292\n",
              "1    model_2   3.784795    16.514318\n",
              "2    model_3  67.651871  4660.836914"
            ],
            "text/html": [
              "\n",
              "  <div id=\"df-98ed7fe9-142d-4fd8-bbe3-f16d9b17ef82\" class=\"colab-df-container\">\n",
              "    <div>\n",
              "<style scoped>\n",
              "    .dataframe tbody tr th:only-of-type {\n",
              "        vertical-align: middle;\n",
              "    }\n",
              "\n",
              "    .dataframe tbody tr th {\n",
              "        vertical-align: top;\n",
              "    }\n",
              "\n",
              "    .dataframe thead th {\n",
              "        text-align: right;\n",
              "    }\n",
              "</style>\n",
              "<table border=\"1\" class=\"dataframe\">\n",
              "  <thead>\n",
              "    <tr style=\"text-align: right;\">\n",
              "      <th></th>\n",
              "      <th>Model Name</th>\n",
              "      <th>MAE</th>\n",
              "      <th>MSE</th>\n",
              "    </tr>\n",
              "  </thead>\n",
              "  <tbody>\n",
              "    <tr>\n",
              "      <th>0</th>\n",
              "      <td>model</td>\n",
              "      <td>8.349749</td>\n",
              "      <td>76.037292</td>\n",
              "    </tr>\n",
              "    <tr>\n",
              "      <th>1</th>\n",
              "      <td>model_2</td>\n",
              "      <td>3.784795</td>\n",
              "      <td>16.514318</td>\n",
              "    </tr>\n",
              "    <tr>\n",
              "      <th>2</th>\n",
              "      <td>model_3</td>\n",
              "      <td>67.651871</td>\n",
              "      <td>4660.836914</td>\n",
              "    </tr>\n",
              "  </tbody>\n",
              "</table>\n",
              "</div>\n",
              "    <div class=\"colab-df-buttons\">\n",
              "\n",
              "  <div class=\"colab-df-container\">\n",
              "    <button class=\"colab-df-convert\" onclick=\"convertToInteractive('df-98ed7fe9-142d-4fd8-bbe3-f16d9b17ef82')\"\n",
              "            title=\"Convert this dataframe to an interactive table.\"\n",
              "            style=\"display:none;\">\n",
              "\n",
              "  <svg xmlns=\"http://www.w3.org/2000/svg\" height=\"24px\" viewBox=\"0 -960 960 960\">\n",
              "    <path d=\"M120-120v-720h720v720H120Zm60-500h600v-160H180v160Zm220 220h160v-160H400v160Zm0 220h160v-160H400v160ZM180-400h160v-160H180v160Zm440 0h160v-160H620v160ZM180-180h160v-160H180v160Zm440 0h160v-160H620v160Z\"/>\n",
              "  </svg>\n",
              "    </button>\n",
              "\n",
              "  <style>\n",
              "    .colab-df-container {\n",
              "      display:flex;\n",
              "      gap: 12px;\n",
              "    }\n",
              "\n",
              "    .colab-df-convert {\n",
              "      background-color: #E8F0FE;\n",
              "      border: none;\n",
              "      border-radius: 50%;\n",
              "      cursor: pointer;\n",
              "      display: none;\n",
              "      fill: #1967D2;\n",
              "      height: 32px;\n",
              "      padding: 0 0 0 0;\n",
              "      width: 32px;\n",
              "    }\n",
              "\n",
              "    .colab-df-convert:hover {\n",
              "      background-color: #E2EBFA;\n",
              "      box-shadow: 0px 1px 2px rgba(60, 64, 67, 0.3), 0px 1px 3px 1px rgba(60, 64, 67, 0.15);\n",
              "      fill: #174EA6;\n",
              "    }\n",
              "\n",
              "    .colab-df-buttons div {\n",
              "      margin-bottom: 4px;\n",
              "    }\n",
              "\n",
              "    [theme=dark] .colab-df-convert {\n",
              "      background-color: #3B4455;\n",
              "      fill: #D2E3FC;\n",
              "    }\n",
              "\n",
              "    [theme=dark] .colab-df-convert:hover {\n",
              "      background-color: #434B5C;\n",
              "      box-shadow: 0px 1px 3px 1px rgba(0, 0, 0, 0.15);\n",
              "      filter: drop-shadow(0px 1px 2px rgba(0, 0, 0, 0.3));\n",
              "      fill: #FFFFFF;\n",
              "    }\n",
              "  </style>\n",
              "\n",
              "    <script>\n",
              "      const buttonEl =\n",
              "        document.querySelector('#df-98ed7fe9-142d-4fd8-bbe3-f16d9b17ef82 button.colab-df-convert');\n",
              "      buttonEl.style.display =\n",
              "        google.colab.kernel.accessAllowed ? 'block' : 'none';\n",
              "\n",
              "      async function convertToInteractive(key) {\n",
              "        const element = document.querySelector('#df-98ed7fe9-142d-4fd8-bbe3-f16d9b17ef82');\n",
              "        const dataTable =\n",
              "          await google.colab.kernel.invokeFunction('convertToInteractive',\n",
              "                                                    [key], {});\n",
              "        if (!dataTable) return;\n",
              "\n",
              "        const docLinkHtml = 'Like what you see? Visit the ' +\n",
              "          '<a target=\"_blank\" href=https://colab.research.google.com/notebooks/data_table.ipynb>data table notebook</a>'\n",
              "          + ' to learn more about interactive tables.';\n",
              "        element.innerHTML = '';\n",
              "        dataTable['output_type'] = 'display_data';\n",
              "        await google.colab.output.renderOutput(dataTable, element);\n",
              "        const docLink = document.createElement('div');\n",
              "        docLink.innerHTML = docLinkHtml;\n",
              "        element.appendChild(docLink);\n",
              "      }\n",
              "    </script>\n",
              "  </div>\n",
              "\n",
              "\n",
              "<div id=\"df-7a373501-546e-4043-979d-43696f956d4a\">\n",
              "  <button class=\"colab-df-quickchart\" onclick=\"quickchart('df-7a373501-546e-4043-979d-43696f956d4a')\"\n",
              "            title=\"Suggest charts\"\n",
              "            style=\"display:none;\">\n",
              "\n",
              "<svg xmlns=\"http://www.w3.org/2000/svg\" height=\"24px\"viewBox=\"0 0 24 24\"\n",
              "     width=\"24px\">\n",
              "    <g>\n",
              "        <path d=\"M19 3H5c-1.1 0-2 .9-2 2v14c0 1.1.9 2 2 2h14c1.1 0 2-.9 2-2V5c0-1.1-.9-2-2-2zM9 17H7v-7h2v7zm4 0h-2V7h2v10zm4 0h-2v-4h2v4z\"/>\n",
              "    </g>\n",
              "</svg>\n",
              "  </button>\n",
              "\n",
              "<style>\n",
              "  .colab-df-quickchart {\n",
              "      --bg-color: #E8F0FE;\n",
              "      --fill-color: #1967D2;\n",
              "      --hover-bg-color: #E2EBFA;\n",
              "      --hover-fill-color: #174EA6;\n",
              "      --disabled-fill-color: #AAA;\n",
              "      --disabled-bg-color: #DDD;\n",
              "  }\n",
              "\n",
              "  [theme=dark] .colab-df-quickchart {\n",
              "      --bg-color: #3B4455;\n",
              "      --fill-color: #D2E3FC;\n",
              "      --hover-bg-color: #434B5C;\n",
              "      --hover-fill-color: #FFFFFF;\n",
              "      --disabled-bg-color: #3B4455;\n",
              "      --disabled-fill-color: #666;\n",
              "  }\n",
              "\n",
              "  .colab-df-quickchart {\n",
              "    background-color: var(--bg-color);\n",
              "    border: none;\n",
              "    border-radius: 50%;\n",
              "    cursor: pointer;\n",
              "    display: none;\n",
              "    fill: var(--fill-color);\n",
              "    height: 32px;\n",
              "    padding: 0;\n",
              "    width: 32px;\n",
              "  }\n",
              "\n",
              "  .colab-df-quickchart:hover {\n",
              "    background-color: var(--hover-bg-color);\n",
              "    box-shadow: 0 1px 2px rgba(60, 64, 67, 0.3), 0 1px 3px 1px rgba(60, 64, 67, 0.15);\n",
              "    fill: var(--button-hover-fill-color);\n",
              "  }\n",
              "\n",
              "  .colab-df-quickchart-complete:disabled,\n",
              "  .colab-df-quickchart-complete:disabled:hover {\n",
              "    background-color: var(--disabled-bg-color);\n",
              "    fill: var(--disabled-fill-color);\n",
              "    box-shadow: none;\n",
              "  }\n",
              "\n",
              "  .colab-df-spinner {\n",
              "    border: 2px solid var(--fill-color);\n",
              "    border-color: transparent;\n",
              "    border-bottom-color: var(--fill-color);\n",
              "    animation:\n",
              "      spin 1s steps(1) infinite;\n",
              "  }\n",
              "\n",
              "  @keyframes spin {\n",
              "    0% {\n",
              "      border-color: transparent;\n",
              "      border-bottom-color: var(--fill-color);\n",
              "      border-left-color: var(--fill-color);\n",
              "    }\n",
              "    20% {\n",
              "      border-color: transparent;\n",
              "      border-left-color: var(--fill-color);\n",
              "      border-top-color: var(--fill-color);\n",
              "    }\n",
              "    30% {\n",
              "      border-color: transparent;\n",
              "      border-left-color: var(--fill-color);\n",
              "      border-top-color: var(--fill-color);\n",
              "      border-right-color: var(--fill-color);\n",
              "    }\n",
              "    40% {\n",
              "      border-color: transparent;\n",
              "      border-right-color: var(--fill-color);\n",
              "      border-top-color: var(--fill-color);\n",
              "    }\n",
              "    60% {\n",
              "      border-color: transparent;\n",
              "      border-right-color: var(--fill-color);\n",
              "    }\n",
              "    80% {\n",
              "      border-color: transparent;\n",
              "      border-right-color: var(--fill-color);\n",
              "      border-bottom-color: var(--fill-color);\n",
              "    }\n",
              "    90% {\n",
              "      border-color: transparent;\n",
              "      border-bottom-color: var(--fill-color);\n",
              "    }\n",
              "  }\n",
              "</style>\n",
              "\n",
              "  <script>\n",
              "    async function quickchart(key) {\n",
              "      const quickchartButtonEl =\n",
              "        document.querySelector('#' + key + ' button');\n",
              "      quickchartButtonEl.disabled = true;  // To prevent multiple clicks.\n",
              "      quickchartButtonEl.classList.add('colab-df-spinner');\n",
              "      try {\n",
              "        const charts = await google.colab.kernel.invokeFunction(\n",
              "            'suggestCharts', [key], {});\n",
              "      } catch (error) {\n",
              "        console.error('Error during call to suggestCharts:', error);\n",
              "      }\n",
              "      quickchartButtonEl.classList.remove('colab-df-spinner');\n",
              "      quickchartButtonEl.classList.add('colab-df-quickchart-complete');\n",
              "    }\n",
              "    (() => {\n",
              "      let quickchartButtonEl =\n",
              "        document.querySelector('#df-7a373501-546e-4043-979d-43696f956d4a button');\n",
              "      quickchartButtonEl.style.display =\n",
              "        google.colab.kernel.accessAllowed ? 'block' : 'none';\n",
              "    })();\n",
              "  </script>\n",
              "</div>\n",
              "    </div>\n",
              "  </div>\n"
            ]
          },
          "metadata": {},
          "execution_count": 188
        }
      ]
    },
    {
      "cell_type": "code",
      "source": [
        "# Model 2 is clear winner"
      ],
      "metadata": {
        "id": "RzoR3LAxurhw"
      },
      "execution_count": null,
      "outputs": []
    },
    {
      "cell_type": "markdown",
      "source": [
        "# Minimize time between experiments should be one of main goals, the more experiments done, the more you will find what DOESN'T WORK, and get closer to what DOES WORK"
      ],
      "metadata": {
        "id": "M5co_gLoxiP8"
      }
    },
    {
      "cell_type": "markdown",
      "source": [
        "# Tracking your experiments\n",
        "## One good habit is to track results of experiments - can be tedious if you run a great deal of them. There are extensions, such as TensorBoard, a compnent of the TensorFlow library to help track experiments. (We will revist this later)"
      ],
      "metadata": {
        "id": "wROVoooNyLwx"
      }
    },
    {
      "cell_type": "code",
      "source": [
        "# Saving our models for export for outside colab, such as an app\n",
        "# SavedModel format is default\n",
        "# keras format"
      ],
      "metadata": {
        "id": "9tsJSAVpywGe"
      },
      "execution_count": null,
      "outputs": []
    },
    {
      "cell_type": "code",
      "source": [
        "model_2.save(\"model_2\")"
      ],
      "metadata": {
        "id": "_4l9u8oW1iG_"
      },
      "execution_count": null,
      "outputs": []
    },
    {
      "cell_type": "code",
      "source": [
        "model_2.save(\"model_2.keras\")"
      ],
      "metadata": {
        "id": "64fOWcRb2aW3"
      },
      "execution_count": null,
      "outputs": []
    },
    {
      "cell_type": "code",
      "source": [
        "# load saved models\n",
        "load_model_default = tf.keras.models.load_model(\"/content/model_2\")\n",
        "load_model_default.summary()"
      ],
      "metadata": {
        "colab": {
          "base_uri": "https://localhost:8080/"
        },
        "id": "nPFmbhr327rQ",
        "outputId": "83a0a982-4a62-4a07-ad3f-04c2bc7d28c0"
      },
      "execution_count": null,
      "outputs": [
        {
          "output_type": "stream",
          "name": "stdout",
          "text": [
            "Model: \"sequential_14\"\n",
            "_________________________________________________________________\n",
            " Layer (type)                Output Shape              Param #   \n",
            "=================================================================\n",
            " dense_28 (Dense)            (None, 10)                20        \n",
            "                                                                 \n",
            " dense_29 (Dense)            (None, 1)                 11        \n",
            "                                                                 \n",
            "=================================================================\n",
            "Total params: 31 (124.00 Byte)\n",
            "Trainable params: 31 (124.00 Byte)\n",
            "Non-trainable params: 0 (0.00 Byte)\n",
            "_________________________________________________________________\n"
          ]
        }
      ]
    },
    {
      "cell_type": "code",
      "source": [
        "load_keras_model_2 = tf.keras.models.load_model(\"model_2.keras\")\n",
        "load_keras_model_2.summary()"
      ],
      "metadata": {
        "colab": {
          "base_uri": "https://localhost:8080/"
        },
        "id": "XH_iB_NV4eyz",
        "outputId": "ac95d170-45c5-41df-8b66-8eb30c9f6176"
      },
      "execution_count": null,
      "outputs": [
        {
          "output_type": "stream",
          "name": "stdout",
          "text": [
            "Model: \"sequential_14\"\n",
            "_________________________________________________________________\n",
            " Layer (type)                Output Shape              Param #   \n",
            "=================================================================\n",
            " dense_28 (Dense)            (None, 10)                20        \n",
            "                                                                 \n",
            " dense_29 (Dense)            (None, 1)                 11        \n",
            "                                                                 \n",
            "=================================================================\n",
            "Total params: 31 (124.00 Byte)\n",
            "Trainable params: 31 (124.00 Byte)\n",
            "Non-trainable params: 0 (0.00 Byte)\n",
            "_________________________________________________________________\n"
          ]
        }
      ]
    },
    {
      "cell_type": "code",
      "source": [
        "model_2.summary()"
      ],
      "metadata": {
        "colab": {
          "base_uri": "https://localhost:8080/"
        },
        "id": "w8oB2tRO5KuI",
        "outputId": "46713e0b-277b-4144-dc98-cf352e6fa29f"
      },
      "execution_count": null,
      "outputs": [
        {
          "output_type": "stream",
          "name": "stdout",
          "text": [
            "Model: \"sequential_14\"\n",
            "_________________________________________________________________\n",
            " Layer (type)                Output Shape              Param #   \n",
            "=================================================================\n",
            " dense_28 (Dense)            (None, 10)                20        \n",
            "                                                                 \n",
            " dense_29 (Dense)            (None, 1)                 11        \n",
            "                                                                 \n",
            "=================================================================\n",
            "Total params: 31 (124.00 Byte)\n",
            "Trainable params: 31 (124.00 Byte)\n",
            "Non-trainable params: 0 (0.00 Byte)\n",
            "_________________________________________________________________\n"
          ]
        }
      ]
    },
    {
      "cell_type": "code",
      "source": [
        "# Same all the way around\n",
        "# Compare predictions\n",
        "model_2_preds = model_2.predict(X_test)\n",
        "load_keras_model_2_preds = load_keras_model_2.predict(X_test)\n",
        "model_2_preds == load_keras_model_2_preds"
      ],
      "metadata": {
        "colab": {
          "base_uri": "https://localhost:8080/"
        },
        "id": "ozjdXSYN5iz7",
        "outputId": "303714b0-18aa-4712-cd34-c35cb3d698f8"
      },
      "execution_count": null,
      "outputs": [
        {
          "output_type": "stream",
          "name": "stdout",
          "text": [
            "1/1 [==============================] - 0s 28ms/step\n",
            "1/1 [==============================] - 0s 21ms/step\n"
          ]
        },
        {
          "output_type": "execute_result",
          "data": {
            "text/plain": [
              "array([[ True],\n",
              "       [ True],\n",
              "       [ True],\n",
              "       [ True],\n",
              "       [ True],\n",
              "       [ True],\n",
              "       [ True],\n",
              "       [ True],\n",
              "       [ True],\n",
              "       [ True]])"
            ]
          },
          "metadata": {},
          "execution_count": 206
        }
      ]
    },
    {
      "cell_type": "code",
      "source": [
        "# SWEET! IDENTICAL -- on to our capstone for this section!"
      ],
      "metadata": {
        "id": "mDh5M9Ut6M8J"
      },
      "execution_count": 1,
      "outputs": []
    },
    {
      "cell_type": "markdown",
      "source": [
        "# Larger datasets capstone for section 01 -- putting together what we have learned so far.\n",
        "### We will be using the Medical Cost Personal Dataset. We will try to predict the individual medical costs billed by health insurance.\n",
        "### https://raw.githubusercontent.com/stedy/Machine-Learning-with-R-datasets/master/insurance.csv"
      ],
      "metadata": {
        "id": "-rBIUJAzmv8R"
      }
    },
    {
      "cell_type": "code",
      "source": [
        "## Libraries import\n",
        "import tensorflow as tf\n",
        "import pandas as pd\n",
        "import matplotlib.pyplot as plt"
      ],
      "metadata": {
        "id": "h19nXbTUoWbl"
      },
      "execution_count": null,
      "outputs": []
    },
    {
      "cell_type": "code",
      "source": [
        "# Read in the insurance dataset listed above from github\n",
        "insurance = pd.read_csv(\"https://raw.githubusercontent.com/stedy/Machine-Learning-with-R-datasets/master/insurance.csv\")\n",
        "insurance\n",
        "# since we are working with trying to predict a number from other numbers,\n",
        "# we will be using regression analysis."
      ],
      "metadata": {
        "colab": {
          "base_uri": "https://localhost:8080/",
          "height": 423
        },
        "id": "ooYaNE60oqOB",
        "outputId": "e56d42af-3e19-4bcf-fa67-a008a9b2729b"
      },
      "execution_count": null,
      "outputs": [
        {
          "output_type": "execute_result",
          "data": {
            "text/plain": [
              "      age     sex     bmi  children smoker     region      charges\n",
              "0      19  female  27.900         0    yes  southwest  16884.92400\n",
              "1      18    male  33.770         1     no  southeast   1725.55230\n",
              "2      28    male  33.000         3     no  southeast   4449.46200\n",
              "3      33    male  22.705         0     no  northwest  21984.47061\n",
              "4      32    male  28.880         0     no  northwest   3866.85520\n",
              "...   ...     ...     ...       ...    ...        ...          ...\n",
              "1333   50    male  30.970         3     no  northwest  10600.54830\n",
              "1334   18  female  31.920         0     no  northeast   2205.98080\n",
              "1335   18  female  36.850         0     no  southeast   1629.83350\n",
              "1336   21  female  25.800         0     no  southwest   2007.94500\n",
              "1337   61  female  29.070         0    yes  northwest  29141.36030\n",
              "\n",
              "[1338 rows x 7 columns]"
            ],
            "text/html": [
              "\n",
              "  <div id=\"df-9e3d2e4e-185b-4131-b42d-75f45021c766\" class=\"colab-df-container\">\n",
              "    <div>\n",
              "<style scoped>\n",
              "    .dataframe tbody tr th:only-of-type {\n",
              "        vertical-align: middle;\n",
              "    }\n",
              "\n",
              "    .dataframe tbody tr th {\n",
              "        vertical-align: top;\n",
              "    }\n",
              "\n",
              "    .dataframe thead th {\n",
              "        text-align: right;\n",
              "    }\n",
              "</style>\n",
              "<table border=\"1\" class=\"dataframe\">\n",
              "  <thead>\n",
              "    <tr style=\"text-align: right;\">\n",
              "      <th></th>\n",
              "      <th>age</th>\n",
              "      <th>sex</th>\n",
              "      <th>bmi</th>\n",
              "      <th>children</th>\n",
              "      <th>smoker</th>\n",
              "      <th>region</th>\n",
              "      <th>charges</th>\n",
              "    </tr>\n",
              "  </thead>\n",
              "  <tbody>\n",
              "    <tr>\n",
              "      <th>0</th>\n",
              "      <td>19</td>\n",
              "      <td>female</td>\n",
              "      <td>27.900</td>\n",
              "      <td>0</td>\n",
              "      <td>yes</td>\n",
              "      <td>southwest</td>\n",
              "      <td>16884.92400</td>\n",
              "    </tr>\n",
              "    <tr>\n",
              "      <th>1</th>\n",
              "      <td>18</td>\n",
              "      <td>male</td>\n",
              "      <td>33.770</td>\n",
              "      <td>1</td>\n",
              "      <td>no</td>\n",
              "      <td>southeast</td>\n",
              "      <td>1725.55230</td>\n",
              "    </tr>\n",
              "    <tr>\n",
              "      <th>2</th>\n",
              "      <td>28</td>\n",
              "      <td>male</td>\n",
              "      <td>33.000</td>\n",
              "      <td>3</td>\n",
              "      <td>no</td>\n",
              "      <td>southeast</td>\n",
              "      <td>4449.46200</td>\n",
              "    </tr>\n",
              "    <tr>\n",
              "      <th>3</th>\n",
              "      <td>33</td>\n",
              "      <td>male</td>\n",
              "      <td>22.705</td>\n",
              "      <td>0</td>\n",
              "      <td>no</td>\n",
              "      <td>northwest</td>\n",
              "      <td>21984.47061</td>\n",
              "    </tr>\n",
              "    <tr>\n",
              "      <th>4</th>\n",
              "      <td>32</td>\n",
              "      <td>male</td>\n",
              "      <td>28.880</td>\n",
              "      <td>0</td>\n",
              "      <td>no</td>\n",
              "      <td>northwest</td>\n",
              "      <td>3866.85520</td>\n",
              "    </tr>\n",
              "    <tr>\n",
              "      <th>...</th>\n",
              "      <td>...</td>\n",
              "      <td>...</td>\n",
              "      <td>...</td>\n",
              "      <td>...</td>\n",
              "      <td>...</td>\n",
              "      <td>...</td>\n",
              "      <td>...</td>\n",
              "    </tr>\n",
              "    <tr>\n",
              "      <th>1333</th>\n",
              "      <td>50</td>\n",
              "      <td>male</td>\n",
              "      <td>30.970</td>\n",
              "      <td>3</td>\n",
              "      <td>no</td>\n",
              "      <td>northwest</td>\n",
              "      <td>10600.54830</td>\n",
              "    </tr>\n",
              "    <tr>\n",
              "      <th>1334</th>\n",
              "      <td>18</td>\n",
              "      <td>female</td>\n",
              "      <td>31.920</td>\n",
              "      <td>0</td>\n",
              "      <td>no</td>\n",
              "      <td>northeast</td>\n",
              "      <td>2205.98080</td>\n",
              "    </tr>\n",
              "    <tr>\n",
              "      <th>1335</th>\n",
              "      <td>18</td>\n",
              "      <td>female</td>\n",
              "      <td>36.850</td>\n",
              "      <td>0</td>\n",
              "      <td>no</td>\n",
              "      <td>southeast</td>\n",
              "      <td>1629.83350</td>\n",
              "    </tr>\n",
              "    <tr>\n",
              "      <th>1336</th>\n",
              "      <td>21</td>\n",
              "      <td>female</td>\n",
              "      <td>25.800</td>\n",
              "      <td>0</td>\n",
              "      <td>no</td>\n",
              "      <td>southwest</td>\n",
              "      <td>2007.94500</td>\n",
              "    </tr>\n",
              "    <tr>\n",
              "      <th>1337</th>\n",
              "      <td>61</td>\n",
              "      <td>female</td>\n",
              "      <td>29.070</td>\n",
              "      <td>0</td>\n",
              "      <td>yes</td>\n",
              "      <td>northwest</td>\n",
              "      <td>29141.36030</td>\n",
              "    </tr>\n",
              "  </tbody>\n",
              "</table>\n",
              "<p>1338 rows × 7 columns</p>\n",
              "</div>\n",
              "    <div class=\"colab-df-buttons\">\n",
              "\n",
              "  <div class=\"colab-df-container\">\n",
              "    <button class=\"colab-df-convert\" onclick=\"convertToInteractive('df-9e3d2e4e-185b-4131-b42d-75f45021c766')\"\n",
              "            title=\"Convert this dataframe to an interactive table.\"\n",
              "            style=\"display:none;\">\n",
              "\n",
              "  <svg xmlns=\"http://www.w3.org/2000/svg\" height=\"24px\" viewBox=\"0 -960 960 960\">\n",
              "    <path d=\"M120-120v-720h720v720H120Zm60-500h600v-160H180v160Zm220 220h160v-160H400v160Zm0 220h160v-160H400v160ZM180-400h160v-160H180v160Zm440 0h160v-160H620v160ZM180-180h160v-160H180v160Zm440 0h160v-160H620v160Z\"/>\n",
              "  </svg>\n",
              "    </button>\n",
              "\n",
              "  <style>\n",
              "    .colab-df-container {\n",
              "      display:flex;\n",
              "      gap: 12px;\n",
              "    }\n",
              "\n",
              "    .colab-df-convert {\n",
              "      background-color: #E8F0FE;\n",
              "      border: none;\n",
              "      border-radius: 50%;\n",
              "      cursor: pointer;\n",
              "      display: none;\n",
              "      fill: #1967D2;\n",
              "      height: 32px;\n",
              "      padding: 0 0 0 0;\n",
              "      width: 32px;\n",
              "    }\n",
              "\n",
              "    .colab-df-convert:hover {\n",
              "      background-color: #E2EBFA;\n",
              "      box-shadow: 0px 1px 2px rgba(60, 64, 67, 0.3), 0px 1px 3px 1px rgba(60, 64, 67, 0.15);\n",
              "      fill: #174EA6;\n",
              "    }\n",
              "\n",
              "    .colab-df-buttons div {\n",
              "      margin-bottom: 4px;\n",
              "    }\n",
              "\n",
              "    [theme=dark] .colab-df-convert {\n",
              "      background-color: #3B4455;\n",
              "      fill: #D2E3FC;\n",
              "    }\n",
              "\n",
              "    [theme=dark] .colab-df-convert:hover {\n",
              "      background-color: #434B5C;\n",
              "      box-shadow: 0px 1px 3px 1px rgba(0, 0, 0, 0.15);\n",
              "      filter: drop-shadow(0px 1px 2px rgba(0, 0, 0, 0.3));\n",
              "      fill: #FFFFFF;\n",
              "    }\n",
              "  </style>\n",
              "\n",
              "    <script>\n",
              "      const buttonEl =\n",
              "        document.querySelector('#df-9e3d2e4e-185b-4131-b42d-75f45021c766 button.colab-df-convert');\n",
              "      buttonEl.style.display =\n",
              "        google.colab.kernel.accessAllowed ? 'block' : 'none';\n",
              "\n",
              "      async function convertToInteractive(key) {\n",
              "        const element = document.querySelector('#df-9e3d2e4e-185b-4131-b42d-75f45021c766');\n",
              "        const dataTable =\n",
              "          await google.colab.kernel.invokeFunction('convertToInteractive',\n",
              "                                                    [key], {});\n",
              "        if (!dataTable) return;\n",
              "\n",
              "        const docLinkHtml = 'Like what you see? Visit the ' +\n",
              "          '<a target=\"_blank\" href=https://colab.research.google.com/notebooks/data_table.ipynb>data table notebook</a>'\n",
              "          + ' to learn more about interactive tables.';\n",
              "        element.innerHTML = '';\n",
              "        dataTable['output_type'] = 'display_data';\n",
              "        await google.colab.output.renderOutput(dataTable, element);\n",
              "        const docLink = document.createElement('div');\n",
              "        docLink.innerHTML = docLinkHtml;\n",
              "        element.appendChild(docLink);\n",
              "      }\n",
              "    </script>\n",
              "  </div>\n",
              "\n",
              "\n",
              "<div id=\"df-5c2b26de-03ee-4a3a-a7e6-bf82e6ec10df\">\n",
              "  <button class=\"colab-df-quickchart\" onclick=\"quickchart('df-5c2b26de-03ee-4a3a-a7e6-bf82e6ec10df')\"\n",
              "            title=\"Suggest charts\"\n",
              "            style=\"display:none;\">\n",
              "\n",
              "<svg xmlns=\"http://www.w3.org/2000/svg\" height=\"24px\"viewBox=\"0 0 24 24\"\n",
              "     width=\"24px\">\n",
              "    <g>\n",
              "        <path d=\"M19 3H5c-1.1 0-2 .9-2 2v14c0 1.1.9 2 2 2h14c1.1 0 2-.9 2-2V5c0-1.1-.9-2-2-2zM9 17H7v-7h2v7zm4 0h-2V7h2v10zm4 0h-2v-4h2v4z\"/>\n",
              "    </g>\n",
              "</svg>\n",
              "  </button>\n",
              "\n",
              "<style>\n",
              "  .colab-df-quickchart {\n",
              "      --bg-color: #E8F0FE;\n",
              "      --fill-color: #1967D2;\n",
              "      --hover-bg-color: #E2EBFA;\n",
              "      --hover-fill-color: #174EA6;\n",
              "      --disabled-fill-color: #AAA;\n",
              "      --disabled-bg-color: #DDD;\n",
              "  }\n",
              "\n",
              "  [theme=dark] .colab-df-quickchart {\n",
              "      --bg-color: #3B4455;\n",
              "      --fill-color: #D2E3FC;\n",
              "      --hover-bg-color: #434B5C;\n",
              "      --hover-fill-color: #FFFFFF;\n",
              "      --disabled-bg-color: #3B4455;\n",
              "      --disabled-fill-color: #666;\n",
              "  }\n",
              "\n",
              "  .colab-df-quickchart {\n",
              "    background-color: var(--bg-color);\n",
              "    border: none;\n",
              "    border-radius: 50%;\n",
              "    cursor: pointer;\n",
              "    display: none;\n",
              "    fill: var(--fill-color);\n",
              "    height: 32px;\n",
              "    padding: 0;\n",
              "    width: 32px;\n",
              "  }\n",
              "\n",
              "  .colab-df-quickchart:hover {\n",
              "    background-color: var(--hover-bg-color);\n",
              "    box-shadow: 0 1px 2px rgba(60, 64, 67, 0.3), 0 1px 3px 1px rgba(60, 64, 67, 0.15);\n",
              "    fill: var(--button-hover-fill-color);\n",
              "  }\n",
              "\n",
              "  .colab-df-quickchart-complete:disabled,\n",
              "  .colab-df-quickchart-complete:disabled:hover {\n",
              "    background-color: var(--disabled-bg-color);\n",
              "    fill: var(--disabled-fill-color);\n",
              "    box-shadow: none;\n",
              "  }\n",
              "\n",
              "  .colab-df-spinner {\n",
              "    border: 2px solid var(--fill-color);\n",
              "    border-color: transparent;\n",
              "    border-bottom-color: var(--fill-color);\n",
              "    animation:\n",
              "      spin 1s steps(1) infinite;\n",
              "  }\n",
              "\n",
              "  @keyframes spin {\n",
              "    0% {\n",
              "      border-color: transparent;\n",
              "      border-bottom-color: var(--fill-color);\n",
              "      border-left-color: var(--fill-color);\n",
              "    }\n",
              "    20% {\n",
              "      border-color: transparent;\n",
              "      border-left-color: var(--fill-color);\n",
              "      border-top-color: var(--fill-color);\n",
              "    }\n",
              "    30% {\n",
              "      border-color: transparent;\n",
              "      border-left-color: var(--fill-color);\n",
              "      border-top-color: var(--fill-color);\n",
              "      border-right-color: var(--fill-color);\n",
              "    }\n",
              "    40% {\n",
              "      border-color: transparent;\n",
              "      border-right-color: var(--fill-color);\n",
              "      border-top-color: var(--fill-color);\n",
              "    }\n",
              "    60% {\n",
              "      border-color: transparent;\n",
              "      border-right-color: var(--fill-color);\n",
              "    }\n",
              "    80% {\n",
              "      border-color: transparent;\n",
              "      border-right-color: var(--fill-color);\n",
              "      border-bottom-color: var(--fill-color);\n",
              "    }\n",
              "    90% {\n",
              "      border-color: transparent;\n",
              "      border-bottom-color: var(--fill-color);\n",
              "    }\n",
              "  }\n",
              "</style>\n",
              "\n",
              "  <script>\n",
              "    async function quickchart(key) {\n",
              "      const quickchartButtonEl =\n",
              "        document.querySelector('#' + key + ' button');\n",
              "      quickchartButtonEl.disabled = true;  // To prevent multiple clicks.\n",
              "      quickchartButtonEl.classList.add('colab-df-spinner');\n",
              "      try {\n",
              "        const charts = await google.colab.kernel.invokeFunction(\n",
              "            'suggestCharts', [key], {});\n",
              "      } catch (error) {\n",
              "        console.error('Error during call to suggestCharts:', error);\n",
              "      }\n",
              "      quickchartButtonEl.classList.remove('colab-df-spinner');\n",
              "      quickchartButtonEl.classList.add('colab-df-quickchart-complete');\n",
              "    }\n",
              "    (() => {\n",
              "      let quickchartButtonEl =\n",
              "        document.querySelector('#df-5c2b26de-03ee-4a3a-a7e6-bf82e6ec10df button');\n",
              "      quickchartButtonEl.style.display =\n",
              "        google.colab.kernel.accessAllowed ? 'block' : 'none';\n",
              "    })();\n",
              "  </script>\n",
              "</div>\n",
              "    </div>\n",
              "  </div>\n"
            ]
          },
          "metadata": {},
          "execution_count": 4
        }
      ]
    },
    {
      "cell_type": "markdown",
      "source": [
        "## We need a dependent variable(outcome) and indepent variables(features) identified\n",
        "## The dependent variable will be charges(what we are trying to predict)\n",
        "## The independent features will be the rest of the columnar data categories, seen above: age, sex, bmi, children, smoker, region. These will be transformed into numerical values that we will use for our neural network."
      ],
      "metadata": {
        "id": "kXsP2F8BpY39"
      }
    },
    {
      "cell_type": "code",
      "source": [
        "# Let's one-hot encode our DataFrame to convert string based categories to\n",
        "# numbers first, so we can create a neural network regression model by th use\n",
        "# of Pandas get_dummies function, basically one-hot encoding."
      ],
      "metadata": {
        "id": "VkE7ecPJy72y"
      },
      "execution_count": null,
      "outputs": []
    },
    {
      "cell_type": "code",
      "source": [
        "insurance_one_hot = pd.get_dummies(insurance) # let's save as a variable\n",
        "insurance_one_hot.head()"
      ],
      "metadata": {
        "colab": {
          "base_uri": "https://localhost:8080/",
          "height": 206
        },
        "id": "H2973muFzGrk",
        "outputId": "06b10e22-2505-477e-ca43-64001b850e41"
      },
      "execution_count": null,
      "outputs": [
        {
          "output_type": "execute_result",
          "data": {
            "text/plain": [
              "   age     bmi  children      charges  sex_female  sex_male  smoker_no  \\\n",
              "0   19  27.900         0  16884.92400           1         0          0   \n",
              "1   18  33.770         1   1725.55230           0         1          1   \n",
              "2   28  33.000         3   4449.46200           0         1          1   \n",
              "3   33  22.705         0  21984.47061           0         1          1   \n",
              "4   32  28.880         0   3866.85520           0         1          1   \n",
              "\n",
              "   smoker_yes  region_northeast  region_northwest  region_southeast  \\\n",
              "0           1                 0                 0                 0   \n",
              "1           0                 0                 0                 1   \n",
              "2           0                 0                 0                 1   \n",
              "3           0                 0                 1                 0   \n",
              "4           0                 0                 1                 0   \n",
              "\n",
              "   region_southwest  \n",
              "0                 1  \n",
              "1                 0  \n",
              "2                 0  \n",
              "3                 0  \n",
              "4                 0  "
            ],
            "text/html": [
              "\n",
              "  <div id=\"df-6b3d048d-94ae-4346-ad8c-f5e55ebf7343\" class=\"colab-df-container\">\n",
              "    <div>\n",
              "<style scoped>\n",
              "    .dataframe tbody tr th:only-of-type {\n",
              "        vertical-align: middle;\n",
              "    }\n",
              "\n",
              "    .dataframe tbody tr th {\n",
              "        vertical-align: top;\n",
              "    }\n",
              "\n",
              "    .dataframe thead th {\n",
              "        text-align: right;\n",
              "    }\n",
              "</style>\n",
              "<table border=\"1\" class=\"dataframe\">\n",
              "  <thead>\n",
              "    <tr style=\"text-align: right;\">\n",
              "      <th></th>\n",
              "      <th>age</th>\n",
              "      <th>bmi</th>\n",
              "      <th>children</th>\n",
              "      <th>charges</th>\n",
              "      <th>sex_female</th>\n",
              "      <th>sex_male</th>\n",
              "      <th>smoker_no</th>\n",
              "      <th>smoker_yes</th>\n",
              "      <th>region_northeast</th>\n",
              "      <th>region_northwest</th>\n",
              "      <th>region_southeast</th>\n",
              "      <th>region_southwest</th>\n",
              "    </tr>\n",
              "  </thead>\n",
              "  <tbody>\n",
              "    <tr>\n",
              "      <th>0</th>\n",
              "      <td>19</td>\n",
              "      <td>27.900</td>\n",
              "      <td>0</td>\n",
              "      <td>16884.92400</td>\n",
              "      <td>1</td>\n",
              "      <td>0</td>\n",
              "      <td>0</td>\n",
              "      <td>1</td>\n",
              "      <td>0</td>\n",
              "      <td>0</td>\n",
              "      <td>0</td>\n",
              "      <td>1</td>\n",
              "    </tr>\n",
              "    <tr>\n",
              "      <th>1</th>\n",
              "      <td>18</td>\n",
              "      <td>33.770</td>\n",
              "      <td>1</td>\n",
              "      <td>1725.55230</td>\n",
              "      <td>0</td>\n",
              "      <td>1</td>\n",
              "      <td>1</td>\n",
              "      <td>0</td>\n",
              "      <td>0</td>\n",
              "      <td>0</td>\n",
              "      <td>1</td>\n",
              "      <td>0</td>\n",
              "    </tr>\n",
              "    <tr>\n",
              "      <th>2</th>\n",
              "      <td>28</td>\n",
              "      <td>33.000</td>\n",
              "      <td>3</td>\n",
              "      <td>4449.46200</td>\n",
              "      <td>0</td>\n",
              "      <td>1</td>\n",
              "      <td>1</td>\n",
              "      <td>0</td>\n",
              "      <td>0</td>\n",
              "      <td>0</td>\n",
              "      <td>1</td>\n",
              "      <td>0</td>\n",
              "    </tr>\n",
              "    <tr>\n",
              "      <th>3</th>\n",
              "      <td>33</td>\n",
              "      <td>22.705</td>\n",
              "      <td>0</td>\n",
              "      <td>21984.47061</td>\n",
              "      <td>0</td>\n",
              "      <td>1</td>\n",
              "      <td>1</td>\n",
              "      <td>0</td>\n",
              "      <td>0</td>\n",
              "      <td>1</td>\n",
              "      <td>0</td>\n",
              "      <td>0</td>\n",
              "    </tr>\n",
              "    <tr>\n",
              "      <th>4</th>\n",
              "      <td>32</td>\n",
              "      <td>28.880</td>\n",
              "      <td>0</td>\n",
              "      <td>3866.85520</td>\n",
              "      <td>0</td>\n",
              "      <td>1</td>\n",
              "      <td>1</td>\n",
              "      <td>0</td>\n",
              "      <td>0</td>\n",
              "      <td>1</td>\n",
              "      <td>0</td>\n",
              "      <td>0</td>\n",
              "    </tr>\n",
              "  </tbody>\n",
              "</table>\n",
              "</div>\n",
              "    <div class=\"colab-df-buttons\">\n",
              "\n",
              "  <div class=\"colab-df-container\">\n",
              "    <button class=\"colab-df-convert\" onclick=\"convertToInteractive('df-6b3d048d-94ae-4346-ad8c-f5e55ebf7343')\"\n",
              "            title=\"Convert this dataframe to an interactive table.\"\n",
              "            style=\"display:none;\">\n",
              "\n",
              "  <svg xmlns=\"http://www.w3.org/2000/svg\" height=\"24px\" viewBox=\"0 -960 960 960\">\n",
              "    <path d=\"M120-120v-720h720v720H120Zm60-500h600v-160H180v160Zm220 220h160v-160H400v160Zm0 220h160v-160H400v160ZM180-400h160v-160H180v160Zm440 0h160v-160H620v160ZM180-180h160v-160H180v160Zm440 0h160v-160H620v160Z\"/>\n",
              "  </svg>\n",
              "    </button>\n",
              "\n",
              "  <style>\n",
              "    .colab-df-container {\n",
              "      display:flex;\n",
              "      gap: 12px;\n",
              "    }\n",
              "\n",
              "    .colab-df-convert {\n",
              "      background-color: #E8F0FE;\n",
              "      border: none;\n",
              "      border-radius: 50%;\n",
              "      cursor: pointer;\n",
              "      display: none;\n",
              "      fill: #1967D2;\n",
              "      height: 32px;\n",
              "      padding: 0 0 0 0;\n",
              "      width: 32px;\n",
              "    }\n",
              "\n",
              "    .colab-df-convert:hover {\n",
              "      background-color: #E2EBFA;\n",
              "      box-shadow: 0px 1px 2px rgba(60, 64, 67, 0.3), 0px 1px 3px 1px rgba(60, 64, 67, 0.15);\n",
              "      fill: #174EA6;\n",
              "    }\n",
              "\n",
              "    .colab-df-buttons div {\n",
              "      margin-bottom: 4px;\n",
              "    }\n",
              "\n",
              "    [theme=dark] .colab-df-convert {\n",
              "      background-color: #3B4455;\n",
              "      fill: #D2E3FC;\n",
              "    }\n",
              "\n",
              "    [theme=dark] .colab-df-convert:hover {\n",
              "      background-color: #434B5C;\n",
              "      box-shadow: 0px 1px 3px 1px rgba(0, 0, 0, 0.15);\n",
              "      filter: drop-shadow(0px 1px 2px rgba(0, 0, 0, 0.3));\n",
              "      fill: #FFFFFF;\n",
              "    }\n",
              "  </style>\n",
              "\n",
              "    <script>\n",
              "      const buttonEl =\n",
              "        document.querySelector('#df-6b3d048d-94ae-4346-ad8c-f5e55ebf7343 button.colab-df-convert');\n",
              "      buttonEl.style.display =\n",
              "        google.colab.kernel.accessAllowed ? 'block' : 'none';\n",
              "\n",
              "      async function convertToInteractive(key) {\n",
              "        const element = document.querySelector('#df-6b3d048d-94ae-4346-ad8c-f5e55ebf7343');\n",
              "        const dataTable =\n",
              "          await google.colab.kernel.invokeFunction('convertToInteractive',\n",
              "                                                    [key], {});\n",
              "        if (!dataTable) return;\n",
              "\n",
              "        const docLinkHtml = 'Like what you see? Visit the ' +\n",
              "          '<a target=\"_blank\" href=https://colab.research.google.com/notebooks/data_table.ipynb>data table notebook</a>'\n",
              "          + ' to learn more about interactive tables.';\n",
              "        element.innerHTML = '';\n",
              "        dataTable['output_type'] = 'display_data';\n",
              "        await google.colab.output.renderOutput(dataTable, element);\n",
              "        const docLink = document.createElement('div');\n",
              "        docLink.innerHTML = docLinkHtml;\n",
              "        element.appendChild(docLink);\n",
              "      }\n",
              "    </script>\n",
              "  </div>\n",
              "\n",
              "\n",
              "<div id=\"df-e1958ecd-f7bd-4652-a95a-f0e24835c202\">\n",
              "  <button class=\"colab-df-quickchart\" onclick=\"quickchart('df-e1958ecd-f7bd-4652-a95a-f0e24835c202')\"\n",
              "            title=\"Suggest charts\"\n",
              "            style=\"display:none;\">\n",
              "\n",
              "<svg xmlns=\"http://www.w3.org/2000/svg\" height=\"24px\"viewBox=\"0 0 24 24\"\n",
              "     width=\"24px\">\n",
              "    <g>\n",
              "        <path d=\"M19 3H5c-1.1 0-2 .9-2 2v14c0 1.1.9 2 2 2h14c1.1 0 2-.9 2-2V5c0-1.1-.9-2-2-2zM9 17H7v-7h2v7zm4 0h-2V7h2v10zm4 0h-2v-4h2v4z\"/>\n",
              "    </g>\n",
              "</svg>\n",
              "  </button>\n",
              "\n",
              "<style>\n",
              "  .colab-df-quickchart {\n",
              "      --bg-color: #E8F0FE;\n",
              "      --fill-color: #1967D2;\n",
              "      --hover-bg-color: #E2EBFA;\n",
              "      --hover-fill-color: #174EA6;\n",
              "      --disabled-fill-color: #AAA;\n",
              "      --disabled-bg-color: #DDD;\n",
              "  }\n",
              "\n",
              "  [theme=dark] .colab-df-quickchart {\n",
              "      --bg-color: #3B4455;\n",
              "      --fill-color: #D2E3FC;\n",
              "      --hover-bg-color: #434B5C;\n",
              "      --hover-fill-color: #FFFFFF;\n",
              "      --disabled-bg-color: #3B4455;\n",
              "      --disabled-fill-color: #666;\n",
              "  }\n",
              "\n",
              "  .colab-df-quickchart {\n",
              "    background-color: var(--bg-color);\n",
              "    border: none;\n",
              "    border-radius: 50%;\n",
              "    cursor: pointer;\n",
              "    display: none;\n",
              "    fill: var(--fill-color);\n",
              "    height: 32px;\n",
              "    padding: 0;\n",
              "    width: 32px;\n",
              "  }\n",
              "\n",
              "  .colab-df-quickchart:hover {\n",
              "    background-color: var(--hover-bg-color);\n",
              "    box-shadow: 0 1px 2px rgba(60, 64, 67, 0.3), 0 1px 3px 1px rgba(60, 64, 67, 0.15);\n",
              "    fill: var(--button-hover-fill-color);\n",
              "  }\n",
              "\n",
              "  .colab-df-quickchart-complete:disabled,\n",
              "  .colab-df-quickchart-complete:disabled:hover {\n",
              "    background-color: var(--disabled-bg-color);\n",
              "    fill: var(--disabled-fill-color);\n",
              "    box-shadow: none;\n",
              "  }\n",
              "\n",
              "  .colab-df-spinner {\n",
              "    border: 2px solid var(--fill-color);\n",
              "    border-color: transparent;\n",
              "    border-bottom-color: var(--fill-color);\n",
              "    animation:\n",
              "      spin 1s steps(1) infinite;\n",
              "  }\n",
              "\n",
              "  @keyframes spin {\n",
              "    0% {\n",
              "      border-color: transparent;\n",
              "      border-bottom-color: var(--fill-color);\n",
              "      border-left-color: var(--fill-color);\n",
              "    }\n",
              "    20% {\n",
              "      border-color: transparent;\n",
              "      border-left-color: var(--fill-color);\n",
              "      border-top-color: var(--fill-color);\n",
              "    }\n",
              "    30% {\n",
              "      border-color: transparent;\n",
              "      border-left-color: var(--fill-color);\n",
              "      border-top-color: var(--fill-color);\n",
              "      border-right-color: var(--fill-color);\n",
              "    }\n",
              "    40% {\n",
              "      border-color: transparent;\n",
              "      border-right-color: var(--fill-color);\n",
              "      border-top-color: var(--fill-color);\n",
              "    }\n",
              "    60% {\n",
              "      border-color: transparent;\n",
              "      border-right-color: var(--fill-color);\n",
              "    }\n",
              "    80% {\n",
              "      border-color: transparent;\n",
              "      border-right-color: var(--fill-color);\n",
              "      border-bottom-color: var(--fill-color);\n",
              "    }\n",
              "    90% {\n",
              "      border-color: transparent;\n",
              "      border-bottom-color: var(--fill-color);\n",
              "    }\n",
              "  }\n",
              "</style>\n",
              "\n",
              "  <script>\n",
              "    async function quickchart(key) {\n",
              "      const quickchartButtonEl =\n",
              "        document.querySelector('#' + key + ' button');\n",
              "      quickchartButtonEl.disabled = true;  // To prevent multiple clicks.\n",
              "      quickchartButtonEl.classList.add('colab-df-spinner');\n",
              "      try {\n",
              "        const charts = await google.colab.kernel.invokeFunction(\n",
              "            'suggestCharts', [key], {});\n",
              "      } catch (error) {\n",
              "        console.error('Error during call to suggestCharts:', error);\n",
              "      }\n",
              "      quickchartButtonEl.classList.remove('colab-df-spinner');\n",
              "      quickchartButtonEl.classList.add('colab-df-quickchart-complete');\n",
              "    }\n",
              "    (() => {\n",
              "      let quickchartButtonEl =\n",
              "        document.querySelector('#df-e1958ecd-f7bd-4652-a95a-f0e24835c202 button');\n",
              "      quickchartButtonEl.style.display =\n",
              "        google.colab.kernel.accessAllowed ? 'block' : 'none';\n",
              "    })();\n",
              "  </script>\n",
              "</div>\n",
              "    </div>\n",
              "  </div>\n"
            ]
          },
          "metadata": {},
          "execution_count": 6
        }
      ]
    },
    {
      "cell_type": "code",
      "source": [
        "# Create X & y values for model creation (neural network) training and test sets\n",
        "# Create X -- feature set"
      ],
      "metadata": {
        "id": "qYJecKe7zRjy"
      },
      "execution_count": null,
      "outputs": []
    },
    {
      "cell_type": "code",
      "source": [
        "X = insurance_one_hot.drop(\"charges\", axis=1)\n",
        "y = insurance_one_hot[\"charges\"]\n",
        "# view X\n",
        "X.head()"
      ],
      "metadata": {
        "colab": {
          "base_uri": "https://localhost:8080/",
          "height": 206
        },
        "id": "BIxXu7ty1g2w",
        "outputId": "b7ece0da-8755-403a-b412-bd23c5f6ad85"
      },
      "execution_count": null,
      "outputs": [
        {
          "output_type": "execute_result",
          "data": {
            "text/plain": [
              "   age     bmi  children  sex_female  sex_male  smoker_no  smoker_yes  \\\n",
              "0   19  27.900         0           1         0          0           1   \n",
              "1   18  33.770         1           0         1          1           0   \n",
              "2   28  33.000         3           0         1          1           0   \n",
              "3   33  22.705         0           0         1          1           0   \n",
              "4   32  28.880         0           0         1          1           0   \n",
              "\n",
              "   region_northeast  region_northwest  region_southeast  region_southwest  \n",
              "0                 0                 0                 0                 1  \n",
              "1                 0                 0                 1                 0  \n",
              "2                 0                 0                 1                 0  \n",
              "3                 0                 1                 0                 0  \n",
              "4                 0                 1                 0                 0  "
            ],
            "text/html": [
              "\n",
              "  <div id=\"df-b05f7c63-eb91-4aa4-8f2a-4b93129c1d62\" class=\"colab-df-container\">\n",
              "    <div>\n",
              "<style scoped>\n",
              "    .dataframe tbody tr th:only-of-type {\n",
              "        vertical-align: middle;\n",
              "    }\n",
              "\n",
              "    .dataframe tbody tr th {\n",
              "        vertical-align: top;\n",
              "    }\n",
              "\n",
              "    .dataframe thead th {\n",
              "        text-align: right;\n",
              "    }\n",
              "</style>\n",
              "<table border=\"1\" class=\"dataframe\">\n",
              "  <thead>\n",
              "    <tr style=\"text-align: right;\">\n",
              "      <th></th>\n",
              "      <th>age</th>\n",
              "      <th>bmi</th>\n",
              "      <th>children</th>\n",
              "      <th>sex_female</th>\n",
              "      <th>sex_male</th>\n",
              "      <th>smoker_no</th>\n",
              "      <th>smoker_yes</th>\n",
              "      <th>region_northeast</th>\n",
              "      <th>region_northwest</th>\n",
              "      <th>region_southeast</th>\n",
              "      <th>region_southwest</th>\n",
              "    </tr>\n",
              "  </thead>\n",
              "  <tbody>\n",
              "    <tr>\n",
              "      <th>0</th>\n",
              "      <td>19</td>\n",
              "      <td>27.900</td>\n",
              "      <td>0</td>\n",
              "      <td>1</td>\n",
              "      <td>0</td>\n",
              "      <td>0</td>\n",
              "      <td>1</td>\n",
              "      <td>0</td>\n",
              "      <td>0</td>\n",
              "      <td>0</td>\n",
              "      <td>1</td>\n",
              "    </tr>\n",
              "    <tr>\n",
              "      <th>1</th>\n",
              "      <td>18</td>\n",
              "      <td>33.770</td>\n",
              "      <td>1</td>\n",
              "      <td>0</td>\n",
              "      <td>1</td>\n",
              "      <td>1</td>\n",
              "      <td>0</td>\n",
              "      <td>0</td>\n",
              "      <td>0</td>\n",
              "      <td>1</td>\n",
              "      <td>0</td>\n",
              "    </tr>\n",
              "    <tr>\n",
              "      <th>2</th>\n",
              "      <td>28</td>\n",
              "      <td>33.000</td>\n",
              "      <td>3</td>\n",
              "      <td>0</td>\n",
              "      <td>1</td>\n",
              "      <td>1</td>\n",
              "      <td>0</td>\n",
              "      <td>0</td>\n",
              "      <td>0</td>\n",
              "      <td>1</td>\n",
              "      <td>0</td>\n",
              "    </tr>\n",
              "    <tr>\n",
              "      <th>3</th>\n",
              "      <td>33</td>\n",
              "      <td>22.705</td>\n",
              "      <td>0</td>\n",
              "      <td>0</td>\n",
              "      <td>1</td>\n",
              "      <td>1</td>\n",
              "      <td>0</td>\n",
              "      <td>0</td>\n",
              "      <td>1</td>\n",
              "      <td>0</td>\n",
              "      <td>0</td>\n",
              "    </tr>\n",
              "    <tr>\n",
              "      <th>4</th>\n",
              "      <td>32</td>\n",
              "      <td>28.880</td>\n",
              "      <td>0</td>\n",
              "      <td>0</td>\n",
              "      <td>1</td>\n",
              "      <td>1</td>\n",
              "      <td>0</td>\n",
              "      <td>0</td>\n",
              "      <td>1</td>\n",
              "      <td>0</td>\n",
              "      <td>0</td>\n",
              "    </tr>\n",
              "  </tbody>\n",
              "</table>\n",
              "</div>\n",
              "    <div class=\"colab-df-buttons\">\n",
              "\n",
              "  <div class=\"colab-df-container\">\n",
              "    <button class=\"colab-df-convert\" onclick=\"convertToInteractive('df-b05f7c63-eb91-4aa4-8f2a-4b93129c1d62')\"\n",
              "            title=\"Convert this dataframe to an interactive table.\"\n",
              "            style=\"display:none;\">\n",
              "\n",
              "  <svg xmlns=\"http://www.w3.org/2000/svg\" height=\"24px\" viewBox=\"0 -960 960 960\">\n",
              "    <path d=\"M120-120v-720h720v720H120Zm60-500h600v-160H180v160Zm220 220h160v-160H400v160Zm0 220h160v-160H400v160ZM180-400h160v-160H180v160Zm440 0h160v-160H620v160ZM180-180h160v-160H180v160Zm440 0h160v-160H620v160Z\"/>\n",
              "  </svg>\n",
              "    </button>\n",
              "\n",
              "  <style>\n",
              "    .colab-df-container {\n",
              "      display:flex;\n",
              "      gap: 12px;\n",
              "    }\n",
              "\n",
              "    .colab-df-convert {\n",
              "      background-color: #E8F0FE;\n",
              "      border: none;\n",
              "      border-radius: 50%;\n",
              "      cursor: pointer;\n",
              "      display: none;\n",
              "      fill: #1967D2;\n",
              "      height: 32px;\n",
              "      padding: 0 0 0 0;\n",
              "      width: 32px;\n",
              "    }\n",
              "\n",
              "    .colab-df-convert:hover {\n",
              "      background-color: #E2EBFA;\n",
              "      box-shadow: 0px 1px 2px rgba(60, 64, 67, 0.3), 0px 1px 3px 1px rgba(60, 64, 67, 0.15);\n",
              "      fill: #174EA6;\n",
              "    }\n",
              "\n",
              "    .colab-df-buttons div {\n",
              "      margin-bottom: 4px;\n",
              "    }\n",
              "\n",
              "    [theme=dark] .colab-df-convert {\n",
              "      background-color: #3B4455;\n",
              "      fill: #D2E3FC;\n",
              "    }\n",
              "\n",
              "    [theme=dark] .colab-df-convert:hover {\n",
              "      background-color: #434B5C;\n",
              "      box-shadow: 0px 1px 3px 1px rgba(0, 0, 0, 0.15);\n",
              "      filter: drop-shadow(0px 1px 2px rgba(0, 0, 0, 0.3));\n",
              "      fill: #FFFFFF;\n",
              "    }\n",
              "  </style>\n",
              "\n",
              "    <script>\n",
              "      const buttonEl =\n",
              "        document.querySelector('#df-b05f7c63-eb91-4aa4-8f2a-4b93129c1d62 button.colab-df-convert');\n",
              "      buttonEl.style.display =\n",
              "        google.colab.kernel.accessAllowed ? 'block' : 'none';\n",
              "\n",
              "      async function convertToInteractive(key) {\n",
              "        const element = document.querySelector('#df-b05f7c63-eb91-4aa4-8f2a-4b93129c1d62');\n",
              "        const dataTable =\n",
              "          await google.colab.kernel.invokeFunction('convertToInteractive',\n",
              "                                                    [key], {});\n",
              "        if (!dataTable) return;\n",
              "\n",
              "        const docLinkHtml = 'Like what you see? Visit the ' +\n",
              "          '<a target=\"_blank\" href=https://colab.research.google.com/notebooks/data_table.ipynb>data table notebook</a>'\n",
              "          + ' to learn more about interactive tables.';\n",
              "        element.innerHTML = '';\n",
              "        dataTable['output_type'] = 'display_data';\n",
              "        await google.colab.output.renderOutput(dataTable, element);\n",
              "        const docLink = document.createElement('div');\n",
              "        docLink.innerHTML = docLinkHtml;\n",
              "        element.appendChild(docLink);\n",
              "      }\n",
              "    </script>\n",
              "  </div>\n",
              "\n",
              "\n",
              "<div id=\"df-56fdabfa-7872-4dff-af28-cfbb4b8ef73d\">\n",
              "  <button class=\"colab-df-quickchart\" onclick=\"quickchart('df-56fdabfa-7872-4dff-af28-cfbb4b8ef73d')\"\n",
              "            title=\"Suggest charts\"\n",
              "            style=\"display:none;\">\n",
              "\n",
              "<svg xmlns=\"http://www.w3.org/2000/svg\" height=\"24px\"viewBox=\"0 0 24 24\"\n",
              "     width=\"24px\">\n",
              "    <g>\n",
              "        <path d=\"M19 3H5c-1.1 0-2 .9-2 2v14c0 1.1.9 2 2 2h14c1.1 0 2-.9 2-2V5c0-1.1-.9-2-2-2zM9 17H7v-7h2v7zm4 0h-2V7h2v10zm4 0h-2v-4h2v4z\"/>\n",
              "    </g>\n",
              "</svg>\n",
              "  </button>\n",
              "\n",
              "<style>\n",
              "  .colab-df-quickchart {\n",
              "      --bg-color: #E8F0FE;\n",
              "      --fill-color: #1967D2;\n",
              "      --hover-bg-color: #E2EBFA;\n",
              "      --hover-fill-color: #174EA6;\n",
              "      --disabled-fill-color: #AAA;\n",
              "      --disabled-bg-color: #DDD;\n",
              "  }\n",
              "\n",
              "  [theme=dark] .colab-df-quickchart {\n",
              "      --bg-color: #3B4455;\n",
              "      --fill-color: #D2E3FC;\n",
              "      --hover-bg-color: #434B5C;\n",
              "      --hover-fill-color: #FFFFFF;\n",
              "      --disabled-bg-color: #3B4455;\n",
              "      --disabled-fill-color: #666;\n",
              "  }\n",
              "\n",
              "  .colab-df-quickchart {\n",
              "    background-color: var(--bg-color);\n",
              "    border: none;\n",
              "    border-radius: 50%;\n",
              "    cursor: pointer;\n",
              "    display: none;\n",
              "    fill: var(--fill-color);\n",
              "    height: 32px;\n",
              "    padding: 0;\n",
              "    width: 32px;\n",
              "  }\n",
              "\n",
              "  .colab-df-quickchart:hover {\n",
              "    background-color: var(--hover-bg-color);\n",
              "    box-shadow: 0 1px 2px rgba(60, 64, 67, 0.3), 0 1px 3px 1px rgba(60, 64, 67, 0.15);\n",
              "    fill: var(--button-hover-fill-color);\n",
              "  }\n",
              "\n",
              "  .colab-df-quickchart-complete:disabled,\n",
              "  .colab-df-quickchart-complete:disabled:hover {\n",
              "    background-color: var(--disabled-bg-color);\n",
              "    fill: var(--disabled-fill-color);\n",
              "    box-shadow: none;\n",
              "  }\n",
              "\n",
              "  .colab-df-spinner {\n",
              "    border: 2px solid var(--fill-color);\n",
              "    border-color: transparent;\n",
              "    border-bottom-color: var(--fill-color);\n",
              "    animation:\n",
              "      spin 1s steps(1) infinite;\n",
              "  }\n",
              "\n",
              "  @keyframes spin {\n",
              "    0% {\n",
              "      border-color: transparent;\n",
              "      border-bottom-color: var(--fill-color);\n",
              "      border-left-color: var(--fill-color);\n",
              "    }\n",
              "    20% {\n",
              "      border-color: transparent;\n",
              "      border-left-color: var(--fill-color);\n",
              "      border-top-color: var(--fill-color);\n",
              "    }\n",
              "    30% {\n",
              "      border-color: transparent;\n",
              "      border-left-color: var(--fill-color);\n",
              "      border-top-color: var(--fill-color);\n",
              "      border-right-color: var(--fill-color);\n",
              "    }\n",
              "    40% {\n",
              "      border-color: transparent;\n",
              "      border-right-color: var(--fill-color);\n",
              "      border-top-color: var(--fill-color);\n",
              "    }\n",
              "    60% {\n",
              "      border-color: transparent;\n",
              "      border-right-color: var(--fill-color);\n",
              "    }\n",
              "    80% {\n",
              "      border-color: transparent;\n",
              "      border-right-color: var(--fill-color);\n",
              "      border-bottom-color: var(--fill-color);\n",
              "    }\n",
              "    90% {\n",
              "      border-color: transparent;\n",
              "      border-bottom-color: var(--fill-color);\n",
              "    }\n",
              "  }\n",
              "</style>\n",
              "\n",
              "  <script>\n",
              "    async function quickchart(key) {\n",
              "      const quickchartButtonEl =\n",
              "        document.querySelector('#' + key + ' button');\n",
              "      quickchartButtonEl.disabled = true;  // To prevent multiple clicks.\n",
              "      quickchartButtonEl.classList.add('colab-df-spinner');\n",
              "      try {\n",
              "        const charts = await google.colab.kernel.invokeFunction(\n",
              "            'suggestCharts', [key], {});\n",
              "      } catch (error) {\n",
              "        console.error('Error during call to suggestCharts:', error);\n",
              "      }\n",
              "      quickchartButtonEl.classList.remove('colab-df-spinner');\n",
              "      quickchartButtonEl.classList.add('colab-df-quickchart-complete');\n",
              "    }\n",
              "    (() => {\n",
              "      let quickchartButtonEl =\n",
              "        document.querySelector('#df-56fdabfa-7872-4dff-af28-cfbb4b8ef73d button');\n",
              "      quickchartButtonEl.style.display =\n",
              "        google.colab.kernel.accessAllowed ? 'block' : 'none';\n",
              "    })();\n",
              "  </script>\n",
              "</div>\n",
              "    </div>\n",
              "  </div>\n"
            ]
          },
          "metadata": {},
          "execution_count": 8
        }
      ]
    },
    {
      "cell_type": "code",
      "source": [
        "# view y -- aka label vector\n",
        "y.head()"
      ],
      "metadata": {
        "colab": {
          "base_uri": "https://localhost:8080/"
        },
        "id": "GE2VmJtT3KBf",
        "outputId": "b2d79d0e-336e-4660-840f-0d9e1ab56200"
      },
      "execution_count": null,
      "outputs": [
        {
          "output_type": "execute_result",
          "data": {
            "text/plain": [
              "0    16884.92400\n",
              "1     1725.55230\n",
              "2     4449.46200\n",
              "3    21984.47061\n",
              "4     3866.85520\n",
              "Name: charges, dtype: float64"
            ]
          },
          "metadata": {},
          "execution_count": 9
        }
      ]
    },
    {
      "cell_type": "code",
      "source": [
        "# Excellent, we have isolated charges as the dependent variable\n",
        "# Create the training and test sets --  we can use scikitlearn\n",
        "from sklearn.model_selection import train_test_split\n",
        "X_train, X_test, y_train, y_test = train_test_split(X, y, test_size=0.2, random_state=42)\n",
        "len(X), len(X_train), len(X_test)"
      ],
      "metadata": {
        "colab": {
          "base_uri": "https://localhost:8080/"
        },
        "id": "qGtZOXHb3dh9",
        "outputId": "3fb21539-59be-4ef6-a060-c0516d920a29"
      },
      "execution_count": null,
      "outputs": [
        {
          "output_type": "execute_result",
          "data": {
            "text/plain": [
              "(1338, 1070, 268)"
            ]
          },
          "metadata": {},
          "execution_count": 10
        }
      ]
    },
    {
      "cell_type": "code",
      "source": [
        "# Create/build neural network akin to model_2 from 01 notebook\n",
        "tf.random.set_seed(42)\n",
        "charges_model_1 = tf.keras.Sequential([\n",
        "    tf.keras.layers.Dense(10),\n",
        "    tf.keras.layers.Dense(1)\n",
        "    ], name=\"charges_model_1\")\n",
        "# compile model\n",
        "charges_model_1.compile(loss=tf.keras.losses.mae,\n",
        "                        optimizer=tf.keras.optimizers.SGD(),\n",
        "                        metrics=[\"mae\"])\n",
        "# fit the model\n",
        "charges_model_1.fit(tf.expand_dims(X_train, axis=1), y_train, epochs=100)"
      ],
      "metadata": {
        "colab": {
          "base_uri": "https://localhost:8080/"
        },
        "id": "LJMmn7ow5oD3",
        "outputId": "f97a9aa5-74b2-4c53-8c88-e49104470779"
      },
      "execution_count": null,
      "outputs": [
        {
          "output_type": "stream",
          "name": "stdout",
          "text": [
            "Epoch 1/100\n",
            "34/34 [==============================] - 1s 2ms/step - loss: 8707.8398 - mae: 8707.8398\n",
            "Epoch 2/100\n",
            "34/34 [==============================] - 0s 2ms/step - loss: 7851.4521 - mae: 7851.4521\n",
            "Epoch 3/100\n",
            "34/34 [==============================] - 0s 2ms/step - loss: 7613.7715 - mae: 7613.7715\n",
            "Epoch 4/100\n",
            "34/34 [==============================] - 0s 2ms/step - loss: 7532.0815 - mae: 7532.0815\n",
            "Epoch 5/100\n",
            "34/34 [==============================] - 0s 2ms/step - loss: 7726.1328 - mae: 7726.1328\n",
            "Epoch 6/100\n",
            "34/34 [==============================] - 0s 2ms/step - loss: 7644.4312 - mae: 7644.4312\n",
            "Epoch 7/100\n",
            "34/34 [==============================] - 0s 2ms/step - loss: 7556.7388 - mae: 7556.7388\n",
            "Epoch 8/100\n",
            "34/34 [==============================] - 0s 2ms/step - loss: 7740.7222 - mae: 7740.7222\n",
            "Epoch 9/100\n",
            "34/34 [==============================] - 0s 2ms/step - loss: 7554.5283 - mae: 7554.5283\n",
            "Epoch 10/100\n",
            "34/34 [==============================] - 0s 2ms/step - loss: 7696.4897 - mae: 7696.4897\n",
            "Epoch 11/100\n",
            "34/34 [==============================] - 0s 2ms/step - loss: 7640.3442 - mae: 7640.3442\n",
            "Epoch 12/100\n",
            "34/34 [==============================] - 0s 2ms/step - loss: 7649.1338 - mae: 7649.1338\n",
            "Epoch 13/100\n",
            "34/34 [==============================] - 0s 3ms/step - loss: 7734.7075 - mae: 7734.7075\n",
            "Epoch 14/100\n",
            "34/34 [==============================] - 0s 3ms/step - loss: 7730.5894 - mae: 7730.5894\n",
            "Epoch 15/100\n",
            "34/34 [==============================] - 0s 3ms/step - loss: 7647.7485 - mae: 7647.7485\n",
            "Epoch 16/100\n",
            "34/34 [==============================] - 0s 3ms/step - loss: 7701.1025 - mae: 7701.1025\n",
            "Epoch 17/100\n",
            "34/34 [==============================] - 0s 3ms/step - loss: 7662.5151 - mae: 7662.5151\n",
            "Epoch 18/100\n",
            "34/34 [==============================] - 0s 3ms/step - loss: 7760.5688 - mae: 7760.5688\n",
            "Epoch 19/100\n",
            "34/34 [==============================] - 0s 3ms/step - loss: 7592.4585 - mae: 7592.4585\n",
            "Epoch 20/100\n",
            "34/34 [==============================] - 0s 3ms/step - loss: 7863.9692 - mae: 7863.9692\n",
            "Epoch 21/100\n",
            "34/34 [==============================] - 0s 3ms/step - loss: 7565.2412 - mae: 7565.2412\n",
            "Epoch 22/100\n",
            "34/34 [==============================] - 0s 3ms/step - loss: 7781.3247 - mae: 7781.3247\n",
            "Epoch 23/100\n",
            "34/34 [==============================] - 0s 3ms/step - loss: 7730.7285 - mae: 7730.7285\n",
            "Epoch 24/100\n",
            "34/34 [==============================] - 0s 4ms/step - loss: 7537.9326 - mae: 7537.9326\n",
            "Epoch 25/100\n",
            "34/34 [==============================] - 0s 3ms/step - loss: 7569.3271 - mae: 7569.3271\n",
            "Epoch 26/100\n",
            "34/34 [==============================] - 0s 3ms/step - loss: 7682.9761 - mae: 7682.9761\n",
            "Epoch 27/100\n",
            "34/34 [==============================] - 0s 3ms/step - loss: 7698.3013 - mae: 7698.3013\n",
            "Epoch 28/100\n",
            "34/34 [==============================] - 0s 3ms/step - loss: 7335.6255 - mae: 7335.6255\n",
            "Epoch 29/100\n",
            "34/34 [==============================] - 0s 2ms/step - loss: 7656.5024 - mae: 7656.5024\n",
            "Epoch 30/100\n",
            "34/34 [==============================] - 0s 3ms/step - loss: 7739.0708 - mae: 7739.0708\n",
            "Epoch 31/100\n",
            "34/34 [==============================] - 0s 3ms/step - loss: 7529.4233 - mae: 7529.4233\n",
            "Epoch 32/100\n",
            "34/34 [==============================] - 0s 3ms/step - loss: 7519.1909 - mae: 7519.1909\n",
            "Epoch 33/100\n",
            "34/34 [==============================] - 0s 3ms/step - loss: 7382.4526 - mae: 7382.4526\n",
            "Epoch 34/100\n",
            "34/34 [==============================] - 0s 3ms/step - loss: 7453.0142 - mae: 7453.0142\n",
            "Epoch 35/100\n",
            "34/34 [==============================] - 0s 3ms/step - loss: 7614.6719 - mae: 7614.6719\n",
            "Epoch 36/100\n",
            "34/34 [==============================] - 0s 3ms/step - loss: 7596.5005 - mae: 7596.5005\n",
            "Epoch 37/100\n",
            "34/34 [==============================] - 0s 3ms/step - loss: 7605.7632 - mae: 7605.7632\n",
            "Epoch 38/100\n",
            "34/34 [==============================] - 0s 3ms/step - loss: 7352.3691 - mae: 7352.3691\n",
            "Epoch 39/100\n",
            "34/34 [==============================] - 0s 3ms/step - loss: 7515.7715 - mae: 7515.7715\n",
            "Epoch 40/100\n",
            "34/34 [==============================] - 0s 3ms/step - loss: 7289.4688 - mae: 7289.4688\n",
            "Epoch 41/100\n",
            "34/34 [==============================] - 0s 3ms/step - loss: 7756.2354 - mae: 7756.2354\n",
            "Epoch 42/100\n",
            "34/34 [==============================] - 0s 3ms/step - loss: 7735.1636 - mae: 7735.1636\n",
            "Epoch 43/100\n",
            "34/34 [==============================] - 0s 3ms/step - loss: 7703.5762 - mae: 7703.5762\n",
            "Epoch 44/100\n",
            "34/34 [==============================] - 0s 2ms/step - loss: 7436.0532 - mae: 7436.0532\n",
            "Epoch 45/100\n",
            "34/34 [==============================] - 0s 3ms/step - loss: 7508.3096 - mae: 7508.3096\n",
            "Epoch 46/100\n",
            "34/34 [==============================] - 0s 3ms/step - loss: 7343.5542 - mae: 7343.5542\n",
            "Epoch 47/100\n",
            "34/34 [==============================] - 0s 3ms/step - loss: 7488.0591 - mae: 7488.0591\n",
            "Epoch 48/100\n",
            "34/34 [==============================] - 0s 3ms/step - loss: 7404.7559 - mae: 7404.7559\n",
            "Epoch 49/100\n",
            "34/34 [==============================] - 0s 3ms/step - loss: 7538.7837 - mae: 7538.7837\n",
            "Epoch 50/100\n",
            "34/34 [==============================] - 0s 3ms/step - loss: 7410.2832 - mae: 7410.2832\n",
            "Epoch 51/100\n",
            "34/34 [==============================] - 0s 3ms/step - loss: 7406.4644 - mae: 7406.4644\n",
            "Epoch 52/100\n",
            "34/34 [==============================] - 0s 3ms/step - loss: 7530.4438 - mae: 7530.4438\n",
            "Epoch 53/100\n",
            "34/34 [==============================] - 0s 3ms/step - loss: 7480.0264 - mae: 7480.0264\n",
            "Epoch 54/100\n",
            "34/34 [==============================] - 0s 3ms/step - loss: 7203.9810 - mae: 7203.9810\n",
            "Epoch 55/100\n",
            "34/34 [==============================] - 0s 2ms/step - loss: 7548.4424 - mae: 7548.4424\n",
            "Epoch 56/100\n",
            "34/34 [==============================] - 0s 3ms/step - loss: 7228.8281 - mae: 7228.8281\n",
            "Epoch 57/100\n",
            "34/34 [==============================] - 0s 3ms/step - loss: 7483.6533 - mae: 7483.6533\n",
            "Epoch 58/100\n",
            "34/34 [==============================] - 0s 3ms/step - loss: 7396.3755 - mae: 7396.3755\n",
            "Epoch 59/100\n",
            "34/34 [==============================] - 0s 3ms/step - loss: 7685.0112 - mae: 7685.0112\n",
            "Epoch 60/100\n",
            "34/34 [==============================] - 0s 3ms/step - loss: 7309.8950 - mae: 7309.8950\n",
            "Epoch 61/100\n",
            "34/34 [==============================] - 0s 3ms/step - loss: 7388.4839 - mae: 7388.4839\n",
            "Epoch 62/100\n",
            "34/34 [==============================] - 0s 3ms/step - loss: 7343.8433 - mae: 7343.8433\n",
            "Epoch 63/100\n",
            "34/34 [==============================] - 0s 2ms/step - loss: 7389.8267 - mae: 7389.8267\n",
            "Epoch 64/100\n",
            "34/34 [==============================] - 0s 2ms/step - loss: 7319.3647 - mae: 7319.3647\n",
            "Epoch 65/100\n",
            "34/34 [==============================] - 0s 2ms/step - loss: 7443.4600 - mae: 7443.4600\n",
            "Epoch 66/100\n",
            "34/34 [==============================] - 0s 2ms/step - loss: 7326.6108 - mae: 7326.6108\n",
            "Epoch 67/100\n",
            "34/34 [==============================] - 0s 2ms/step - loss: 7417.0527 - mae: 7417.0527\n",
            "Epoch 68/100\n",
            "34/34 [==============================] - 0s 2ms/step - loss: 7493.9922 - mae: 7493.9922\n",
            "Epoch 69/100\n",
            "34/34 [==============================] - 0s 2ms/step - loss: 7478.9087 - mae: 7478.9087\n",
            "Epoch 70/100\n",
            "34/34 [==============================] - 0s 2ms/step - loss: 7680.4009 - mae: 7680.4009\n",
            "Epoch 71/100\n",
            "34/34 [==============================] - 0s 2ms/step - loss: 7246.8433 - mae: 7246.8433\n",
            "Epoch 72/100\n",
            "34/34 [==============================] - 0s 2ms/step - loss: 7456.9419 - mae: 7456.9419\n",
            "Epoch 73/100\n",
            "34/34 [==============================] - 0s 2ms/step - loss: 7344.3545 - mae: 7344.3545\n",
            "Epoch 74/100\n",
            "34/34 [==============================] - 0s 2ms/step - loss: 7323.3350 - mae: 7323.3350\n",
            "Epoch 75/100\n",
            "34/34 [==============================] - 0s 2ms/step - loss: 7326.7041 - mae: 7326.7041\n",
            "Epoch 76/100\n",
            "34/34 [==============================] - 0s 2ms/step - loss: 7151.1084 - mae: 7151.1084\n",
            "Epoch 77/100\n",
            "34/34 [==============================] - 0s 2ms/step - loss: 7133.5576 - mae: 7133.5576\n",
            "Epoch 78/100\n",
            "34/34 [==============================] - 0s 2ms/step - loss: 7075.1255 - mae: 7075.1255\n",
            "Epoch 79/100\n",
            "34/34 [==============================] - 0s 2ms/step - loss: 7611.3721 - mae: 7611.3721\n",
            "Epoch 80/100\n",
            "34/34 [==============================] - 0s 2ms/step - loss: 7363.5938 - mae: 7363.5938\n",
            "Epoch 81/100\n",
            "34/34 [==============================] - 0s 2ms/step - loss: 7182.1147 - mae: 7182.1147\n",
            "Epoch 82/100\n",
            "34/34 [==============================] - 0s 2ms/step - loss: 7176.5317 - mae: 7176.5317\n",
            "Epoch 83/100\n",
            "34/34 [==============================] - 0s 2ms/step - loss: 7421.3340 - mae: 7421.3340\n",
            "Epoch 84/100\n",
            "34/34 [==============================] - 0s 2ms/step - loss: 7278.3281 - mae: 7278.3281\n",
            "Epoch 85/100\n",
            "34/34 [==============================] - 0s 2ms/step - loss: 7255.8335 - mae: 7255.8335\n",
            "Epoch 86/100\n",
            "34/34 [==============================] - 0s 2ms/step - loss: 7216.9995 - mae: 7216.9995\n",
            "Epoch 87/100\n",
            "34/34 [==============================] - 0s 2ms/step - loss: 7118.1802 - mae: 7118.1802\n",
            "Epoch 88/100\n",
            "34/34 [==============================] - 0s 2ms/step - loss: 7490.4785 - mae: 7490.4785\n",
            "Epoch 89/100\n",
            "34/34 [==============================] - 0s 2ms/step - loss: 7504.6812 - mae: 7504.6812\n",
            "Epoch 90/100\n",
            "34/34 [==============================] - 0s 2ms/step - loss: 7044.1030 - mae: 7044.1030\n",
            "Epoch 91/100\n",
            "34/34 [==============================] - 0s 2ms/step - loss: 7216.3008 - mae: 7216.3008\n",
            "Epoch 92/100\n",
            "34/34 [==============================] - 0s 2ms/step - loss: 7242.9521 - mae: 7242.9521\n",
            "Epoch 93/100\n",
            "34/34 [==============================] - 0s 2ms/step - loss: 7510.7329 - mae: 7510.7329\n",
            "Epoch 94/100\n",
            "34/34 [==============================] - 0s 2ms/step - loss: 7175.8643 - mae: 7175.8643\n",
            "Epoch 95/100\n",
            "34/34 [==============================] - 0s 2ms/step - loss: 7455.5498 - mae: 7455.5498\n",
            "Epoch 96/100\n",
            "34/34 [==============================] - 0s 2ms/step - loss: 7066.8252 - mae: 7066.8252\n",
            "Epoch 97/100\n",
            "34/34 [==============================] - 0s 2ms/step - loss: 7106.4756 - mae: 7106.4756\n",
            "Epoch 98/100\n",
            "34/34 [==============================] - 0s 2ms/step - loss: 7425.8262 - mae: 7425.8262\n",
            "Epoch 99/100\n",
            "34/34 [==============================] - 0s 2ms/step - loss: 7316.7324 - mae: 7316.7324\n",
            "Epoch 100/100\n",
            "34/34 [==============================] - 0s 2ms/step - loss: 7400.4492 - mae: 7400.4492\n"
          ]
        },
        {
          "output_type": "execute_result",
          "data": {
            "text/plain": [
              "<keras.src.callbacks.History at 0x7b916cf49ff0>"
            ]
          },
          "metadata": {},
          "execution_count": 11
        }
      ]
    },
    {
      "cell_type": "code",
      "source": [
        "charges_model_1.summary()"
      ],
      "metadata": {
        "colab": {
          "base_uri": "https://localhost:8080/"
        },
        "id": "pIFcOwou7Gk1",
        "outputId": "67c8e5c2-6731-4b5c-ddcd-56d88d50f091"
      },
      "execution_count": null,
      "outputs": [
        {
          "output_type": "stream",
          "name": "stdout",
          "text": [
            "Model: \"charges_model_1\"\n",
            "_________________________________________________________________\n",
            " Layer (type)                Output Shape              Param #   \n",
            "=================================================================\n",
            " dense (Dense)               (None, 1, 10)             120       \n",
            "                                                                 \n",
            " dense_1 (Dense)             (None, 1, 1)              11        \n",
            "                                                                 \n",
            "=================================================================\n",
            "Total params: 131 (524.00 Byte)\n",
            "Trainable params: 131 (524.00 Byte)\n",
            "Non-trainable params: 0 (0.00 Byte)\n",
            "_________________________________________________________________\n"
          ]
        }
      ]
    },
    {
      "cell_type": "code",
      "source": [
        "charges_model_1.evaluate(X_test, y_test ) # wrong by 7108 approx on average"
      ],
      "metadata": {
        "colab": {
          "base_uri": "https://localhost:8080/"
        },
        "id": "YWbGWzcj77Bp",
        "outputId": "54c101ec-94d0-47de-9c65-fd85f6643f16"
      },
      "execution_count": null,
      "outputs": [
        {
          "output_type": "stream",
          "name": "stdout",
          "text": [
            "9/9 [==============================] - 0s 2ms/step - loss: 7108.3599 - mae: 7108.3599\n"
          ]
        },
        {
          "output_type": "execute_result",
          "data": {
            "text/plain": [
              "[7108.35986328125, 7108.35986328125]"
            ]
          },
          "metadata": {},
          "execution_count": 18
        }
      ]
    },
    {
      "cell_type": "code",
      "source": [
        "y_train.median(), y_train.mean() # substantially incorrect"
      ],
      "metadata": {
        "colab": {
          "base_uri": "https://localhost:8080/"
        },
        "id": "_4F2qgBx9nlN",
        "outputId": "fe4cca22-86fc-41b4-969e-b1b97d4b437c"
      },
      "execution_count": null,
      "outputs": [
        {
          "output_type": "execute_result",
          "data": {
            "text/plain": [
              "(9575.4421, 13346.089736364485)"
            ]
          },
          "metadata": {},
          "execution_count": 19
        }
      ]
    },
    {
      "cell_type": "code",
      "source": [
        "# We need to improve our model for a better result -- experiment!"
      ],
      "metadata": {
        "id": "oxrx6SGG-D6q"
      },
      "execution_count": null,
      "outputs": []
    },
    {
      "cell_type": "code",
      "source": [
        "# lets create a new model with improvements as we have done before\n",
        "# we will add more layers and increase Density of hideden layers & epochs\n",
        "# and use Adam as the optimizer\n",
        "tf.random.set_seed(42)\n",
        "charges_model_2 = tf.keras.Sequential([\n",
        "    tf.keras.layers.Dense(100),\n",
        "    tf.keras.layers.Dense(10),\n",
        "    tf.keras.layers.Dense(1),\n",
        "])\n",
        "\n",
        "charges_model_2.compile(loss=tf.keras.losses.mae,\n",
        "                        optimizer=tf.keras.optimizers.Adam(),\n",
        "                        metrics=[\"mae\"])\n",
        "training_history = charges_model_2.fit(tf.expand_dims(X_train, axis=1), y_train, epochs=200)"
      ],
      "metadata": {
        "id": "kOD2eTHs_1so",
        "colab": {
          "base_uri": "https://localhost:8080/"
        },
        "outputId": "affd4703-7fbf-4be7-907d-9c5043a3267c"
      },
      "execution_count": null,
      "outputs": [
        {
          "output_type": "stream",
          "name": "stdout",
          "text": [
            "Epoch 1/200\n",
            "34/34 [==============================] - 1s 4ms/step - loss: 13247.8838 - mae: 13247.8838\n",
            "Epoch 2/200\n",
            "34/34 [==============================] - 0s 3ms/step - loss: 13010.3096 - mae: 13010.3096\n",
            "Epoch 3/200\n",
            "34/34 [==============================] - 0s 3ms/step - loss: 12539.7852 - mae: 12539.7852\n",
            "Epoch 4/200\n",
            "34/34 [==============================] - 0s 3ms/step - loss: 11686.1797 - mae: 11686.1797\n",
            "Epoch 5/200\n",
            "34/34 [==============================] - 0s 3ms/step - loss: 10402.1006 - mae: 10402.1006\n",
            "Epoch 6/200\n",
            "34/34 [==============================] - 0s 3ms/step - loss: 8949.1855 - mae: 8949.1855\n",
            "Epoch 7/200\n",
            "34/34 [==============================] - 0s 3ms/step - loss: 7829.1040 - mae: 7829.1040\n",
            "Epoch 8/200\n",
            "34/34 [==============================] - 0s 3ms/step - loss: 7476.1426 - mae: 7476.1426\n",
            "Epoch 9/200\n",
            "34/34 [==============================] - 0s 3ms/step - loss: 7427.1782 - mae: 7427.1782\n",
            "Epoch 10/200\n",
            "34/34 [==============================] - 0s 3ms/step - loss: 7407.5396 - mae: 7407.5396\n",
            "Epoch 11/200\n",
            "34/34 [==============================] - 0s 4ms/step - loss: 7388.4287 - mae: 7388.4287\n",
            "Epoch 12/200\n",
            "34/34 [==============================] - 0s 3ms/step - loss: 7365.7505 - mae: 7365.7505\n",
            "Epoch 13/200\n",
            "34/34 [==============================] - 0s 3ms/step - loss: 7344.7534 - mae: 7344.7534\n",
            "Epoch 14/200\n",
            "34/34 [==============================] - 0s 4ms/step - loss: 7321.5469 - mae: 7321.5469\n",
            "Epoch 15/200\n",
            "34/34 [==============================] - 0s 3ms/step - loss: 7301.9458 - mae: 7301.9458\n",
            "Epoch 16/200\n",
            "34/34 [==============================] - 0s 4ms/step - loss: 7278.9512 - mae: 7278.9512\n",
            "Epoch 17/200\n",
            "34/34 [==============================] - 0s 4ms/step - loss: 7257.8091 - mae: 7257.8091\n",
            "Epoch 18/200\n",
            "34/34 [==============================] - 0s 3ms/step - loss: 7233.5933 - mae: 7233.5933\n",
            "Epoch 19/200\n",
            "34/34 [==============================] - 0s 4ms/step - loss: 7210.2153 - mae: 7210.2153\n",
            "Epoch 20/200\n",
            "34/34 [==============================] - 0s 4ms/step - loss: 7185.5381 - mae: 7185.5381\n",
            "Epoch 21/200\n",
            "34/34 [==============================] - 0s 2ms/step - loss: 7165.9697 - mae: 7165.9697\n",
            "Epoch 22/200\n",
            "34/34 [==============================] - 0s 2ms/step - loss: 7136.6519 - mae: 7136.6519\n",
            "Epoch 23/200\n",
            "34/34 [==============================] - 0s 2ms/step - loss: 7109.8794 - mae: 7109.8794\n",
            "Epoch 24/200\n",
            "34/34 [==============================] - 0s 2ms/step - loss: 7083.7451 - mae: 7083.7451\n",
            "Epoch 25/200\n",
            "34/34 [==============================] - 0s 2ms/step - loss: 7063.8198 - mae: 7063.8198\n",
            "Epoch 26/200\n",
            "34/34 [==============================] - 0s 2ms/step - loss: 7030.4897 - mae: 7030.4897\n",
            "Epoch 27/200\n",
            "34/34 [==============================] - 0s 2ms/step - loss: 7000.2119 - mae: 7000.2119\n",
            "Epoch 28/200\n",
            "34/34 [==============================] - 0s 2ms/step - loss: 6970.1816 - mae: 6970.1816\n",
            "Epoch 29/200\n",
            "34/34 [==============================] - 0s 2ms/step - loss: 6939.6270 - mae: 6939.6270\n",
            "Epoch 30/200\n",
            "34/34 [==============================] - 0s 2ms/step - loss: 6910.0781 - mae: 6910.0781\n",
            "Epoch 31/200\n",
            "34/34 [==============================] - 0s 2ms/step - loss: 6877.2021 - mae: 6877.2021\n",
            "Epoch 32/200\n",
            "34/34 [==============================] - 0s 2ms/step - loss: 6846.4092 - mae: 6846.4092\n",
            "Epoch 33/200\n",
            "34/34 [==============================] - 0s 2ms/step - loss: 6812.4468 - mae: 6812.4468\n",
            "Epoch 34/200\n",
            "34/34 [==============================] - 0s 2ms/step - loss: 6779.0308 - mae: 6779.0308\n",
            "Epoch 35/200\n",
            "34/34 [==============================] - 0s 2ms/step - loss: 6741.5898 - mae: 6741.5898\n",
            "Epoch 36/200\n",
            "34/34 [==============================] - 0s 2ms/step - loss: 6704.8569 - mae: 6704.8569\n",
            "Epoch 37/200\n",
            "34/34 [==============================] - 0s 2ms/step - loss: 6666.2842 - mae: 6666.2842\n",
            "Epoch 38/200\n",
            "34/34 [==============================] - 0s 3ms/step - loss: 6635.0161 - mae: 6635.0161\n",
            "Epoch 39/200\n",
            "34/34 [==============================] - 0s 2ms/step - loss: 6594.7568 - mae: 6594.7568\n",
            "Epoch 40/200\n",
            "34/34 [==============================] - 0s 3ms/step - loss: 6561.1313 - mae: 6561.1313\n",
            "Epoch 41/200\n",
            "34/34 [==============================] - 0s 2ms/step - loss: 6533.0405 - mae: 6533.0405\n",
            "Epoch 42/200\n",
            "34/34 [==============================] - 0s 3ms/step - loss: 6509.3032 - mae: 6509.3032\n",
            "Epoch 43/200\n",
            "34/34 [==============================] - 0s 2ms/step - loss: 6487.0127 - mae: 6487.0127\n",
            "Epoch 44/200\n",
            "34/34 [==============================] - 0s 2ms/step - loss: 6468.0063 - mae: 6468.0063\n",
            "Epoch 45/200\n",
            "34/34 [==============================] - 0s 2ms/step - loss: 6457.1885 - mae: 6457.1885\n",
            "Epoch 46/200\n",
            "34/34 [==============================] - 0s 3ms/step - loss: 6439.9590 - mae: 6439.9590\n",
            "Epoch 47/200\n",
            "34/34 [==============================] - 0s 2ms/step - loss: 6423.3525 - mae: 6423.3525\n",
            "Epoch 48/200\n",
            "34/34 [==============================] - 0s 2ms/step - loss: 6408.8896 - mae: 6408.8896\n",
            "Epoch 49/200\n",
            "34/34 [==============================] - 0s 2ms/step - loss: 6397.3398 - mae: 6397.3398\n",
            "Epoch 50/200\n",
            "34/34 [==============================] - 0s 2ms/step - loss: 6381.8325 - mae: 6381.8325\n",
            "Epoch 51/200\n",
            "34/34 [==============================] - 0s 2ms/step - loss: 6367.5225 - mae: 6367.5225\n",
            "Epoch 52/200\n",
            "34/34 [==============================] - 0s 2ms/step - loss: 6353.4619 - mae: 6353.4619\n",
            "Epoch 53/200\n",
            "34/34 [==============================] - 0s 2ms/step - loss: 6338.3418 - mae: 6338.3418\n",
            "Epoch 54/200\n",
            "34/34 [==============================] - 0s 3ms/step - loss: 6323.0679 - mae: 6323.0679\n",
            "Epoch 55/200\n",
            "34/34 [==============================] - 0s 2ms/step - loss: 6308.4653 - mae: 6308.4653\n",
            "Epoch 56/200\n",
            "34/34 [==============================] - 0s 2ms/step - loss: 6293.3315 - mae: 6293.3315\n",
            "Epoch 57/200\n",
            "34/34 [==============================] - 0s 2ms/step - loss: 6278.0908 - mae: 6278.0908\n",
            "Epoch 58/200\n",
            "34/34 [==============================] - 0s 2ms/step - loss: 6263.1675 - mae: 6263.1675\n",
            "Epoch 59/200\n",
            "34/34 [==============================] - 0s 2ms/step - loss: 6245.3545 - mae: 6245.3545\n",
            "Epoch 60/200\n",
            "34/34 [==============================] - 0s 2ms/step - loss: 6232.8247 - mae: 6232.8247\n",
            "Epoch 61/200\n",
            "34/34 [==============================] - 0s 2ms/step - loss: 6210.5977 - mae: 6210.5977\n",
            "Epoch 62/200\n",
            "34/34 [==============================] - 0s 2ms/step - loss: 6197.0591 - mae: 6197.0591\n",
            "Epoch 63/200\n",
            "34/34 [==============================] - 0s 2ms/step - loss: 6175.4644 - mae: 6175.4644\n",
            "Epoch 64/200\n",
            "34/34 [==============================] - 0s 2ms/step - loss: 6156.2671 - mae: 6156.2671\n",
            "Epoch 65/200\n",
            "34/34 [==============================] - 0s 2ms/step - loss: 6137.4321 - mae: 6137.4321\n",
            "Epoch 66/200\n",
            "34/34 [==============================] - 0s 2ms/step - loss: 6116.9761 - mae: 6116.9761\n",
            "Epoch 67/200\n",
            "34/34 [==============================] - 0s 2ms/step - loss: 6102.3608 - mae: 6102.3608\n",
            "Epoch 68/200\n",
            "34/34 [==============================] - 0s 2ms/step - loss: 6075.7427 - mae: 6075.7427\n",
            "Epoch 69/200\n",
            "34/34 [==============================] - 0s 2ms/step - loss: 6057.3530 - mae: 6057.3530\n",
            "Epoch 70/200\n",
            "34/34 [==============================] - 0s 2ms/step - loss: 6034.0615 - mae: 6034.0615\n",
            "Epoch 71/200\n",
            "34/34 [==============================] - 0s 2ms/step - loss: 6010.3926 - mae: 6010.3926\n",
            "Epoch 72/200\n",
            "34/34 [==============================] - 0s 2ms/step - loss: 5986.0229 - mae: 5986.0229\n",
            "Epoch 73/200\n",
            "34/34 [==============================] - 0s 2ms/step - loss: 5969.3447 - mae: 5969.3447\n",
            "Epoch 74/200\n",
            "34/34 [==============================] - 0s 2ms/step - loss: 5935.3457 - mae: 5935.3457\n",
            "Epoch 75/200\n",
            "34/34 [==============================] - 0s 2ms/step - loss: 5910.1860 - mae: 5910.1860\n",
            "Epoch 76/200\n",
            "34/34 [==============================] - 0s 2ms/step - loss: 5889.4849 - mae: 5889.4849\n",
            "Epoch 77/200\n",
            "34/34 [==============================] - 0s 2ms/step - loss: 5854.8652 - mae: 5854.8652\n",
            "Epoch 78/200\n",
            "34/34 [==============================] - 0s 3ms/step - loss: 5825.5386 - mae: 5825.5386\n",
            "Epoch 79/200\n",
            "34/34 [==============================] - 0s 2ms/step - loss: 5795.1064 - mae: 5795.1064\n",
            "Epoch 80/200\n",
            "34/34 [==============================] - 0s 2ms/step - loss: 5761.5801 - mae: 5761.5801\n",
            "Epoch 81/200\n",
            "34/34 [==============================] - 0s 2ms/step - loss: 5730.1636 - mae: 5730.1636\n",
            "Epoch 82/200\n",
            "34/34 [==============================] - 0s 3ms/step - loss: 5694.5317 - mae: 5694.5317\n",
            "Epoch 83/200\n",
            "34/34 [==============================] - 0s 2ms/step - loss: 5660.3125 - mae: 5660.3125\n",
            "Epoch 84/200\n",
            "34/34 [==============================] - 0s 2ms/step - loss: 5619.1675 - mae: 5619.1675\n",
            "Epoch 85/200\n",
            "34/34 [==============================] - 0s 2ms/step - loss: 5584.7114 - mae: 5584.7114\n",
            "Epoch 86/200\n",
            "34/34 [==============================] - 0s 2ms/step - loss: 5542.8354 - mae: 5542.8354\n",
            "Epoch 87/200\n",
            "34/34 [==============================] - 0s 2ms/step - loss: 5498.8218 - mae: 5498.8218\n",
            "Epoch 88/200\n",
            "34/34 [==============================] - 0s 2ms/step - loss: 5453.4507 - mae: 5453.4507\n",
            "Epoch 89/200\n",
            "34/34 [==============================] - 0s 2ms/step - loss: 5405.6655 - mae: 5405.6655\n",
            "Epoch 90/200\n",
            "34/34 [==============================] - 0s 3ms/step - loss: 5353.5947 - mae: 5353.5947\n",
            "Epoch 91/200\n",
            "34/34 [==============================] - 0s 2ms/step - loss: 5303.6445 - mae: 5303.6445\n",
            "Epoch 92/200\n",
            "34/34 [==============================] - 0s 2ms/step - loss: 5250.3208 - mae: 5250.3208\n",
            "Epoch 93/200\n",
            "34/34 [==============================] - 0s 2ms/step - loss: 5194.3159 - mae: 5194.3159\n",
            "Epoch 94/200\n",
            "34/34 [==============================] - 0s 2ms/step - loss: 5134.5557 - mae: 5134.5557\n",
            "Epoch 95/200\n",
            "34/34 [==============================] - 0s 2ms/step - loss: 5070.4961 - mae: 5070.4961\n",
            "Epoch 96/200\n",
            "34/34 [==============================] - 0s 2ms/step - loss: 5015.7368 - mae: 5015.7368\n",
            "Epoch 97/200\n",
            "34/34 [==============================] - 0s 2ms/step - loss: 4947.3291 - mae: 4947.3291\n",
            "Epoch 98/200\n",
            "34/34 [==============================] - 0s 2ms/step - loss: 4876.6196 - mae: 4876.6196\n",
            "Epoch 99/200\n",
            "34/34 [==============================] - 0s 2ms/step - loss: 4796.2056 - mae: 4796.2056\n",
            "Epoch 100/200\n",
            "34/34 [==============================] - 0s 2ms/step - loss: 4728.7598 - mae: 4728.7598\n",
            "Epoch 101/200\n",
            "34/34 [==============================] - 0s 2ms/step - loss: 4642.6226 - mae: 4642.6226\n",
            "Epoch 102/200\n",
            "34/34 [==============================] - 0s 2ms/step - loss: 4554.8862 - mae: 4554.8862\n",
            "Epoch 103/200\n",
            "34/34 [==============================] - 0s 2ms/step - loss: 4471.9688 - mae: 4471.9688\n",
            "Epoch 104/200\n",
            "34/34 [==============================] - 0s 2ms/step - loss: 4384.2012 - mae: 4384.2012\n",
            "Epoch 105/200\n",
            "34/34 [==============================] - 0s 2ms/step - loss: 4298.3218 - mae: 4298.3218\n",
            "Epoch 106/200\n",
            "34/34 [==============================] - 0s 2ms/step - loss: 4218.2002 - mae: 4218.2002\n",
            "Epoch 107/200\n",
            "34/34 [==============================] - 0s 2ms/step - loss: 4142.9209 - mae: 4142.9209\n",
            "Epoch 108/200\n",
            "34/34 [==============================] - 0s 2ms/step - loss: 4070.6826 - mae: 4070.6826\n",
            "Epoch 109/200\n",
            "34/34 [==============================] - 0s 3ms/step - loss: 4008.2949 - mae: 4008.2949\n",
            "Epoch 110/200\n",
            "34/34 [==============================] - 0s 2ms/step - loss: 3964.9285 - mae: 3964.9285\n",
            "Epoch 111/200\n",
            "34/34 [==============================] - 0s 2ms/step - loss: 3929.4817 - mae: 3929.4817\n",
            "Epoch 112/200\n",
            "34/34 [==============================] - 0s 2ms/step - loss: 3902.8140 - mae: 3902.8140\n",
            "Epoch 113/200\n",
            "34/34 [==============================] - 0s 2ms/step - loss: 3879.2781 - mae: 3879.2781\n",
            "Epoch 114/200\n",
            "34/34 [==============================] - 0s 3ms/step - loss: 3871.9858 - mae: 3871.9858\n",
            "Epoch 115/200\n",
            "34/34 [==============================] - 0s 2ms/step - loss: 3849.2429 - mae: 3849.2429\n",
            "Epoch 116/200\n",
            "34/34 [==============================] - 0s 2ms/step - loss: 3840.6584 - mae: 3840.6584\n",
            "Epoch 117/200\n",
            "34/34 [==============================] - 0s 2ms/step - loss: 3831.9978 - mae: 3831.9978\n",
            "Epoch 118/200\n",
            "34/34 [==============================] - 0s 2ms/step - loss: 3819.4197 - mae: 3819.4197\n",
            "Epoch 119/200\n",
            "34/34 [==============================] - 0s 2ms/step - loss: 3808.6057 - mae: 3808.6057\n",
            "Epoch 120/200\n",
            "34/34 [==============================] - 0s 2ms/step - loss: 3800.2905 - mae: 3800.2905\n",
            "Epoch 121/200\n",
            "34/34 [==============================] - 0s 3ms/step - loss: 3796.4263 - mae: 3796.4263\n",
            "Epoch 122/200\n",
            "34/34 [==============================] - 0s 2ms/step - loss: 3796.5896 - mae: 3796.5896\n",
            "Epoch 123/200\n",
            "34/34 [==============================] - 0s 2ms/step - loss: 3792.7581 - mae: 3792.7581\n",
            "Epoch 124/200\n",
            "34/34 [==============================] - 0s 2ms/step - loss: 3787.5500 - mae: 3787.5500\n",
            "Epoch 125/200\n",
            "34/34 [==============================] - 0s 2ms/step - loss: 3778.3389 - mae: 3778.3389\n",
            "Epoch 126/200\n",
            "34/34 [==============================] - 0s 3ms/step - loss: 3789.4219 - mae: 3789.4219\n",
            "Epoch 127/200\n",
            "34/34 [==============================] - 0s 2ms/step - loss: 3781.5833 - mae: 3781.5833\n",
            "Epoch 128/200\n",
            "34/34 [==============================] - 0s 2ms/step - loss: 3776.5969 - mae: 3776.5969\n",
            "Epoch 129/200\n",
            "34/34 [==============================] - 0s 2ms/step - loss: 3790.5837 - mae: 3790.5837\n",
            "Epoch 130/200\n",
            "34/34 [==============================] - 0s 2ms/step - loss: 3782.4407 - mae: 3782.4407\n",
            "Epoch 131/200\n",
            "34/34 [==============================] - 0s 2ms/step - loss: 3772.4958 - mae: 3772.4958\n",
            "Epoch 132/200\n",
            "34/34 [==============================] - 0s 2ms/step - loss: 3765.2510 - mae: 3765.2510\n",
            "Epoch 133/200\n",
            "34/34 [==============================] - 0s 3ms/step - loss: 3761.2810 - mae: 3761.2810\n",
            "Epoch 134/200\n",
            "34/34 [==============================] - 0s 2ms/step - loss: 3761.1497 - mae: 3761.1497\n",
            "Epoch 135/200\n",
            "34/34 [==============================] - 0s 2ms/step - loss: 3758.3550 - mae: 3758.3550\n",
            "Epoch 136/200\n",
            "34/34 [==============================] - 0s 2ms/step - loss: 3757.3420 - mae: 3757.3420\n",
            "Epoch 137/200\n",
            "34/34 [==============================] - 0s 4ms/step - loss: 3765.3301 - mae: 3765.3301\n",
            "Epoch 138/200\n",
            "34/34 [==============================] - 0s 4ms/step - loss: 3774.5764 - mae: 3774.5764\n",
            "Epoch 139/200\n",
            "34/34 [==============================] - 0s 3ms/step - loss: 3751.9866 - mae: 3751.9866\n",
            "Epoch 140/200\n",
            "34/34 [==============================] - 0s 3ms/step - loss: 3753.0159 - mae: 3753.0159\n",
            "Epoch 141/200\n",
            "34/34 [==============================] - 0s 3ms/step - loss: 3754.3430 - mae: 3754.3430\n",
            "Epoch 142/200\n",
            "34/34 [==============================] - 0s 3ms/step - loss: 3759.1411 - mae: 3759.1411\n",
            "Epoch 143/200\n",
            "34/34 [==============================] - 0s 3ms/step - loss: 3745.9763 - mae: 3745.9763\n",
            "Epoch 144/200\n",
            "34/34 [==============================] - 0s 3ms/step - loss: 3742.1057 - mae: 3742.1057\n",
            "Epoch 145/200\n",
            "34/34 [==============================] - 0s 3ms/step - loss: 3742.3965 - mae: 3742.3965\n",
            "Epoch 146/200\n",
            "34/34 [==============================] - 0s 3ms/step - loss: 3748.6052 - mae: 3748.6052\n",
            "Epoch 147/200\n",
            "34/34 [==============================] - 0s 3ms/step - loss: 3742.7659 - mae: 3742.7659\n",
            "Epoch 148/200\n",
            "34/34 [==============================] - 0s 3ms/step - loss: 3748.4534 - mae: 3748.4534\n",
            "Epoch 149/200\n",
            "34/34 [==============================] - 0s 3ms/step - loss: 3735.9270 - mae: 3735.9270\n",
            "Epoch 150/200\n",
            "34/34 [==============================] - 0s 3ms/step - loss: 3732.0845 - mae: 3732.0845\n",
            "Epoch 151/200\n",
            "34/34 [==============================] - 0s 3ms/step - loss: 3732.2241 - mae: 3732.2241\n",
            "Epoch 152/200\n",
            "34/34 [==============================] - 0s 3ms/step - loss: 3733.4392 - mae: 3733.4392\n",
            "Epoch 153/200\n",
            "34/34 [==============================] - 0s 3ms/step - loss: 3737.3860 - mae: 3737.3860\n",
            "Epoch 154/200\n",
            "34/34 [==============================] - 0s 4ms/step - loss: 3729.5200 - mae: 3729.5200\n",
            "Epoch 155/200\n",
            "34/34 [==============================] - 0s 4ms/step - loss: 3729.2258 - mae: 3729.2258\n",
            "Epoch 156/200\n",
            "34/34 [==============================] - 0s 3ms/step - loss: 3729.0442 - mae: 3729.0442\n",
            "Epoch 157/200\n",
            "34/34 [==============================] - 0s 3ms/step - loss: 3726.1328 - mae: 3726.1328\n",
            "Epoch 158/200\n",
            "34/34 [==============================] - 0s 3ms/step - loss: 3721.3489 - mae: 3721.3489\n",
            "Epoch 159/200\n",
            "34/34 [==============================] - 0s 4ms/step - loss: 3718.2031 - mae: 3718.2031\n",
            "Epoch 160/200\n",
            "34/34 [==============================] - 0s 3ms/step - loss: 3724.7886 - mae: 3724.7886\n",
            "Epoch 161/200\n",
            "34/34 [==============================] - 0s 3ms/step - loss: 3721.7964 - mae: 3721.7964\n",
            "Epoch 162/200\n",
            "34/34 [==============================] - 0s 3ms/step - loss: 3717.8457 - mae: 3717.8457\n",
            "Epoch 163/200\n",
            "34/34 [==============================] - 0s 3ms/step - loss: 3715.1516 - mae: 3715.1516\n",
            "Epoch 164/200\n",
            "34/34 [==============================] - 0s 3ms/step - loss: 3719.4097 - mae: 3719.4097\n",
            "Epoch 165/200\n",
            "34/34 [==============================] - 0s 3ms/step - loss: 3710.1628 - mae: 3710.1628\n",
            "Epoch 166/200\n",
            "34/34 [==============================] - 0s 3ms/step - loss: 3713.8616 - mae: 3713.8616\n",
            "Epoch 167/200\n",
            "34/34 [==============================] - 0s 3ms/step - loss: 3711.6497 - mae: 3711.6497\n",
            "Epoch 168/200\n",
            "34/34 [==============================] - 0s 3ms/step - loss: 3708.8735 - mae: 3708.8735\n",
            "Epoch 169/200\n",
            "34/34 [==============================] - 0s 3ms/step - loss: 3706.8674 - mae: 3706.8674\n",
            "Epoch 170/200\n",
            "34/34 [==============================] - 0s 3ms/step - loss: 3700.2520 - mae: 3700.2520\n",
            "Epoch 171/200\n",
            "34/34 [==============================] - 0s 3ms/step - loss: 3700.8462 - mae: 3700.8462\n",
            "Epoch 172/200\n",
            "34/34 [==============================] - 0s 3ms/step - loss: 3703.9521 - mae: 3703.9521\n",
            "Epoch 173/200\n",
            "34/34 [==============================] - 0s 3ms/step - loss: 3696.4268 - mae: 3696.4268\n",
            "Epoch 174/200\n",
            "34/34 [==============================] - 0s 4ms/step - loss: 3702.3206 - mae: 3702.3206\n",
            "Epoch 175/200\n",
            "34/34 [==============================] - 0s 3ms/step - loss: 3704.0432 - mae: 3704.0432\n",
            "Epoch 176/200\n",
            "34/34 [==============================] - 0s 3ms/step - loss: 3699.2837 - mae: 3699.2837\n",
            "Epoch 177/200\n",
            "34/34 [==============================] - 0s 3ms/step - loss: 3691.8809 - mae: 3691.8809\n",
            "Epoch 178/200\n",
            "34/34 [==============================] - 0s 3ms/step - loss: 3686.8723 - mae: 3686.8723\n",
            "Epoch 179/200\n",
            "34/34 [==============================] - 0s 3ms/step - loss: 3700.2258 - mae: 3700.2258\n",
            "Epoch 180/200\n",
            "34/34 [==============================] - 0s 4ms/step - loss: 3704.0215 - mae: 3704.0215\n",
            "Epoch 181/200\n",
            "34/34 [==============================] - 0s 3ms/step - loss: 3688.7695 - mae: 3688.7695\n",
            "Epoch 182/200\n",
            "34/34 [==============================] - 0s 2ms/step - loss: 3686.0515 - mae: 3686.0515\n",
            "Epoch 183/200\n",
            "34/34 [==============================] - 0s 3ms/step - loss: 3683.6912 - mae: 3683.6912\n",
            "Epoch 184/200\n",
            "34/34 [==============================] - 0s 2ms/step - loss: 3691.7375 - mae: 3691.7375\n",
            "Epoch 185/200\n",
            "34/34 [==============================] - 0s 2ms/step - loss: 3686.1218 - mae: 3686.1218\n",
            "Epoch 186/200\n",
            "34/34 [==============================] - 0s 2ms/step - loss: 3689.0251 - mae: 3689.0251\n",
            "Epoch 187/200\n",
            "34/34 [==============================] - 0s 2ms/step - loss: 3681.1689 - mae: 3681.1689\n",
            "Epoch 188/200\n",
            "34/34 [==============================] - 0s 2ms/step - loss: 3689.2983 - mae: 3689.2983\n",
            "Epoch 189/200\n",
            "34/34 [==============================] - 0s 2ms/step - loss: 3675.8540 - mae: 3675.8540\n",
            "Epoch 190/200\n",
            "34/34 [==============================] - 0s 3ms/step - loss: 3679.8037 - mae: 3679.8037\n",
            "Epoch 191/200\n",
            "34/34 [==============================] - 0s 2ms/step - loss: 3693.1943 - mae: 3693.1943\n",
            "Epoch 192/200\n",
            "34/34 [==============================] - 0s 2ms/step - loss: 3678.9790 - mae: 3678.9790\n",
            "Epoch 193/200\n",
            "34/34 [==============================] - 0s 2ms/step - loss: 3668.3450 - mae: 3668.3450\n",
            "Epoch 194/200\n",
            "34/34 [==============================] - 0s 3ms/step - loss: 3668.6521 - mae: 3668.6521\n",
            "Epoch 195/200\n",
            "34/34 [==============================] - 0s 2ms/step - loss: 3665.7361 - mae: 3665.7361\n",
            "Epoch 196/200\n",
            "34/34 [==============================] - 0s 2ms/step - loss: 3675.5588 - mae: 3675.5588\n",
            "Epoch 197/200\n",
            "34/34 [==============================] - 0s 2ms/step - loss: 3659.6790 - mae: 3659.6790\n",
            "Epoch 198/200\n",
            "34/34 [==============================] - 0s 2ms/step - loss: 3665.2996 - mae: 3665.2996\n",
            "Epoch 199/200\n",
            "34/34 [==============================] - 0s 2ms/step - loss: 3672.9268 - mae: 3672.9268\n",
            "Epoch 200/200\n",
            "34/34 [==============================] - 0s 2ms/step - loss: 3660.9907 - mae: 3660.9907\n"
          ]
        }
      ]
    },
    {
      "cell_type": "code",
      "source": [
        "charges_model_2.evaluate(X_test, y_test)"
      ],
      "metadata": {
        "colab": {
          "base_uri": "https://localhost:8080/"
        },
        "id": "4q6KvswNNNZj",
        "outputId": "616e6158-27a4-48d7-c7eb-87f39a04d75c"
      },
      "execution_count": null,
      "outputs": [
        {
          "output_type": "stream",
          "name": "stdout",
          "text": [
            "9/9 [==============================] - 0s 2ms/step - loss: 3480.0227 - mae: 3480.0227\n"
          ]
        },
        {
          "output_type": "execute_result",
          "data": {
            "text/plain": [
              "[3480.022705078125, 3480.022705078125]"
            ]
          },
          "metadata": {},
          "execution_count": 25
        }
      ]
    },
    {
      "cell_type": "code",
      "source": [
        "# WOW, we cut it in approx. half! Let's check our training history and see"
      ],
      "metadata": {
        "id": "HpsMRPjRNrCf"
      },
      "execution_count": null,
      "outputs": []
    },
    {
      "cell_type": "code",
      "source": [
        "# Plot history aka training curve or loss curve\n",
        "pd.DataFrame(training_history.history).plot()\n",
        "plt.ylabel(\"loss\")\n",
        "plt.xlabel(\"epochs\")"
      ],
      "metadata": {
        "colab": {
          "base_uri": "https://localhost:8080/",
          "height": 466
        },
        "id": "mgewW_eFO3sQ",
        "outputId": "41514ba9-c309-4b0e-eca9-fb45c748b939"
      },
      "execution_count": null,
      "outputs": [
        {
          "output_type": "execute_result",
          "data": {
            "text/plain": [
              "Text(0.5, 0, 'epochs')"
            ]
          },
          "metadata": {},
          "execution_count": 28
        },
        {
          "output_type": "display_data",
          "data": {
            "text/plain": [
              "<Figure size 640x480 with 1 Axes>"
            ],
            "image/png": "[encoded data removed]"
          },
          "metadata": {}
        }
      ]
    },
    {
      "cell_type": "markdown",
      "source": [
        "# This is a good sign!\n",
        "## We see the curve on a steep decline. So we see that if wetrain longer, we may get closer to more accuracy. So that begs the ? How long to train for? Answer: it depends. lol\n",
        "## There is no immutable answer.\n",
        "## But... maybe there is... EarlyStopping Callback :-)\n",
        "## TensorFlow component that stops the model training epochs once it stops improving a certain metric. We will explore later on!"
      ],
      "metadata": {
        "id": "AES7BV5oQP__"
      }
    },
    {
      "cell_type": "code",
      "source": [
        "# Ok, great work there! Now let's move on to getting closer to the section end\n",
        "# Preprocessing data w/ feature scaling"
      ],
      "metadata": {
        "id": "u5MkBtp-eJ8H"
      },
      "execution_count": 2,
      "outputs": []
    },
    {
      "cell_type": "code",
      "source": [],
      "metadata": {
        "id": "1YHdXssdeZEE"
      },
      "execution_count": null,
      "outputs": []
    }
  ]
}