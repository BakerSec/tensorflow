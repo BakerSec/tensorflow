{
  "nbformat": 4,
  "nbformat_minor": 0,
  "metadata": {
    "colab": {
      "provenance": [],
      "gpuType": "T4",
      "authorship_tag": "ABX9TyN5R8KrOJNu/0rBI5BueUnH",
      "include_colab_link": true
    },
    "kernelspec": {
      "name": "python3",
      "display_name": "Python 3"
    },
    "language_info": {
      "name": "python"
    }
  },
  "cells": [
    {
      "cell_type": "markdown",
      "metadata": {
        "id": "view-in-github",
        "colab_type": "text"
      },
      "source": [
        "<a href=\"https://colab.research.google.com/github/flowmasterB/tensorflow-flowmasterB-teaching/blob/main/01_Neural_Network_Regression_with_Tensorflow.ipynb\" target=\"_parent\"><img src=\"https://colab.research.google.com/assets/colab-badge.svg\" alt=\"Open In Colab\"/></a>"
      ]
    },
    {
      "cell_type": "code",
      "execution_count": 3,
      "metadata": {
        "id": "YGUCpZQ4_lmH"
      },
      "outputs": [],
      "source": [
        "# Intro to neural network regression w/ tf\n",
        "# predicting numbers as outcomes based on other numbers\n",
        "import tensorflow as tf\n",
        "import numpy as np\n",
        "import matplotlib.pyplot as plt\n",
        "import keras\n",
        "from keras import layers"
      ]
    },
    {
      "cell_type": "code",
      "source": [
        "# create data to view and fit\n",
        "\n",
        "# create features\n",
        "X = np.array([-7.0, -4.0, -1.0, 2.0, 5.0, 8.0, 11.0, 14.0])\n",
        "\n",
        "# creatwe labels\n",
        "y = np.array([3.0, 6.0, 9.0, 12.0, 15.0, 18.0, 21.0, 24.0])\n",
        "\n",
        "# visualize\n",
        "plt.scatter(X, y);"
      ],
      "metadata": {
        "colab": {
          "base_uri": "https://localhost:8080/",
          "height": 435
        },
        "id": "4S6ohMORZmAW",
        "outputId": "7d2f1b1e-fdb6-409a-f9e9-f53db6e69dd5"
      },
      "execution_count": 4,
      "outputs": [
        {
          "output_type": "display_data",
          "data": {
            "text/plain": [
              "<Figure size 640x480 with 1 Axes>"
            ],
            "image/png": "[encoded data removed]"
          },
          "metadata": {}
        }
      ]
    },
    {
      "cell_type": "code",
      "source": [
        "X + 10"
      ],
      "metadata": {
        "colab": {
          "base_uri": "https://localhost:8080/"
        },
        "id": "eNAQKzLXbP3K",
        "outputId": "81a792d6-f741-4163-a75f-2f2e2c33be44"
      },
      "execution_count": 5,
      "outputs": [
        {
          "output_type": "execute_result",
          "data": {
            "text/plain": [
              "array([ 3.,  6.,  9., 12., 15., 18., 21., 24.])"
            ]
          },
          "metadata": {},
          "execution_count": 5
        }
      ]
    },
    {
      "cell_type": "code",
      "source": [
        "y == X + 10 # relationship trying to learn -- the function between - ind var"
      ],
      "metadata": {
        "colab": {
          "base_uri": "https://localhost:8080/"
        },
        "id": "g8KANYzTbo-V",
        "outputId": "47add25a-7980-4baa-f230-33c7f8ee211e"
      },
      "execution_count": 6,
      "outputs": [
        {
          "output_type": "execute_result",
          "data": {
            "text/plain": [
              "array([ True,  True,  True,  True,  True,  True,  True,  True])"
            ]
          },
          "metadata": {},
          "execution_count": 6
        }
      ]
    },
    {
      "cell_type": "code",
      "source": [
        "# input and output shapes\n",
        "# create a demo tensor\n",
        "house_info = tf.constant([\"bedrooms\", \"bathrooms\", \"# of car(s) garage space\"])\n",
        "house_price = tf.constant([937000])\n",
        "house_info, house_price"
      ],
      "metadata": {
        "colab": {
          "base_uri": "https://localhost:8080/"
        },
        "id": "-p7MVPwVbtF_",
        "outputId": "afedd715-20bf-433e-c74c-4ac30da988a7"
      },
      "execution_count": 7,
      "outputs": [
        {
          "output_type": "execute_result",
          "data": {
            "text/plain": [
              "(<tf.Tensor: shape=(3,), dtype=string, numpy=\n",
              " array([b'bedrooms', b'bathrooms', b'# of car(s) garage space'],\n",
              "       dtype=object)>,\n",
              " <tf.Tensor: shape=(1,), dtype=int32, numpy=array([937000], dtype=int32)>)"
            ]
          },
          "metadata": {},
          "execution_count": 7
        }
      ]
    },
    {
      "cell_type": "code",
      "source": [
        "input_shape = X.shape\n",
        "output_shape = y.shape\n",
        "input_shape, output_shape"
      ],
      "metadata": {
        "colab": {
          "base_uri": "https://localhost:8080/"
        },
        "id": "m5R0ZpX9cqJp",
        "outputId": "99f81fb5-8190-41b1-960d-4d1caad67aa4"
      },
      "execution_count": 8,
      "outputs": [
        {
          "output_type": "execute_result",
          "data": {
            "text/plain": [
              "((8,), (8,))"
            ]
          },
          "metadata": {},
          "execution_count": 8
        }
      ]
    },
    {
      "cell_type": "code",
      "source": [
        "X[0],  y[0]"
      ],
      "metadata": {
        "colab": {
          "base_uri": "https://localhost:8080/"
        },
        "id": "N80-kd52dRco",
        "outputId": "5d03dcb7-4232-487d-a542-656b89b46cc0"
      },
      "execution_count": 9,
      "outputs": [
        {
          "output_type": "execute_result",
          "data": {
            "text/plain": [
              "(-7.0, 3.0)"
            ]
          },
          "metadata": {},
          "execution_count": 9
        }
      ]
    },
    {
      "cell_type": "code",
      "source": [
        "# major steps in modeling w/ tf -- turn np arrays into tensors w/ dtype float32\n",
        "X = tf.cast(tf.constant(X), dtype=tf.float32)\n",
        "y = tf.cast(tf.constant(y), dtype=tf.float32)\n",
        "X, y"
      ],
      "metadata": {
        "colab": {
          "base_uri": "https://localhost:8080/"
        },
        "id": "XscRiNeBd9hc",
        "outputId": "821cfede-f83e-4598-dd40-de1ffc4307cc"
      },
      "execution_count": 10,
      "outputs": [
        {
          "output_type": "execute_result",
          "data": {
            "text/plain": [
              "(<tf.Tensor: shape=(8,), dtype=float32, numpy=array([-7., -4., -1.,  2.,  5.,  8., 11., 14.], dtype=float32)>,\n",
              " <tf.Tensor: shape=(8,), dtype=float32, numpy=array([ 3.,  6.,  9., 12., 15., 18., 21., 24.], dtype=float32)>)"
            ]
          },
          "metadata": {},
          "execution_count": 10
        }
      ]
    },
    {
      "cell_type": "code",
      "source": [
        "input_shape = X[0].shape\n",
        "output_shape = y[0].shape\n",
        "input_shape, output_shape # returned a scalar"
      ],
      "metadata": {
        "colab": {
          "base_uri": "https://localhost:8080/"
        },
        "id": "mBbYLfHFerZK",
        "outputId": "f688f91e-8216-4178-a560-40807aada8b3"
      },
      "execution_count": 11,
      "outputs": [
        {
          "output_type": "execute_result",
          "data": {
            "text/plain": [
              "(TensorShape([]), TensorShape([]))"
            ]
          },
          "metadata": {},
          "execution_count": 11
        }
      ]
    },
    {
      "cell_type": "markdown",
      "source": [
        "# **Steps for ML modeling**\n",
        "1. **create a model:** define the input and output layers, also to include the hidden layers of a deep learning model.\n",
        "2. **compile the model:** the function which tells our model how wrong it is, and the optimizer, which tells our model how to improve the patterns it learns. Evaluation metrics, used to interpret model performance\n",
        "3. **fiting a model:** letting the model find patterns between X AND Y, aka features\n",
        "\n",
        "# **Steps in TF:**\n",
        "1. Get data ready -- convert to tensors\n",
        "2. build or pick a model to suit problem\n",
        "3. fit the model to the data and make a prediction\n",
        "4. evaluate the model\n",
        "5. save and reload the trained model"
      ],
      "metadata": {
        "id": "IM9rL03Oe56J"
      }
    },
    {
      "cell_type": "code",
      "source": [
        "# set random seed\n",
        "tf.random.set_seed(42)\n",
        "\n",
        "# 1. Create a model using sequential api\n",
        "model = tf.keras.Sequential([\n",
        "    tf.keras.layers.Dense(1) # using one number to predict one number\n",
        "])\n",
        "\n",
        "#2. compile model\n",
        "model.compile(loss=tf.keras.losses.mae, # mae = mean absolute error\n",
        "              optimizer=tf.keras.optimizers.SGD(), # SGD stochastic gradient descent\n",
        "              metrics=[\"mae\"])\n",
        "\n",
        "#3 fit the model\n",
        "model.fit(tf.expand_dims(X, axis=1), y, epochs=5) # 5 tries to figure out a pattern\n"
      ],
      "metadata": {
        "colab": {
          "base_uri": "https://localhost:8080/"
        },
        "id": "VsujQIP3f1aW",
        "outputId": "8464a79d-b4cc-4d8b-e46e-8b68330eb51b"
      },
      "execution_count": 12,
      "outputs": [
        {
          "output_type": "stream",
          "name": "stdout",
          "text": [
            "Epoch 1/5\n",
            "1/1 [==============================] - 1s 695ms/step - loss: 14.0933 - mae: 14.0933\n",
            "Epoch 2/5\n",
            "1/1 [==============================] - 0s 13ms/step - loss: 13.9608 - mae: 13.9608\n",
            "Epoch 3/5\n",
            "1/1 [==============================] - 0s 12ms/step - loss: 13.8283 - mae: 13.8283\n",
            "Epoch 4/5\n",
            "1/1 [==============================] - 0s 11ms/step - loss: 13.6958 - mae: 13.6958\n",
            "Epoch 5/5\n",
            "1/1 [==============================] - 0s 11ms/step - loss: 13.5633 - mae: 13.5633\n"
          ]
        },
        {
          "output_type": "execute_result",
          "data": {
            "text/plain": [
              "<keras.src.callbacks.History at 0x7de995f950f0>"
            ]
          },
          "metadata": {},
          "execution_count": 12
        }
      ]
    },
    {
      "cell_type": "code",
      "source": [
        "# check out X and y\n",
        "X, y"
      ],
      "metadata": {
        "colab": {
          "base_uri": "https://localhost:8080/"
        },
        "id": "DSQDOpTIkqqJ",
        "outputId": "7bb28bb9-494a-43bd-b171-f2e8f72605eb"
      },
      "execution_count": 13,
      "outputs": [
        {
          "output_type": "execute_result",
          "data": {
            "text/plain": [
              "(<tf.Tensor: shape=(8,), dtype=float32, numpy=array([-7., -4., -1.,  2.,  5.,  8., 11., 14.], dtype=float32)>,\n",
              " <tf.Tensor: shape=(8,), dtype=float32, numpy=array([ 3.,  6.,  9., 12., 15., 18., 21., 24.], dtype=float32)>)"
            ]
          },
          "metadata": {},
          "execution_count": 13
        }
      ]
    },
    {
      "cell_type": "code",
      "source": [
        "# try to predict using the model\n",
        "model.predict([27]) # not very good -- we were expecting an approx. return of 10"
      ],
      "metadata": {
        "colab": {
          "base_uri": "https://localhost:8080/"
        },
        "id": "u7XOhUAKnXiM",
        "outputId": "f9801086-3a86-4547-a283-e9c447cb2d2f"
      },
      "execution_count": 14,
      "outputs": [
        {
          "output_type": "stream",
          "name": "stdout",
          "text": [
            "1/1 [==============================] - 0s 142ms/step\n"
          ]
        },
        {
          "output_type": "execute_result",
          "data": {
            "text/plain": [
              "array([[0.19813298]], dtype=float32)"
            ]
          },
          "metadata": {},
          "execution_count": 14
        }
      ]
    },
    {
      "cell_type": "markdown",
      "source": [
        "# Improving the model\n",
        "We can improve the model by altering/adjustiung the steps we used to create it.\n",
        "1. create model -- add more layer, increase # of hidden units(neurons) within\n",
        "each of the hidden layers - change activation function of each layer\n",
        "2. compile model -- change optimization function -- learning rate hyper parameter of optimization function\n",
        "3. fit model -- more epochs/rounds -- longer training time, or more examples to learn from"
      ],
      "metadata": {
        "id": "iC9ay2PjnhVs"
      }
    },
    {
      "cell_type": "markdown",
      "source": [
        "## lets create a larger model to see if we can improve our model and see if\n",
        "## can predict the X + 10 fucntion pattern. Our first 5 epochs wasn't even close.\n"
      ],
      "metadata": {
        "id": "0YzF12_epljG"
      }
    },
    {
      "cell_type": "code",
      "source": [
        "#1 create model\n",
        "model = tf.keras.Sequential([\n",
        "    tf.keras.layers.Dense(1)\n",
        "])\n",
        "\n",
        "#2 compile model\n",
        "model.compile(loss=tf.keras.losses.mae,\n",
        "              optimizer=tf.keras.optimizers.Adam(lr=0.0001), # originally used SGD()\n",
        "              # error was near 3 points - result was 29.87 -- Adam was very close!\n",
        "              metrics=[\"mae\"])\n",
        "#3 fit the model\n",
        "model.fit(tf.expand_dims(X, axis=1), y, epochs=100)"
      ],
      "metadata": {
        "colab": {
          "base_uri": "https://localhost:8080/"
        },
        "id": "RXyFn6a8xvNL",
        "outputId": "e192ebf5-804c-4239-8786-4f467e3a2065"
      },
      "execution_count": 15,
      "outputs": [
        {
          "output_type": "stream",
          "name": "stderr",
          "text": [
            "WARNING:absl:`lr` is deprecated in Keras optimizer, please use `learning_rate` or use the legacy optimizer, e.g.,tf.keras.optimizers.legacy.Adam.\n"
          ]
        },
        {
          "output_type": "stream",
          "name": "stdout",
          "text": [
            "Epoch 1/100\n",
            "1/1 [==============================] - 1s 646ms/step - loss: 20.3222 - mae: 20.3222\n",
            "Epoch 2/100\n",
            "1/1 [==============================] - 0s 19ms/step - loss: 20.3162 - mae: 20.3162\n",
            "Epoch 3/100\n",
            "1/1 [==============================] - 0s 17ms/step - loss: 20.3102 - mae: 20.3102\n",
            "Epoch 4/100\n",
            "1/1 [==============================] - 0s 11ms/step - loss: 20.3042 - mae: 20.3042\n",
            "Epoch 5/100\n",
            "1/1 [==============================] - 0s 11ms/step - loss: 20.2982 - mae: 20.2982\n",
            "Epoch 6/100\n",
            "1/1 [==============================] - 0s 13ms/step - loss: 20.2922 - mae: 20.2922\n",
            "Epoch 7/100\n",
            "1/1 [==============================] - 0s 9ms/step - loss: 20.2862 - mae: 20.2862\n",
            "Epoch 8/100\n",
            "1/1 [==============================] - 0s 10ms/step - loss: 20.2802 - mae: 20.2802\n",
            "Epoch 9/100\n",
            "1/1 [==============================] - 0s 9ms/step - loss: 20.2742 - mae: 20.2742\n",
            "Epoch 10/100\n",
            "1/1 [==============================] - 0s 9ms/step - loss: 20.2682 - mae: 20.2682\n",
            "Epoch 11/100\n",
            "1/1 [==============================] - 0s 9ms/step - loss: 20.2622 - mae: 20.2622\n",
            "Epoch 12/100\n",
            "1/1 [==============================] - 0s 9ms/step - loss: 20.2562 - mae: 20.2562\n",
            "Epoch 13/100\n",
            "1/1 [==============================] - 0s 10ms/step - loss: 20.2502 - mae: 20.2502\n",
            "Epoch 14/100\n",
            "1/1 [==============================] - 0s 9ms/step - loss: 20.2442 - mae: 20.2442\n",
            "Epoch 15/100\n",
            "1/1 [==============================] - 0s 9ms/step - loss: 20.2382 - mae: 20.2382\n",
            "Epoch 16/100\n",
            "1/1 [==============================] - 0s 10ms/step - loss: 20.2322 - mae: 20.2322\n",
            "Epoch 17/100\n",
            "1/1 [==============================] - 0s 12ms/step - loss: 20.2262 - mae: 20.2262\n",
            "Epoch 18/100\n",
            "1/1 [==============================] - 0s 9ms/step - loss: 20.2202 - mae: 20.2202\n",
            "Epoch 19/100\n",
            "1/1 [==============================] - 0s 10ms/step - loss: 20.2142 - mae: 20.2142\n",
            "Epoch 20/100\n",
            "1/1 [==============================] - 0s 10ms/step - loss: 20.2082 - mae: 20.2082\n",
            "Epoch 21/100\n",
            "1/1 [==============================] - 0s 10ms/step - loss: 20.2022 - mae: 20.2022\n",
            "Epoch 22/100\n",
            "1/1 [==============================] - 0s 10ms/step - loss: 20.1962 - mae: 20.1962\n",
            "Epoch 23/100\n",
            "1/1 [==============================] - 0s 10ms/step - loss: 20.1902 - mae: 20.1902\n",
            "Epoch 24/100\n",
            "1/1 [==============================] - 0s 9ms/step - loss: 20.1842 - mae: 20.1842\n",
            "Epoch 25/100\n",
            "1/1 [==============================] - 0s 10ms/step - loss: 20.1782 - mae: 20.1782\n",
            "Epoch 26/100\n",
            "1/1 [==============================] - 0s 10ms/step - loss: 20.1722 - mae: 20.1722\n",
            "Epoch 27/100\n",
            "1/1 [==============================] - 0s 17ms/step - loss: 20.1662 - mae: 20.1662\n",
            "Epoch 28/100\n",
            "1/1 [==============================] - 0s 10ms/step - loss: 20.1602 - mae: 20.1602\n",
            "Epoch 29/100\n",
            "1/1 [==============================] - 0s 9ms/step - loss: 20.1542 - mae: 20.1542\n",
            "Epoch 30/100\n",
            "1/1 [==============================] - 0s 11ms/step - loss: 20.1482 - mae: 20.1482\n",
            "Epoch 31/100\n",
            "1/1 [==============================] - 0s 12ms/step - loss: 20.1422 - mae: 20.1422\n",
            "Epoch 32/100\n",
            "1/1 [==============================] - 0s 9ms/step - loss: 20.1362 - mae: 20.1362\n",
            "Epoch 33/100\n",
            "1/1 [==============================] - 0s 10ms/step - loss: 20.1302 - mae: 20.1302\n",
            "Epoch 34/100\n",
            "1/1 [==============================] - 0s 9ms/step - loss: 20.1242 - mae: 20.1242\n",
            "Epoch 35/100\n",
            "1/1 [==============================] - 0s 12ms/step - loss: 20.1182 - mae: 20.1182\n",
            "Epoch 36/100\n",
            "1/1 [==============================] - 0s 11ms/step - loss: 20.1122 - mae: 20.1122\n",
            "Epoch 37/100\n",
            "1/1 [==============================] - 0s 10ms/step - loss: 20.1062 - mae: 20.1062\n",
            "Epoch 38/100\n",
            "1/1 [==============================] - 0s 9ms/step - loss: 20.1002 - mae: 20.1002\n",
            "Epoch 39/100\n",
            "1/1 [==============================] - 0s 11ms/step - loss: 20.0942 - mae: 20.0942\n",
            "Epoch 40/100\n",
            "1/1 [==============================] - 0s 11ms/step - loss: 20.0882 - mae: 20.0882\n",
            "Epoch 41/100\n",
            "1/1 [==============================] - 0s 10ms/step - loss: 20.0822 - mae: 20.0822\n",
            "Epoch 42/100\n",
            "1/1 [==============================] - 0s 12ms/step - loss: 20.0762 - mae: 20.0762\n",
            "Epoch 43/100\n",
            "1/1 [==============================] - 0s 9ms/step - loss: 20.0702 - mae: 20.0702\n",
            "Epoch 44/100\n",
            "1/1 [==============================] - 0s 9ms/step - loss: 20.0642 - mae: 20.0642\n",
            "Epoch 45/100\n",
            "1/1 [==============================] - 0s 8ms/step - loss: 20.0582 - mae: 20.0582\n",
            "Epoch 46/100\n",
            "1/1 [==============================] - 0s 9ms/step - loss: 20.0522 - mae: 20.0522\n",
            "Epoch 47/100\n",
            "1/1 [==============================] - 0s 11ms/step - loss: 20.0462 - mae: 20.0462\n",
            "Epoch 48/100\n",
            "1/1 [==============================] - 0s 11ms/step - loss: 20.0402 - mae: 20.0402\n",
            "Epoch 49/100\n",
            "1/1 [==============================] - 0s 10ms/step - loss: 20.0342 - mae: 20.0342\n",
            "Epoch 50/100\n",
            "1/1 [==============================] - 0s 9ms/step - loss: 20.0282 - mae: 20.0282\n",
            "Epoch 51/100\n",
            "1/1 [==============================] - 0s 9ms/step - loss: 20.0222 - mae: 20.0222\n",
            "Epoch 52/100\n",
            "1/1 [==============================] - 0s 9ms/step - loss: 20.0162 - mae: 20.0162\n",
            "Epoch 53/100\n",
            "1/1 [==============================] - 0s 11ms/step - loss: 20.0102 - mae: 20.0102\n",
            "Epoch 54/100\n",
            "1/1 [==============================] - 0s 12ms/step - loss: 20.0042 - mae: 20.0042\n",
            "Epoch 55/100\n",
            "1/1 [==============================] - 0s 13ms/step - loss: 19.9982 - mae: 19.9982\n",
            "Epoch 56/100\n",
            "1/1 [==============================] - 0s 9ms/step - loss: 19.9922 - mae: 19.9922\n",
            "Epoch 57/100\n",
            "1/1 [==============================] - 0s 10ms/step - loss: 19.9862 - mae: 19.9862\n",
            "Epoch 58/100\n",
            "1/1 [==============================] - 0s 10ms/step - loss: 19.9802 - mae: 19.9802\n",
            "Epoch 59/100\n",
            "1/1 [==============================] - 0s 10ms/step - loss: 19.9742 - mae: 19.9742\n",
            "Epoch 60/100\n",
            "1/1 [==============================] - 0s 11ms/step - loss: 19.9682 - mae: 19.9682\n",
            "Epoch 61/100\n",
            "1/1 [==============================] - 0s 10ms/step - loss: 19.9622 - mae: 19.9622\n",
            "Epoch 62/100\n",
            "1/1 [==============================] - 0s 10ms/step - loss: 19.9562 - mae: 19.9562\n",
            "Epoch 63/100\n",
            "1/1 [==============================] - 0s 10ms/step - loss: 19.9502 - mae: 19.9502\n",
            "Epoch 64/100\n",
            "1/1 [==============================] - 0s 9ms/step - loss: 19.9442 - mae: 19.9442\n",
            "Epoch 65/100\n",
            "1/1 [==============================] - 0s 10ms/step - loss: 19.9382 - mae: 19.9382\n",
            "Epoch 66/100\n",
            "1/1 [==============================] - 0s 11ms/step - loss: 19.9322 - mae: 19.9322\n",
            "Epoch 67/100\n",
            "1/1 [==============================] - 0s 10ms/step - loss: 19.9262 - mae: 19.9262\n",
            "Epoch 68/100\n",
            "1/1 [==============================] - 0s 10ms/step - loss: 19.9202 - mae: 19.9202\n",
            "Epoch 69/100\n",
            "1/1 [==============================] - 0s 16ms/step - loss: 19.9142 - mae: 19.9142\n",
            "Epoch 70/100\n",
            "1/1 [==============================] - 0s 10ms/step - loss: 19.9082 - mae: 19.9082\n",
            "Epoch 71/100\n",
            "1/1 [==============================] - 0s 10ms/step - loss: 19.9022 - mae: 19.9022\n",
            "Epoch 72/100\n",
            "1/1 [==============================] - 0s 14ms/step - loss: 19.8962 - mae: 19.8962\n",
            "Epoch 73/100\n",
            "1/1 [==============================] - 0s 14ms/step - loss: 19.8902 - mae: 19.8902\n",
            "Epoch 74/100\n",
            "1/1 [==============================] - 0s 12ms/step - loss: 19.8842 - mae: 19.8842\n",
            "Epoch 75/100\n",
            "1/1 [==============================] - 0s 10ms/step - loss: 19.8782 - mae: 19.8782\n",
            "Epoch 76/100\n",
            "1/1 [==============================] - 0s 10ms/step - loss: 19.8722 - mae: 19.8722\n",
            "Epoch 77/100\n",
            "1/1 [==============================] - 0s 10ms/step - loss: 19.8662 - mae: 19.8662\n",
            "Epoch 78/100\n",
            "1/1 [==============================] - 0s 9ms/step - loss: 19.8602 - mae: 19.8602\n",
            "Epoch 79/100\n",
            "1/1 [==============================] - 0s 10ms/step - loss: 19.8542 - mae: 19.8542\n",
            "Epoch 80/100\n",
            "1/1 [==============================] - 0s 9ms/step - loss: 19.8482 - mae: 19.8482\n",
            "Epoch 81/100\n",
            "1/1 [==============================] - 0s 10ms/step - loss: 19.8422 - mae: 19.8422\n",
            "Epoch 82/100\n",
            "1/1 [==============================] - 0s 9ms/step - loss: 19.8362 - mae: 19.8362\n",
            "Epoch 83/100\n",
            "1/1 [==============================] - 0s 11ms/step - loss: 19.8302 - mae: 19.8302\n",
            "Epoch 84/100\n",
            "1/1 [==============================] - 0s 9ms/step - loss: 19.8242 - mae: 19.8242\n",
            "Epoch 85/100\n",
            "1/1 [==============================] - 0s 10ms/step - loss: 19.8182 - mae: 19.8182\n",
            "Epoch 86/100\n",
            "1/1 [==============================] - 0s 10ms/step - loss: 19.8122 - mae: 19.8122\n",
            "Epoch 87/100\n",
            "1/1 [==============================] - 0s 10ms/step - loss: 19.8062 - mae: 19.8062\n",
            "Epoch 88/100\n",
            "1/1 [==============================] - 0s 10ms/step - loss: 19.8002 - mae: 19.8002\n",
            "Epoch 89/100\n",
            "1/1 [==============================] - 0s 13ms/step - loss: 19.7942 - mae: 19.7942\n",
            "Epoch 90/100\n",
            "1/1 [==============================] - 0s 12ms/step - loss: 19.7882 - mae: 19.7882\n",
            "Epoch 91/100\n",
            "1/1 [==============================] - 0s 10ms/step - loss: 19.7822 - mae: 19.7822\n",
            "Epoch 92/100\n",
            "1/1 [==============================] - 0s 10ms/step - loss: 19.7762 - mae: 19.7762\n",
            "Epoch 93/100\n",
            "1/1 [==============================] - 0s 10ms/step - loss: 19.7702 - mae: 19.7702\n",
            "Epoch 94/100\n",
            "1/1 [==============================] - 0s 10ms/step - loss: 19.7642 - mae: 19.7642\n",
            "Epoch 95/100\n",
            "1/1 [==============================] - 0s 11ms/step - loss: 19.7582 - mae: 19.7582\n",
            "Epoch 96/100\n",
            "1/1 [==============================] - 0s 10ms/step - loss: 19.7522 - mae: 19.7522\n",
            "Epoch 97/100\n",
            "1/1 [==============================] - 0s 11ms/step - loss: 19.7462 - mae: 19.7462\n",
            "Epoch 98/100\n",
            "1/1 [==============================] - 0s 9ms/step - loss: 19.7402 - mae: 19.7402\n",
            "Epoch 99/100\n",
            "1/1 [==============================] - 0s 9ms/step - loss: 19.7342 - mae: 19.7342\n",
            "Epoch 100/100\n",
            "1/1 [==============================] - 0s 10ms/step - loss: 19.7282 - mae: 19.7282\n"
          ]
        },
        {
          "output_type": "execute_result",
          "data": {
            "text/plain": [
              "<keras.src.callbacks.History at 0x7de9924be950>"
            ]
          },
          "metadata": {},
          "execution_count": 15
        }
      ]
    },
    {
      "cell_type": "code",
      "source": [
        "# show the data for a reminder\n",
        "X, y"
      ],
      "metadata": {
        "colab": {
          "base_uri": "https://localhost:8080/"
        },
        "id": "_2v_Z6nazAdc",
        "outputId": "f6b755fa-074e-4b0f-cfc4-81e886dcea9f"
      },
      "execution_count": 16,
      "outputs": [
        {
          "output_type": "execute_result",
          "data": {
            "text/plain": [
              "(<tf.Tensor: shape=(8,), dtype=float32, numpy=array([-7., -4., -1.,  2.,  5.,  8., 11., 14.], dtype=float32)>,\n",
              " <tf.Tensor: shape=(8,), dtype=float32, numpy=array([ 3.,  6.,  9., 12., 15., 18., 21., 24.], dtype=float32)>)"
            ]
          },
          "metadata": {},
          "execution_count": 16
        }
      ]
    },
    {
      "cell_type": "code",
      "source": [
        "# LETS PREDICT! Did we improve?\n",
        "model.predict([17.0]) # this has been run several times - not reflective of\n",
        "# of original run w/ result of 27.136837"
      ],
      "metadata": {
        "colab": {
          "base_uri": "https://localhost:8080/"
        },
        "id": "z1Wy_F502lXn",
        "outputId": "7a15e4d7-7d96-473e-db72-6411475f12b1"
      },
      "execution_count": 39,
      "outputs": [
        {
          "output_type": "stream",
          "name": "stdout",
          "text": [
            "1/1 [==============================] - 0s 44ms/step\n"
          ]
        },
        {
          "output_type": "execute_result",
          "data": {
            "text/plain": [
              "array([[21.208565]], dtype=float32)"
            ]
          },
          "metadata": {},
          "execution_count": 39
        }
      ]
    },
    {
      "cell_type": "code",
      "source": [
        "## Very nice... much better! using Adam reduced the error to within .136837\n",
        "# remember my 1st run with SGD() as optimizer was 2.87 in error!\n",
        "# Let's try to add more in baby steps towards a larger model.\n",
        "model = tf.keras.Sequential([\n",
        "    tf.keras.layers.Dense(1)\n",
        "])\n",
        "\n",
        "model.compile(loss=tf.keras.losses.mae,\n",
        "              optimizer=tf.keras.optimizers.Adam(learning_rate=0.1), # originally .0001\n",
        "              metrics=[\"mae\"])\n",
        "model.fit(tf.expand_dims(X, axis=1), y, epochs=100)"
      ],
      "metadata": {
        "colab": {
          "base_uri": "https://localhost:8080/"
        },
        "id": "2XNt76J12yWn",
        "outputId": "f529616a-4b53-4d2e-a15c-a2564fa616b2"
      },
      "execution_count": 40,
      "outputs": [
        {
          "output_type": "stream",
          "name": "stdout",
          "text": [
            "Epoch 1/100\n",
            "2/2 [==============================] - 1s 10ms/step - loss: 35.4549 - mae: 35.4549\n",
            "Epoch 2/100\n",
            "2/2 [==============================] - 0s 8ms/step - loss: 25.0966 - mae: 25.0966\n",
            "Epoch 3/100\n",
            "2/2 [==============================] - 0s 9ms/step - loss: 16.6343 - mae: 16.6343\n",
            "Epoch 4/100\n",
            "2/2 [==============================] - 0s 8ms/step - loss: 9.4464 - mae: 9.4464\n",
            "Epoch 5/100\n",
            "2/2 [==============================] - 0s 8ms/step - loss: 8.6566 - mae: 8.6566\n",
            "Epoch 6/100\n",
            "2/2 [==============================] - 0s 7ms/step - loss: 11.5675 - mae: 11.5675\n",
            "Epoch 7/100\n",
            "2/2 [==============================] - 0s 8ms/step - loss: 13.3835 - mae: 13.3835\n",
            "Epoch 8/100\n",
            "2/2 [==============================] - 0s 7ms/step - loss: 12.3161 - mae: 12.3161\n",
            "Epoch 9/100\n",
            "2/2 [==============================] - 0s 9ms/step - loss: 10.0039 - mae: 10.0039\n",
            "Epoch 10/100\n",
            "2/2 [==============================] - 0s 7ms/step - loss: 8.0624 - mae: 8.0624\n",
            "Epoch 11/100\n",
            "2/2 [==============================] - 0s 8ms/step - loss: 8.0275 - mae: 8.0275\n",
            "Epoch 12/100\n",
            "2/2 [==============================] - 0s 7ms/step - loss: 7.9702 - mae: 7.9702\n",
            "Epoch 13/100\n",
            "2/2 [==============================] - 0s 8ms/step - loss: 8.4073 - mae: 8.4073\n",
            "Epoch 14/100\n",
            "2/2 [==============================] - 0s 9ms/step - loss: 8.3589 - mae: 8.3589\n",
            "Epoch 15/100\n",
            "2/2 [==============================] - 0s 7ms/step - loss: 7.4483 - mae: 7.4483\n",
            "Epoch 16/100\n",
            "2/2 [==============================] - 0s 7ms/step - loss: 7.2174 - mae: 7.2174\n",
            "Epoch 17/100\n",
            "2/2 [==============================] - 0s 8ms/step - loss: 6.7241 - mae: 6.7241\n",
            "Epoch 18/100\n",
            "2/2 [==============================] - 0s 7ms/step - loss: 6.4690 - mae: 6.4690\n",
            "Epoch 19/100\n",
            "2/2 [==============================] - 0s 7ms/step - loss: 6.2422 - mae: 6.2422\n",
            "Epoch 20/100\n",
            "2/2 [==============================] - 0s 9ms/step - loss: 6.4527 - mae: 6.4527\n",
            "Epoch 21/100\n",
            "2/2 [==============================] - 0s 7ms/step - loss: 5.9269 - mae: 5.9269\n",
            "Epoch 22/100\n",
            "2/2 [==============================] - 0s 8ms/step - loss: 5.6747 - mae: 5.6747\n",
            "Epoch 23/100\n",
            "2/2 [==============================] - 0s 8ms/step - loss: 5.4328 - mae: 5.4328\n",
            "Epoch 24/100\n",
            "2/2 [==============================] - 0s 7ms/step - loss: 5.2903 - mae: 5.2903\n",
            "Epoch 25/100\n",
            "2/2 [==============================] - 0s 8ms/step - loss: 5.1649 - mae: 5.1649\n",
            "Epoch 26/100\n",
            "2/2 [==============================] - 0s 7ms/step - loss: 5.0854 - mae: 5.0854\n",
            "Epoch 27/100\n",
            "2/2 [==============================] - 0s 7ms/step - loss: 4.6995 - mae: 4.6995\n",
            "Epoch 28/100\n",
            "2/2 [==============================] - 0s 8ms/step - loss: 4.4267 - mae: 4.4267\n",
            "Epoch 29/100\n",
            "2/2 [==============================] - 0s 7ms/step - loss: 4.1660 - mae: 4.1660\n",
            "Epoch 30/100\n",
            "2/2 [==============================] - 0s 8ms/step - loss: 3.9410 - mae: 3.9410\n",
            "Epoch 31/100\n",
            "2/2 [==============================] - 0s 7ms/step - loss: 3.6135 - mae: 3.6135\n",
            "Epoch 32/100\n",
            "2/2 [==============================] - 0s 7ms/step - loss: 3.5763 - mae: 3.5763\n",
            "Epoch 33/100\n",
            "2/2 [==============================] - 0s 7ms/step - loss: 3.3143 - mae: 3.3143\n",
            "Epoch 34/100\n",
            "2/2 [==============================] - 0s 8ms/step - loss: 3.1310 - mae: 3.1310\n",
            "Epoch 35/100\n",
            "2/2 [==============================] - 0s 8ms/step - loss: 2.8744 - mae: 2.8744\n",
            "Epoch 36/100\n",
            "2/2 [==============================] - 0s 7ms/step - loss: 2.6697 - mae: 2.6697\n",
            "Epoch 37/100\n",
            "2/2 [==============================] - 0s 7ms/step - loss: 2.4379 - mae: 2.4379\n",
            "Epoch 38/100\n",
            "2/2 [==============================] - 0s 10ms/step - loss: 2.2076 - mae: 2.2076\n",
            "Epoch 39/100\n",
            "2/2 [==============================] - 0s 9ms/step - loss: 1.9315 - mae: 1.9315\n",
            "Epoch 40/100\n",
            "2/2 [==============================] - 0s 9ms/step - loss: 1.7312 - mae: 1.7312\n",
            "Epoch 41/100\n",
            "2/2 [==============================] - 0s 9ms/step - loss: 1.4269 - mae: 1.4269\n",
            "Epoch 42/100\n",
            "2/2 [==============================] - 0s 10ms/step - loss: 1.4186 - mae: 1.4186\n",
            "Epoch 43/100\n",
            "2/2 [==============================] - 0s 8ms/step - loss: 1.3590 - mae: 1.3590\n",
            "Epoch 44/100\n",
            "2/2 [==============================] - 0s 8ms/step - loss: 1.0146 - mae: 1.0146\n",
            "Epoch 45/100\n",
            "2/2 [==============================] - 0s 8ms/step - loss: 0.8435 - mae: 0.8435\n",
            "Epoch 46/100\n",
            "2/2 [==============================] - 0s 10ms/step - loss: 0.7464 - mae: 0.7464\n",
            "Epoch 47/100\n",
            "2/2 [==============================] - 0s 8ms/step - loss: 0.5762 - mae: 0.5762\n",
            "Epoch 48/100\n",
            "2/2 [==============================] - 0s 7ms/step - loss: 0.9481 - mae: 0.9481\n",
            "Epoch 49/100\n",
            "2/2 [==============================] - 0s 7ms/step - loss: 0.1191 - mae: 0.1191\n",
            "Epoch 50/100\n",
            "2/2 [==============================] - 0s 7ms/step - loss: 0.7681 - mae: 0.7681\n",
            "Epoch 51/100\n",
            "2/2 [==============================] - 0s 8ms/step - loss: 0.3432 - mae: 0.3432\n",
            "Epoch 52/100\n",
            "2/2 [==============================] - 0s 8ms/step - loss: 0.5131 - mae: 0.5131\n",
            "Epoch 53/100\n",
            "2/2 [==============================] - 0s 10ms/step - loss: 0.4646 - mae: 0.4646\n",
            "Epoch 54/100\n",
            "2/2 [==============================] - 0s 7ms/step - loss: 0.5106 - mae: 0.5106\n",
            "Epoch 55/100\n",
            "2/2 [==============================] - 0s 7ms/step - loss: 0.3996 - mae: 0.3996\n",
            "Epoch 56/100\n",
            "2/2 [==============================] - 0s 6ms/step - loss: 0.3862 - mae: 0.3862\n",
            "Epoch 57/100\n",
            "2/2 [==============================] - 0s 7ms/step - loss: 0.4599 - mae: 0.4599\n",
            "Epoch 58/100\n",
            "2/2 [==============================] - 0s 7ms/step - loss: 0.5338 - mae: 0.5338\n",
            "Epoch 59/100\n",
            "2/2 [==============================] - 0s 7ms/step - loss: 0.3084 - mae: 0.3084\n",
            "Epoch 60/100\n",
            "2/2 [==============================] - 0s 9ms/step - loss: 0.5808 - mae: 0.5808\n",
            "Epoch 61/100\n",
            "2/2 [==============================] - 0s 9ms/step - loss: 0.3333 - mae: 0.3333\n",
            "Epoch 62/100\n",
            "2/2 [==============================] - 0s 7ms/step - loss: 0.4174 - mae: 0.4174\n",
            "Epoch 63/100\n",
            "2/2 [==============================] - 0s 11ms/step - loss: 0.4951 - mae: 0.4951\n",
            "Epoch 64/100\n",
            "2/2 [==============================] - 0s 9ms/step - loss: 0.2644 - mae: 0.2644\n",
            "Epoch 65/100\n",
            "2/2 [==============================] - 0s 6ms/step - loss: 0.6231 - mae: 0.6231\n",
            "Epoch 66/100\n",
            "2/2 [==============================] - 0s 8ms/step - loss: 0.1137 - mae: 0.1137\n",
            "Epoch 67/100\n",
            "2/2 [==============================] - 0s 8ms/step - loss: 0.0849 - mae: 0.0849\n",
            "Epoch 68/100\n",
            "2/2 [==============================] - 0s 11ms/step - loss: 0.2338 - mae: 0.2338\n",
            "Epoch 69/100\n",
            "2/2 [==============================] - 0s 8ms/step - loss: 1.1472 - mae: 1.1472\n",
            "Epoch 70/100\n",
            "2/2 [==============================] - 0s 8ms/step - loss: 0.6855 - mae: 0.6855\n",
            "Epoch 71/100\n",
            "2/2 [==============================] - 0s 12ms/step - loss: 1.0481 - mae: 1.0481\n",
            "Epoch 72/100\n",
            "2/2 [==============================] - 0s 11ms/step - loss: 0.3745 - mae: 0.3745\n",
            "Epoch 73/100\n",
            "2/2 [==============================] - 0s 8ms/step - loss: 0.5340 - mae: 0.5340\n",
            "Epoch 74/100\n",
            "2/2 [==============================] - 0s 10ms/step - loss: 0.3726 - mae: 0.3726\n",
            "Epoch 75/100\n",
            "2/2 [==============================] - 0s 8ms/step - loss: 1.0716 - mae: 1.0716\n",
            "Epoch 76/100\n",
            "2/2 [==============================] - 0s 8ms/step - loss: 0.6262 - mae: 0.6262\n",
            "Epoch 77/100\n",
            "2/2 [==============================] - 0s 7ms/step - loss: 0.8223 - mae: 0.8223\n",
            "Epoch 78/100\n",
            "2/2 [==============================] - 0s 8ms/step - loss: 0.4482 - mae: 0.4482\n",
            "Epoch 79/100\n",
            "2/2 [==============================] - 0s 7ms/step - loss: 0.4359 - mae: 0.4359\n",
            "Epoch 80/100\n",
            "2/2 [==============================] - 0s 7ms/step - loss: 1.0398 - mae: 1.0398\n",
            "Epoch 81/100\n",
            "2/2 [==============================] - 0s 11ms/step - loss: 0.5793 - mae: 0.5793\n",
            "Epoch 82/100\n",
            "2/2 [==============================] - 0s 6ms/step - loss: 0.5022 - mae: 0.5022\n",
            "Epoch 83/100\n",
            "2/2 [==============================] - 0s 8ms/step - loss: 1.0200 - mae: 1.0200\n",
            "Epoch 84/100\n",
            "2/2 [==============================] - 0s 7ms/step - loss: 0.1752 - mae: 0.1752\n",
            "Epoch 85/100\n",
            "2/2 [==============================] - 0s 7ms/step - loss: 0.1744 - mae: 0.1744\n",
            "Epoch 86/100\n",
            "2/2 [==============================] - 0s 7ms/step - loss: 0.8498 - mae: 0.8498\n",
            "Epoch 87/100\n",
            "2/2 [==============================] - 0s 7ms/step - loss: 0.5166 - mae: 0.5166\n",
            "Epoch 88/100\n",
            "2/2 [==============================] - 0s 7ms/step - loss: 1.3087 - mae: 1.3087\n",
            "Epoch 89/100\n",
            "2/2 [==============================] - 0s 7ms/step - loss: 0.6248 - mae: 0.6248\n",
            "Epoch 90/100\n",
            "2/2 [==============================] - 0s 7ms/step - loss: 1.3961 - mae: 1.3961\n",
            "Epoch 91/100\n",
            "2/2 [==============================] - 0s 7ms/step - loss: 0.5984 - mae: 0.5984\n",
            "Epoch 92/100\n",
            "2/2 [==============================] - 0s 7ms/step - loss: 1.7515 - mae: 1.7515\n",
            "Epoch 93/100\n",
            "2/2 [==============================] - 0s 7ms/step - loss: 0.7244 - mae: 0.7244\n",
            "Epoch 94/100\n",
            "2/2 [==============================] - 0s 7ms/step - loss: 0.5665 - mae: 0.5665\n",
            "Epoch 95/100\n",
            "2/2 [==============================] - 0s 13ms/step - loss: 0.5118 - mae: 0.5118\n",
            "Epoch 96/100\n",
            "2/2 [==============================] - 0s 7ms/step - loss: 0.4175 - mae: 0.4175\n",
            "Epoch 97/100\n",
            "2/2 [==============================] - 0s 7ms/step - loss: 1.1611 - mae: 1.1611\n",
            "Epoch 98/100\n",
            "2/2 [==============================] - 0s 13ms/step - loss: 0.2136 - mae: 0.2136\n",
            "Epoch 99/100\n",
            "2/2 [==============================] - 0s 7ms/step - loss: 0.3754 - mae: 0.3754\n",
            "Epoch 100/100\n",
            "2/2 [==============================] - 0s 7ms/step - loss: 0.3761 - mae: 0.3761\n"
          ]
        },
        {
          "output_type": "execute_result",
          "data": {
            "text/plain": [
              "<keras.src.callbacks.History at 0x7de99321b5e0>"
            ]
          },
          "metadata": {},
          "execution_count": 40
        }
      ]
    },
    {
      "cell_type": "code",
      "source": [
        "# now predict again and let's see...\n",
        "model.predict([17.0])"
      ],
      "metadata": {
        "colab": {
          "base_uri": "https://localhost:8080/"
        },
        "id": "5CglmCha7QRn",
        "outputId": "1db6e0b6-f472-400d-cf43-e1ac0a2d7706"
      },
      "execution_count": 41,
      "outputs": [
        {
          "output_type": "stream",
          "name": "stdout",
          "text": [
            "1/1 [==============================] - 0s 68ms/step\n"
          ]
        },
        {
          "output_type": "execute_result",
          "data": {
            "text/plain": [
              "array([[27.09747]], dtype=float32)"
            ]
          },
          "metadata": {},
          "execution_count": 41
        }
      ]
    },
    {
      "cell_type": "code",
      "source": [
        "# not good -- adding the hidden layer made it worse, even with Adam --\n",
        "# then used .1 as learning rate and got the above result...NICE! - .09747 error!"
      ],
      "metadata": {
        "id": "4ZnQqsyQ7eGM"
      },
      "execution_count": 42,
      "outputs": []
    },
    {
      "cell_type": "markdown",
      "source": [
        "#Evaluating a model\n",
        "### In practice, tytpical workflow is as follows when building neural networks:\n",
        "### Build a model --> fit --> evaluate it --> tweak it --> fit it --> eval --\n",
        "### tweak --> fit --> eval...\n",
        "### Most important -- visualize, visualize visualize\n",
        "### * the data -- what data are we working with?\n",
        "### * training -- how does it perform while it learns?\n",
        "### * predictions of the model -- do they line up against the ground truth (original labels)\n"
      ],
      "metadata": {
        "id": "HUEq-fDA-ZRn"
      }
    },
    {
      "cell_type": "code",
      "source": [
        "# let's make a larger dataset\n",
        "X = tf.range(-100, 100, 4)\n",
        "X"
      ],
      "metadata": {
        "colab": {
          "base_uri": "https://localhost:8080/"
        },
        "id": "d1Zh3beHeFR1",
        "outputId": "395e43be-10a2-47d1-e70c-72ba2935098a"
      },
      "execution_count": 43,
      "outputs": [
        {
          "output_type": "execute_result",
          "data": {
            "text/plain": [
              "<tf.Tensor: shape=(50,), dtype=int32, numpy=\n",
              "array([-100,  -96,  -92,  -88,  -84,  -80,  -76,  -72,  -68,  -64,  -60,\n",
              "        -56,  -52,  -48,  -44,  -40,  -36,  -32,  -28,  -24,  -20,  -16,\n",
              "        -12,   -8,   -4,    0,    4,    8,   12,   16,   20,   24,   28,\n",
              "         32,   36,   40,   44,   48,   52,   56,   60,   64,   68,   72,\n",
              "         76,   80,   84,   88,   92,   96], dtype=int32)>"
            ]
          },
          "metadata": {},
          "execution_count": 43
        }
      ]
    },
    {
      "cell_type": "code",
      "source": [
        "# make labels\n",
        "y= X + 10\n",
        "y"
      ],
      "metadata": {
        "colab": {
          "base_uri": "https://localhost:8080/"
        },
        "id": "dKLD5NgEf5le",
        "outputId": "5dc4d5fa-eb11-40f3-cfd1-d2daf470840d"
      },
      "execution_count": 44,
      "outputs": [
        {
          "output_type": "execute_result",
          "data": {
            "text/plain": [
              "<tf.Tensor: shape=(50,), dtype=int32, numpy=\n",
              "array([-90, -86, -82, -78, -74, -70, -66, -62, -58, -54, -50, -46, -42,\n",
              "       -38, -34, -30, -26, -22, -18, -14, -10,  -6,  -2,   2,   6,  10,\n",
              "        14,  18,  22,  26,  30,  34,  38,  42,  46,  50,  54,  58,  62,\n",
              "        66,  70,  74,  78,  82,  86,  90,  94,  98, 102, 106], dtype=int32)>"
            ]
          },
          "metadata": {},
          "execution_count": 44
        }
      ]
    },
    {
      "cell_type": "code",
      "source": [
        "# visualize data\n",
        "plt.scatter(X, y)"
      ],
      "metadata": {
        "colab": {
          "base_uri": "https://localhost:8080/",
          "height": 447
        },
        "id": "Ud_KWN1SgEhX",
        "outputId": "a51a9a77-7f1d-4cc0-e4a1-71743e929f96"
      },
      "execution_count": 45,
      "outputs": [
        {
          "output_type": "execute_result",
          "data": {
            "text/plain": [
              "<matplotlib.collections.PathCollection at 0x7dea1ae73370>"
            ]
          },
          "metadata": {},
          "execution_count": 45
        },
        {
          "output_type": "display_data",
          "data": {
            "text/plain": [
              "<Figure size 640x480 with 1 Axes>"
            ],
            "image/png": "[encoded data removed]"
          },
          "metadata": {}
        }
      ]
    },
    {
      "cell_type": "markdown",
      "source": [
        "# **The three set theory/idea**\n",
        "## * **Training set** -- data to learn from - typically 70-80% of total data in store\n",
        "## * **Validation set** - the model gets tuned on this dataset -- typically 10-15% of data in store\n",
        "## * **Test set** - evaluation againsty this set to test what has been learned, typically 10-15% of data in store   "
      ],
      "metadata": {
        "id": "1CpW2JaHgONt"
      }
    },
    {
      "cell_type": "code",
      "source": [
        "# Check length of how many samples we have\n",
        "len(X)"
      ],
      "metadata": {
        "colab": {
          "base_uri": "https://localhost:8080/"
        },
        "id": "ii5ZwwK2hmJb",
        "outputId": "e1dfab9f-a355-478f-bc0c-0c9e3fb3fa01"
      },
      "execution_count": 46,
      "outputs": [
        {
          "output_type": "execute_result",
          "data": {
            "text/plain": [
              "50"
            ]
          },
          "metadata": {},
          "execution_count": 46
        }
      ]
    },
    {
      "cell_type": "code",
      "source": [
        "# spliot data into training and test set\n",
        "X_train = X[:40] # first 40 traing samples = 80% of data\n",
        "y_train = y[:40]\n",
        "X_test = X[40:] # last 10 = 20% of data\n",
        "y_test = y[40:]\n",
        "\n",
        "len(X_train), len(X_test), len(y_train), len(y_test)"
      ],
      "metadata": {
        "colab": {
          "base_uri": "https://localhost:8080/"
        },
        "id": "VY6R51tkiLra",
        "outputId": "1086e26b-da6a-41de-c7db-3618436c0da2"
      },
      "execution_count": 47,
      "outputs": [
        {
          "output_type": "execute_result",
          "data": {
            "text/plain": [
              "(40, 10, 40, 10)"
            ]
          },
          "metadata": {},
          "execution_count": 47
        }
      ]
    },
    {
      "cell_type": "code",
      "source": [
        "# Visualize training and test sets\n",
        "plt.figure(figsize=(10, 7))\n",
        "# plot training data in blue\n",
        "plt.scatter(X_train, y_train, c=\"b\", label=\"Training Data\")\n",
        "#plot test data in green\n",
        "plt.scatter(X_test, y_test, c=\"g\", label=\"Testing Data\")\n",
        "# Show a legend\n",
        "plt.legend();"
      ],
      "metadata": {
        "colab": {
          "base_uri": "https://localhost:8080/",
          "height": 599
        },
        "id": "8oWgZGTtjAzm",
        "outputId": "4b80de26-f0fe-4491-8a28-a4c9959da4e1"
      },
      "execution_count": 48,
      "outputs": [
        {
          "output_type": "display_data",
          "data": {
            "text/plain": [
              "<Figure size 1000x700 with 1 Axes>"
            ],
            "image/png": "[encoded data removed]"
          },
          "metadata": {}
        }
      ]
    },
    {
      "cell_type": "code",
      "source": [
        "# create new larger model\n",
        "model = tf.keras.Sequential([\n",
        "    tf.keras.layers.Dense(100, activation=\"relu\"),\n",
        "    tf.keras.layers.Dense(100, activation=\"relu\"),\n",
        "    tf.keras.layers.Dense(100, activation=\"relu\"),\n",
        "    tf.keras.layers.Dense(1)\n",
        "    ])\n",
        "\n",
        "model.compile(loss=tf.keras.losses.mae,\n",
        "              optimizer=tf.keras.optimizers.Adam(learning_rate=0.0018),\n",
        "              metrics=[\"mae\"]\n",
        "              )\n",
        "model.fit(tf.expand_dims(X_train, axis=1), y_train, epochs=100)"
      ],
      "metadata": {
        "colab": {
          "base_uri": "https://localhost:8080/"
        },
        "id": "omACyNL3kXb1",
        "outputId": "9291f460-f2c2-4f48-d46c-742eac072998"
      },
      "execution_count": 49,
      "outputs": [
        {
          "output_type": "stream",
          "name": "stdout",
          "text": [
            "Epoch 1/100\n",
            "2/2 [==============================] - 1s 9ms/step - loss: 38.0019 - mae: 38.0019\n",
            "Epoch 2/100\n",
            "2/2 [==============================] - 0s 8ms/step - loss: 31.9744 - mae: 31.9744\n",
            "Epoch 3/100\n",
            "2/2 [==============================] - 0s 11ms/step - loss: 26.6696 - mae: 26.6696\n",
            "Epoch 4/100\n",
            "2/2 [==============================] - 0s 10ms/step - loss: 21.0237 - mae: 21.0237\n",
            "Epoch 5/100\n",
            "2/2 [==============================] - 0s 8ms/step - loss: 14.8581 - mae: 14.8581\n",
            "Epoch 6/100\n",
            "2/2 [==============================] - 0s 10ms/step - loss: 9.2198 - mae: 9.2198\n",
            "Epoch 7/100\n",
            "2/2 [==============================] - 0s 10ms/step - loss: 8.5432 - mae: 8.5432\n",
            "Epoch 8/100\n",
            "2/2 [==============================] - 0s 9ms/step - loss: 6.2918 - mae: 6.2918\n",
            "Epoch 9/100\n",
            "2/2 [==============================] - 0s 9ms/step - loss: 5.7653 - mae: 5.7653\n",
            "Epoch 10/100\n",
            "2/2 [==============================] - 0s 10ms/step - loss: 7.1229 - mae: 7.1229\n",
            "Epoch 11/100\n",
            "2/2 [==============================] - 0s 10ms/step - loss: 7.2460 - mae: 7.2460\n",
            "Epoch 12/100\n",
            "2/2 [==============================] - 0s 15ms/step - loss: 5.8460 - mae: 5.8460\n",
            "Epoch 13/100\n",
            "2/2 [==============================] - 0s 9ms/step - loss: 4.1772 - mae: 4.1772\n",
            "Epoch 14/100\n",
            "2/2 [==============================] - 0s 12ms/step - loss: 5.3528 - mae: 5.3528\n",
            "Epoch 15/100\n",
            "2/2 [==============================] - 0s 10ms/step - loss: 6.1246 - mae: 6.1246\n",
            "Epoch 16/100\n",
            "2/2 [==============================] - 0s 8ms/step - loss: 4.3382 - mae: 4.3382\n",
            "Epoch 17/100\n",
            "2/2 [==============================] - 0s 10ms/step - loss: 4.6541 - mae: 4.6541\n",
            "Epoch 18/100\n",
            "2/2 [==============================] - 0s 9ms/step - loss: 5.3569 - mae: 5.3569\n",
            "Epoch 19/100\n",
            "2/2 [==============================] - 0s 11ms/step - loss: 5.1466 - mae: 5.1466\n",
            "Epoch 20/100\n",
            "2/2 [==============================] - 0s 9ms/step - loss: 4.4598 - mae: 4.4598\n",
            "Epoch 21/100\n",
            "2/2 [==============================] - 0s 10ms/step - loss: 4.2060 - mae: 4.2060\n",
            "Epoch 22/100\n",
            "2/2 [==============================] - 0s 10ms/step - loss: 4.3864 - mae: 4.3864\n",
            "Epoch 23/100\n",
            "2/2 [==============================] - 0s 10ms/step - loss: 4.0847 - mae: 4.0847\n",
            "Epoch 24/100\n",
            "2/2 [==============================] - 0s 9ms/step - loss: 4.2968 - mae: 4.2968\n",
            "Epoch 25/100\n",
            "2/2 [==============================] - 0s 10ms/step - loss: 4.5260 - mae: 4.5260\n",
            "Epoch 26/100\n",
            "2/2 [==============================] - 0s 10ms/step - loss: 4.4403 - mae: 4.4403\n",
            "Epoch 27/100\n",
            "2/2 [==============================] - 0s 9ms/step - loss: 4.1689 - mae: 4.1689\n",
            "Epoch 28/100\n",
            "2/2 [==============================] - 0s 10ms/step - loss: 4.0217 - mae: 4.0217\n",
            "Epoch 29/100\n",
            "2/2 [==============================] - 0s 8ms/step - loss: 4.0879 - mae: 4.0879\n",
            "Epoch 30/100\n",
            "2/2 [==============================] - 0s 8ms/step - loss: 4.3351 - mae: 4.3351\n",
            "Epoch 31/100\n",
            "2/2 [==============================] - 0s 10ms/step - loss: 4.0871 - mae: 4.0871\n",
            "Epoch 32/100\n",
            "2/2 [==============================] - 0s 10ms/step - loss: 3.8670 - mae: 3.8670\n",
            "Epoch 33/100\n",
            "2/2 [==============================] - 0s 10ms/step - loss: 3.9935 - mae: 3.9935\n",
            "Epoch 34/100\n",
            "2/2 [==============================] - 0s 8ms/step - loss: 4.1304 - mae: 4.1304\n",
            "Epoch 35/100\n",
            "2/2 [==============================] - 0s 9ms/step - loss: 4.1204 - mae: 4.1204\n",
            "Epoch 36/100\n",
            "2/2 [==============================] - 0s 9ms/step - loss: 4.0461 - mae: 4.0461\n",
            "Epoch 37/100\n",
            "2/2 [==============================] - 0s 10ms/step - loss: 3.8851 - mae: 3.8851\n",
            "Epoch 38/100\n",
            "2/2 [==============================] - 0s 12ms/step - loss: 3.8426 - mae: 3.8426\n",
            "Epoch 39/100\n",
            "2/2 [==============================] - 0s 9ms/step - loss: 4.1025 - mae: 4.1025\n",
            "Epoch 40/100\n",
            "2/2 [==============================] - 0s 17ms/step - loss: 3.9462 - mae: 3.9462\n",
            "Epoch 41/100\n",
            "2/2 [==============================] - 0s 10ms/step - loss: 3.7848 - mae: 3.7848\n",
            "Epoch 42/100\n",
            "2/2 [==============================] - 0s 12ms/step - loss: 3.8329 - mae: 3.8329\n",
            "Epoch 43/100\n",
            "2/2 [==============================] - 0s 9ms/step - loss: 3.8309 - mae: 3.8309\n",
            "Epoch 44/100\n",
            "2/2 [==============================] - 0s 10ms/step - loss: 3.8768 - mae: 3.8768\n",
            "Epoch 45/100\n",
            "2/2 [==============================] - 0s 9ms/step - loss: 3.7325 - mae: 3.7325\n",
            "Epoch 46/100\n",
            "2/2 [==============================] - 0s 11ms/step - loss: 3.6887 - mae: 3.6887\n",
            "Epoch 47/100\n",
            "2/2 [==============================] - 0s 9ms/step - loss: 3.7435 - mae: 3.7435\n",
            "Epoch 48/100\n",
            "2/2 [==============================] - 0s 10ms/step - loss: 3.7757 - mae: 3.7757\n",
            "Epoch 49/100\n",
            "2/2 [==============================] - 0s 10ms/step - loss: 3.6828 - mae: 3.6828\n",
            "Epoch 50/100\n",
            "2/2 [==============================] - 0s 9ms/step - loss: 3.6321 - mae: 3.6321\n",
            "Epoch 51/100\n",
            "2/2 [==============================] - 0s 9ms/step - loss: 3.7498 - mae: 3.7498\n",
            "Epoch 52/100\n",
            "2/2 [==============================] - 0s 10ms/step - loss: 3.7402 - mae: 3.7402\n",
            "Epoch 53/100\n",
            "2/2 [==============================] - 0s 9ms/step - loss: 3.5829 - mae: 3.5829\n",
            "Epoch 54/100\n",
            "2/2 [==============================] - 0s 10ms/step - loss: 3.6363 - mae: 3.6363\n",
            "Epoch 55/100\n",
            "2/2 [==============================] - 0s 8ms/step - loss: 3.7311 - mae: 3.7311\n",
            "Epoch 56/100\n",
            "2/2 [==============================] - 0s 9ms/step - loss: 3.6106 - mae: 3.6106\n",
            "Epoch 57/100\n",
            "2/2 [==============================] - 0s 9ms/step - loss: 3.5594 - mae: 3.5594\n",
            "Epoch 58/100\n",
            "2/2 [==============================] - 0s 10ms/step - loss: 3.5877 - mae: 3.5877\n",
            "Epoch 59/100\n",
            "2/2 [==============================] - 0s 10ms/step - loss: 3.5261 - mae: 3.5261\n",
            "Epoch 60/100\n",
            "2/2 [==============================] - 0s 11ms/step - loss: 3.5218 - mae: 3.5218\n",
            "Epoch 61/100\n",
            "2/2 [==============================] - 0s 10ms/step - loss: 3.5969 - mae: 3.5969\n",
            "Epoch 62/100\n",
            "2/2 [==============================] - 0s 9ms/step - loss: 3.5017 - mae: 3.5017\n",
            "Epoch 63/100\n",
            "2/2 [==============================] - 0s 9ms/step - loss: 3.4322 - mae: 3.4322\n",
            "Epoch 64/100\n",
            "2/2 [==============================] - 0s 9ms/step - loss: 3.4227 - mae: 3.4227\n",
            "Epoch 65/100\n",
            "2/2 [==============================] - 0s 9ms/step - loss: 3.3456 - mae: 3.3456\n",
            "Epoch 66/100\n",
            "2/2 [==============================] - 0s 11ms/step - loss: 3.3872 - mae: 3.3872\n",
            "Epoch 67/100\n",
            "2/2 [==============================] - 0s 9ms/step - loss: 3.4578 - mae: 3.4578\n",
            "Epoch 68/100\n",
            "2/2 [==============================] - 0s 11ms/step - loss: 3.4243 - mae: 3.4243\n",
            "Epoch 69/100\n",
            "2/2 [==============================] - 0s 8ms/step - loss: 3.3801 - mae: 3.3801\n",
            "Epoch 70/100\n",
            "2/2 [==============================] - 0s 9ms/step - loss: 3.3334 - mae: 3.3334\n",
            "Epoch 71/100\n",
            "2/2 [==============================] - 0s 9ms/step - loss: 3.2850 - mae: 3.2850\n",
            "Epoch 72/100\n",
            "2/2 [==============================] - 0s 9ms/step - loss: 3.2518 - mae: 3.2518\n",
            "Epoch 73/100\n",
            "2/2 [==============================] - 0s 11ms/step - loss: 3.2042 - mae: 3.2042\n",
            "Epoch 74/100\n",
            "2/2 [==============================] - 0s 9ms/step - loss: 3.1880 - mae: 3.1880\n",
            "Epoch 75/100\n",
            "2/2 [==============================] - 0s 9ms/step - loss: 3.1468 - mae: 3.1468\n",
            "Epoch 76/100\n",
            "2/2 [==============================] - 0s 9ms/step - loss: 3.4122 - mae: 3.4122\n",
            "Epoch 77/100\n",
            "2/2 [==============================] - 0s 10ms/step - loss: 3.3796 - mae: 3.3796\n",
            "Epoch 78/100\n",
            "2/2 [==============================] - 0s 8ms/step - loss: 3.2661 - mae: 3.2661\n",
            "Epoch 79/100\n",
            "2/2 [==============================] - 0s 8ms/step - loss: 3.0306 - mae: 3.0306\n",
            "Epoch 80/100\n",
            "2/2 [==============================] - 0s 13ms/step - loss: 3.0669 - mae: 3.0669\n",
            "Epoch 81/100\n",
            "2/2 [==============================] - 0s 9ms/step - loss: 2.9132 - mae: 2.9132\n",
            "Epoch 82/100\n",
            "2/2 [==============================] - 0s 9ms/step - loss: 3.4025 - mae: 3.4025\n",
            "Epoch 83/100\n",
            "2/2 [==============================] - 0s 8ms/step - loss: 3.3439 - mae: 3.3439\n",
            "Epoch 84/100\n",
            "2/2 [==============================] - 0s 9ms/step - loss: 2.8876 - mae: 2.8876\n",
            "Epoch 85/100\n",
            "2/2 [==============================] - 0s 8ms/step - loss: 2.9689 - mae: 2.9689\n",
            "Epoch 86/100\n",
            "2/2 [==============================] - 0s 9ms/step - loss: 3.0957 - mae: 3.0957\n",
            "Epoch 87/100\n",
            "2/2 [==============================] - 0s 9ms/step - loss: 2.8019 - mae: 2.8019\n",
            "Epoch 88/100\n",
            "2/2 [==============================] - 0s 9ms/step - loss: 3.8949 - mae: 3.8949\n",
            "Epoch 89/100\n",
            "2/2 [==============================] - 0s 9ms/step - loss: 3.4540 - mae: 3.4540\n",
            "Epoch 90/100\n",
            "2/2 [==============================] - 0s 8ms/step - loss: 2.7897 - mae: 2.7897\n",
            "Epoch 91/100\n",
            "2/2 [==============================] - 0s 9ms/step - loss: 2.5574 - mae: 2.5574\n",
            "Epoch 92/100\n",
            "2/2 [==============================] - 0s 9ms/step - loss: 2.6850 - mae: 2.6850\n",
            "Epoch 93/100\n",
            "2/2 [==============================] - 0s 8ms/step - loss: 3.1570 - mae: 3.1570\n",
            "Epoch 94/100\n",
            "2/2 [==============================] - 0s 9ms/step - loss: 3.5585 - mae: 3.5585\n",
            "Epoch 95/100\n",
            "2/2 [==============================] - 0s 8ms/step - loss: 2.9009 - mae: 2.9009\n",
            "Epoch 96/100\n",
            "2/2 [==============================] - 0s 12ms/step - loss: 2.8402 - mae: 2.8402\n",
            "Epoch 97/100\n",
            "2/2 [==============================] - 0s 10ms/step - loss: 2.3238 - mae: 2.3238\n",
            "Epoch 98/100\n",
            "2/2 [==============================] - 0s 11ms/step - loss: 2.4645 - mae: 2.4645\n",
            "Epoch 99/100\n",
            "2/2 [==============================] - 0s 8ms/step - loss: 2.3273 - mae: 2.3273\n",
            "Epoch 100/100\n",
            "2/2 [==============================] - 0s 12ms/step - loss: 2.5647 - mae: 2.5647\n"
          ]
        },
        {
          "output_type": "execute_result",
          "data": {
            "text/plain": [
              "<keras.src.callbacks.History at 0x7de992bb36a0>"
            ]
          },
          "metadata": {},
          "execution_count": 49
        }
      ]
    },
    {
      "cell_type": "code",
      "source": [
        "model.predict([36])"
      ],
      "metadata": {
        "colab": {
          "base_uri": "https://localhost:8080/"
        },
        "id": "3iergFf1l8WX",
        "outputId": "f72203ac-5db3-4fe0-bd50-594de36ca1e3"
      },
      "execution_count": 56,
      "outputs": [
        {
          "output_type": "stream",
          "name": "stdout",
          "text": [
            "1/1 [==============================] - 0s 38ms/step\n"
          ]
        },
        {
          "output_type": "execute_result",
          "data": {
            "text/plain": [
              "array([[47.347652]], dtype=float32)"
            ]
          },
          "metadata": {},
          "execution_count": 56
        }
      ]
    },
    {
      "cell_type": "code",
      "source": [
        "# pretty good! I adjusted the lr (learning_rate) from .0001 to what it is now\n",
        "# I adjusted several times to end up with that learning_rate of .0018"
      ],
      "metadata": {
        "id": "dRLicdM4mU9K"
      },
      "execution_count": 29,
      "outputs": []
    },
    {
      "cell_type": "code",
      "source": [
        "X.shape"
      ],
      "metadata": {
        "colab": {
          "base_uri": "https://localhost:8080/"
        },
        "id": "aqhNGrT5qBrX",
        "outputId": "3867f72a-8124-482a-c5a4-16ce234da63a"
      },
      "execution_count": 57,
      "outputs": [
        {
          "output_type": "execute_result",
          "data": {
            "text/plain": [
              "TensorShape([50])"
            ]
          },
          "metadata": {},
          "execution_count": 57
        }
      ]
    },
    {
      "cell_type": "code",
      "source": [
        "# Build a model that auto builds by defining input_shape argument in the 1st layer\n",
        "tf.random.set_seed(42)\n",
        "model = tf.keras.Sequential([\n",
        "    tf.keras.layers.Dense(10, input_shape=[1], name=\"input_layer\"), # 10 = output\n",
        "    # where 1 = input - see plot_model image below\n",
        "    tf.keras.layers.Dense(1, name=\"output_layer\")\n",
        "], name=\"Sample_1\")\n",
        "\n",
        "# good to name your layers and models for better organization\n",
        "\n",
        "model.compile(loss=tf.keras.losses.mae,\n",
        "              optimizer=tf.keras.optimizers.SGD(),\n",
        "              metrics=[\"mae\"])\n",
        "model.fit(tf.expand_dims(X_train, axis=1), y_train, epochs=100, verbose=0)"
      ],
      "metadata": {
        "colab": {
          "base_uri": "https://localhost:8080/"
        },
        "id": "HIhxFvxopShQ",
        "outputId": "6a22a57e-805f-4484-d30d-1f634cef9d45"
      },
      "execution_count": 58,
      "outputs": [
        {
          "output_type": "execute_result",
          "data": {
            "text/plain": [
              "<keras.src.callbacks.History at 0x7de9935b8310>"
            ]
          },
          "metadata": {},
          "execution_count": 58
        }
      ]
    },
    {
      "cell_type": "code",
      "source": [
        "model.summary() # verify against plopt_model resultant image below"
      ],
      "metadata": {
        "colab": {
          "base_uri": "https://localhost:8080/"
        },
        "id": "5VgdiaMaqkHE",
        "outputId": "dfe005b7-d328-4b4e-d005-ab60a68caba8"
      },
      "execution_count": 59,
      "outputs": [
        {
          "output_type": "stream",
          "name": "stdout",
          "text": [
            "Model: \"Sample_1\"\n",
            "_________________________________________________________________\n",
            " Layer (type)                Output Shape              Param #   \n",
            "=================================================================\n",
            " input_layer (Dense)         (None, 10)                20        \n",
            "                                                                 \n",
            " output_layer (Dense)        (None, 1)                 11        \n",
            "                                                                 \n",
            "=================================================================\n",
            "Total params: 31 (124.00 Byte)\n",
            "Trainable params: 31 (124.00 Byte)\n",
            "Non-trainable params: 0 (0.00 Byte)\n",
            "_________________________________________________________________\n"
          ]
        }
      ]
    },
    {
      "cell_type": "markdown",
      "source": [
        "## **Total params** = total # of parameters in model\n",
        "## **Trainable parameters** = patterns model can update as it trains\n",
        "## **Non-trainable params** = not updated during training -- imported models during transfer learning"
      ],
      "metadata": {
        "id": "ttTG0Dvqq9FP"
      }
    },
    {
      "cell_type": "code",
      "source": [
        "# visualizing a model's layers\n",
        "from tensorflow.keras.utils import plot_model"
      ],
      "metadata": {
        "id": "ELfivrxNr_QP"
      },
      "execution_count": 60,
      "outputs": []
    },
    {
      "cell_type": "markdown",
      "source": [],
      "metadata": {
        "id": "1OJFqlC92Qma"
      }
    },
    {
      "cell_type": "code",
      "source": [
        "plot_model(model=model, show_shapes=True)"
      ],
      "metadata": {
        "colab": {
          "base_uri": "https://localhost:8080/",
          "height": 312
        },
        "id": "iZ6Ng4Fcz3vF",
        "outputId": "007a606b-576e-4dfc-978e-142cac1e4d7e"
      },
      "execution_count": 61,
      "outputs": [
        {
          "output_type": "execute_result",
          "data": {
            "image/png": "[encoded data removed]",
            "text/plain": [
              "<IPython.core.display.Image object>"
            ]
          },
          "metadata": {},
          "execution_count": 61
        }
      ]
    },
    {
      "cell_type": "code",
      "source": [
        "# Vizualizing our model's predictions"
      ],
      "metadata": {
        "id": "XwTjzAgzz6NP"
      },
      "execution_count": 62,
      "outputs": []
    },
    {
      "cell_type": "code",
      "source": [
        "#to viz predictions -- plot against ground truth layers\n",
        "# i.e form of 'y_test' or 'y_true' vs 'y_preds'\n",
        "\n",
        "# make some predictions\n",
        "y_pred = model.predict(X_test)\n",
        "y_pred"
      ],
      "metadata": {
        "colab": {
          "base_uri": "https://localhost:8080/"
        },
        "id": "YHf0pq8_2hm9",
        "outputId": "e38f8f07-c23e-4d72-99b9-30c1103debc0"
      },
      "execution_count": 65,
      "outputs": [
        {
          "output_type": "stream",
          "name": "stdout",
          "text": [
            "1/1 [==============================] - 0s 25ms/step\n"
          ]
        },
        {
          "output_type": "execute_result",
          "data": {
            "text/plain": [
              "array([[ 75.83029 ],\n",
              "       [ 80.76921 ],\n",
              "       [ 85.70812 ],\n",
              "       [ 90.64704 ],\n",
              "       [ 95.585945],\n",
              "       [100.524864],\n",
              "       [105.463776],\n",
              "       [110.40268 ],\n",
              "       [115.3416  ],\n",
              "       [120.28052 ]], dtype=float32)"
            ]
          },
          "metadata": {},
          "execution_count": 65
        }
      ]
    },
    {
      "cell_type": "code",
      "source": [
        "y_test"
      ],
      "metadata": {
        "colab": {
          "base_uri": "https://localhost:8080/"
        },
        "id": "qOzRR3OVVZiD",
        "outputId": "d95eb818-7e27-47d8-fe5d-d24a58e53824"
      },
      "execution_count": 64,
      "outputs": [
        {
          "output_type": "execute_result",
          "data": {
            "text/plain": [
              "<tf.Tensor: shape=(10,), dtype=int32, numpy=array([ 70,  74,  78,  82,  86,  90,  94,  98, 102, 106], dtype=int32)>"
            ]
          },
          "metadata": {},
          "execution_count": 64
        }
      ]
    },
    {
      "cell_type": "code",
      "source": [
        "# viz by plot if you are going to reuse functionality - good idea to create\n",
        "# a plotting function\n",
        "\n",
        "def plot_predictions(train_data=X_train,\n",
        "                     train_labels=y_train,\n",
        "                     test_data=X_test,\n",
        "                     test_labels=y_test,\n",
        "                     predictions=y_pred):\n",
        "  \"\"\"\n",
        "  Plots training data, test data and compares predictions top ground truth labels\n",
        "  \"\"\"\n",
        "  plt.figure(figsize=(10, 7))\n",
        "  # plot training data in blue\n",
        "  plt.scatter(train_data, train_labels, c=\"b\", label=\"Training Data\")\n",
        "  # plot test data in green\n",
        "  plt.scatter(test_data, test_labels, c=\"g\", label=\"Test Data\")\n",
        "  # add extra dataset - plot predictions in red\n",
        "  plt.scatter(test_data, predictions, c=\"r\", label=\"Predictions\")\n",
        "  # show a legend\n",
        "  plt.legend();"
      ],
      "metadata": {
        "id": "DwkEeEToW515"
      },
      "execution_count": 66,
      "outputs": []
    },
    {
      "cell_type": "code",
      "source": [
        "plot_predictions()"
      ],
      "metadata": {
        "colab": {
          "base_uri": "https://localhost:8080/",
          "height": 599
        },
        "id": "TBWG2gM_ZZKV",
        "outputId": "788ef130-4696-4f06-b9a2-8961b98edf23"
      },
      "execution_count": 67,
      "outputs": [
        {
          "output_type": "display_data",
          "data": {
            "text/plain": [
              "<Figure size 1000x700 with 1 Axes>"
            ],
            "image/png": "[encoded data removed]"
          },
          "metadata": {}
        }
      ]
    },
    {
      "cell_type": "markdown",
      "source": [
      "# Switch to notebook https://github.com/flowmasterB/tensorflow-flowmasterB-teaching/blob/main/01_Neural_Network_Regression_with_Tensorflow_A.ipynb "
      ],
      "metadata": {
        "id": "53pfB_NLZfKB"
      },
      "execution_count": null,
      "outputs": []
    }
  ]
}
