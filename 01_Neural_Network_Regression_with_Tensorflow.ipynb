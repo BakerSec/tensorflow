{
  "nbformat": 4,
  "nbformat_minor": 0,
  "metadata": {
    "colab": {
      "provenance": [],
      "gpuType": "T4",
      "authorship_tag": "ABX9TyPmepstyW8BbbE6WRQTfYOS",
      "include_colab_link": true
    },
    "kernelspec": {
      "name": "python3",
      "display_name": "Python 3"
    },
    "language_info": {
      "name": "python"
    }
  },
  "cells": [
    {
      "cell_type": "markdown",
      "metadata": {
        "id": "view-in-github",
        "colab_type": "text"
      },
      "source": [
        "<a href=\"https://colab.research.google.com/github/flowmasterB/tensorflow-flowmasterB-teaching/blob/main/01_Neural_Network_Regression_with_Tensorflow.ipynb\" target=\"_parent\"><img src=\"https://colab.research.google.com/assets/colab-badge.svg\" alt=\"Open In Colab\"/></a>"
      ]
    },
    {
      "cell_type": "code",
      "execution_count": 74,
      "metadata": {
        "id": "YGUCpZQ4_lmH"
      },
      "outputs": [],
      "source": [
        "# Intro to neural network regression w/ tf\n",
        "# predicting numbers as outcomes based on other numbers\n",
        "import tensorflow as tf\n",
        "import numpy as np\n",
        "import matplotlib.pyplot as plt\n",
        "import keras\n",
        "from keras import layers"
      ]
    },
    {
      "cell_type": "code",
      "source": [
        "# create data to view and fit\n",
        "\n",
        "# create features\n",
        "X = np.array([-7.0, -4.0, -1.0, 2.0, 5.0, 8.0, 11.0, 14.0])\n",
        "\n",
        "# creatwe labels\n",
        "y = np.array([3.0, 6.0, 9.0, 12.0, 15.0, 18.0, 21.0, 24.0])\n",
        "\n",
        "# visualize\n",
        "plt.scatter(X, y);"
      ],
      "metadata": {
        "colab": {
          "base_uri": "https://localhost:8080/",
          "height": 435
        },
        "id": "4S6ohMORZmAW",
        "outputId": "5710a2c8-c5ff-4910-e659-45948a5580a3"
      },
      "execution_count": 75,
      "outputs": [
        {
          "output_type": "display_data",
          "data": {
            "text/plain": [
              "<Figure size 640x480 with 1 Axes>"
            ],
            "image/png": "[encoded data removed]"
          },
          "metadata": {}
        }
      ]
    },
    {
      "cell_type": "code",
      "source": [
        "X + 10"
      ],
      "metadata": {
        "colab": {
          "base_uri": "https://localhost:8080/"
        },
        "id": "eNAQKzLXbP3K",
        "outputId": "759a8c3c-c748-49f2-f66a-e87f4d824402"
      },
      "execution_count": 76,
      "outputs": [
        {
          "output_type": "execute_result",
          "data": {
            "text/plain": [
              "array([ 3.,  6.,  9., 12., 15., 18., 21., 24.])"
            ]
          },
          "metadata": {},
          "execution_count": 76
        }
      ]
    },
    {
      "cell_type": "code",
      "source": [
        "y == X + 10 # relationship trying to learn -- the function between - ind var"
      ],
      "metadata": {
        "colab": {
          "base_uri": "https://localhost:8080/"
        },
        "id": "g8KANYzTbo-V",
        "outputId": "39a7bd01-f4fa-462d-e853-a6cb6d2f63e7"
      },
      "execution_count": 77,
      "outputs": [
        {
          "output_type": "execute_result",
          "data": {
            "text/plain": [
              "array([ True,  True,  True,  True,  True,  True,  True,  True])"
            ]
          },
          "metadata": {},
          "execution_count": 77
        }
      ]
    },
    {
      "cell_type": "code",
      "source": [
        "# input and output shapes\n",
        "# create a demo tensor\n",
        "house_info = tf.constant([\"bedrooms\", \"bathrooms\", \"# of car(s) garage space\"])\n",
        "house_price = tf.constant([937000])\n",
        "house_info, house_price"
      ],
      "metadata": {
        "colab": {
          "base_uri": "https://localhost:8080/"
        },
        "id": "-p7MVPwVbtF_",
        "outputId": "1ead4d76-570e-44cf-f418-c6b32c547810"
      },
      "execution_count": 78,
      "outputs": [
        {
          "output_type": "execute_result",
          "data": {
            "text/plain": [
              "(<tf.Tensor: shape=(3,), dtype=string, numpy=\n",
              " array([b'bedrooms', b'bathrooms', b'# of car(s) garage space'],\n",
              "       dtype=object)>,\n",
              " <tf.Tensor: shape=(1,), dtype=int32, numpy=array([937000], dtype=int32)>)"
            ]
          },
          "metadata": {},
          "execution_count": 78
        }
      ]
    },
    {
      "cell_type": "code",
      "source": [
        "input_shape = X.shape\n",
        "output_shape = y.shape\n",
        "input_shape, output_shape"
      ],
      "metadata": {
        "colab": {
          "base_uri": "https://localhost:8080/"
        },
        "id": "m5R0ZpX9cqJp",
        "outputId": "82f2b37c-c7d4-4c8c-8a51-6bfb555965c9"
      },
      "execution_count": 79,
      "outputs": [
        {
          "output_type": "execute_result",
          "data": {
            "text/plain": [
              "((8,), (8,))"
            ]
          },
          "metadata": {},
          "execution_count": 79
        }
      ]
    },
    {
      "cell_type": "code",
      "source": [
        "X[0],  y[0]"
      ],
      "metadata": {
        "colab": {
          "base_uri": "https://localhost:8080/"
        },
        "id": "N80-kd52dRco",
        "outputId": "25349f6d-949d-4fc5-e37f-1ff828bcbf1b"
      },
      "execution_count": 80,
      "outputs": [
        {
          "output_type": "execute_result",
          "data": {
            "text/plain": [
              "(-7.0, 3.0)"
            ]
          },
          "metadata": {},
          "execution_count": 80
        }
      ]
    },
    {
      "cell_type": "code",
      "source": [
        "# major steps in modeling w/ tf -- turn np arrays into tensors w/ dtype float32\n",
        "X = tf.cast(tf.constant(X), dtype=tf.float32)\n",
        "y = tf.cast(tf.constant(y), dtype=tf.float32)\n",
        "X, y"
      ],
      "metadata": {
        "colab": {
          "base_uri": "https://localhost:8080/"
        },
        "id": "XscRiNeBd9hc",
        "outputId": "a26cbfc4-68b9-4d3b-9db7-11b95fe2686a"
      },
      "execution_count": 81,
      "outputs": [
        {
          "output_type": "execute_result",
          "data": {
            "text/plain": [
              "(<tf.Tensor: shape=(8,), dtype=float32, numpy=array([-7., -4., -1.,  2.,  5.,  8., 11., 14.], dtype=float32)>,\n",
              " <tf.Tensor: shape=(8,), dtype=float32, numpy=array([ 3.,  6.,  9., 12., 15., 18., 21., 24.], dtype=float32)>)"
            ]
          },
          "metadata": {},
          "execution_count": 81
        }
      ]
    },
    {
      "cell_type": "code",
      "source": [
        "input_shape = X[0].shape\n",
        "output_shape = y[0].shape\n",
        "input_shape, output_shape # returned a scalar"
      ],
      "metadata": {
        "colab": {
          "base_uri": "https://localhost:8080/"
        },
        "id": "mBbYLfHFerZK",
        "outputId": "e18ae28f-1fbb-45f1-c86e-460ce5c2c921"
      },
      "execution_count": 82,
      "outputs": [
        {
          "output_type": "execute_result",
          "data": {
            "text/plain": [
              "(TensorShape([]), TensorShape([]))"
            ]
          },
          "metadata": {},
          "execution_count": 82
        }
      ]
    },
    {
      "cell_type": "markdown",
      "source": [
        "# **Steps for ML modeling**\n",
        "1. **create a model:** define the input and output layers, also to include the hidden layers of a deep learning model.\n",
        "2. **compile the model:** the function which tells our model how wrong it is, and the optimizer, which tells our model how to improve the patterns it learns. Evaluation metrics, used to interpret model performance\n",
        "3. **fiting a model:** letting the model find patterns between X AND Y, aka features\n",
        "\n",
        "# **Steps in TF:**\n",
        "1. Get data ready -- convert to tensors\n",
        "2. build or pick a model to suit problem\n",
        "3. fit the model to the data and make a prediction\n",
        "4. evaluate the model\n",
        "5. save and reload the trained model"
      ],
      "metadata": {
        "id": "IM9rL03Oe56J"
      }
    },
    {
      "cell_type": "code",
      "source": [
        "# set random seed\n",
        "tf.random.set_seed(42)\n",
        "\n",
        "# 1. Create a model using sequential api\n",
        "model = tf.keras.Sequential([\n",
        "    tf.keras.layers.Dense(1) # using one number to predict one number\n",
        "])\n",
        "\n",
        "#2. compile model\n",
        "model.compile(loss=tf.keras.losses.mae, # mae = mean absolute error\n",
        "              optimizer=tf.keras.optimizers.SGD(), # SGD stochastic gradient descent\n",
        "              metrics=[\"mae\"])\n",
        "\n",
        "#3 fit the model\n",
        "model.fit(tf.expand_dims(X, axis=1), y, epochs=5) # 5 tries to figure out a pattern\n"
      ],
      "metadata": {
        "colab": {
          "base_uri": "https://localhost:8080/"
        },
        "id": "VsujQIP3f1aW",
        "outputId": "ae38b91f-caa5-4486-b1c0-d1f9b471d062"
      },
      "execution_count": 83,
      "outputs": [
        {
          "output_type": "stream",
          "name": "stdout",
          "text": [
            "Epoch 1/5\n",
            "1/1 [==============================] - 1s 530ms/step - loss: 11.6534 - mae: 11.6534\n",
            "Epoch 2/5\n",
            "1/1 [==============================] - 0s 12ms/step - loss: 11.5209 - mae: 11.5209\n",
            "Epoch 3/5\n",
            "1/1 [==============================] - 0s 11ms/step - loss: 11.3884 - mae: 11.3884\n",
            "Epoch 4/5\n",
            "1/1 [==============================] - 0s 14ms/step - loss: 11.2559 - mae: 11.2559\n",
            "Epoch 5/5\n",
            "1/1 [==============================] - 0s 18ms/step - loss: 11.1234 - mae: 11.1234\n"
          ]
        },
        {
          "output_type": "execute_result",
          "data": {
            "text/plain": [
              "<keras.src.callbacks.History at 0x780461326560>"
            ]
          },
          "metadata": {},
          "execution_count": 83
        }
      ]
    },
    {
      "cell_type": "code",
      "source": [
        "# check out X and y\n",
        "X, y"
      ],
      "metadata": {
        "colab": {
          "base_uri": "https://localhost:8080/"
        },
        "id": "DSQDOpTIkqqJ",
        "outputId": "ccfe05b7-f9d1-498f-b440-42f7b588f1aa"
      },
      "execution_count": 84,
      "outputs": [
        {
          "output_type": "execute_result",
          "data": {
            "text/plain": [
              "(<tf.Tensor: shape=(8,), dtype=float32, numpy=array([-7., -4., -1.,  2.,  5.,  8., 11., 14.], dtype=float32)>,\n",
              " <tf.Tensor: shape=(8,), dtype=float32, numpy=array([ 3.,  6.,  9., 12., 15., 18., 21., 24.], dtype=float32)>)"
            ]
          },
          "metadata": {},
          "execution_count": 84
        }
      ]
    },
    {
      "cell_type": "code",
      "source": [
        "# try to predict using the model\n",
        "model.predict([27]) # not very good -- we were expecting an approx. return of 10"
      ],
      "metadata": {
        "colab": {
          "base_uri": "https://localhost:8080/"
        },
        "id": "u7XOhUAKnXiM",
        "outputId": "76712eb8-8a80-4d3c-bc28-f0fd73ef5780"
      },
      "execution_count": 85,
      "outputs": [
        {
          "output_type": "stream",
          "name": "stdout",
          "text": [
            "1/1 [==============================] - 0s 72ms/step\n"
          ]
        },
        {
          "output_type": "execute_result",
          "data": {
            "text/plain": [
              "array([[19.02036]], dtype=float32)"
            ]
          },
          "metadata": {},
          "execution_count": 85
        }
      ]
    },
    {
      "cell_type": "markdown",
      "source": [
        "# Improving the model\n",
        "We can improve the model by altering/adjustiung the steps we used to create it.\n",
        "1. create model -- add more layer, increase # of hidden units(neurons) within\n",
        "each of the hidden layers - change activation function of each layer\n",
        "2. compile model -- change optimization function -- learning rate hyper parameter of optimization function\n",
        "3. fit model -- more epochs/rounds -- longer training time, or more examples to learn from"
      ],
      "metadata": {
        "id": "iC9ay2PjnhVs"
      }
    },
    {
      "cell_type": "markdown",
      "source": [
        "## lets create a larger model to see if we can improve our model and see if\n",
        "## can predict the X + 10 fucntion pattern. Our first 5 epochs wasn't even close.\n"
      ],
      "metadata": {
        "id": "0YzF12_epljG"
      }
    },
    {
      "cell_type": "code",
      "source": [
        "#1 create model\n",
        "model = tf.keras.Sequential([\n",
        "    tf.keras.layers.Dense(1)\n",
        "])\n",
        "\n",
        "#2 compile model\n",
        "model.compile(loss=tf.keras.losses.mae,\n",
        "              optimizer=tf.keras.optimizers.Adam(lr=0.0001), # originally used SGD()\n",
        "              # error was near 3 points - result was 29.87 -- Adam was very close!\n",
        "              metrics=[\"mae\"])\n",
        "#3 fit the model\n",
        "model.fit(tf.expand_dims(X, axis=1), y, epochs=100)"
      ],
      "metadata": {
        "colab": {
          "base_uri": "https://localhost:8080/"
        },
        "id": "RXyFn6a8xvNL",
        "outputId": "319230fe-90b3-46b0-82dc-f939493a4cb7"
      },
      "execution_count": 97,
      "outputs": [
        {
          "output_type": "stream",
          "name": "stderr",
          "text": [
            "WARNING:absl:`lr` is deprecated in Keras optimizer, please use `learning_rate` or use the legacy optimizer, e.g.,tf.keras.optimizers.legacy.Adam.\n"
          ]
        },
        {
          "output_type": "stream",
          "name": "stdout",
          "text": [
            "Epoch 1/100\n",
            "1/1 [==============================] - 0s 422ms/step - loss: 8.2836 - mae: 8.2836\n",
            "Epoch 2/100\n",
            "1/1 [==============================] - 0s 13ms/step - loss: 8.2791 - mae: 8.2791\n",
            "Epoch 3/100\n",
            "1/1 [==============================] - 0s 12ms/step - loss: 8.2746 - mae: 8.2746\n",
            "Epoch 4/100\n",
            "1/1 [==============================] - 0s 10ms/step - loss: 8.2701 - mae: 8.2701\n",
            "Epoch 5/100\n",
            "1/1 [==============================] - 0s 10ms/step - loss: 8.2656 - mae: 8.2656\n",
            "Epoch 6/100\n",
            "1/1 [==============================] - 0s 11ms/step - loss: 8.2611 - mae: 8.2611\n",
            "Epoch 7/100\n",
            "1/1 [==============================] - 0s 13ms/step - loss: 8.2566 - mae: 8.2566\n",
            "Epoch 8/100\n",
            "1/1 [==============================] - 0s 12ms/step - loss: 8.2521 - mae: 8.2521\n",
            "Epoch 9/100\n",
            "1/1 [==============================] - 0s 11ms/step - loss: 8.2476 - mae: 8.2476\n",
            "Epoch 10/100\n",
            "1/1 [==============================] - 0s 11ms/step - loss: 8.2431 - mae: 8.2431\n",
            "Epoch 11/100\n",
            "1/1 [==============================] - 0s 12ms/step - loss: 8.2386 - mae: 8.2386\n",
            "Epoch 12/100\n",
            "1/1 [==============================] - 0s 15ms/step - loss: 8.2341 - mae: 8.2341\n",
            "Epoch 13/100\n",
            "1/1 [==============================] - 0s 10ms/step - loss: 8.2296 - mae: 8.2296\n",
            "Epoch 14/100\n",
            "1/1 [==============================] - 0s 10ms/step - loss: 8.2251 - mae: 8.2251\n",
            "Epoch 15/100\n",
            "1/1 [==============================] - 0s 11ms/step - loss: 8.2206 - mae: 8.2206\n",
            "Epoch 16/100\n",
            "1/1 [==============================] - 0s 11ms/step - loss: 8.2161 - mae: 8.2161\n",
            "Epoch 17/100\n",
            "1/1 [==============================] - 0s 12ms/step - loss: 8.2116 - mae: 8.2116\n",
            "Epoch 18/100\n",
            "1/1 [==============================] - 0s 12ms/step - loss: 8.2071 - mae: 8.2071\n",
            "Epoch 19/100\n",
            "1/1 [==============================] - 0s 11ms/step - loss: 8.2026 - mae: 8.2026\n",
            "Epoch 20/100\n",
            "1/1 [==============================] - 0s 11ms/step - loss: 8.1981 - mae: 8.1981\n",
            "Epoch 21/100\n",
            "1/1 [==============================] - 0s 11ms/step - loss: 8.1936 - mae: 8.1936\n",
            "Epoch 22/100\n",
            "1/1 [==============================] - 0s 11ms/step - loss: 8.1891 - mae: 8.1891\n",
            "Epoch 23/100\n",
            "1/1 [==============================] - 0s 11ms/step - loss: 8.1846 - mae: 8.1846\n",
            "Epoch 24/100\n",
            "1/1 [==============================] - 0s 11ms/step - loss: 8.1801 - mae: 8.1801\n",
            "Epoch 25/100\n",
            "1/1 [==============================] - 0s 16ms/step - loss: 8.1756 - mae: 8.1756\n",
            "Epoch 26/100\n",
            "1/1 [==============================] - 0s 11ms/step - loss: 8.1711 - mae: 8.1711\n",
            "Epoch 27/100\n",
            "1/1 [==============================] - 0s 11ms/step - loss: 8.1666 - mae: 8.1666\n",
            "Epoch 28/100\n",
            "1/1 [==============================] - 0s 11ms/step - loss: 8.1621 - mae: 8.1621\n",
            "Epoch 29/100\n",
            "1/1 [==============================] - 0s 10ms/step - loss: 8.1576 - mae: 8.1576\n",
            "Epoch 30/100\n",
            "1/1 [==============================] - 0s 10ms/step - loss: 8.1531 - mae: 8.1531\n",
            "Epoch 31/100\n",
            "1/1 [==============================] - 0s 11ms/step - loss: 8.1486 - mae: 8.1486\n",
            "Epoch 32/100\n",
            "1/1 [==============================] - 0s 10ms/step - loss: 8.1441 - mae: 8.1441\n",
            "Epoch 33/100\n",
            "1/1 [==============================] - 0s 10ms/step - loss: 8.1396 - mae: 8.1396\n",
            "Epoch 34/100\n",
            "1/1 [==============================] - 0s 11ms/step - loss: 8.1351 - mae: 8.1351\n",
            "Epoch 35/100\n",
            "1/1 [==============================] - 0s 10ms/step - loss: 8.1306 - mae: 8.1306\n",
            "Epoch 36/100\n",
            "1/1 [==============================] - 0s 10ms/step - loss: 8.1261 - mae: 8.1261\n",
            "Epoch 37/100\n",
            "1/1 [==============================] - 0s 10ms/step - loss: 8.1216 - mae: 8.1216\n",
            "Epoch 38/100\n",
            "1/1 [==============================] - 0s 9ms/step - loss: 8.1171 - mae: 8.1171\n",
            "Epoch 39/100\n",
            "1/1 [==============================] - 0s 14ms/step - loss: 8.1126 - mae: 8.1126\n",
            "Epoch 40/100\n",
            "1/1 [==============================] - 0s 15ms/step - loss: 8.1081 - mae: 8.1081\n",
            "Epoch 41/100\n",
            "1/1 [==============================] - 0s 11ms/step - loss: 8.1036 - mae: 8.1036\n",
            "Epoch 42/100\n",
            "1/1 [==============================] - 0s 11ms/step - loss: 8.0991 - mae: 8.0991\n",
            "Epoch 43/100\n",
            "1/1 [==============================] - 0s 11ms/step - loss: 8.0946 - mae: 8.0946\n",
            "Epoch 44/100\n",
            "1/1 [==============================] - 0s 11ms/step - loss: 8.0901 - mae: 8.0901\n",
            "Epoch 45/100\n",
            "1/1 [==============================] - 0s 11ms/step - loss: 8.0856 - mae: 8.0856\n",
            "Epoch 46/100\n",
            "1/1 [==============================] - 0s 11ms/step - loss: 8.0811 - mae: 8.0811\n",
            "Epoch 47/100\n",
            "1/1 [==============================] - 0s 11ms/step - loss: 8.0766 - mae: 8.0766\n",
            "Epoch 48/100\n",
            "1/1 [==============================] - 0s 11ms/step - loss: 8.0721 - mae: 8.0721\n",
            "Epoch 49/100\n",
            "1/1 [==============================] - 0s 12ms/step - loss: 8.0676 - mae: 8.0676\n",
            "Epoch 50/100\n",
            "1/1 [==============================] - 0s 11ms/step - loss: 8.0631 - mae: 8.0631\n",
            "Epoch 51/100\n",
            "1/1 [==============================] - 0s 10ms/step - loss: 8.0586 - mae: 8.0586\n",
            "Epoch 52/100\n",
            "1/1 [==============================] - 0s 13ms/step - loss: 8.0541 - mae: 8.0541\n",
            "Epoch 53/100\n",
            "1/1 [==============================] - 0s 16ms/step - loss: 8.0496 - mae: 8.0496\n",
            "Epoch 54/100\n",
            "1/1 [==============================] - 0s 11ms/step - loss: 8.0451 - mae: 8.0451\n",
            "Epoch 55/100\n",
            "1/1 [==============================] - 0s 10ms/step - loss: 8.0406 - mae: 8.0406\n",
            "Epoch 56/100\n",
            "1/1 [==============================] - 0s 10ms/step - loss: 8.0361 - mae: 8.0361\n",
            "Epoch 57/100\n",
            "1/1 [==============================] - 0s 12ms/step - loss: 8.0316 - mae: 8.0316\n",
            "Epoch 58/100\n",
            "1/1 [==============================] - 0s 10ms/step - loss: 8.0271 - mae: 8.0271\n",
            "Epoch 59/100\n",
            "1/1 [==============================] - 0s 10ms/step - loss: 8.0226 - mae: 8.0226\n",
            "Epoch 60/100\n",
            "1/1 [==============================] - 0s 10ms/step - loss: 8.0181 - mae: 8.0181\n",
            "Epoch 61/100\n",
            "1/1 [==============================] - 0s 10ms/step - loss: 8.0136 - mae: 8.0136\n",
            "Epoch 62/100\n",
            "1/1 [==============================] - 0s 10ms/step - loss: 8.0091 - mae: 8.0091\n",
            "Epoch 63/100\n",
            "1/1 [==============================] - 0s 10ms/step - loss: 8.0046 - mae: 8.0046\n",
            "Epoch 64/100\n",
            "1/1 [==============================] - 0s 10ms/step - loss: 8.0001 - mae: 8.0001\n",
            "Epoch 65/100\n",
            "1/1 [==============================] - 0s 11ms/step - loss: 7.9956 - mae: 7.9956\n",
            "Epoch 66/100\n",
            "1/1 [==============================] - 0s 12ms/step - loss: 7.9911 - mae: 7.9911\n",
            "Epoch 67/100\n",
            "1/1 [==============================] - 0s 10ms/step - loss: 7.9866 - mae: 7.9866\n",
            "Epoch 68/100\n",
            "1/1 [==============================] - 0s 11ms/step - loss: 7.9821 - mae: 7.9821\n",
            "Epoch 69/100\n",
            "1/1 [==============================] - 0s 10ms/step - loss: 7.9776 - mae: 7.9776\n",
            "Epoch 70/100\n",
            "1/1 [==============================] - 0s 10ms/step - loss: 7.9731 - mae: 7.9731\n",
            "Epoch 71/100\n",
            "1/1 [==============================] - 0s 10ms/step - loss: 7.9686 - mae: 7.9686\n",
            "Epoch 72/100\n",
            "1/1 [==============================] - 0s 10ms/step - loss: 7.9641 - mae: 7.9641\n",
            "Epoch 73/100\n",
            "1/1 [==============================] - 0s 10ms/step - loss: 7.9596 - mae: 7.9596\n",
            "Epoch 74/100\n",
            "1/1 [==============================] - 0s 14ms/step - loss: 7.9551 - mae: 7.9551\n",
            "Epoch 75/100\n",
            "1/1 [==============================] - 0s 11ms/step - loss: 7.9506 - mae: 7.9506\n",
            "Epoch 76/100\n",
            "1/1 [==============================] - 0s 10ms/step - loss: 7.9461 - mae: 7.9461\n",
            "Epoch 77/100\n",
            "1/1 [==============================] - 0s 11ms/step - loss: 7.9416 - mae: 7.9416\n",
            "Epoch 78/100\n",
            "1/1 [==============================] - 0s 11ms/step - loss: 7.9371 - mae: 7.9371\n",
            "Epoch 79/100\n",
            "1/1 [==============================] - 0s 11ms/step - loss: 7.9326 - mae: 7.9326\n",
            "Epoch 80/100\n",
            "1/1 [==============================] - 0s 11ms/step - loss: 7.9281 - mae: 7.9281\n",
            "Epoch 81/100\n",
            "1/1 [==============================] - 0s 12ms/step - loss: 7.9236 - mae: 7.9236\n",
            "Epoch 82/100\n",
            "1/1 [==============================] - 0s 12ms/step - loss: 7.9191 - mae: 7.9191\n",
            "Epoch 83/100\n",
            "1/1 [==============================] - 0s 10ms/step - loss: 7.9146 - mae: 7.9146\n",
            "Epoch 84/100\n",
            "1/1 [==============================] - 0s 10ms/step - loss: 7.9101 - mae: 7.9101\n",
            "Epoch 85/100\n",
            "1/1 [==============================] - 0s 11ms/step - loss: 7.9056 - mae: 7.9056\n",
            "Epoch 86/100\n",
            "1/1 [==============================] - 0s 10ms/step - loss: 7.9011 - mae: 7.9011\n",
            "Epoch 87/100\n",
            "1/1 [==============================] - 0s 13ms/step - loss: 7.8966 - mae: 7.8966\n",
            "Epoch 88/100\n",
            "1/1 [==============================] - 0s 11ms/step - loss: 7.8921 - mae: 7.8921\n",
            "Epoch 89/100\n",
            "1/1 [==============================] - 0s 12ms/step - loss: 7.8876 - mae: 7.8876\n",
            "Epoch 90/100\n",
            "1/1 [==============================] - 0s 10ms/step - loss: 7.8831 - mae: 7.8831\n",
            "Epoch 91/100\n",
            "1/1 [==============================] - 0s 10ms/step - loss: 7.8786 - mae: 7.8786\n",
            "Epoch 92/100\n",
            "1/1 [==============================] - 0s 10ms/step - loss: 7.8741 - mae: 7.8741\n",
            "Epoch 93/100\n",
            "1/1 [==============================] - 0s 10ms/step - loss: 7.8696 - mae: 7.8696\n",
            "Epoch 94/100\n",
            "1/1 [==============================] - 0s 10ms/step - loss: 7.8651 - mae: 7.8651\n",
            "Epoch 95/100\n",
            "1/1 [==============================] - 0s 10ms/step - loss: 7.8606 - mae: 7.8606\n",
            "Epoch 96/100\n",
            "1/1 [==============================] - 0s 11ms/step - loss: 7.8561 - mae: 7.8561\n",
            "Epoch 97/100\n",
            "1/1 [==============================] - 0s 10ms/step - loss: 7.8516 - mae: 7.8516\n",
            "Epoch 98/100\n",
            "1/1 [==============================] - 0s 13ms/step - loss: 7.8471 - mae: 7.8471\n",
            "Epoch 99/100\n",
            "1/1 [==============================] - 0s 10ms/step - loss: 7.8426 - mae: 7.8426\n",
            "Epoch 100/100\n",
            "1/1 [==============================] - 0s 10ms/step - loss: 7.8381 - mae: 7.8381\n"
          ]
        },
        {
          "output_type": "execute_result",
          "data": {
            "text/plain": [
              "<keras.src.callbacks.History at 0x78046165bca0>"
            ]
          },
          "metadata": {},
          "execution_count": 97
        }
      ]
    },
    {
      "cell_type": "code",
      "source": [
        "# show the data for a reminder\n",
        "X, y"
      ],
      "metadata": {
        "colab": {
          "base_uri": "https://localhost:8080/"
        },
        "id": "_2v_Z6nazAdc",
        "outputId": "e82bedb8-9651-4371-e863-dcb4bcdd685c"
      },
      "execution_count": 95,
      "outputs": [
        {
          "output_type": "execute_result",
          "data": {
            "text/plain": [
              "(<tf.Tensor: shape=(8,), dtype=float32, numpy=array([-7., -4., -1.,  2.,  5.,  8., 11., 14.], dtype=float32)>,\n",
              " <tf.Tensor: shape=(8,), dtype=float32, numpy=array([ 3.,  6.,  9., 12., 15., 18., 21., 24.], dtype=float32)>)"
            ]
          },
          "metadata": {},
          "execution_count": 95
        }
      ]
    },
    {
      "cell_type": "code",
      "source": [
        "# LETS PREDICT! Did we improve?\n",
        "model.predict([17.0])"
      ],
      "metadata": {
        "colab": {
          "base_uri": "https://localhost:8080/"
        },
        "id": "z1Wy_F502lXn",
        "outputId": "8b6fb080-8308-47e3-def3-563b8ed2c750"
      },
      "execution_count": 98,
      "outputs": [
        {
          "output_type": "stream",
          "name": "stdout",
          "text": [
            "1/1 [==============================] - 0s 101ms/step\n"
          ]
        },
        {
          "output_type": "execute_result",
          "data": {
            "text/plain": [
              "array([[27.136837]], dtype=float32)"
            ]
          },
          "metadata": {},
          "execution_count": 98
        }
      ]
    },
    {
      "cell_type": "code",
      "source": [
        "# Very nice... much better! using Adam reduced the error to within .136837\n",
        "# remember my 1st run with SGD() as optimizer was 2.87 in error!\n",
        "# Let's try to add more in baby steps towards a larger model.\n",
        "model = tf.keras.Sequential([\n",
        "    tf.keras.layers.Dense(1)\n",
        "])\n",
        "\n",
        "model.compile(loss=tf.keras.losses.mae,\n",
        "              optimizer=tf.keras.optimizers.Adam(learning_rate=0.1), # originally .0001\n",
        "              metrics=[\"mae\"])\n",
        "model.fit(tf.expand_dims(X, axis=1), y, epochs=100)"
      ],
      "metadata": {
        "colab": {
          "base_uri": "https://localhost:8080/"
        },
        "id": "2XNt76J12yWn",
        "outputId": "e93cfb7c-6259-4ad1-9d6a-cd8272776162"
      },
      "execution_count": 123,
      "outputs": [
        {
          "output_type": "stream",
          "name": "stdout",
          "text": [
            "Epoch 1/100\n",
            "1/1 [==============================] - 1s 628ms/step - loss: 13.2916 - mae: 13.2916\n",
            "Epoch 2/100\n",
            "1/1 [==============================] - 0s 11ms/step - loss: 12.8416 - mae: 12.8416\n",
            "Epoch 3/100\n",
            "1/1 [==============================] - 0s 9ms/step - loss: 12.3916 - mae: 12.3916\n",
            "Epoch 4/100\n",
            "1/1 [==============================] - 0s 11ms/step - loss: 11.9416 - mae: 11.9416\n",
            "Epoch 5/100\n",
            "1/1 [==============================] - 0s 26ms/step - loss: 11.4916 - mae: 11.4916\n",
            "Epoch 6/100\n",
            "1/1 [==============================] - 0s 13ms/step - loss: 11.0416 - mae: 11.0416\n",
            "Epoch 7/100\n",
            "1/1 [==============================] - 0s 12ms/step - loss: 10.5916 - mae: 10.5916\n",
            "Epoch 8/100\n",
            "1/1 [==============================] - 0s 12ms/step - loss: 10.1416 - mae: 10.1416\n",
            "Epoch 9/100\n",
            "1/1 [==============================] - 0s 13ms/step - loss: 9.6916 - mae: 9.6916\n",
            "Epoch 10/100\n",
            "1/1 [==============================] - 0s 12ms/step - loss: 9.2416 - mae: 9.2416\n",
            "Epoch 11/100\n",
            "1/1 [==============================] - 0s 13ms/step - loss: 8.7916 - mae: 8.7916\n",
            "Epoch 12/100\n",
            "1/1 [==============================] - 0s 14ms/step - loss: 8.3416 - mae: 8.3416\n",
            "Epoch 13/100\n",
            "1/1 [==============================] - 0s 12ms/step - loss: 7.8916 - mae: 7.8916\n",
            "Epoch 14/100\n",
            "1/1 [==============================] - 0s 16ms/step - loss: 7.4416 - mae: 7.4416\n",
            "Epoch 15/100\n",
            "1/1 [==============================] - 0s 11ms/step - loss: 6.9917 - mae: 6.9917\n",
            "Epoch 16/100\n",
            "1/1 [==============================] - 0s 10ms/step - loss: 6.5417 - mae: 6.5417\n",
            "Epoch 17/100\n",
            "1/1 [==============================] - 0s 10ms/step - loss: 6.3000 - mae: 6.3000\n",
            "Epoch 18/100\n",
            "1/1 [==============================] - 0s 10ms/step - loss: 6.2263 - mae: 6.2263\n",
            "Epoch 19/100\n",
            "1/1 [==============================] - 0s 11ms/step - loss: 6.3923 - mae: 6.3923\n",
            "Epoch 20/100\n",
            "1/1 [==============================] - 0s 11ms/step - loss: 6.5209 - mae: 6.5209\n",
            "Epoch 21/100\n",
            "1/1 [==============================] - 0s 10ms/step - loss: 6.6057 - mae: 6.6057\n",
            "Epoch 22/100\n",
            "1/1 [==============================] - 0s 10ms/step - loss: 6.6517 - mae: 6.6517\n",
            "Epoch 23/100\n",
            "1/1 [==============================] - 0s 14ms/step - loss: 6.6933 - mae: 6.6933\n",
            "Epoch 24/100\n",
            "1/1 [==============================] - 0s 11ms/step - loss: 6.6791 - mae: 6.6791\n",
            "Epoch 25/100\n",
            "1/1 [==============================] - 0s 9ms/step - loss: 6.5923 - mae: 6.5923\n",
            "Epoch 26/100\n",
            "1/1 [==============================] - 0s 10ms/step - loss: 6.4440 - mae: 6.4440\n",
            "Epoch 27/100\n",
            "1/1 [==============================] - 0s 19ms/step - loss: 6.2963 - mae: 6.2963\n",
            "Epoch 28/100\n",
            "1/1 [==============================] - 0s 9ms/step - loss: 6.1431 - mae: 6.1431\n",
            "Epoch 29/100\n",
            "1/1 [==============================] - 0s 9ms/step - loss: 5.9785 - mae: 5.9785\n",
            "Epoch 30/100\n",
            "1/1 [==============================] - 0s 13ms/step - loss: 5.8036 - mae: 5.8036\n",
            "Epoch 31/100\n",
            "1/1 [==============================] - 0s 10ms/step - loss: 5.6195 - mae: 5.6195\n",
            "Epoch 32/100\n",
            "1/1 [==============================] - 0s 8ms/step - loss: 5.4269 - mae: 5.4269\n",
            "Epoch 33/100\n",
            "1/1 [==============================] - 0s 15ms/step - loss: 5.3511 - mae: 5.3511\n",
            "Epoch 34/100\n",
            "1/1 [==============================] - 0s 14ms/step - loss: 5.2973 - mae: 5.2973\n",
            "Epoch 35/100\n",
            "1/1 [==============================] - 0s 16ms/step - loss: 5.2445 - mae: 5.2445\n",
            "Epoch 36/100\n",
            "1/1 [==============================] - 0s 19ms/step - loss: 5.2838 - mae: 5.2838\n",
            "Epoch 37/100\n",
            "1/1 [==============================] - 0s 12ms/step - loss: 5.2683 - mae: 5.2683\n",
            "Epoch 38/100\n",
            "1/1 [==============================] - 0s 12ms/step - loss: 5.2041 - mae: 5.2041\n",
            "Epoch 39/100\n",
            "1/1 [==============================] - 0s 12ms/step - loss: 5.0964 - mae: 5.0964\n",
            "Epoch 40/100\n",
            "1/1 [==============================] - 0s 14ms/step - loss: 4.9500 - mae: 4.9500\n",
            "Epoch 41/100\n",
            "1/1 [==============================] - 0s 14ms/step - loss: 4.8462 - mae: 4.8462\n",
            "Epoch 42/100\n",
            "1/1 [==============================] - 0s 16ms/step - loss: 4.7749 - mae: 4.7749\n",
            "Epoch 43/100\n",
            "1/1 [==============================] - 0s 13ms/step - loss: 4.7038 - mae: 4.7038\n",
            "Epoch 44/100\n",
            "1/1 [==============================] - 0s 14ms/step - loss: 4.6328 - mae: 4.6328\n",
            "Epoch 45/100\n",
            "1/1 [==============================] - 0s 22ms/step - loss: 4.5855 - mae: 4.5855\n",
            "Epoch 46/100\n",
            "1/1 [==============================] - 0s 19ms/step - loss: 4.5569 - mae: 4.5569\n",
            "Epoch 47/100\n",
            "1/1 [==============================] - 0s 26ms/step - loss: 4.5034 - mae: 4.5034\n",
            "Epoch 48/100\n",
            "1/1 [==============================] - 0s 18ms/step - loss: 4.4274 - mae: 4.4274\n",
            "Epoch 49/100\n",
            "1/1 [==============================] - 0s 12ms/step - loss: 4.3310 - mae: 4.3310\n",
            "Epoch 50/100\n",
            "1/1 [==============================] - 0s 13ms/step - loss: 4.2335 - mae: 4.2335\n",
            "Epoch 51/100\n",
            "1/1 [==============================] - 0s 10ms/step - loss: 4.1698 - mae: 4.1698\n",
            "Epoch 52/100\n",
            "1/1 [==============================] - 0s 10ms/step - loss: 4.1052 - mae: 4.1052\n",
            "Epoch 53/100\n",
            "1/1 [==============================] - 0s 18ms/step - loss: 4.0399 - mae: 4.0399\n",
            "Epoch 54/100\n",
            "1/1 [==============================] - 0s 13ms/step - loss: 3.9739 - mae: 3.9739\n",
            "Epoch 55/100\n",
            "1/1 [==============================] - 0s 13ms/step - loss: 3.9073 - mae: 3.9073\n",
            "Epoch 56/100\n",
            "1/1 [==============================] - 0s 12ms/step - loss: 3.8401 - mae: 3.8401\n",
            "Epoch 57/100\n",
            "1/1 [==============================] - 0s 12ms/step - loss: 3.7724 - mae: 3.7724\n",
            "Epoch 58/100\n",
            "1/1 [==============================] - 0s 12ms/step - loss: 3.7042 - mae: 3.7042\n",
            "Epoch 59/100\n",
            "1/1 [==============================] - 0s 10ms/step - loss: 3.6356 - mae: 3.6356\n",
            "Epoch 60/100\n",
            "1/1 [==============================] - 0s 10ms/step - loss: 3.5666 - mae: 3.5666\n",
            "Epoch 61/100\n",
            "1/1 [==============================] - 0s 11ms/step - loss: 3.4973 - mae: 3.4973\n",
            "Epoch 62/100\n",
            "1/1 [==============================] - 0s 13ms/step - loss: 3.4277 - mae: 3.4277\n",
            "Epoch 63/100\n",
            "1/1 [==============================] - 0s 12ms/step - loss: 3.3587 - mae: 3.3587\n",
            "Epoch 64/100\n",
            "1/1 [==============================] - 0s 9ms/step - loss: 3.2855 - mae: 3.2855\n",
            "Epoch 65/100\n",
            "1/1 [==============================] - 0s 10ms/step - loss: 3.2133 - mae: 3.2133\n",
            "Epoch 66/100\n",
            "1/1 [==============================] - 0s 9ms/step - loss: 3.1411 - mae: 3.1411\n",
            "Epoch 67/100\n",
            "1/1 [==============================] - 0s 9ms/step - loss: 3.0689 - mae: 3.0689\n",
            "Epoch 68/100\n",
            "1/1 [==============================] - 0s 10ms/step - loss: 2.9967 - mae: 2.9967\n",
            "Epoch 69/100\n",
            "1/1 [==============================] - 0s 9ms/step - loss: 2.9244 - mae: 2.9244\n",
            "Epoch 70/100\n",
            "1/1 [==============================] - 0s 8ms/step - loss: 2.8666 - mae: 2.8666\n",
            "Epoch 71/100\n",
            "1/1 [==============================] - 0s 9ms/step - loss: 2.7993 - mae: 2.7993\n",
            "Epoch 72/100\n",
            "1/1 [==============================] - 0s 8ms/step - loss: 2.7137 - mae: 2.7137\n",
            "Epoch 73/100\n",
            "1/1 [==============================] - 0s 9ms/step - loss: 2.6450 - mae: 2.6450\n",
            "Epoch 74/100\n",
            "1/1 [==============================] - 0s 8ms/step - loss: 2.5758 - mae: 2.5758\n",
            "Epoch 75/100\n",
            "1/1 [==============================] - 0s 9ms/step - loss: 2.5063 - mae: 2.5063\n",
            "Epoch 76/100\n",
            "1/1 [==============================] - 0s 9ms/step - loss: 2.4364 - mae: 2.4364\n",
            "Epoch 77/100\n",
            "1/1 [==============================] - 0s 9ms/step - loss: 2.3662 - mae: 2.3662\n",
            "Epoch 78/100\n",
            "1/1 [==============================] - 0s 9ms/step - loss: 2.2957 - mae: 2.2957\n",
            "Epoch 79/100\n",
            "1/1 [==============================] - 0s 9ms/step - loss: 2.2249 - mae: 2.2249\n",
            "Epoch 80/100\n",
            "1/1 [==============================] - 0s 9ms/step - loss: 2.1539 - mae: 2.1539\n",
            "Epoch 81/100\n",
            "1/1 [==============================] - 0s 9ms/step - loss: 2.0827 - mae: 2.0827\n",
            "Epoch 82/100\n",
            "1/1 [==============================] - 0s 9ms/step - loss: 2.0113 - mae: 2.0113\n",
            "Epoch 83/100\n",
            "1/1 [==============================] - 0s 8ms/step - loss: 1.9397 - mae: 1.9397\n",
            "Epoch 84/100\n",
            "1/1 [==============================] - 0s 9ms/step - loss: 1.8679 - mae: 1.8679\n",
            "Epoch 85/100\n",
            "1/1 [==============================] - 0s 9ms/step - loss: 1.7960 - mae: 1.7960\n",
            "Epoch 86/100\n",
            "1/1 [==============================] - 0s 8ms/step - loss: 1.7240 - mae: 1.7240\n",
            "Epoch 87/100\n",
            "1/1 [==============================] - 0s 9ms/step - loss: 1.6518 - mae: 1.6518\n",
            "Epoch 88/100\n",
            "1/1 [==============================] - 0s 8ms/step - loss: 1.5893 - mae: 1.5893\n",
            "Epoch 89/100\n",
            "1/1 [==============================] - 0s 12ms/step - loss: 1.5094 - mae: 1.5094\n",
            "Epoch 90/100\n",
            "1/1 [==============================] - 0s 11ms/step - loss: 1.4389 - mae: 1.4389\n",
            "Epoch 91/100\n",
            "1/1 [==============================] - 0s 11ms/step - loss: 1.3681 - mae: 1.3681\n",
            "Epoch 92/100\n",
            "1/1 [==============================] - 0s 10ms/step - loss: 1.2970 - mae: 1.2970\n",
            "Epoch 93/100\n",
            "1/1 [==============================] - 0s 9ms/step - loss: 1.2256 - mae: 1.2256\n",
            "Epoch 94/100\n",
            "1/1 [==============================] - 0s 9ms/step - loss: 1.1541 - mae: 1.1541\n",
            "Epoch 95/100\n",
            "1/1 [==============================] - 0s 9ms/step - loss: 1.0823 - mae: 1.0823\n",
            "Epoch 96/100\n",
            "1/1 [==============================] - 0s 9ms/step - loss: 1.0104 - mae: 1.0104\n",
            "Epoch 97/100\n",
            "1/1 [==============================] - 0s 8ms/step - loss: 0.9383 - mae: 0.9383\n",
            "Epoch 98/100\n",
            "1/1 [==============================] - 0s 7ms/step - loss: 0.8660 - mae: 0.8660\n",
            "Epoch 99/100\n",
            "1/1 [==============================] - 0s 9ms/step - loss: 0.7936 - mae: 0.7936\n",
            "Epoch 100/100\n",
            "1/1 [==============================] - 0s 8ms/step - loss: 0.7210 - mae: 0.7210\n"
          ]
        },
        {
          "output_type": "execute_result",
          "data": {
            "text/plain": [
              "<keras.src.callbacks.History at 0x78046025f910>"
            ]
          },
          "metadata": {},
          "execution_count": 123
        }
      ]
    },
    {
      "cell_type": "code",
      "source": [
        "# now predict again and let's see...\n",
        "model.predict([17.0])"
      ],
      "metadata": {
        "colab": {
          "base_uri": "https://localhost:8080/"
        },
        "id": "5CglmCha7QRn",
        "outputId": "f591ee7d-d137-4628-da46-af4856583f73"
      },
      "execution_count": 124,
      "outputs": [
        {
          "output_type": "stream",
          "name": "stdout",
          "text": [
            "1/1 [==============================] - 0s 55ms/step\n"
          ]
        },
        {
          "output_type": "execute_result",
          "data": {
            "text/plain": [
              "array([[27.53354]], dtype=float32)"
            ]
          },
          "metadata": {},
          "execution_count": 124
        }
      ]
    },
    {
      "cell_type": "code",
      "source": [
        "# not good -- adding the hidden layer made it worse, even with Adam --\n",
        "# then used .1 as learning rate and got the above result"
      ],
      "metadata": {
        "id": "4ZnQqsyQ7eGM"
      },
      "execution_count": 125,
      "outputs": []
    },
    {
      "cell_type": "code",
      "source": [
        "#Evaluating a model"
      ],
      "metadata": {
        "id": "HUEq-fDA-ZRn"
      },
      "execution_count": null,
      "outputs": []
    }
  ]
}